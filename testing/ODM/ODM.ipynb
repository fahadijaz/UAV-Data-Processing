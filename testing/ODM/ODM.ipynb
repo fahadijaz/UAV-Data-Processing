{
 "cells": [
  {
   "cell_type": "code",
   "execution_count": 1,
   "id": "b99d3f48-2639-4c2c-a5b4-25dd20f84b8d",
   "metadata": {},
   "outputs": [],
   "source": [
    "import os\n",
    "from pyodm import Node\n",
    "n = Node('localhost', 3000)\n"
   ]
  },
  {
   "cell_type": "code",
   "execution_count": null,
   "id": "a38568cc-f4bd-4c58-bdf0-b078f6df3d1b",
   "metadata": {},
   "outputs": [],
   "source": []
  },
  {
   "cell_type": "code",
   "execution_count": 2,
   "id": "50873ad9-18f2-49b3-a816-edeb55e48757",
   "metadata": {},
   "outputs": [],
   "source": [
    "import os\n",
    "import glob\n",
    "\n",
    "# Function to find the tif files in a given folder¶\n",
    "def find_files_in_folder(folder_path, extension=None, recursive=False):\n",
    "    matched_files = []\n",
    "    # Determine the search pattern based on whether an extension is provided and recursion is enabled\n",
    "    if extension:\n",
    "        if recursive:\n",
    "            search_pattern = os.path.join(folder_path, f\"**/*.{extension}\")\n",
    "        else:\n",
    "            search_pattern = os.path.join(folder_path, f\"*.{extension}\")\n",
    "    else:\n",
    "        # No extension specified, handle both recursive and non-recursive cases\n",
    "        if recursive:\n",
    "            search_pattern = os.path.join(folder_path, \"**/*\")\n",
    "        else:\n",
    "            search_pattern = os.path.join(folder_path, \"*\")\n",
    "    # Use glob to find matching files in the specified directory and subdirectories if recursive\n",
    "    matched_files.extend(glob.glob(search_pattern, recursive=recursive))\n",
    "    # If no files are found, return a list with an empty string\n",
    "    if not matched_files:\n",
    "        matched_files = [\"\"]\n",
    "    return matched_files\n",
    "    "
   ]
  },
  {
   "cell_type": "code",
   "execution_count": 9,
   "id": "c8d54eae-9515-4884-b3a7-f17cce784150",
   "metadata": {},
   "outputs": [
    {
     "data": {
      "text/plain": [
       "<Signature (folder_path, extension=None, recursive=False)>"
      ]
     },
     "execution_count": 9,
     "metadata": {},
     "output_type": "execute_result"
    }
   ],
   "source": [
    "import inspect\n",
    "inspect.getfullargspec(find_files_in_folder)\n",
    "inspect.signature(find_files_in_folder)"
   ]
  },
  {
   "cell_type": "code",
   "execution_count": 3,
   "id": "27239195-4d83-44cd-97e4-d8014128fd3d",
   "metadata": {},
   "outputs": [],
   "source": [
    "path = r\"C:\\PhenoCrop\\1_flights\\E166\\MS\\20240530 E166 M3M 30m MS 80 85\\DJI_202405301306_007_E1662024-01-MS\""
   ]
  },
  {
   "cell_type": "code",
   "execution_count": 13,
   "id": "05bc154c-e0e3-4a22-8ac8-85049e4ba1bd",
   "metadata": {},
   "outputs": [],
   "source": [
    "images = find_files_in_folder(path, 'jpg')+find_files_in_folder(path, 'tif')"
   ]
  },
  {
   "cell_type": "code",
   "execution_count": 11,
   "id": "248f6e95-217e-4b21-bd8c-2218c02cce33",
   "metadata": {},
   "outputs": [
    {
     "data": {
      "text/plain": [
       "FullArgSpec(args=['self', 'files', 'options', 'name', 'progress_callback', 'skip_post_processing', 'webhook', 'outputs', 'parallel_uploads', 'max_retries', 'retry_timeout'], varargs=None, varkw=None, defaults=({}, None, None, False, None, [], 10, 5, 5), kwonlyargs=[], kwonlydefaults=None, annotations={})"
      ]
     },
     "execution_count": 11,
     "metadata": {},
     "output_type": "execute_result"
    }
   ],
   "source": [
    "inspect.getfullargspec(n.create_task)\n",
    "# inspect.signature(n.create_task)"
   ]
  },
  {
   "cell_type": "code",
   "execution_count": null,
   "id": "5aeda21b-3c84-40b1-9672-e2c588dc3c03",
   "metadata": {},
   "outputs": [],
   "source": [
    "https://github.com/OpenDroneMap/PyODM/blob/master/pyodm/api.py"
   ]
  },
  {
   "cell_type": "code",
   "execution_count": 1,
   "id": "2e61dea3-8d1c-4a4d-a1de-c36a7b8994ce",
   "metadata": {},
   "outputs": [],
   "source": [
    "# images[:30]"
   ]
  },
  {
   "cell_type": "code",
   "execution_count": 2,
   "id": "6344b29f-c305-42b4-8775-02f10882b89a",
   "metadata": {},
   "outputs": [],
   "source": [
    "# task = n.create_task(images[:30], {'dsm': True})\n",
    "# print(\"Step2\")\n",
    "# task.wait_for_completion()\n",
    "# print(\"Step3\")\n",
    "# os.listdir(task.download_assets(\"results\"))[0:2]\n",
    "# print(\"Step4\")\n",
    "# ['odm_orthophoto', 'odm_dem']"
   ]
  },
  {
   "cell_type": "code",
   "execution_count": null,
   "id": "6db961d7-a76d-47d2-b696-7119125a4914",
   "metadata": {},
   "outputs": [],
   "source": [
    "C:\\PhenoCrop\\1_flights\\E166\\MS\\20240530 E166 M3M 30m MS 80 85\\DJI_202405301306_007_E1662024-01-MS"
   ]
  },
  {
   "cell_type": "code",
   "execution_count": 5,
   "id": "c421a7ce-36c6-4644-b92f-83bbdd8f6ba6",
   "metadata": {},
   "outputs": [
    {
     "ename": "NameError",
     "evalue": "name 'version' is not defined",
     "output_type": "error",
     "traceback": [
      "\u001b[1;31m---------------------------------------------------------------------------\u001b[0m",
      "\u001b[1;31mNameError\u001b[0m                                 Traceback (most recent call last)",
      "Cell \u001b[1;32mIn[5], line 1\u001b[0m\n\u001b[1;32m----> 1\u001b[0m \u001b[38;5;241m-\u001b[39m\u001b[38;5;241m-\u001b[39mversion\n",
      "\u001b[1;31mNameError\u001b[0m: name 'version' is not defined"
     ]
    }
   ],
   "source": [
    "--version\n"
   ]
  },
  {
   "cell_type": "code",
   "execution_count": 1,
   "id": "232784ad-fc44-422b-835e-53d93c21b66e",
   "metadata": {},
   "outputs": [
    {
     "ename": "TypeError",
     "evalue": "Node.__init__() missing 1 required positional argument: 'port'",
     "output_type": "error",
     "traceback": [
      "\u001b[1;31m---------------------------------------------------------------------------\u001b[0m",
      "\u001b[1;31mTypeError\u001b[0m                                 Traceback (most recent call last)",
      "Cell \u001b[1;32mIn[1], line 4\u001b[0m\n\u001b[0;32m      1\u001b[0m \u001b[38;5;28;01mimport\u001b[39;00m \u001b[38;5;21;01mpyodm\u001b[39;00m\n\u001b[0;32m      3\u001b[0m \u001b[38;5;66;03m# Connect to the local NodeODM server\u001b[39;00m\n\u001b[1;32m----> 4\u001b[0m client \u001b[38;5;241m=\u001b[39m pyodm\u001b[38;5;241m.\u001b[39mNode(\u001b[38;5;124m\"\u001b[39m\u001b[38;5;124mhttp://localhost:3000\u001b[39m\u001b[38;5;124m\"\u001b[39m)\n\u001b[0;32m      6\u001b[0m \u001b[38;5;66;03m# Print server info\u001b[39;00m\n\u001b[0;32m      7\u001b[0m \u001b[38;5;28mprint\u001b[39m(client\u001b[38;5;241m.\u001b[39minfo())\n",
      "\u001b[1;31mTypeError\u001b[0m: Node.__init__() missing 1 required positional argument: 'port'"
     ]
    }
   ],
   "source": [
    "import pyodm\n",
    "\n",
    "# Connect to the local NodeODM server\n",
    "client = pyodm.Node(\"http://localhost:3000\")\n",
    "\n",
    "# Print server info\n",
    "print(client.info())"
   ]
  },
  {
   "cell_type": "code",
   "execution_count": null,
   "id": "d5f99f13-f06d-4760-b88a-696a60933e93",
   "metadata": {},
   "outputs": [],
   "source": []
  },
  {
   "cell_type": "code",
   "execution_count": null,
   "id": "38d07881-de21-4cdd-9f34-277b6d9a1ca0",
   "metadata": {},
   "outputs": [],
   "source": []
  },
  {
   "cell_type": "code",
   "execution_count": null,
   "id": "c222c7d5-65f3-402e-9d32-942a2f6b955f",
   "metadata": {},
   "outputs": [],
   "source": []
  },
  {
   "cell_type": "code",
   "execution_count": null,
   "id": "34ee392c-92f1-4508-b10e-6f19302257af",
   "metadata": {},
   "outputs": [],
   "source": []
  },
  {
   "cell_type": "code",
   "execution_count": null,
   "id": "8a39f476-ac81-4bac-b281-c98ceb7f2cb5",
   "metadata": {},
   "outputs": [],
   "source": []
  }
 ],
 "metadata": {
  "kernelspec": {
   "display_name": "Python 3 (ipykernel)",
   "language": "python",
   "name": "python3"
  },
  "language_info": {
   "codemirror_mode": {
    "name": "ipython",
    "version": 3
   },
   "file_extension": ".py",
   "mimetype": "text/x-python",
   "name": "python",
   "nbconvert_exporter": "python",
   "pygments_lexer": "ipython3",
   "version": "3.12.7"
  }
 },
 "nbformat": 4,
 "nbformat_minor": 5
}
