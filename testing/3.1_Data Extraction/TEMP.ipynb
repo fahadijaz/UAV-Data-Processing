{
 "cells": [
  {
   "cell_type": "code",
   "execution_count": 1,
   "id": "408a1c50-6b6d-47ef-89d8-5300538a0c75",
   "metadata": {},
   "outputs": [],
   "source": [
    "def process_raster_statistics(stats, gdf, raster_name, project_name, flight, more_stat_percent):\n",
    "    \"\"\"\n",
    "    Processes raster statistics by extracting raw values, computing additional statistics,\n",
    "    and formatting the final DataFrame with necessary metadata.\n",
    "\n",
    "    Parameters:\n",
    "        stats (list of dict): List of dictionaries containing raster statistics.\n",
    "        gdf (GeoDataFrame): Geospatial dataframe containing feature IDs.\n",
    "        raster_name (str): Name of the raster being processed.\n",
    "        project_name (str): Project identifier.\n",
    "        flight (str): Flight identifier.\n",
    "        more_stat_percent (list): List of percent values for additional statistics.\n",
    "\n",
    "    Returns:\n",
    "        DataFrame: Processed statistics DataFrame.\n",
    "    \"\"\"\n",
    "    # Extract raw values for additional calculations\n",
    "    raw_values = [\n",
    "        stat[\"mini_raster_array\"].compressed() if \"mini_raster_array\" in stat else np.array([])\n",
    "        for stat in stats\n",
    "    ]\n",
    "    \n",
    "    additional_stats = [compute_additional_statistics(vals, more_stat_percent) for vals in raw_values]\n",
    "    \n",
    "    # Create DataFrame from stats and drop unwanted columns\n",
    "    df_stats = pd.DataFrame(stats).drop(columns=[\"mini_raster_array\", \"mini_raster_affine\", \"mini_raster_nodata\"], errors=\"ignore\")\n",
    "    df_stats.columns = STAT_ORDER[:10]  # Assign expected column order\n",
    "\n",
    "    # Convert additional statistics into DataFrame\n",
    "    df_additional = pd.DataFrame(additional_stats)\n",
    "\n",
    "    # Merge basic and additional statistics\n",
    "    df = pd.concat([df_stats, df_additional], axis=1)\n",
    "    \n",
    "    # Prefix raster name to stat columns\n",
    "    df.columns = [f\"{raster_name}_{col}\" for col in df.columns]\n",
    "    \n",
    "    # Insert metadata columns\n",
    "    df.insert(0, \"id\", gdf.id)\n",
    "    df.insert(1, \"project\", project_name)\n",
    "    df.insert(2, \"flight\", flight)\n",
    "\n",
    "    return df"
   ]
  },
  {
   "cell_type": "code",
   "execution_count": null,
   "id": "5ed9f84d-1438-4cf3-91bc-724f776fe45a",
   "metadata": {},
   "outputs": [],
   "source": [
    "processed_df = process_raster_statistics(stats, gdf, \"ndvi\", \"MyProject\", \"Flight_123\", MORE_STAT_PERCENT)\n",
    "all_results.append(processed_df)\n"
   ]
  },
  {
   "cell_type": "code",
   "execution_count": null,
   "id": "047ffbfd-6075-4a5d-8699-50ba27f5725c",
   "metadata": {},
   "outputs": [],
   "source": []
  },
  {
   "cell_type": "code",
   "execution_count": null,
   "id": "72188e5b-322e-49ae-8b31-8ffe587b8d44",
   "metadata": {},
   "outputs": [],
   "source": []
  },
  {
   "cell_type": "code",
   "execution_count": null,
   "id": "4899679b-ccda-4ca2-8ef6-d7b9fbc176ba",
   "metadata": {},
   "outputs": [],
   "source": []
  }
 ],
 "metadata": {
  "kernelspec": {
   "display_name": "Python 3 (ipykernel)",
   "language": "python",
   "name": "python3"
  },
  "language_info": {
   "codemirror_mode": {
    "name": "ipython",
    "version": 3
   },
   "file_extension": ".py",
   "mimetype": "text/x-python",
   "name": "python",
   "nbconvert_exporter": "python",
   "pygments_lexer": "ipython3",
   "version": "3.12.7"
  }
 },
 "nbformat": 4,
 "nbformat_minor": 5
}
