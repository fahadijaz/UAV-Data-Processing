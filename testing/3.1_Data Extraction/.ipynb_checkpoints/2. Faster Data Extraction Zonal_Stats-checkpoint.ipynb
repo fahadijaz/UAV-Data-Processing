{
 "cells": [
  {
   "cell_type": "code",
   "execution_count": null,
   "id": "a1ca377d-46d8-4836-9066-c51d7e055c3c",
   "metadata": {},
   "outputs": [],
   "source": []
  },
  {
   "cell_type": "code",
   "execution_count": 1,
   "id": "acee8c1e-a7fe-401e-869c-a5e51955733e",
   "metadata": {},
   "outputs": [],
   "source": [
    "import rasterio\n",
    "import geopandas as gpd\n",
    "import numpy as np\n",
    "import pandas as pd\n",
    "import os\n",
    "import glob\n",
    "import time\n",
    "import logging\n",
    "from rasterstats import zonal_stats\n",
    "import re\n",
    "\n",
    "import itertools\n",
    "from collections import Counter\n",
    "import gc\n",
    "from numba import njit"
   ]
  },
  {
   "cell_type": "markdown",
   "id": "25961094-f965-448b-be53-13eafc8abed1",
   "metadata": {},
   "source": [
    "# File System Functions"
   ]
  },
  {
   "cell_type": "code",
   "execution_count": 2,
   "id": "90a83c9f-f180-48d9-ad1a-4c359b673d01",
   "metadata": {},
   "outputs": [],
   "source": [
    "import os\n",
    "import glob\n",
    "\n",
    "# Function to find the tif files in a given folder¶\n",
    "def find_files_in_folder(folder_path, extension=None, recursive=False):\n",
    "    matched_files = []\n",
    "    # Determine the search pattern based on whether an extension is provided and recursion is enabled\n",
    "    if extension:\n",
    "        if recursive:\n",
    "            search_pattern = os.path.join(folder_path, f\"**/*.{extension}\")\n",
    "        else:\n",
    "            search_pattern = os.path.join(folder_path, f\"*.{extension}\")\n",
    "    else:\n",
    "        # No extension specified, handle both recursive and non-recursive cases\n",
    "        if recursive:\n",
    "            search_pattern = os.path.join(folder_path, \"**/*\")\n",
    "        else:\n",
    "            search_pattern = os.path.join(folder_path, \"*\")\n",
    "    # Use glob to find matching files in the specified directory and subdirectories if recursive\n",
    "    matched_files.extend(glob.glob(search_pattern, recursive=recursive))\n",
    "    # If no files are found, return a list with an empty string\n",
    "    if not matched_files:\n",
    "        matched_files = [\"\"]\n",
    "    return matched_files\n",
    "    "
   ]
  },
  {
   "cell_type": "code",
   "execution_count": 3,
   "id": "cf2a4694-07cd-4989-9c39-f1917465bbc4",
   "metadata": {},
   "outputs": [],
   "source": [
    "import os\n",
    "\n",
    "def add_suffix_to_file_name(file_path, suffix):\n",
    "    \"\"\"\n",
    "    Adds a suffix to the file name in the given file path.\n",
    "    \n",
    "    Parameters:\n",
    "    - file_path (str): The original file path.\n",
    "    - suffix (str): The suffix to add to the file name (before the file extension).\n",
    "    \n",
    "    Returns:\n",
    "    - str: The updated file path with the suffix added to the file name.\n",
    "    \"\"\"\n",
    "    # Separate the directory, file name, and extension\n",
    "    directory, file_name = os.path.split(file_path)\n",
    "    base_name, ext = os.path.splitext(file_name)\n",
    "    \n",
    "    # Add the suffix to the file name\n",
    "    new_file_name = f\"{base_name}{suffix}{ext}\"\n",
    "    \n",
    "    # Reconstruct the full file path\n",
    "    new_file_path = os.path.join(directory, new_file_name)\n",
    "    return new_file_path"
   ]
  },
  {
   "cell_type": "code",
   "execution_count": null,
   "id": "f544cdd9-4c54-422c-ad9a-ccadf378a028",
   "metadata": {},
   "outputs": [],
   "source": []
  },
  {
   "cell_type": "code",
   "execution_count": 4,
   "id": "6723b20b-0fcd-40fb-a0fa-7c2ec1f28d22",
   "metadata": {},
   "outputs": [],
   "source": [
    "import time\n",
    "\n",
    "def precise_timing_decorator(func):\n",
    "    \"\"\"Decorator for high-precision execution timing.\"\"\"\n",
    "    def wrapper(*args, **kwargs):\n",
    "        start_time = time.perf_counter()\n",
    "        result = func(*args, **kwargs)\n",
    "        end_time = time.perf_counter()\n",
    "        print(f\"⏳ Execution time of {func.__name__}: {end_time - start_time:.6f} seconds\")\n",
    "        return result\n",
    "    return wrapper\n"
   ]
  },
  {
   "cell_type": "code",
   "execution_count": null,
   "id": "1da17720-897a-4ac9-a4ab-8585bdcf789b",
   "metadata": {},
   "outputs": [],
   "source": []
  },
  {
   "cell_type": "code",
   "execution_count": 5,
   "id": "67ca0e96-2663-47af-8198-0ca24e3801f3",
   "metadata": {},
   "outputs": [],
   "source": [
    "FONT_STYLES = {\n",
    "    \"default\": {\n",
    "        \"id_fontsize\": 14,\n",
    "        \"id_fontweight\": \"normal\",\n",
    "        \"id_fontcolor\": \"black\",\n",
    "        \"id_fontfamily\": \"sans-serif\",\n",
    "        \"id_bbox\": False  # No bounding box\n",
    "    },\n",
    "    \"bold_high_contrast\": {\n",
    "        \"id_fontsize\": 16,\n",
    "        \"id_fontweight\": \"bold\",\n",
    "        \"id_fontcolor\": \"white\",\n",
    "        \"id_fontfamily\": \"Arial\",\n",
    "        \"id_bbox\": {\"facecolor\": \"black\", \"alpha\": 0.7}  # Dark background for visibility\n",
    "    },\n",
    "    \"large_minimal\": {\n",
    "        \"id_fontsize\": 18,\n",
    "        \"id_fontweight\": \"light\",\n",
    "        \"id_fontcolor\": \"yellow\",\n",
    "        \"id_fontfamily\": \"monospace\",\n",
    "        \"id_bbox\": None  # No bounding box\n",
    "    },\n",
    "    \"compact_subtle\": {\n",
    "        \"id_fontsize\": 12,\n",
    "        \"id_fontweight\": \"medium\",\n",
    "        \"id_fontcolor\": \"darkred\",\n",
    "        \"id_fontfamily\": \"serif\",\n",
    "        \"id_bbox\": {\"facecolor\": \"white\", \"alpha\": 0.5}  # Light background for soft contrast\n",
    "    }\n",
    "}"
   ]
  },
  {
   "cell_type": "code",
   "execution_count": 6,
   "id": "25a886fc-594e-48b0-b46f-fb4d04256ffc",
   "metadata": {},
   "outputs": [],
   "source": [
    "@precise_timing_decorator\n",
    "def plot_with_highlighted_ortho_geometry(\n",
    "    shapefile, highlight_id, status, processed_ids, \n",
    "    ortho_path=None, highlight_color='khaki', edgewidth=0.25, \n",
    "    default_color='lightslategrey', opacity=0.4, \n",
    "    plot_size=(5, 5), show_ids=True, \n",
    "    zoom=True, zoom_out_factor=6, \n",
    "    font_style=\"bold_high_contrast\",\n",
    "    id_bbox = False, project_name = \"None\", flight = \"None\"\n",
    "):\n",
    "\n",
    "    \"\"\"\n",
    "    Plots a GeoDataFrame with different colors for various stages of processing.\n",
    "    Optionally overlays the plot on an orthomosaic.\n",
    "    \n",
    "    Parameters:\n",
    "    - shapefile (GeoDataFrame): The input GeoDataFrame containing geometries.\n",
    "    - highlight_id (int or str): The ID of the geometry to highlight.\n",
    "    - status (str): The processing status: 'processing', 'processed', or 'unprocessed'.\n",
    "    - processed_ids (list): List of IDs of already processed polygons.\n",
    "    - ortho_path (str, optional): Path to the orthomosaic GeoTIFF file.\n",
    "    - highlight_color (str): Color for the highlighted geometry's boundary (default: 'red').\n",
    "    - edgewidth (float): Width of the boundary line for the highlighted geometry (default: 3).\n",
    "    - default_color (str): Default color for other geometries (default: 'lightblue').\n",
    "    - opacity (float): Opacity level of the polygons (default: 0.5).\n",
    "    - plot_size (tuple): Size of the plot in inches (default: (10, 10)).\n",
    "    - show_ids (bool): Whether to display the polygon IDs inside the plot (default: True).\n",
    "    - zoom (bool): Whether to zoom in on the highlighted geometry (default: True).\n",
    "    - zoom_out_factor (float): Controls zoom-out level (default: 1.5, where 1 = exact bounds).\n",
    "    - font_style (str): Preset style for ID text. Options:\n",
    "        - \"default\": Standard black text with no background.\n",
    "        - \"bold_high_contrast\": Large, bold white text with a black background.\n",
    "        - \"large_minimal\": Large yellow text with no background.\n",
    "        - \"compact_subtle\": Small, dark red text with a light background.\n",
    "      (default: \"default\")\n",
    "    - id_bbox (bool): Whether to show a white bounding box around ID text (default: False).\n",
    "\n",
    "    \"\"\"\n",
    "    # Clear the current figure\n",
    "    plt.clf()\n",
    "\n",
    "    # Create a new figure with user-defined size\n",
    "    fig, ax = plt.subplots(figsize=plot_size)\n",
    "\n",
    "    # Plot the orthomosaic if provided\n",
    "    if ortho_path:\n",
    "        with rasterio.open(ortho_path) as src:\n",
    "            show(src, ax=ax, title= f\"Raster processing status for {project_name}\", adjust='box')\n",
    "\n",
    "            # Reproject the shapefile to match the orthomosaic CRS if necessary\n",
    "            if shapefile.crs != src.crs:\n",
    "                print(f\"Reprojecting shapefile to match orthomosaic CRS: {src.crs}\")\n",
    "                shapefile = shapefile.to_crs(src.crs)\n",
    "\n",
    "    # Set default zoom boundaries (entire dataset)\n",
    "    minx, miny, maxx, maxy = shapefile.total_bounds  \n",
    "    \n",
    "    # If zoom is enabled, adjust bounds to zoom in on the highlighted geometry\n",
    "    if zoom and highlight_id in shapefile['id'].values:\n",
    "        highlight_geom = shapefile[shapefile['id'] == highlight_id].geometry.iloc[0]\n",
    "        minx, miny, maxx, maxy = highlight_geom.bounds\n",
    "\n",
    "        # Apply zoom out factor (expand bounds)\n",
    "        width = maxx - minx\n",
    "        height = maxy - miny\n",
    "        minx -= width * (zoom_out_factor - 1) / 2\n",
    "        maxx += width * (zoom_out_factor - 1) / 2\n",
    "        miny -= height * (zoom_out_factor - 1) / 2\n",
    "        maxy += height * (zoom_out_factor - 1) / 2\n",
    "\n",
    "        ax.set_xlim(minx, maxx)\n",
    "        ax.set_ylim(miny, maxy)\n",
    "\n",
    "    # Plot each polygon with different colors based on processing status\n",
    "    for idx, geom in shapefile.iterrows():\n",
    "        if geom['id'] in processed_ids:\n",
    "            color = 'green'  # Processed\n",
    "        elif geom['id'] == highlight_id:\n",
    "            color = highlight_color  # Currently processing\n",
    "        else:\n",
    "            color = default_color  # Unprocessed\n",
    "\n",
    "        # Plot the individual geometry with opacity control\n",
    "        shapefile.loc[[idx]].plot(ax=ax, edgecolor='black', facecolor=color, linewidth=edgewidth, alpha=opacity)\n",
    "\n",
    "        # Get font settings from dictionary\n",
    "        font_settings = FONT_STYLES.get(font_style, FONT_STYLES[\"default\"])  # Default if not found\n",
    "    \n",
    "        # Extract font properties\n",
    "        id_fontweight = font_settings[\"id_fontweight\"]\n",
    "        id_fontcolor = font_settings[\"id_fontcolor\"]\n",
    "        id_fontfamily = font_settings[\"id_fontfamily\"]\n",
    "        if id_bbox:\n",
    "            id_bbox = font_settings[\"id_bbox\"]\n",
    "\n",
    "        # Adjust font color based on processing status\n",
    "        if geom['id'] in processed_ids:\n",
    "            id_fontcolor = 'lime'  # Processed\n",
    "        elif geom['id'] == highlight_id:\n",
    "            id_fontcolor = 'yellow'  # Being processed\n",
    "\n",
    "        # Adjust font size based on the zoom level or polygon size\n",
    "        if zoom:\n",
    "            # Calculate font size based on the zoomed area\n",
    "            area = (maxx - minx) * (maxy - miny)  # Area of the zoomed-in region\n",
    "            id_fontsize = area ** 0.5 / 10  # Use square root of area for better scaling\n",
    "            id_fontsize = max(15, min(20, id_fontsize))  # Limit font size to a reasonable range\n",
    "        else:\n",
    "            # Calculate font size based on the polygon size (width or height)\n",
    "            width = maxx - minx\n",
    "            height = maxy - miny\n",
    "            area = width * height\n",
    "            id_fontsize = area ** 0.5 / 10  # Square root of the area for proportionate size\n",
    "            id_fontsize = max(10, min(20, id_fontsize))  # Limit font size to a reasonable range\n",
    "\n",
    "        if show_ids:\n",
    "            centroid = geom.geometry.centroid\n",
    "            # Only print IDs that are within the zoomed/cropped area\n",
    "            if not zoom or (minx <= centroid.x <= maxx and miny <= centroid.y <= maxy):\n",
    "                ax.text(\n",
    "                    centroid.x, centroid.y, str(geom['id']), \n",
    "                    fontsize=id_fontsize, fontweight=id_fontweight, \n",
    "                    color=id_fontcolor, family=id_fontfamily, \n",
    "                    ha='center', va='center',\n",
    "                    bbox=id_bbox if id_bbox else None\n",
    "                    )\n",
    "\n",
    "    # Set the title\n",
    "    ax.set_title(f\"Processing Plot #: {highlight_id}\" + \"\\n\" +  f\"for field {flight}\", fontsize=14)\n",
    "\n",
    "    # Display the plot\n",
    "    plt.xlabel(\"Longitude\", fontsize=12)\n",
    "    plt.ylabel(\"Latitude\", fontsize=12)\n",
    "    plt.show()"
   ]
  },
  {
   "cell_type": "code",
   "execution_count": 7,
   "id": "2bc2e2c4-7d87-44d4-9c87-b511c3be4041",
   "metadata": {},
   "outputs": [],
   "source": [
    "## Reduce RAM Usage"
   ]
  },
  {
   "cell_type": "code",
   "execution_count": 8,
   "id": "9225cf2c-c991-4d40-938b-6f170d57435f",
   "metadata": {},
   "outputs": [],
   "source": [
    "import gc\n",
    "\n",
    "def clean_memory():\n",
    "    \"\"\"Clears memory manually.\"\"\"\n",
    "    gc.collect()\n",
    "    print(\"✅ Cleared unused memory.\")\n"
   ]
  },
  {
   "cell_type": "markdown",
   "id": "03f0c7a0-6f8e-425d-a71b-c65cad733004",
   "metadata": {},
   "source": [
    "# Getting project files dict"
   ]
  },
  {
   "cell_type": "code",
   "execution_count": 9,
   "id": "e6626ca4-41b3-45a0-8f71-76e8c2206d0d",
   "metadata": {},
   "outputs": [],
   "source": [
    "def get_project_files(src_folder, project_name, flight_type='MS'):\n",
    "    \"\"\"\n",
    "    Retrieves orthomosaic and DSM/DTM file paths, organized by flight folder.\n",
    "\n",
    "    Parameters:\n",
    "    - src_folder (str): Root directory where projects are stored.\n",
    "    - project_name (str): Name of the project folder.\n",
    "    - flight_type (str): Flight type, either 'MS' or '3D'.\n",
    "\n",
    "    Returns:\n",
    "    - ortho_dict (dict): { flight_folder_name: [list of orthomosaic files] }\n",
    "    - dsm_dtm_dict (dict): { flight_folder_name: [list of DSM/DTM files] }\n",
    "    \"\"\"\n",
    "    \n",
    "    print(f\"Fetching file lists for project: {project_name}, flight type: {flight_type}\")\n",
    "\n",
    "    # Define base path for the flight type\n",
    "    flight_type_folder = os.path.join(src_folder, project_name, flight_type)\n",
    "\n",
    "    # Find all subfolders within the flight type folder (each representing a flight)\n",
    "    flight_folders = [\n",
    "        f for f in os.listdir(flight_type_folder)\n",
    "        if os.path.isdir(os.path.join(flight_type_folder, f))\n",
    "    ]\n",
    "\n",
    "    # Initialize dictionaries\n",
    "    ortho_dict = {}\n",
    "    dsm_dtm_dict = {}\n",
    "\n",
    "    # Loop through each flight folder\n",
    "    for flight_folder in flight_folders:\n",
    "        flight_path = os.path.join(flight_type_folder, flight_folder)\n",
    "        ortho_folder = os.path.join(flight_path, \"2_Orthomosaics\")\n",
    "        dsm_dtm_folder = os.path.join(flight_path, \"3_DSM_DTM_Elevation_Models\")\n",
    "\n",
    "        # Collect orthomosaic files\n",
    "        if os.path.exists(ortho_folder):\n",
    "            ortho_files = [os.path.join(ortho_folder, f) for f in os.listdir(ortho_folder) if f.endswith(\".tif\")]\n",
    "            if ortho_files:\n",
    "                ortho_dict[flight_folder] = ortho_files\n",
    "        elif 'MS' in flight_folder:\n",
    "            print(f\"Warning: Orthomosaics folder not found in {flight_folder}\")\n",
    "\n",
    "        # Collect DSM/DTM files\n",
    "        if os.path.exists(dsm_dtm_folder):\n",
    "            dsm_dtm_files = [os.path.join(dsm_dtm_folder, f) for f in os.listdir(dsm_dtm_folder) if f.endswith(\".tif\")]\n",
    "            if dsm_dtm_files:\n",
    "                dsm_dtm_dict[flight_folder] = dsm_dtm_files\n",
    "        elif '3D' in flight_folder:\n",
    "            print(f\"Warning: DSM/DTM folder not found in {flight_folder}\")\n",
    "\n",
    "    return ortho_dict, dsm_dtm_dict\n"
   ]
  },
  {
   "cell_type": "markdown",
   "id": "4f056dc8-207c-4da9-9fe3-0882b0f909c0",
   "metadata": {},
   "source": [
    "# Ensure data is complete"
   ]
  },
  {
   "cell_type": "code",
   "execution_count": 10,
   "id": "84c62c0f-2bf0-4e1d-84b3-c751706cfc4a",
   "metadata": {},
   "outputs": [],
   "source": [
    "from collections import Counter\n",
    "\n",
    "@precise_timing_decorator\n",
    "def check_data_completeness(ortho_dict, dsm_dtm_dict):\n",
    "    \"\"\"\n",
    "    Checks if all required orthomosaic and DSM/DTM files are present for each flight folder,\n",
    "    ensuring consistency in flight types (either \"MS\" or \"3D\").\n",
    "\n",
    "    Parameters:\n",
    "    - ortho_dict (dict): Dictionary {flight_folder: list_of_orthomosaics}.\n",
    "    - dsm_dtm_dict (dict): Dictionary {flight_folder: list_of_dsm_dtm_files}.\n",
    "\n",
    "    Returns:\n",
    "    - completeness_status (dict): Summary of completeness for each flight.\n",
    "    - missing_files_report (dict): Flights with missing data and missing filenames.\n",
    "    \"\"\"\n",
    "\n",
    "    completeness_status = {}\n",
    "    missing_files_report = {}\n",
    "\n",
    "    # Define required file suffixes for MS and 3D projects\n",
    "    required_files_ms = {\n",
    "        \"_index_green_green.tif\",\n",
    "        \"_index_ndvi.tif\",\n",
    "        \"_index_nir_nir.tif\",\n",
    "        \"_index_red_edge_red_edge.tif\",\n",
    "        \"_index_red_red.tif\",\n",
    "        \"_transparent_mosaic_group1.tif\"\n",
    "    }\n",
    "    optional_blue_band = \"_index_blue_blue.tif\"\n",
    "\n",
    "    required_files_3d = {\n",
    "        \"_dtm.tif\",\n",
    "        \"_dsm.tif\"\n",
    "    }\n",
    "\n",
    "    # Identify flight types from folder names\n",
    "    flight_types = {}\n",
    "    for flight in list(ortho_dict.keys()) + list(dsm_dtm_dict.keys()):\n",
    "        if \"MS\" in flight.upper():\n",
    "            flight_types[flight] = \"MS\"\n",
    "        elif \"3D\" in flight.upper():\n",
    "            flight_types[flight] = \"3D\"\n",
    "        else:\n",
    "            flight_types[flight] = \"UNKNOWN\"\n",
    "\n",
    "    # Count occurrences of each flight type\n",
    "    type_counts = Counter(flight_types.values())\n",
    "\n",
    "    # If there are mixed flight types, identify the minority group and warn the user\n",
    "    if len(type_counts) > 1:\n",
    "        print(\"\\n⚠️ WARNING: Inconsistent flight types detected!\")\n",
    "        print(\"Detected flight types:\", type_counts)\n",
    "\n",
    "        # Find the minority group (least frequent flight type)\n",
    "        minority_type = min(type_counts, key=type_counts.get)\n",
    "        minority_flights = [flight for flight, f_type in flight_types.items() if f_type == minority_type]\n",
    "\n",
    "        print(f\"🚨 The following flights are of type '{minority_type}', which may be misplaced:\")\n",
    "        print(\"\\n\".join(minority_flights))\n",
    "        print(\"Please verify if these are in the correct location.\\n\")\n",
    "\n",
    "    # Perform completeness checks\n",
    "    for flight, f_type in flight_types.items():\n",
    "        if f_type == \"MS\":\n",
    "            # Check for missing MS files\n",
    "            files = ortho_dict.get(flight, [])\n",
    "            missing_files = [f for f in required_files_ms if not any(f in file for file in files)]\n",
    "\n",
    "            # Check for blue band consistency\n",
    "            blue_band_found = any(optional_blue_band in file for file in files)\n",
    "\n",
    "            if not missing_files:\n",
    "                completeness_status[flight] = \"✅ Complete\"\n",
    "            else:\n",
    "                completeness_status[flight] = \"❌ Incomplete\"\n",
    "                missing_files_report[flight] = missing_files\n",
    "\n",
    "        elif f_type == \"3D\":\n",
    "            # Check for missing 3D files\n",
    "            files = dsm_dtm_dict.get(flight, [])\n",
    "            missing_files = [f for f in required_files_3d if not any(f in file for file in files)]\n",
    "\n",
    "            if not missing_files:\n",
    "                completeness_status[flight] = \"✅ Complete\"\n",
    "            else:\n",
    "                completeness_status[flight] = \"❌ Incomplete\"\n",
    "                missing_files_report[flight] = missing_files\n",
    "\n",
    "        else:\n",
    "            print(f\"⚠️ Unknown flight type for {flight}. Skipping data check.\")\n",
    "\n",
    "    return completeness_status, missing_files_report\n"
   ]
  },
  {
   "cell_type": "markdown",
   "id": "d303358d-8a8f-4541-9369-52205c92b29b",
   "metadata": {},
   "source": [
    "## Drop incomplete projects"
   ]
  },
  {
   "cell_type": "code",
   "execution_count": 11,
   "id": "feda10fb-a56a-42e4-b2aa-51fbb1bab6ef",
   "metadata": {},
   "outputs": [],
   "source": [
    "import csv\n",
    "import os\n",
    "\n",
    "def drop_incomplete_flights(ortho_dict, dsm_dtm_dict, missing, output_csv_folder):\n",
    "    \"\"\"\n",
    "    Drops flights with missing files from the ortho_dict and dsm_dtm_dict.\n",
    "    \n",
    "    Args:\n",
    "        ortho_dict (dict): Dictionary mapping flight names to orthomosaic file paths.\n",
    "        dsm_dtm_dict (dict): Dictionary mapping flight names to DSM and DTM file paths.\n",
    "        missing (dict): Dictionary listing missing files for each flight.\n",
    "    \n",
    "    Returns:\n",
    "        ortho_dict (dict): Updated ortho_dict with incomplete flights removed.\n",
    "        dsm_dtm_dict (dict): Updated dsm_dtm_dict with incomplete flights removed.\n",
    "    \"\"\"\n",
    "    for flight in list(missing.keys()):  # Use list() to avoid modifying dict during iteration\n",
    "        if flight in ortho_dict:\n",
    "            del ortho_dict[flight]\n",
    "        if flight in dsm_dtm_dict:\n",
    "            del dsm_dtm_dict[flight]\n",
    "\n",
    "    # write_missing_projects to csv\n",
    "    csv_log = os.path.join(output_csv_folder, \"Incomplete Flights Log.csv\")\n",
    "    write_missing_projects_to_csv(missing, csv_log)\n",
    "\n",
    "    return ortho_dict, dsm_dtm_dict\n",
    "\n",
    "def write_missing_projects_to_csv(missing_projects, csv_file):\n",
    "    \"\"\"\n",
    "    Write the missing projects (with missing files) to a CSV file.\n",
    "    Each missing file will be logged as a separate row along with the project ID and a note.\n",
    "    \"\"\"\n",
    "    # Ensure the directory exists\n",
    "    output_dir = os.path.dirname(csv_file)\n",
    "    os.makedirs(output_dir, exist_ok=True)  # Create directory if it doesn't exist\n",
    "    \n",
    "    # Check if the CSV file already exists\n",
    "    file_exists = os.path.isfile(csv_file)\n",
    "    \n",
    "    # Open the CSV file in append mode\n",
    "    with open(csv_file, mode='a', newline='') as file:\n",
    "        writer = csv.DictWriter(file, fieldnames=['id', 'missing_file', 'status'])\n",
    "        \n",
    "        # Write the header if the file does not exist\n",
    "        if not file_exists:\n",
    "            writer.writeheader()\n",
    "\n",
    "        # Write each missing project and its corresponding missing files to the CSV\n",
    "        for project_id, missing_files in missing_projects.items():\n",
    "            for missing_file in missing_files:\n",
    "                writer.writerow({\n",
    "                    'id': project_id,\n",
    "                    'missing_file': missing_file,\n",
    "                    'status': 'Incomplete'  # You can change this if you want a different status\n",
    "                })"
   ]
  },
  {
   "cell_type": "code",
   "execution_count": null,
   "id": "31b23c62-089e-4f56-beb2-dcf125067bbf",
   "metadata": {},
   "outputs": [],
   "source": []
  },
  {
   "cell_type": "code",
   "execution_count": 12,
   "id": "9290c988-16a0-49b4-8f87-9c005d87b7fa",
   "metadata": {},
   "outputs": [],
   "source": [
    "def extract_common_prefix(file_paths):\n",
    "    \"\"\"Finds the common prefix among a list of file names.\"\"\"\n",
    "    common_prefix = os.path.commonprefix([os.path.basename(p) for p in file_paths])\n",
    "    return re.sub(r'[^a-zA-Z0-9_-]', '', common_prefix.replace(\" \", \"_\"))  # Clean any special characters"
   ]
  },
  {
   "cell_type": "code",
   "execution_count": null,
   "id": "f2a29c97-bc60-4f9a-b603-d278ebb94ae2",
   "metadata": {},
   "outputs": [],
   "source": []
  },
  {
   "cell_type": "code",
   "execution_count": null,
   "id": "d8e14a6e-a1e8-466a-b6fa-954fac17ab72",
   "metadata": {},
   "outputs": [],
   "source": []
  },
  {
   "cell_type": "markdown",
   "id": "97b90d9a-63d6-4ca8-a772-2bdd1fe475df",
   "metadata": {},
   "source": [
    "# Downscale tiff"
   ]
  },
  {
   "cell_type": "code",
   "execution_count": 13,
   "id": "a80eecb3-af7d-4d1d-bbc2-e56b65405437",
   "metadata": {},
   "outputs": [],
   "source": [
    "from rasterio.enums import Resampling\n",
    "def downscale_image(file_path, output_folder, scale_factor):\n",
    "    \"\"\"\n",
    "    Downscale a TIFF/JPG file and save it in the structured output directory.\n",
    "\n",
    "    Parameters:\n",
    "        file_path (str): The path to the original file.\n",
    "        output_folder (str): The base output folder.\n",
    "        scale_factor (float): Scaling factor (e.g., 0.25 for 25%).\n",
    "\n",
    "    Returns:\n",
    "        str: Path to the saved downscaled file.\n",
    "    \"\"\"\n",
    "    print(f\"\\n⚙️ Processing: {os.path.basename(file_path)} at {int(scale_factor * 100)}% resolution\")\n",
    "\n",
    "    try:\n",
    "        with rasterio.open(file_path) as src:\n",
    "            # Compute new dimensions\n",
    "            new_width = int(src.width * scale_factor)\n",
    "            new_height = int(src.height * scale_factor)\n",
    "            print(f\"   - Original size: {src.width} x {src.height}\")\n",
    "            print(f\"   - New size: {new_width} x {new_height}\")\n",
    "\n",
    "            # Read and resample image\n",
    "            resampled_array = src.read(\n",
    "                out_shape=(src.count, new_height, new_width),\n",
    "                resampling=Resampling.bilinear\n",
    "            )\n",
    "\n",
    "            # Update metadata\n",
    "            profile = src.profile\n",
    "            profile.update(\n",
    "                width=new_width,\n",
    "                height=new_height,\n",
    "                transform=src.transform * src.transform.scale(\n",
    "                    (src.width / new_width), (src.height / new_height)\n",
    "                )\n",
    "            )\n",
    "\n",
    "\n",
    "            # Save downscaled image\n",
    "            print(f\"   - Saving downscaled file: {output_folder}\")\n",
    "            with rasterio.open(output_folder, \"w\", **profile) as dst:\n",
    "                dst.write(resampled_array)\n",
    "\n",
    "            print(f\"✅ Successfully downscaled: {os.path.basename(file_path)}\")\n",
    "            return output_folder\n",
    "\n",
    "    except Exception as e:\n",
    "        print(f\"❌ ERROR processing {file_path}: {str(e)}\")\n",
    "        return None"
   ]
  },
  {
   "cell_type": "code",
   "execution_count": null,
   "id": "35ef19e7-0af0-4b75-b9a5-2a6ce4d3994d",
   "metadata": {},
   "outputs": [],
   "source": []
  },
  {
   "cell_type": "markdown",
   "id": "697754d5-9b5d-46c6-acd9-2600adb0bf39",
   "metadata": {},
   "source": [
    "# Data Extraction function"
   ]
  },
  {
   "cell_type": "code",
   "execution_count": 14,
   "id": "9d6abdf2-eacf-4ba8-b0ba-b89f898cfc81",
   "metadata": {},
   "outputs": [],
   "source": [
    "# CHECK WHAT DOES IT DO WITH NDVI TIF if given in input rasters\n",
    "\n",
    "# Configure logging\n",
    "logging.basicConfig(level=logging.INFO, format=\"%(asctime)s - %(levelname)s - %(message)s\")\n",
    "\n",
    "# Column order as specified\n",
    "STAT_ORDER = [\n",
    "    \"count\", \"sum\", \"mean\", \"median\", \"std\", \"min\", \"max\", \"range\", \"minority\", \"majority\", \"variety\", \n",
    "    \"variance\", \"cv\", \"skewness\", \"kurtosis\", \"top_10\", \"top_15\", \"top_20\", \"top_25\", \"top_35\", \"top_50\", \n",
    "    \"q25\", \"q75\", \"iqr\"\n",
    "]\n",
    "MORE_STAT_PERCENT = [5, 10, 15, 25, 35, 50]\n",
    "\n",
    "# Raster sorting order\n",
    "RASTER_ORDER_ = [\"blue\", \"green\", \"ndvi\", \"nir\", \"red\", \"rededge\"]\n",
    "RASTER_NAME_KEYS_ = [\"blue_blue\", \"green_green\", \"nir_nir\", \"red_red\", \"red_edge_red_edge\", \"ndvi_ndvi\"]\n",
    "\n",
    "def match_raster_keys(order_list, name_keys):\n",
    "    \"\"\"\n",
    "    Maps raster order names to their corresponding file name keys by sorting the name_keys and normalizing both lists.\n",
    "    Parameters:\n",
    "        order_list (list): List of raster order names.\n",
    "        name_keys (list): List of raster file name keys.\n",
    "    Returns:\n",
    "        dict: Dictionary mapping order names to matching file name keys.\n",
    "    \"\"\"\n",
    "    sorted_keys = sorted(name_keys, key=len, reverse=False)  # Sort longest names first\n",
    "\n",
    "    def normalize(name):\n",
    "        return re.sub(r'[^a-zA-Z0-9]', '', name.lower())  # Remove special characters\n",
    "\n",
    "    normalized_keys = {normalize(key): key for key in sorted_keys}  # Map normalized names to original names\n",
    "    mapping = {}\n",
    "\n",
    "    for order in order_list:\n",
    "        norm_order = normalize(order)\n",
    "        for norm_key, original_key in normalized_keys.items():\n",
    "            if norm_order in norm_key:  # Exact match after stripping characters\n",
    "                mapping[order] = original_key\n",
    "                break\n",
    "    return mapping\n",
    "\n",
    "RASTER_ORDER = match_raster_keys(RASTER_ORDER_, RASTER_NAME_KEYS_)\n",
    "\n",
    "def ensure_crs_alignment(gdf, raster_crs):\n",
    "    \"\"\"Ensures the GeoDataFrame has the same CRS as the raster.\"\"\"\n",
    "    try:\n",
    "        if gdf.crs != raster_crs:\n",
    "            logging.warning(\"📌 CRS mismatch detected. Reprojecting shapefile to match raster CRS.\")\n",
    "            print(\"📌 CRS mismatch detected. Reprojecting shapefile to match raster CRS.\")\n",
    "            print(f\"📌 GEOJSON CRS {gdf.crs} to Raster CRS {raster_crs}.\")\n",
    "\n",
    "            gdf = gdf.to_crs(raster_crs)\n",
    "    except Exception as e:\n",
    "        logging.error(f\"Error while aligning CRS: {e}\")\n",
    "        raise\n",
    "    return gdf\n",
    "\n",
    "def find_raster_files(paths, RASTER_ORDER):\n",
    "    \"\"\"Identifies raster files based on naming conventions.\"\"\"\n",
    "    rasters = {name: next((tif for tif in paths if name_pattern in tif), None) for name, name_pattern in RASTER_ORDER.items()}\n",
    "    return {k: v for k, v in rasters.items() if v is not None}\n",
    "\n",
    "# Ensure this function remains unchanged\n",
    "# Optimized NDVI Computation Using Numba\n",
    "@njit\n",
    "def compute_ndvi_numba(nir, red):\n",
    "    \"\"\"Fast NDVI computation using Numba.\"\"\"\n",
    "    return np.where((nir + red) == 0, np.nan, (nir - red) / (nir + red))\n",
    "\n",
    "def generate_ndvi_GeoTIFF_and_values(nir_tif, red_tif, output_tif):\n",
    "    \"\"\"Generates an NDVI orthomosaic and calculates values.\"\"\"\n",
    "    with rasterio.open(nir_tif) as nir_src, rasterio.open(red_tif) as red_src:\n",
    "        # Read the data\n",
    "        nir = nir_src.read(1).astype(np.float32)\n",
    "        red = red_src.read(1).astype(np.float32)\n",
    "        transform = nir_src.transform\n",
    "        crs = nir_src.crs\n",
    "\n",
    "        # Compute NDVI\n",
    "        ndvi = compute_ndvi_numba(nir, red)\n",
    "\n",
    "        # Save NDVI to a GeoTIFF\n",
    "        profile = nir_src.profile\n",
    "        profile.update(dtype=rasterio.float32, count=1, compress=\"lzw\")\n",
    "\n",
    "        with rasterio.open(output_tif, \"w\", **profile) as dst:\n",
    "            dst.write(ndvi, 1)\n",
    "\n",
    "    # Compute NDVI statistics (flatten non-NaN values)\n",
    "    ndvi_values = ndvi[~np.isnan(ndvi)].flatten()\n",
    "\n",
    "    return output_tif, ndvi\n",
    "\n",
    "def compute_additional_statistics(values, MORE_STAT_PERCENT):\n",
    "    \"\"\"Computes variance, CV, skewness, kurtosis, variety, and percentile-based stats.\n",
    "        Parameters:\n",
    "        values (array-like): List or array of raster values.\n",
    "        MORE_STAT_PERCENT (list) : List of additional stats percentages\n",
    "    Returns:\n",
    "        dict: Dictionary of computed statistics.\n",
    "    \"\"\"\n",
    "    percent_stats = list(itertools.chain.from_iterable([[f\"top_{percent}_mean\", f\"top_{percent}_median\", f\"top_{percent}_std\"] for percent in MORE_STAT_PERCENT]))\n",
    "\n",
    "    try:\n",
    "        if len(values) == 0:\n",
    "            return {stat: np.nan for stat in STAT_ORDER + percent_stats if stat not in STAT_ORDER[:10]}\n",
    "\n",
    "        values = np.asarray(values).flatten()  # Ensure it's a NumPy array\n",
    "\n",
    "        stats = {\n",
    "            \"variety\": len(np.unique(values)),\n",
    "            \"variance\": np.nanvar(values),\n",
    "            \"cv\": np.nanstd(values) / np.nanmean(values) if np.nanmean(values) != 0 else np.nan,\n",
    "            \"skewness\": pd.Series(values).skew(),\n",
    "            \"kurtosis\": pd.Series(values).kurtosis(),\n",
    "            \"top_10\": np.nanpercentile(values, 90),\n",
    "            \"top_15\": np.nanpercentile(values, 85),\n",
    "            \"top_20\": np.nanpercentile(values, 80),\n",
    "            \"top_25\": np.nanpercentile(values, 75),\n",
    "            \"top_35\": np.nanpercentile(values, 65),\n",
    "            \"top_50\": np.nanpercentile(values, 50),\n",
    "            \"q25\": np.nanpercentile(values, 25),\n",
    "            \"q75\": np.nanpercentile(values, 75),\n",
    "            \"iqr\": np.nanpercentile(values, 75) - np.nanpercentile(values, 25)\n",
    "            }\n",
    "\n",
    "        # Compute statistics on top X% of the raw data\n",
    "        # values_ = np.concatenate(values)\n",
    "        values_ = values\n",
    "        for percent in MORE_STAT_PERCENT:\n",
    "            threshold = np.percentile(values_, 100 - percent)\n",
    "            top_values = values_[values_ >= threshold]\n",
    "\n",
    "            if len(top_values) > 0:\n",
    "                stats.update({f\"top_{percent}_mean\": np.mean(top_values)})\n",
    "                stats.update({f\"top_{percent}_median\": np.median(top_values)})\n",
    "                stats.update({f\"top_{percent}_std\": np.std(top_values)})\n",
    "            else:\n",
    "                stats[f\"top_{percent}_mean\"] = np.nan\n",
    "                stats[f\"top_{percent}_median\"] = np.nan\n",
    "                stats[f\"top_{percent}_std\"] = np.nan\n",
    "\n",
    "        return stats\n",
    "    except Exception as e:\n",
    "        logging.error(f\"Error computing additional statistics: {e}\")\n",
    "        return {stat: np.nan for stat in STAT_ORDER + percent_stats if stat not in STAT_ORDER[:10]}\n",
    "\n",
    "import numpy as np\n",
    "import pandas as pd\n",
    "\n",
    "def process_raster_statistics(stats, gdf, raster_name, project_name, flight, more_stat_percent):\n",
    "    \"\"\"\n",
    "    Processes raster statistics by extracting raw values, computing additional statistics,\n",
    "    and formatting the final DataFrame with necessary metadata.\n",
    "\n",
    "    Parameters:\n",
    "        stats (list of dict): List of dictionaries containing raster statistics.\n",
    "        gdf (GeoDataFrame): Geospatial dataframe containing feature IDs.\n",
    "        raster_name (str): Name of the raster being processed.\n",
    "        project_name (str): Project identifier.\n",
    "        flight (str): Flight identifier.\n",
    "        more_stat_percent (list): List of percent values for additional statistics.\n",
    "\n",
    "    Returns:\n",
    "        DataFrame: Processed statistics DataFrame.\n",
    "    \"\"\"\n",
    "    # Extract raw values for additional calculations\n",
    "    raw_values = [\n",
    "        stat[\"mini_raster_array\"].compressed() if \"mini_raster_array\" in stat else np.array([])\n",
    "        for stat in stats\n",
    "    ]\n",
    "\n",
    "    additional_stats = [compute_additional_statistics(vals, more_stat_percent) for vals in raw_values]\n",
    "\n",
    "    # Create DataFrame from stats and drop unwanted columns\n",
    "    df_stats = pd.DataFrame(stats).drop(columns=[\"mini_raster_array\", \"mini_raster_affine\", \"mini_raster_nodata\"], errors=\"ignore\")\n",
    "    df_stats = df_stats[STAT_ORDER[:10]]  # Assign expected column order\n",
    "\n",
    "    # Convert additional statistics into DataFrame\n",
    "    df_additional = pd.DataFrame(additional_stats)\n",
    "\n",
    "    # Merge basic and additional statistics\n",
    "    df = pd.concat([df_stats, df_additional], axis=1)\n",
    "\n",
    "    # Prefix raster name to stat columns\n",
    "    df.columns = [f\"{raster_name}_{col}\" for col in df.columns]\n",
    "\n",
    "    # Insert metadata columns\n",
    "    df.insert(0, \"id\", gdf.id)\n",
    "    df.insert(1, \"project\", project_name)\n",
    "    df.insert(2, \"flight\", flight)\n",
    "\n",
    "    return df\n",
    "\n",
    "def extract_raster_stats_multiple(shp, raster_paths, project_name, flight, output_root_folder_path, ndvi_geotiff= True, plot_geom=\"none\"):\n",
    "    \"\"\"\n",
    "    Extracts raster statistics for multiple raster files and saves results in a CSV file.\n",
    "\n",
    "    Parameters:\n",
    "        shp (str): Path to GeoJSON or shapefile containing geometries.\n",
    "        raster_paths (dict): Dictionary of raster names and their file paths.\n",
    "        project_name (str): Project name.\n",
    "        flight (str): Flight name.\n",
    "        output_root_folder_path (str)\n",
    "        plot_geom (str, optional): Plot geometry option. Default is \"none\".\n",
    "\n",
    "    Returns:\n",
    "        pd.DataFrame: DataFrame with extracted raster statistics for each raster.\n",
    "    \"\"\"\n",
    "    start_time = time.time()\n",
    "    raster_example = raster_paths['nir']\n",
    "    output_folder = os.path.join(output_root_folder_path, project_name)\n",
    "    os.makedirs(output_folder, exist_ok=True)\n",
    "\n",
    "    # Generating NDVI GEOTIFF and values\n",
    "    output_ndvi = os.path.join(output_folder, f\"{flight}ndvi.tif\")\n",
    "    # **Check if NDVI GEOTIFF for the flight being processed already exists**\n",
    "\n",
    "    logging.info(f\"Processing project: {project_name}, Flight: {flight}\")\n",
    "    logging.info(f\"⚙️ Generating NDVI Orthomosaic for: {project_name}, Flight: {flight}\")\n",
    "    \n",
    "    # Generating NDVI GEOTIFF\n",
    "    if 'nir' and 'red' in raster_paths.keys():\n",
    "        _, ndvi_values = generate_ndvi_GeoTIFF_and_values(raster_paths['nir'], raster_paths['red'], output_ndvi)\n",
    "        logging.info(f\"✅ Successfully generated NDVI GEOTIFF\")\n",
    "\n",
    "    else:\n",
    "        logging.error(f\"❌ Required rasters not found for NDVI GEOTIFF generation. NIR & Red rasters required.\")\n",
    "\n",
    "    logging.info(f\"🚀 Preparing raster processing for flight: {flight}\")\n",
    "    logging.info(f\"⚙️ Reading shapefile: {os.path.basename(shp)}\")\n",
    "\n",
    "    # Importing geojson file\n",
    "    if not os.path.exists(shp):\n",
    "        logging.error(f\"❌ Shapefile not found: {shp}\")\n",
    "        raise FileNotFoundError(f\"Shapefile not found: {shp}\")\n",
    "\n",
    "    try:\n",
    "        gdf = gpd.read_file(shp)\n",
    "        if gdf.empty:\n",
    "            logging.error(\"❌ Shapefile is empty!\")\n",
    "            raise ValueError(\"Shapefile contains no geometries.\")\n",
    "        gdf.columns = gdf.columns.str.lower()  # Convert column names to lowercase\n",
    "\n",
    "        # Ensure 'id' is numeric and sort geodataframe on 'id' column\n",
    "        if pd.to_numeric(gdf[\"id\"], errors=\"coerce\").notna().all():\n",
    "            gdf = gdf.sort_values(by=\"id\", ascending=True).reset_index(drop=True)\n",
    "\n",
    "        # Ensure CRS alignment between gdf and one of the rastesrs\n",
    "        with rasterio.open(raster_example) as src:\n",
    "            gdf = ensure_crs_alignment(gdf, src.crs)\n",
    "\n",
    "    except Exception as e:\n",
    "        logging.error(f\"Error reading shapefile: {e}\")\n",
    "        raise\n",
    "\n",
    "    all_results = []\n",
    "\n",
    "    # Compute NDVI stats\n",
    "    # zonal_stats requires spatial information to correctly match geometries with raster values.\n",
    "    # When using a file path, it reads the affine transformation automatically.\n",
    "    # When passing a NumPy array, we must manually specify the affine transformation.\n",
    "    logging.info(f\"⚙️ Processing NDVI Stats\")\n",
    "\n",
    "    try:\n",
    "        # We can use original affine from one of the rasters\n",
    "        with rasterio.open(raster_example) as src:\n",
    "            original_affine = src.transform\n",
    "        stats = zonal_stats(\n",
    "            gdf, ndvi_values,\n",
    "            affine=original_affine,\n",
    "            stats=STAT_ORDER[:10],  # Extracting basic stats\n",
    "            raster_out=True  # Extract raw pixel values for additional stats\n",
    "        )\n",
    "\n",
    "        processed_df = process_raster_statistics(stats, gdf, 'NDVI', project_name, flight, MORE_STAT_PERCENT)\n",
    "        all_results.append(processed_df)\n",
    "        logging.info(f\"✅ Successfully processed: NDVI Stats\")\n",
    "    except:\n",
    "        logging.error(f\"❌ Error generating NDVI Statictics.\")\n",
    "\n",
    "    # Compute stats for rasters\n",
    "    for raster_name in raster_paths.keys():\n",
    "        if raster_name not in raster_paths:\n",
    "            continue\n",
    "        raster_path = raster_paths[raster_name]\n",
    "        logging.info(f\"⚙️ Processing raster: {raster_name} ({os.path.basename(raster_path)})\")\n",
    "\n",
    "        # Validate raster file existence\n",
    "        if not os.path.exists(raster_path):\n",
    "            logging.error(f\"Raster file not found: {raster_path}\")\n",
    "            continue  # Skip missing rasters instead of stopping execution\n",
    "\n",
    "        with rasterio.open(raster_path) as src:\n",
    "            gdf = ensure_crs_alignment(gdf, src.crs)\n",
    "\n",
    "            stats = zonal_stats(\n",
    "                gdf, raster_path,\n",
    "                stats=STAT_ORDER[:10],  # Extracting basic stats\n",
    "                raster_out=True  # Extract raw pixel values for additional stats\n",
    "            )\n",
    "        processed_df = process_raster_statistics(stats, gdf, raster_name, project_name, flight, MORE_STAT_PERCENT)\n",
    "\n",
    "        all_results.append(processed_df)\n",
    "        logging.info(f\"✅ Successfully processed: {raster_name}\")\n",
    "\n",
    "    # Merge all results\n",
    "    if not all_results:\n",
    "        # logging.error(\"❌ No raster statistics could be extracted.\")\n",
    "        return pd.DataFrame()\n",
    "\n",
    "    final_df = pd.concat(all_results, axis=1).loc[:, ~pd.concat(all_results, axis=1).columns.duplicated()]\n",
    "\n",
    "    percent_stats = list(itertools.chain.from_iterable([[f\"top_{percent}_mean\", f\"top_{percent}_median\", f\"top_{percent}_std\"] for percent in MORE_STAT_PERCENT]))\n",
    "\n",
    "\n",
    "    output_file = os.path.join(output_folder, f\"{flight}statistics.csv\")\n",
    "\n",
    "    final_df.to_csv(output_file, index=False)\n",
    "\n",
    "    logging.info(f\"✅📌 Statistics saved to: {output_file}\")\n",
    "    print(f\"✅📌 Statistics saved to: {output_file}\")\n",
    "    print(f\"⏳ Total execution time: {time.time() - start_time:.2f} seconds\")\n",
    "\n",
    "    return final_df\n",
    "\n",
    "\n"
   ]
  },
  {
   "cell_type": "markdown",
   "id": "f2bcc01e-c48a-47d7-8dc0-88373ff21a72",
   "metadata": {},
   "source": [
    "# Example use for singel project"
   ]
  },
  {
   "cell_type": "code",
   "execution_count": 15,
   "id": "bd92cc0e-7245-404e-9f38-8b97e266178a",
   "metadata": {},
   "outputs": [],
   "source": [
    "# # Example Usage\n",
    "# src_folder = r'D:\\PhenoCrop\\2_pix4d_cleaned\\E166\\MS\\20240812 E166 M3M 30m MS 80 85\\2_Orthomosaics'\n",
    "# paths = find_files_in_folder(src_folder, 'tif')\n",
    "# raster_files = find_raster_files(paths, RASTER_ORDER)\n",
    "# # shapefile_path = r\"D:\\PhenoCrop\\3_qgis\\3_Extraction Polygons\\3. FINAL MASKS PYTHON\\24 E 166_test.geojson\"\n",
    "# shapefile_path = r\"D:\\PhenoCrop\\3_qgis\\3_Extraction Polygons\\3. FINAL MASKS PYTHON\\24 E166_sorted_ID_corrected_coordinate_system_polygons_shrinked.geojson\"\n",
    "# project = \"E166\"\n",
    "# flight = \"20240812 E166 M3M 30m MS 80 85\"\n",
    "# output_folder = r\"D:\\PhenoCrop\\3_python\\test\"\n",
    "\n",
    "# stats_df = extract_raster_stats_multiple(shapefile_path, raster_files, project, flight, output_folder)"
   ]
  },
  {
   "cell_type": "markdown",
   "id": "d0f66f6f-613d-45ca-8c7a-b09b2491ad12",
   "metadata": {},
   "source": [
    "# Processing multiple fields"
   ]
  },
  {
   "cell_type": "code",
   "execution_count": 16,
   "id": "611bf846-b849-4355-af49-922d33da3151",
   "metadata": {},
   "outputs": [],
   "source": [
    "import os\n",
    "import re\n",
    "import glob\n",
    "import gc\n",
    "import psutil  # To monitor memory usage\n",
    "import numpy as np\n",
    "import pandas as pd\n",
    "import geopandas as gpd\n",
    "import rasterio\n",
    "from rasterio.transform import from_origin\n",
    "from shapely.geometry import box\n",
    "\n",
    "def extract_common_prefix(file_paths):\n",
    "    \"\"\"Finds the common prefix among a list of file names.\"\"\"\n",
    "    common_prefix = os.path.commonprefix([os.path.basename(p) for p in file_paths])\n",
    "    return re.sub(r'[^a-zA-Z0-9_-]', '', common_prefix.replace(\" \", \"_\"))  # Clean any special characters\n",
    "\n",
    "def list_geojson_files(geojson_file_folder):\n",
    "    \"\"\"\n",
    "    Lists all geojson files in the specified folder and extracts project names from their filenames.\n",
    "\n",
    "    Parameters:\n",
    "    - geojson_file_folder (str): Path to the folder containing geojsonfiles.\n",
    "\n",
    "    Returns:\n",
    "    - dict: A dictionary mapping project names to their corresponding geojson file paths.\n",
    "    \"\"\"\n",
    "    geojson_file_dict = {}\n",
    "    geojson_files = glob.glob(os.path.join(geojson_file_folder, \"*.geojson\"))\n",
    "\n",
    "    for shp in geojson_files:\n",
    "        project_name = os.path.basename(shp).split(\".geojson\")[0]\n",
    "        geojson_file_dict[project_name] = shp  # Map project name to geojsonfile path\n",
    "\n",
    "    return geojson_file_dict\n",
    "\n",
    "def check_memory_usage(threshold=80):\n",
    "    \"\"\"\n",
    "    Checks memory usage and prints a warning if it exceeds the threshold.\n",
    "    \n",
    "    Parameters:\n",
    "    - threshold (int): Memory usage percentage above which a warning is triggered.\n",
    "    \n",
    "    Returns:\n",
    "    - bool: True if memory usage is high, False otherwise.\n",
    "    \"\"\"\n",
    "    mem = psutil.virtual_memory()\n",
    "    if mem.percent > threshold:\n",
    "        print(f\"⚠️ WARNING: High memory usage detected ({mem.percent}%). Consider freeing memory.\")\n",
    "        return True\n",
    "    return False\n",
    "\n",
    "@precise_timing_decorator\n",
    "def prepare_and_run_raster_processing(project_name, output_root_folder, ortho_dict, geojson_file_folder):\n",
    "    \"\"\"\n",
    "    Matches orthomosaics to the correct geojson file and prepares necessary data before running process_rasters().\n",
    "\n",
    "    Parameters:\n",
    "    - project_name (str): Name of the field project\n",
    "    - output_root_folder (str): Root path to store output CSV files.\n",
    "    - ortho_dict (dict): Dictionary mapping flight folders to lists of raster file paths.\n",
    "    - geojson_file_folder (str): Path to the folder containing geojsonfiles.\n",
    "\n",
    "    Returns:\n",
    "    - None\n",
    "    \"\"\"\n",
    "    geojson_file_dict = list_geojson_files(geojson_file_folder)\n",
    "\n",
    "    for flight, paths in ortho_dict.items():\n",
    "        print(f\"\\n🚀 Preparing raster processing for flight: {flight}\")\n",
    "\n",
    "        # Find the corresponding geojsonfile\n",
    "        matched_geojson_file = next(\n",
    "            (shp for shp_file_name, shp in geojson_file_dict.items() if project_name in shp_file_name), None\n",
    "        )\n",
    "\n",
    "        if not matched_geojson_file:\n",
    "            print(f\"⚠️ No matching geojson file found for {flight}. Skipping...\")\n",
    "            continue\n",
    "\n",
    "        print(f\"✅ Matched geojson file: {matched_geojson_file}\")\n",
    "\n",
    "        \n",
    "        # Define output file name based on the common prefix of input files\n",
    "        output_csv_name = f\"{extract_common_prefix(paths)}statistics.csv\"\n",
    "        output_csv_path = os.path.join(output_root_folder, project_name, output_csv_name)\n",
    "        \n",
    "        # Ensure the the output directory exists\n",
    "        os.makedirs(os.path.dirname(output_csv_path), exist_ok=True)\n",
    "        \n",
    "        # **Check if CSV file for the flight being processed already exists**\n",
    "        if os.path.exists(output_csv_path):\n",
    "            print(f\"📌 Output CSV already exists: {output_csv_path}. Skipping processing.\")\n",
    "            continue  # Skip this flight\n",
    "        \n",
    "        # **Monitor memory before loading large files**\n",
    "        check_memory_usage()\n",
    "\n",
    "        # Identify rgb raster path dynamically\n",
    "        rgb_raster_path = next((tif for tif in paths if \"_transparent_mosaic_group1.tif\" in tif), None)\n",
    "\n",
    "        # Downscale the RGB raster for preview during processing\n",
    "        if rgb_raster_path:\n",
    "            rgb_raster_thumb_path = add_suffix_to_file_name(rgb_raster_path, \"_thumb\")\n",
    "            if os.path.exists(rgb_raster_thumb_path):\n",
    "                print(f\"📌 Resized RGB Ortho exists: {rgb_raster_thumb_path}. Skipping downscaling.\")\n",
    "            else:\n",
    "                downscale_image(rgb_raster_path, rgb_raster_thumb_path, 0.25)\n",
    "\n",
    "        # Generate dick of raster file paths\n",
    "        raster_files = find_raster_files(paths, RASTER_ORDER)\n",
    "\n",
    "        # **Check memory usage after loading**\n",
    "        check_memory_usage()\n",
    "\n",
    "        stats_df = extract_raster_stats_multiple(matched_geojson_file, raster_files, project_name, extract_common_prefix(paths), output_root_folder)\n",
    "\n",
    "\n",
    "        # plot_geom = \"ortho\"\n",
    "        # plot_geom = \"shp\"\n",
    "        # plot_geom = \"none\"\n",
    "\n",
    "        # **Clear raster data from memory**\n",
    "        gc.collect()  # Force garbage collection\n",
    "        print(f\"🧹 Cleared raster data from memory.\")\n",
    "\n",
    "        gc.collect()  # Force garbage collection\n",
    "        print(f\"🧹 Cleared shapefile data from memory.\")\n",
    "\n",
    "        # Save results\n",
    "        # stats_df.to_csv(output_csv_path, index_label=\"id\")\n",
    "        print(f\"📁 Saved results to {output_csv_path}\")\n",
    "\n",
    "        # **Final memory check**\n",
    "        check_memory_usage()\n",
    "\n",
    "# if __name__ == \"__main__\":\n",
    "#     geojson_file_folder = r'D:\\PhenoCrop\\3_qgis\\3_Extraction Polygons\\3. FINAL MASKS PYTHON'\n",
    "#     output_root_folder = r'D:\\PhenoCrop\\3_python'\n",
    "#     prepare_and_run_raster_processing(project_name, output_root_folder, ortho_dict, geojson_file_folder)\n"
   ]
  },
  {
   "cell_type": "code",
   "execution_count": 17,
   "id": "01d61883-6d80-4197-96cd-95a0ffb34e1c",
   "metadata": {},
   "outputs": [
    {
     "name": "stderr",
     "output_type": "stream",
     "text": [
      "2025-02-07 00:54:45,540 - INFO - Processing project: E166, Flight: 20240619_E166_M3M_30m_MS_80_85_\n",
      "2025-02-07 00:54:45,541 - INFO - ⚙️ Generating NDVI Orthomosaic for: E166, Flight: 20240619_E166_M3M_30m_MS_80_85_\n"
     ]
    },
    {
     "name": "stdout",
     "output_type": "stream",
     "text": [
      "['E166', 'PRO_BAR_VOLL', 'OAT_FRONTIERS', 'DIVERSITY_OATS', 'PRO_BAR_SØRÅS', 'PHENO_CROP', 'PILOT']\n",
      "\n",
      "🚀 Processing Project: E166 | Flight Type: MS\n",
      "Fetching file lists for project: E166, flight type: MS\n",
      "⏳ Execution time of check_data_completeness: 0.000175 seconds\n",
      "\n",
      "✅ COMPLETENESS STATUS:\n",
      "20240523 E166 M3M 30m MS 85 80: ✅ Complete\n",
      "20240530 E166 M3M 30m MS 80 85: ✅ Complete\n",
      "20240607 E166 M3M 30m MS 80 85: ✅ Complete\n",
      "20240611 E166 M3M 30m MS 80 85: ✅ Complete\n",
      "20240619 E166 M3M 30m MS 80 85: ✅ Complete\n",
      "20240624 E166 M3M 30m MS 80 85: ✅ Complete\n",
      "20240701 E166 M3M 30m MS 80 85: ✅ Complete\n",
      "20240708 E166 M3M 30m MS 80 85: ✅ Complete\n",
      "20240718 E166 M3M 30m MS 80 85: ✅ Complete\n",
      "20240724 E166 M3M 30m MS 80 85: ✅ Complete\n",
      "20240730 E166 M3M 30m MS 80 85: ✅ Complete\n",
      "20240806 E166 M3M 30m MS 80 85: ✅ Complete\n",
      "20240812 E166 M3M 30m MS 80 85: ✅ Complete\n",
      "\n",
      "🚀 Preparing raster processing for flight: 20240523 E166 M3M 30m MS 85 80\n",
      "✅ Matched geojson file: D:\\PhenoCrop\\3_qgis\\3_Extraction Polygons\\3. FINAL MASKS PYTHON\\24 E166_sorted_ID_corrected_coordinate_system_polygons_shrinked.geojson\n",
      "📌 Output CSV already exists: D:\\PhenoCrop\\3_python\\V2\\E166\\20240523_E166_M3M_30m_MS_85_80_statistics.csv. Skipping processing.\n",
      "\n",
      "🚀 Preparing raster processing for flight: 20240530 E166 M3M 30m MS 80 85\n",
      "✅ Matched geojson file: D:\\PhenoCrop\\3_qgis\\3_Extraction Polygons\\3. FINAL MASKS PYTHON\\24 E166_sorted_ID_corrected_coordinate_system_polygons_shrinked.geojson\n",
      "📌 Output CSV already exists: D:\\PhenoCrop\\3_python\\V2\\E166\\20240530_E166_M3M_30m_MS_80_85_statistics.csv. Skipping processing.\n",
      "\n",
      "🚀 Preparing raster processing for flight: 20240607 E166 M3M 30m MS 80 85\n",
      "✅ Matched geojson file: D:\\PhenoCrop\\3_qgis\\3_Extraction Polygons\\3. FINAL MASKS PYTHON\\24 E166_sorted_ID_corrected_coordinate_system_polygons_shrinked.geojson\n",
      "📌 Output CSV already exists: D:\\PhenoCrop\\3_python\\V2\\E166\\20240607_E166_M3M_30m_MS_80_85_statistics.csv. Skipping processing.\n",
      "\n",
      "🚀 Preparing raster processing for flight: 20240611 E166 M3M 30m MS 80 85\n",
      "✅ Matched geojson file: D:\\PhenoCrop\\3_qgis\\3_Extraction Polygons\\3. FINAL MASKS PYTHON\\24 E166_sorted_ID_corrected_coordinate_system_polygons_shrinked.geojson\n",
      "📌 Output CSV already exists: D:\\PhenoCrop\\3_python\\V2\\E166\\20240611_E166_M3M_30m_MS_80_85_statistics.csv. Skipping processing.\n",
      "\n",
      "🚀 Preparing raster processing for flight: 20240619 E166 M3M 30m MS 80 85\n",
      "✅ Matched geojson file: D:\\PhenoCrop\\3_qgis\\3_Extraction Polygons\\3. FINAL MASKS PYTHON\\24 E166_sorted_ID_corrected_coordinate_system_polygons_shrinked.geojson\n",
      "📌 Resized RGB Ortho exists: D:\\PhenoCrop\\2_pix4d_cleaned\\E166\\MS\\20240619 E166 M3M 30m MS 80 85\\2_Orthomosaics\\20240619 E166 M3M 30m MS 80 85_transparent_mosaic_group1_thumb.tif. Skipping downscaling.\n"
     ]
    },
    {
     "name": "stderr",
     "output_type": "stream",
     "text": [
      "2025-02-07 00:54:49,284 - INFO - ✅ Successfully generated NDVI GEOTIFF\n",
      "2025-02-07 00:54:49,290 - INFO - 🚀 Preparing raster processing for flight: 20240619_E166_M3M_30m_MS_80_85_\n",
      "2025-02-07 00:54:49,290 - INFO - ⚙️ Reading shapefile: 24 E166_sorted_ID_corrected_coordinate_system_polygons_shrinked.geojson\n",
      "2025-02-07 00:54:49,323 - INFO - ⚙️ Processing NDVI Stats\n",
      "C:\\Users\\muij\\AppData\\Roaming\\Python\\Python312\\site-packages\\rasterstats\\io.py:335: NodataWarning: Setting nodata to -999; specify nodata explicitly\n",
      "  warnings.warn(\n",
      "2025-02-07 00:54:52,494 - INFO - ✅ Successfully processed: NDVI Stats\n",
      "2025-02-07 00:54:52,494 - INFO - ⚙️ Processing raster: green (20240619 E166 M3M 30m MS 80 85_index_green_green.tif)\n",
      "2025-02-07 00:54:57,353 - INFO - ✅ Successfully processed: green\n",
      "2025-02-07 00:54:57,353 - INFO - ⚙️ Processing raster: nir (20240619 E166 M3M 30m MS 80 85_index_nir_nir.tif)\n",
      "2025-02-07 00:55:02,144 - INFO - ✅ Successfully processed: nir\n",
      "2025-02-07 00:55:02,153 - INFO - ⚙️ Processing raster: red (20240619 E166 M3M 30m MS 80 85_index_red_red.tif)\n",
      "2025-02-07 00:55:06,964 - INFO - ✅ Successfully processed: red\n",
      "2025-02-07 00:55:06,964 - INFO - ⚙️ Processing raster: rededge (20240619 E166 M3M 30m MS 80 85_index_red_edge_red_edge.tif)\n",
      "2025-02-07 00:55:12,345 - INFO - ✅ Successfully processed: rededge\n",
      "2025-02-07 00:55:12,347 - INFO - ✅📌 Statistics saved to: D:\\PhenoCrop\\3_python\\V2\\E166\\20240619_E166_M3M_30m_MS_80_85_statistics.csv\n",
      "2025-02-07 00:55:12,491 - INFO - Processing project: E166, Flight: 20240624_E166_M3M_30m_MS_80_85_\n",
      "2025-02-07 00:55:12,495 - INFO - ⚙️ Generating NDVI Orthomosaic for: E166, Flight: 20240624_E166_M3M_30m_MS_80_85_\n"
     ]
    },
    {
     "name": "stdout",
     "output_type": "stream",
     "text": [
      "✅📌 Statistics saved to: D:\\PhenoCrop\\3_python\\V2\\E166\\20240619_E166_M3M_30m_MS_80_85_statistics.csv\n",
      "⏳ Total execution time: 26.81 seconds\n",
      "🧹 Cleared raster data from memory.\n",
      "🧹 Cleared shapefile data from memory.\n",
      "📁 Saved results to D:\\PhenoCrop\\3_python\\V2\\E166\\20240619_E166_M3M_30m_MS_80_85_statistics.csv\n",
      "\n",
      "🚀 Preparing raster processing for flight: 20240624 E166 M3M 30m MS 80 85\n",
      "✅ Matched geojson file: D:\\PhenoCrop\\3_qgis\\3_Extraction Polygons\\3. FINAL MASKS PYTHON\\24 E166_sorted_ID_corrected_coordinate_system_polygons_shrinked.geojson\n",
      "📌 Resized RGB Ortho exists: D:\\PhenoCrop\\2_pix4d_cleaned\\E166\\MS\\20240624 E166 M3M 30m MS 80 85\\2_Orthomosaics\\20240624 E166 M3M 30m MS 80 85_transparent_mosaic_group1_thumb.tif. Skipping downscaling.\n"
     ]
    },
    {
     "name": "stderr",
     "output_type": "stream",
     "text": [
      "2025-02-07 00:55:15,037 - INFO - ✅ Successfully generated NDVI GEOTIFF\n",
      "2025-02-07 00:55:15,038 - INFO - 🚀 Preparing raster processing for flight: 20240624_E166_M3M_30m_MS_80_85_\n",
      "2025-02-07 00:55:15,038 - INFO - ⚙️ Reading shapefile: 24 E166_sorted_ID_corrected_coordinate_system_polygons_shrinked.geojson\n",
      "2025-02-07 00:55:15,047 - INFO - ⚙️ Processing NDVI Stats\n",
      "2025-02-07 00:55:18,280 - INFO - ✅ Successfully processed: NDVI Stats\n",
      "2025-02-07 00:55:18,280 - INFO - ⚙️ Processing raster: green (20240624 E166 M3M 30m MS 80 85_index_green_green.tif)\n",
      "2025-02-07 00:55:23,398 - INFO - ✅ Successfully processed: green\n",
      "2025-02-07 00:55:23,399 - INFO - ⚙️ Processing raster: nir (20240624 E166 M3M 30m MS 80 85_index_nir_nir.tif)\n",
      "2025-02-07 00:55:28,393 - INFO - ✅ Successfully processed: nir\n",
      "2025-02-07 00:55:28,394 - INFO - ⚙️ Processing raster: red (20240624 E166 M3M 30m MS 80 85_index_red_red.tif)\n",
      "2025-02-07 00:55:33,324 - INFO - ✅ Successfully processed: red\n",
      "2025-02-07 00:55:33,324 - INFO - ⚙️ Processing raster: rededge (20240624 E166 M3M 30m MS 80 85_index_red_edge_red_edge.tif)\n",
      "2025-02-07 00:55:38,280 - INFO - ✅ Successfully processed: rededge\n",
      "2025-02-07 00:55:38,296 - INFO - ✅📌 Statistics saved to: D:\\PhenoCrop\\3_python\\V2\\E166\\20240624_E166_M3M_30m_MS_80_85_statistics.csv\n",
      "2025-02-07 00:55:38,414 - INFO - Processing project: E166, Flight: 20240701_E166_M3M_30m_MS_80_85_\n",
      "2025-02-07 00:55:38,414 - INFO - ⚙️ Generating NDVI Orthomosaic for: E166, Flight: 20240701_E166_M3M_30m_MS_80_85_\n"
     ]
    },
    {
     "name": "stdout",
     "output_type": "stream",
     "text": [
      "✅📌 Statistics saved to: D:\\PhenoCrop\\3_python\\V2\\E166\\20240624_E166_M3M_30m_MS_80_85_statistics.csv\n",
      "⏳ Total execution time: 25.80 seconds\n",
      "🧹 Cleared raster data from memory.\n",
      "🧹 Cleared shapefile data from memory.\n",
      "📁 Saved results to D:\\PhenoCrop\\3_python\\V2\\E166\\20240624_E166_M3M_30m_MS_80_85_statistics.csv\n",
      "\n",
      "🚀 Preparing raster processing for flight: 20240701 E166 M3M 30m MS 80 85\n",
      "✅ Matched geojson file: D:\\PhenoCrop\\3_qgis\\3_Extraction Polygons\\3. FINAL MASKS PYTHON\\24 E166_sorted_ID_corrected_coordinate_system_polygons_shrinked.geojson\n",
      "📌 Resized RGB Ortho exists: D:\\PhenoCrop\\2_pix4d_cleaned\\E166\\MS\\20240701 E166 M3M 30m MS 80 85\\2_Orthomosaics\\20240701 E166 M3M 30m MS 80 85_transparent_mosaic_group1_thumb.tif. Skipping downscaling.\n"
     ]
    },
    {
     "name": "stderr",
     "output_type": "stream",
     "text": [
      "2025-02-07 00:55:41,244 - INFO - ✅ Successfully generated NDVI GEOTIFF\n",
      "2025-02-07 00:55:41,245 - INFO - 🚀 Preparing raster processing for flight: 20240701_E166_M3M_30m_MS_80_85_\n",
      "2025-02-07 00:55:41,245 - INFO - ⚙️ Reading shapefile: 24 E166_sorted_ID_corrected_coordinate_system_polygons_shrinked.geojson\n",
      "2025-02-07 00:55:41,248 - INFO - ⚙️ Processing NDVI Stats\n",
      "2025-02-07 00:55:44,382 - INFO - ✅ Successfully processed: NDVI Stats\n",
      "2025-02-07 00:55:44,385 - INFO - ⚙️ Processing raster: green (20240701 E166 M3M 30m MS 80 85_index_green_green.tif)\n",
      "2025-02-07 00:55:49,435 - INFO - ✅ Successfully processed: green\n",
      "2025-02-07 00:55:49,435 - INFO - ⚙️ Processing raster: nir (20240701 E166 M3M 30m MS 80 85_index_nir_nir.tif)\n",
      "2025-02-07 00:55:54,285 - INFO - ✅ Successfully processed: nir\n",
      "2025-02-07 00:55:54,285 - INFO - ⚙️ Processing raster: red (20240701 E166 M3M 30m MS 80 85_index_red_red.tif)\n",
      "2025-02-07 00:55:59,134 - INFO - ✅ Successfully processed: red\n",
      "2025-02-07 00:55:59,138 - INFO - ⚙️ Processing raster: rededge (20240701 E166 M3M 30m MS 80 85_index_red_edge_red_edge.tif)\n",
      "2025-02-07 00:56:04,100 - INFO - ✅ Successfully processed: rededge\n",
      "2025-02-07 00:56:04,100 - INFO - ✅📌 Statistics saved to: D:\\PhenoCrop\\3_python\\V2\\E166\\20240701_E166_M3M_30m_MS_80_85_statistics.csv\n",
      "2025-02-07 00:56:04,221 - INFO - Processing project: E166, Flight: 20240708_E166_M3M_30m_MS_80_85_\n",
      "2025-02-07 00:56:04,222 - INFO - ⚙️ Generating NDVI Orthomosaic for: E166, Flight: 20240708_E166_M3M_30m_MS_80_85_\n"
     ]
    },
    {
     "name": "stdout",
     "output_type": "stream",
     "text": [
      "✅📌 Statistics saved to: D:\\PhenoCrop\\3_python\\V2\\E166\\20240701_E166_M3M_30m_MS_80_85_statistics.csv\n",
      "⏳ Total execution time: 25.69 seconds\n",
      "🧹 Cleared raster data from memory.\n",
      "🧹 Cleared shapefile data from memory.\n",
      "📁 Saved results to D:\\PhenoCrop\\3_python\\V2\\E166\\20240701_E166_M3M_30m_MS_80_85_statistics.csv\n",
      "\n",
      "🚀 Preparing raster processing for flight: 20240708 E166 M3M 30m MS 80 85\n",
      "✅ Matched geojson file: D:\\PhenoCrop\\3_qgis\\3_Extraction Polygons\\3. FINAL MASKS PYTHON\\24 E166_sorted_ID_corrected_coordinate_system_polygons_shrinked.geojson\n",
      "📌 Resized RGB Ortho exists: D:\\PhenoCrop\\2_pix4d_cleaned\\E166\\MS\\20240708 E166 M3M 30m MS 80 85\\2_Orthomosaics\\20240708 E166 M3M 30m MS 80 85_transparent_mosaic_group1_thumb.tif. Skipping downscaling.\n"
     ]
    },
    {
     "name": "stderr",
     "output_type": "stream",
     "text": [
      "2025-02-07 00:56:06,717 - INFO - ✅ Successfully generated NDVI GEOTIFF\n",
      "2025-02-07 00:56:06,717 - INFO - 🚀 Preparing raster processing for flight: 20240708_E166_M3M_30m_MS_80_85_\n",
      "2025-02-07 00:56:06,717 - INFO - ⚙️ Reading shapefile: 24 E166_sorted_ID_corrected_coordinate_system_polygons_shrinked.geojson\n",
      "2025-02-07 00:56:06,717 - INFO - ⚙️ Processing NDVI Stats\n",
      "2025-02-07 00:56:09,984 - INFO - ✅ Successfully processed: NDVI Stats\n",
      "2025-02-07 00:56:09,984 - INFO - ⚙️ Processing raster: green (20240708 E166 M3M 30m MS 80 85_index_green_green.tif)\n",
      "2025-02-07 00:56:15,101 - INFO - ✅ Successfully processed: green\n",
      "2025-02-07 00:56:15,117 - INFO - ⚙️ Processing raster: nir (20240708 E166 M3M 30m MS 80 85_index_nir_nir.tif)\n",
      "2025-02-07 00:56:20,202 - INFO - ✅ Successfully processed: nir\n",
      "2025-02-07 00:56:20,202 - INFO - ⚙️ Processing raster: red (20240708 E166 M3M 30m MS 80 85_index_red_red.tif)\n",
      "2025-02-07 00:56:25,267 - INFO - ✅ Successfully processed: red\n",
      "2025-02-07 00:56:25,269 - INFO - ⚙️ Processing raster: rededge (20240708 E166 M3M 30m MS 80 85_index_red_edge_red_edge.tif)\n",
      "2025-02-07 00:56:30,436 - INFO - ✅ Successfully processed: rededge\n",
      "2025-02-07 00:56:30,436 - INFO - ✅📌 Statistics saved to: D:\\PhenoCrop\\3_python\\V2\\E166\\20240708_E166_M3M_30m_MS_80_85_statistics.csv\n",
      "2025-02-07 00:56:30,553 - INFO - Processing project: E166, Flight: 20240718_E166_M3M_30m_MS_80_85_\n",
      "2025-02-07 00:56:30,553 - INFO - ⚙️ Generating NDVI Orthomosaic for: E166, Flight: 20240718_E166_M3M_30m_MS_80_85_\n"
     ]
    },
    {
     "name": "stdout",
     "output_type": "stream",
     "text": [
      "✅📌 Statistics saved to: D:\\PhenoCrop\\3_python\\V2\\E166\\20240708_E166_M3M_30m_MS_80_85_statistics.csv\n",
      "⏳ Total execution time: 26.22 seconds\n",
      "🧹 Cleared raster data from memory.\n",
      "🧹 Cleared shapefile data from memory.\n",
      "📁 Saved results to D:\\PhenoCrop\\3_python\\V2\\E166\\20240708_E166_M3M_30m_MS_80_85_statistics.csv\n",
      "\n",
      "🚀 Preparing raster processing for flight: 20240718 E166 M3M 30m MS 80 85\n",
      "✅ Matched geojson file: D:\\PhenoCrop\\3_qgis\\3_Extraction Polygons\\3. FINAL MASKS PYTHON\\24 E166_sorted_ID_corrected_coordinate_system_polygons_shrinked.geojson\n",
      "📌 Resized RGB Ortho exists: D:\\PhenoCrop\\2_pix4d_cleaned\\E166\\MS\\20240718 E166 M3M 30m MS 80 85\\2_Orthomosaics\\20240718 E166 M3M 30m MS 80 85_transparent_mosaic_group1_thumb.tif. Skipping downscaling.\n"
     ]
    },
    {
     "name": "stderr",
     "output_type": "stream",
     "text": [
      "2025-02-07 00:56:32,787 - INFO - ✅ Successfully generated NDVI GEOTIFF\n",
      "2025-02-07 00:56:32,787 - INFO - 🚀 Preparing raster processing for flight: 20240718_E166_M3M_30m_MS_80_85_\n",
      "2025-02-07 00:56:32,787 - INFO - ⚙️ Reading shapefile: 24 E166_sorted_ID_corrected_coordinate_system_polygons_shrinked.geojson\n",
      "2025-02-07 00:56:32,808 - INFO - ⚙️ Processing NDVI Stats\n",
      "2025-02-07 00:56:35,656 - INFO - ✅ Successfully processed: NDVI Stats\n",
      "2025-02-07 00:56:35,656 - INFO - ⚙️ Processing raster: green (20240718 E166 M3M 30m MS 80 85_index_green_green.tif)\n",
      "2025-02-07 00:56:40,154 - INFO - ✅ Successfully processed: green\n",
      "2025-02-07 00:56:40,154 - INFO - ⚙️ Processing raster: nir (20240718 E166 M3M 30m MS 80 85_index_nir_nir.tif)\n",
      "2025-02-07 00:56:44,621 - INFO - ✅ Successfully processed: nir\n",
      "2025-02-07 00:56:44,621 - INFO - ⚙️ Processing raster: red (20240718 E166 M3M 30m MS 80 85_index_red_red.tif)\n",
      "2025-02-07 00:56:49,079 - INFO - ✅ Successfully processed: red\n",
      "2025-02-07 00:56:49,080 - INFO - ⚙️ Processing raster: rededge (20240718 E166 M3M 30m MS 80 85_index_red_edge_red_edge.tif)\n",
      "2025-02-07 00:56:53,689 - INFO - ✅ Successfully processed: rededge\n",
      "2025-02-07 00:56:53,689 - INFO - ✅📌 Statistics saved to: D:\\PhenoCrop\\3_python\\V2\\E166\\20240718_E166_M3M_30m_MS_80_85_statistics.csv\n",
      "2025-02-07 00:56:53,806 - INFO - Processing project: E166, Flight: 20240724_E166_M3M_30m_MS_80_85_\n",
      "2025-02-07 00:56:53,806 - INFO - ⚙️ Generating NDVI Orthomosaic for: E166, Flight: 20240724_E166_M3M_30m_MS_80_85_\n"
     ]
    },
    {
     "name": "stdout",
     "output_type": "stream",
     "text": [
      "✅📌 Statistics saved to: D:\\PhenoCrop\\3_python\\V2\\E166\\20240718_E166_M3M_30m_MS_80_85_statistics.csv\n",
      "⏳ Total execution time: 23.14 seconds\n",
      "🧹 Cleared raster data from memory.\n",
      "🧹 Cleared shapefile data from memory.\n",
      "📁 Saved results to D:\\PhenoCrop\\3_python\\V2\\E166\\20240718_E166_M3M_30m_MS_80_85_statistics.csv\n",
      "\n",
      "🚀 Preparing raster processing for flight: 20240724 E166 M3M 30m MS 80 85\n",
      "✅ Matched geojson file: D:\\PhenoCrop\\3_qgis\\3_Extraction Polygons\\3. FINAL MASKS PYTHON\\24 E166_sorted_ID_corrected_coordinate_system_polygons_shrinked.geojson\n",
      "📌 Resized RGB Ortho exists: D:\\PhenoCrop\\2_pix4d_cleaned\\E166\\MS\\20240724 E166 M3M 30m MS 80 85\\2_Orthomosaics\\20240724 E166 M3M 30m MS 80 85_transparent_mosaic_group1_thumb.tif. Skipping downscaling.\n"
     ]
    },
    {
     "name": "stderr",
     "output_type": "stream",
     "text": [
      "2025-02-07 00:56:55,889 - INFO - ✅ Successfully generated NDVI GEOTIFF\n",
      "2025-02-07 00:56:55,889 - INFO - 🚀 Preparing raster processing for flight: 20240724_E166_M3M_30m_MS_80_85_\n",
      "2025-02-07 00:56:55,889 - INFO - ⚙️ Reading shapefile: 24 E166_sorted_ID_corrected_coordinate_system_polygons_shrinked.geojson\n",
      "2025-02-07 00:56:55,905 - INFO - ⚙️ Processing NDVI Stats\n",
      "2025-02-07 00:56:58,406 - INFO - ✅ Successfully processed: NDVI Stats\n",
      "2025-02-07 00:56:58,406 - INFO - ⚙️ Processing raster: green (20240724 E166 M3M 30m MS 80 85_index_green_green.tif)\n",
      "2025-02-07 00:57:02,456 - INFO - ✅ Successfully processed: green\n",
      "2025-02-07 00:57:02,456 - INFO - ⚙️ Processing raster: nir (20240724 E166 M3M 30m MS 80 85_index_nir_nir.tif)\n",
      "2025-02-07 00:57:06,400 - INFO - ✅ Successfully processed: nir\n",
      "2025-02-07 00:57:06,400 - INFO - ⚙️ Processing raster: red (20240724 E166 M3M 30m MS 80 85_index_red_red.tif)\n",
      "2025-02-07 00:57:10,390 - INFO - ✅ Successfully processed: red\n",
      "2025-02-07 00:57:10,390 - INFO - ⚙️ Processing raster: rededge (20240724 E166 M3M 30m MS 80 85_index_red_edge_red_edge.tif)\n",
      "2025-02-07 00:57:14,458 - INFO - ✅ Successfully processed: rededge\n",
      "2025-02-07 00:57:14,458 - INFO - ✅📌 Statistics saved to: D:\\PhenoCrop\\3_python\\V2\\E166\\20240724_E166_M3M_30m_MS_80_85_statistics.csv\n",
      "2025-02-07 00:57:14,577 - INFO - Processing project: E166, Flight: 20240730_E166_M3M_30m_MS_80_85_\n",
      "2025-02-07 00:57:14,577 - INFO - ⚙️ Generating NDVI Orthomosaic for: E166, Flight: 20240730_E166_M3M_30m_MS_80_85_\n"
     ]
    },
    {
     "name": "stdout",
     "output_type": "stream",
     "text": [
      "✅📌 Statistics saved to: D:\\PhenoCrop\\3_python\\V2\\E166\\20240724_E166_M3M_30m_MS_80_85_statistics.csv\n",
      "⏳ Total execution time: 20.65 seconds\n",
      "🧹 Cleared raster data from memory.\n",
      "🧹 Cleared shapefile data from memory.\n",
      "📁 Saved results to D:\\PhenoCrop\\3_python\\V2\\E166\\20240724_E166_M3M_30m_MS_80_85_statistics.csv\n",
      "\n",
      "🚀 Preparing raster processing for flight: 20240730 E166 M3M 30m MS 80 85\n",
      "✅ Matched geojson file: D:\\PhenoCrop\\3_qgis\\3_Extraction Polygons\\3. FINAL MASKS PYTHON\\24 E166_sorted_ID_corrected_coordinate_system_polygons_shrinked.geojson\n",
      "📌 Resized RGB Ortho exists: D:\\PhenoCrop\\2_pix4d_cleaned\\E166\\MS\\20240730 E166 M3M 30m MS 80 85\\2_Orthomosaics\\20240730 E166 M3M 30m MS 80 85_transparent_mosaic_group1_thumb.tif. Skipping downscaling.\n"
     ]
    },
    {
     "name": "stderr",
     "output_type": "stream",
     "text": [
      "2025-02-07 00:57:16,909 - INFO - ✅ Successfully generated NDVI GEOTIFF\n",
      "2025-02-07 00:57:16,909 - INFO - 🚀 Preparing raster processing for flight: 20240730_E166_M3M_30m_MS_80_85_\n",
      "2025-02-07 00:57:16,909 - INFO - ⚙️ Reading shapefile: 24 E166_sorted_ID_corrected_coordinate_system_polygons_shrinked.geojson\n",
      "2025-02-07 00:57:16,925 - INFO - ⚙️ Processing NDVI Stats\n",
      "2025-02-07 00:57:20,092 - INFO - ✅ Successfully processed: NDVI Stats\n",
      "2025-02-07 00:57:20,092 - INFO - ⚙️ Processing raster: green (20240730 E166 M3M 30m MS 80 85_index_green_green.tif)\n",
      "2025-02-07 00:57:25,093 - INFO - ✅ Successfully processed: green\n",
      "2025-02-07 00:57:25,093 - INFO - ⚙️ Processing raster: nir (20240730 E166 M3M 30m MS 80 85_index_nir_nir.tif)\n",
      "2025-02-07 00:57:29,942 - INFO - ✅ Successfully processed: nir\n",
      "2025-02-07 00:57:29,942 - INFO - ⚙️ Processing raster: red (20240730 E166 M3M 30m MS 80 85_index_red_red.tif)\n",
      "2025-02-07 00:57:34,898 - INFO - ✅ Successfully processed: red\n",
      "2025-02-07 00:57:34,898 - INFO - ⚙️ Processing raster: rededge (20240730 E166 M3M 30m MS 80 85_index_red_edge_red_edge.tif)\n",
      "2025-02-07 00:57:39,891 - INFO - ✅ Successfully processed: rededge\n",
      "2025-02-07 00:57:39,893 - INFO - ✅📌 Statistics saved to: D:\\PhenoCrop\\3_python\\V2\\E166\\20240730_E166_M3M_30m_MS_80_85_statistics.csv\n",
      "2025-02-07 00:57:39,993 - INFO - Processing project: E166, Flight: 20240806_E166_M3M_30m_MS_80_85_\n",
      "2025-02-07 00:57:39,993 - INFO - ⚙️ Generating NDVI Orthomosaic for: E166, Flight: 20240806_E166_M3M_30m_MS_80_85_\n"
     ]
    },
    {
     "name": "stdout",
     "output_type": "stream",
     "text": [
      "✅📌 Statistics saved to: D:\\PhenoCrop\\3_python\\V2\\E166\\20240730_E166_M3M_30m_MS_80_85_statistics.csv\n",
      "⏳ Total execution time: 25.32 seconds\n",
      "🧹 Cleared raster data from memory.\n",
      "🧹 Cleared shapefile data from memory.\n",
      "📁 Saved results to D:\\PhenoCrop\\3_python\\V2\\E166\\20240730_E166_M3M_30m_MS_80_85_statistics.csv\n",
      "\n",
      "🚀 Preparing raster processing for flight: 20240806 E166 M3M 30m MS 80 85\n",
      "✅ Matched geojson file: D:\\PhenoCrop\\3_qgis\\3_Extraction Polygons\\3. FINAL MASKS PYTHON\\24 E166_sorted_ID_corrected_coordinate_system_polygons_shrinked.geojson\n",
      "📌 Resized RGB Ortho exists: D:\\PhenoCrop\\2_pix4d_cleaned\\E166\\MS\\20240806 E166 M3M 30m MS 80 85\\2_Orthomosaics\\20240806 E166 M3M 30m MS 80 85_transparent_mosaic_group1_thumb.tif. Skipping downscaling.\n"
     ]
    },
    {
     "name": "stderr",
     "output_type": "stream",
     "text": [
      "2025-02-07 00:57:42,327 - INFO - ✅ Successfully generated NDVI GEOTIFF\n",
      "2025-02-07 00:57:42,327 - INFO - 🚀 Preparing raster processing for flight: 20240806_E166_M3M_30m_MS_80_85_\n",
      "2025-02-07 00:57:42,327 - INFO - ⚙️ Reading shapefile: 24 E166_sorted_ID_corrected_coordinate_system_polygons_shrinked.geojson\n",
      "2025-02-07 00:57:42,327 - INFO - ⚙️ Processing NDVI Stats\n",
      "2025-02-07 00:57:44,994 - INFO - ✅ Successfully processed: NDVI Stats\n",
      "2025-02-07 00:57:44,994 - INFO - ⚙️ Processing raster: green (20240806 E166 M3M 30m MS 80 85_index_green_green.tif)\n",
      "2025-02-07 00:57:49,347 - INFO - ✅ Successfully processed: green\n",
      "2025-02-07 00:57:49,347 - INFO - ⚙️ Processing raster: nir (20240806 E166 M3M 30m MS 80 85_index_nir_nir.tif)\n",
      "2025-02-07 00:57:53,595 - INFO - ✅ Successfully processed: nir\n",
      "2025-02-07 00:57:53,596 - INFO - ⚙️ Processing raster: red (20240806 E166 M3M 30m MS 80 85_index_red_red.tif)\n",
      "2025-02-07 00:57:57,843 - INFO - ✅ Successfully processed: red\n",
      "2025-02-07 00:57:57,843 - INFO - ⚙️ Processing raster: rededge (20240806 E166 M3M 30m MS 80 85_index_red_edge_red_edge.tif)\n",
      "2025-02-07 00:58:02,117 - INFO - ✅ Successfully processed: rededge\n",
      "2025-02-07 00:58:02,129 - INFO - ✅📌 Statistics saved to: D:\\PhenoCrop\\3_python\\V2\\E166\\20240806_E166_M3M_30m_MS_80_85_statistics.csv\n",
      "2025-02-07 00:58:02,230 - INFO - Processing project: E166, Flight: 20240812_E166_M3M_30m_MS_80_85_\n",
      "2025-02-07 00:58:02,230 - INFO - ⚙️ Generating NDVI Orthomosaic for: E166, Flight: 20240812_E166_M3M_30m_MS_80_85_\n"
     ]
    },
    {
     "name": "stdout",
     "output_type": "stream",
     "text": [
      "✅📌 Statistics saved to: D:\\PhenoCrop\\3_python\\V2\\E166\\20240806_E166_M3M_30m_MS_80_85_statistics.csv\n",
      "⏳ Total execution time: 22.14 seconds\n",
      "🧹 Cleared raster data from memory.\n",
      "🧹 Cleared shapefile data from memory.\n",
      "📁 Saved results to D:\\PhenoCrop\\3_python\\V2\\E166\\20240806_E166_M3M_30m_MS_80_85_statistics.csv\n",
      "\n",
      "🚀 Preparing raster processing for flight: 20240812 E166 M3M 30m MS 80 85\n",
      "✅ Matched geojson file: D:\\PhenoCrop\\3_qgis\\3_Extraction Polygons\\3. FINAL MASKS PYTHON\\24 E166_sorted_ID_corrected_coordinate_system_polygons_shrinked.geojson\n",
      "📌 Resized RGB Ortho exists: D:\\PhenoCrop\\2_pix4d_cleaned\\E166\\MS\\20240812 E166 M3M 30m MS 80 85\\2_Orthomosaics\\20240812 E166 M3M 30m MS 80 85_transparent_mosaic_group1_thumb.tif. Skipping downscaling.\n"
     ]
    },
    {
     "name": "stderr",
     "output_type": "stream",
     "text": [
      "2025-02-07 00:58:04,579 - INFO - ✅ Successfully generated NDVI GEOTIFF\n",
      "2025-02-07 00:58:04,579 - INFO - 🚀 Preparing raster processing for flight: 20240812_E166_M3M_30m_MS_80_85_\n",
      "2025-02-07 00:58:04,579 - INFO - ⚙️ Reading shapefile: 24 E166_sorted_ID_corrected_coordinate_system_polygons_shrinked.geojson\n",
      "2025-02-07 00:58:04,595 - INFO - ⚙️ Processing NDVI Stats\n",
      "2025-02-07 00:58:07,408 - INFO - ✅ Successfully processed: NDVI Stats\n",
      "2025-02-07 00:58:07,409 - INFO - ⚙️ Processing raster: green (20240812 E166 M3M 30m MS 80 85_index_green_green.tif)\n",
      "2025-02-07 00:58:12,006 - INFO - ✅ Successfully processed: green\n",
      "2025-02-07 00:58:12,012 - INFO - ⚙️ Processing raster: nir (20240812 E166 M3M 30m MS 80 85_index_nir_nir.tif)\n",
      "2025-02-07 00:58:16,473 - INFO - ✅ Successfully processed: nir\n",
      "2025-02-07 00:58:16,479 - INFO - ⚙️ Processing raster: red (20240812 E166 M3M 30m MS 80 85_index_red_red.tif)\n",
      "2025-02-07 00:58:21,015 - INFO - ✅ Successfully processed: red\n",
      "2025-02-07 00:58:21,023 - INFO - ⚙️ Processing raster: rededge (20240812 E166 M3M 30m MS 80 85_index_red_edge_red_edge.tif)\n",
      "2025-02-07 00:58:25,564 - INFO - ✅ Successfully processed: rededge\n",
      "2025-02-07 00:58:25,564 - INFO - ✅📌 Statistics saved to: D:\\PhenoCrop\\3_python\\V2\\E166\\20240812_E166_M3M_30m_MS_80_85_statistics.csv\n",
      "2025-02-07 00:58:25,681 - INFO - Processing project: PRO_BAR_VOLL, Flight: 20240531_PRO_BAR_VOLL_M3M_30m_MS_80_85_\n",
      "2025-02-07 00:58:25,681 - INFO - ⚙️ Generating NDVI Orthomosaic for: PRO_BAR_VOLL, Flight: 20240531_PRO_BAR_VOLL_M3M_30m_MS_80_85_\n"
     ]
    },
    {
     "name": "stdout",
     "output_type": "stream",
     "text": [
      "✅📌 Statistics saved to: D:\\PhenoCrop\\3_python\\V2\\E166\\20240812_E166_M3M_30m_MS_80_85_statistics.csv\n",
      "⏳ Total execution time: 23.33 seconds\n",
      "🧹 Cleared raster data from memory.\n",
      "🧹 Cleared shapefile data from memory.\n",
      "📁 Saved results to D:\\PhenoCrop\\3_python\\V2\\E166\\20240812_E166_M3M_30m_MS_80_85_statistics.csv\n",
      "⏳ Execution time of prepare_and_run_raster_processing: 220.136791 seconds\n",
      "\n",
      "🚀 Processing Project: PRO_BAR_VOLL | Flight Type: MS\n",
      "Fetching file lists for project: PRO_BAR_VOLL, flight type: MS\n",
      "⏳ Execution time of check_data_completeness: 0.000166 seconds\n",
      "\n",
      "✅ COMPLETENESS STATUS:\n",
      "20240531 PRO_BAR_VOLL M3M 30m MS 80 85: ✅ Complete\n",
      "20240607 PRO_BAR_VOLL M3M 30m MS 80 85: ❌ Incomplete\n",
      "20240611 PRO_BAR_VOLL M3M 30m MS 80 85: ✅ Complete\n",
      "20240612 PRO_BAR_VOLL M3M 20m MS 80 85: ✅ Complete\n",
      "20240620 PRO_BAR_VOLL M3M 30m MS 80 85: ✅ Complete\n",
      "20240621 PRO_BAR_VOLL M3M 30m MS 80 85: ✅ Complete\n",
      "20240624 PRO_BAR_VOLL M3M 30m MS 80 85: ✅ Complete\n",
      "20240703 PRO_BAR_VOLL M3M 20m MS 80 85: ✅ Complete\n",
      "20240703 PRO_BAR_VOLL M3M 30m MS 80 85: ✅ Complete\n",
      "20240708 PRO_BAR_VOLL M3M 20m MS 80 85: ✅ Complete\n",
      "20240718 PRO_BAR_VOLL M3M 30m MS 80 85: ✅ Complete\n",
      "20240724 PRO_BAR_VOLL M3M 30m MS 80 85: ✅ Complete\n",
      "20240730 PRO_BAR_VOLL M3M 30m MS 80 85: ✅ Complete\n",
      "20240806 PRO_BAR_VOLL M3M 30m MS 80 85: ✅ Complete\n",
      "20240812 PRO_BAR_VOLL M3M 30m MS 80 85: ❌ Incomplete\n",
      "\n",
      "❌ MISSING FILES REPORT:\n",
      "20240607 PRO_BAR_VOLL M3M 30m MS 80 85 is missing: _transparent_mosaic_group1.tif\n",
      "20240812 PRO_BAR_VOLL M3M 30m MS 80 85 is missing: _transparent_mosaic_group1.tif\n",
      "\n",
      "🚀 Preparing raster processing for flight: 20240531 PRO_BAR_VOLL M3M 30m MS 80 85\n",
      "✅ Matched geojson file: D:\\PhenoCrop\\3_qgis\\3_Extraction Polygons\\3. FINAL MASKS PYTHON\\24 PRO_BAR_VOLL Full Field ProteinBar Vollebekk 20 sorter + NAPE 7m_sorted_ID_polygons_shrinked.geojson\n",
      "📌 Resized RGB Ortho exists: D:\\PhenoCrop\\2_pix4d_cleaned\\PRO_BAR_VOLL\\MS\\20240531 PRO_BAR_VOLL M3M 30m MS 80 85\\2_Orthomosaics\\20240531 PRO_BAR_VOLL M3M 30m MS 80 85_transparent_mosaic_group1_thumb.tif. Skipping downscaling.\n"
     ]
    },
    {
     "name": "stderr",
     "output_type": "stream",
     "text": [
      "2025-02-07 00:58:32,614 - INFO - ✅ Successfully generated NDVI GEOTIFF\n",
      "2025-02-07 00:58:32,616 - INFO - 🚀 Preparing raster processing for flight: 20240531_PRO_BAR_VOLL_M3M_30m_MS_80_85_\n",
      "2025-02-07 00:58:32,616 - INFO - ⚙️ Reading shapefile: 24 PRO_BAR_VOLL Full Field ProteinBar Vollebekk 20 sorter + NAPE 7m_sorted_ID_polygons_shrinked.geojson\n",
      "2025-02-07 00:58:32,635 - INFO - ⚙️ Processing NDVI Stats\n",
      "2025-02-07 00:58:44,049 - INFO - ✅ Successfully processed: NDVI Stats\n",
      "2025-02-07 00:58:44,049 - INFO - ⚙️ Processing raster: green (20240531 PRO_BAR_VOLL M3M 30m MS 80 85_index_green_green.tif)\n",
      "2025-02-07 00:59:04,085 - INFO - ✅ Successfully processed: green\n",
      "2025-02-07 00:59:04,085 - INFO - ⚙️ Processing raster: nir (20240531 PRO_BAR_VOLL M3M 30m MS 80 85_index_nir_nir.tif)\n",
      "2025-02-07 00:59:23,520 - INFO - ✅ Successfully processed: nir\n",
      "2025-02-07 00:59:23,520 - INFO - ⚙️ Processing raster: red (20240531 PRO_BAR_VOLL M3M 30m MS 80 85_index_red_red.tif)\n",
      "2025-02-07 00:59:42,988 - INFO - ✅ Successfully processed: red\n",
      "2025-02-07 00:59:42,988 - INFO - ⚙️ Processing raster: rededge (20240531 PRO_BAR_VOLL M3M 30m MS 80 85_index_red_edge_red_edge.tif)\n",
      "2025-02-07 01:00:02,607 - INFO - ✅ Successfully processed: rededge\n",
      "2025-02-07 01:00:02,626 - INFO - ✅📌 Statistics saved to: D:\\PhenoCrop\\3_python\\V2\\PRO_BAR_VOLL\\20240531_PRO_BAR_VOLL_M3M_30m_MS_80_85_statistics.csv\n",
      "2025-02-07 01:00:02,757 - INFO - Processing project: PRO_BAR_VOLL, Flight: 20240611_PRO_BAR_VOLL_M3M_30m_MS_80_85_\n",
      "2025-02-07 01:00:02,757 - INFO - ⚙️ Generating NDVI Orthomosaic for: PRO_BAR_VOLL, Flight: 20240611_PRO_BAR_VOLL_M3M_30m_MS_80_85_\n"
     ]
    },
    {
     "name": "stdout",
     "output_type": "stream",
     "text": [
      "✅📌 Statistics saved to: D:\\PhenoCrop\\3_python\\V2\\PRO_BAR_VOLL\\20240531_PRO_BAR_VOLL_M3M_30m_MS_80_85_statistics.csv\n",
      "⏳ Total execution time: 96.95 seconds\n",
      "🧹 Cleared raster data from memory.\n",
      "🧹 Cleared shapefile data from memory.\n",
      "📁 Saved results to D:\\PhenoCrop\\3_python\\V2\\PRO_BAR_VOLL\\20240531_PRO_BAR_VOLL_M3M_30m_MS_80_85_statistics.csv\n",
      "\n",
      "🚀 Preparing raster processing for flight: 20240611 PRO_BAR_VOLL M3M 30m MS 80 85\n",
      "✅ Matched geojson file: D:\\PhenoCrop\\3_qgis\\3_Extraction Polygons\\3. FINAL MASKS PYTHON\\24 PRO_BAR_VOLL Full Field ProteinBar Vollebekk 20 sorter + NAPE 7m_sorted_ID_polygons_shrinked.geojson\n",
      "📌 Resized RGB Ortho exists: D:\\PhenoCrop\\2_pix4d_cleaned\\PRO_BAR_VOLL\\MS\\20240611 PRO_BAR_VOLL M3M 30m MS 80 85\\2_Orthomosaics\\20240611 PRO_BAR_VOLL M3M 30m MS 80 85_transparent_mosaic_group1_thumb.tif. Skipping downscaling.\n"
     ]
    },
    {
     "name": "stderr",
     "output_type": "stream",
     "text": [
      "2025-02-07 01:00:06,824 - INFO - ✅ Successfully generated NDVI GEOTIFF\n",
      "2025-02-07 01:00:06,824 - INFO - 🚀 Preparing raster processing for flight: 20240611_PRO_BAR_VOLL_M3M_30m_MS_80_85_\n",
      "2025-02-07 01:00:06,824 - INFO - ⚙️ Reading shapefile: 24 PRO_BAR_VOLL Full Field ProteinBar Vollebekk 20 sorter + NAPE 7m_sorted_ID_polygons_shrinked.geojson\n",
      "2025-02-07 01:00:06,841 - INFO - ⚙️ Processing NDVI Stats\n",
      "2025-02-07 01:00:12,458 - INFO - ✅ Successfully processed: NDVI Stats\n",
      "2025-02-07 01:00:12,458 - INFO - ⚙️ Processing raster: green (20240611 PRO_BAR_VOLL M3M 30m MS 80 85_index_green_green.tif)\n",
      "2025-02-07 01:00:22,942 - INFO - ✅ Successfully processed: green\n",
      "2025-02-07 01:00:22,942 - INFO - ⚙️ Processing raster: nir (20240611 PRO_BAR_VOLL M3M 30m MS 80 85_index_nir_nir.tif)\n",
      "2025-02-07 01:00:33,110 - INFO - ✅ Successfully processed: nir\n",
      "2025-02-07 01:00:33,126 - INFO - ⚙️ Processing raster: red (20240611 PRO_BAR_VOLL M3M 30m MS 80 85_index_red_red.tif)\n",
      "2025-02-07 01:00:43,511 - INFO - ✅ Successfully processed: red\n",
      "2025-02-07 01:00:43,511 - INFO - ⚙️ Processing raster: rededge (20240611 PRO_BAR_VOLL M3M 30m MS 80 85_index_red_edge_red_edge.tif)\n",
      "2025-02-07 01:00:54,045 - INFO - ✅ Successfully processed: rededge\n",
      "2025-02-07 01:00:54,064 - INFO - ✅📌 Statistics saved to: D:\\PhenoCrop\\3_python\\V2\\PRO_BAR_VOLL\\20240611_PRO_BAR_VOLL_M3M_30m_MS_80_85_statistics.csv\n",
      "2025-02-07 01:00:54,179 - INFO - Processing project: PRO_BAR_VOLL, Flight: 20240612_PRO_BAR_VOLL_M3M_20m_MS_80_85_\n",
      "2025-02-07 01:00:54,179 - INFO - ⚙️ Generating NDVI Orthomosaic for: PRO_BAR_VOLL, Flight: 20240612_PRO_BAR_VOLL_M3M_20m_MS_80_85_\n"
     ]
    },
    {
     "name": "stdout",
     "output_type": "stream",
     "text": [
      "✅📌 Statistics saved to: D:\\PhenoCrop\\3_python\\V2\\PRO_BAR_VOLL\\20240611_PRO_BAR_VOLL_M3M_30m_MS_80_85_statistics.csv\n",
      "⏳ Total execution time: 51.31 seconds\n",
      "🧹 Cleared raster data from memory.\n",
      "🧹 Cleared shapefile data from memory.\n",
      "📁 Saved results to D:\\PhenoCrop\\3_python\\V2\\PRO_BAR_VOLL\\20240611_PRO_BAR_VOLL_M3M_30m_MS_80_85_statistics.csv\n",
      "\n",
      "🚀 Preparing raster processing for flight: 20240612 PRO_BAR_VOLL M3M 20m MS 80 85\n",
      "✅ Matched geojson file: D:\\PhenoCrop\\3_qgis\\3_Extraction Polygons\\3. FINAL MASKS PYTHON\\24 PRO_BAR_VOLL Full Field ProteinBar Vollebekk 20 sorter + NAPE 7m_sorted_ID_polygons_shrinked.geojson\n",
      "📌 Resized RGB Ortho exists: D:\\PhenoCrop\\2_pix4d_cleaned\\PRO_BAR_VOLL\\MS\\20240612 PRO_BAR_VOLL M3M 20m MS 80 85\\2_Orthomosaics\\20240612 PRO_BAR_VOLL M3M 20m MS 80 85_transparent_mosaic_group1_thumb.tif. Skipping downscaling.\n"
     ]
    },
    {
     "name": "stderr",
     "output_type": "stream",
     "text": [
      "2025-02-07 01:01:01,702 - INFO - ✅ Successfully generated NDVI GEOTIFF\n",
      "2025-02-07 01:01:01,703 - INFO - 🚀 Preparing raster processing for flight: 20240612_PRO_BAR_VOLL_M3M_20m_MS_80_85_\n",
      "2025-02-07 01:01:01,703 - INFO - ⚙️ Reading shapefile: 24 PRO_BAR_VOLL Full Field ProteinBar Vollebekk 20 sorter + NAPE 7m_sorted_ID_polygons_shrinked.geojson\n",
      "2025-02-07 01:01:01,712 - INFO - ⚙️ Processing NDVI Stats\n",
      "2025-02-07 01:01:14,199 - INFO - ✅ Successfully processed: NDVI Stats\n",
      "2025-02-07 01:01:14,199 - INFO - ⚙️ Processing raster: green (20240612 PRO_BAR_VOLL M3M 20m MS 80 85_index_green_green.tif)\n",
      "2025-02-07 01:01:35,825 - INFO - ✅ Successfully processed: green\n",
      "2025-02-07 01:01:35,826 - INFO - ⚙️ Processing raster: nir (20240612 PRO_BAR_VOLL M3M 20m MS 80 85_index_nir_nir.tif)\n",
      "2025-02-07 01:01:57,130 - INFO - ✅ Successfully processed: nir\n",
      "2025-02-07 01:01:57,130 - INFO - ⚙️ Processing raster: red (20240612 PRO_BAR_VOLL M3M 20m MS 80 85_index_red_red.tif)\n",
      "2025-02-07 01:02:20,797 - INFO - ✅ Successfully processed: red\n",
      "2025-02-07 01:02:20,798 - INFO - ⚙️ Processing raster: rededge (20240612 PRO_BAR_VOLL M3M 20m MS 80 85_index_red_edge_red_edge.tif)\n",
      "2025-02-07 01:02:43,574 - INFO - ✅ Successfully processed: rededge\n",
      "2025-02-07 01:02:43,597 - INFO - ✅📌 Statistics saved to: D:\\PhenoCrop\\3_python\\V2\\PRO_BAR_VOLL\\20240612_PRO_BAR_VOLL_M3M_20m_MS_80_85_statistics.csv\n",
      "2025-02-07 01:02:43,746 - INFO - Processing project: PRO_BAR_VOLL, Flight: 20240620_PRO_BAR_VOLL_M3M_30m_MS_80_85_\n",
      "2025-02-07 01:02:43,746 - INFO - ⚙️ Generating NDVI Orthomosaic for: PRO_BAR_VOLL, Flight: 20240620_PRO_BAR_VOLL_M3M_30m_MS_80_85_\n"
     ]
    },
    {
     "name": "stdout",
     "output_type": "stream",
     "text": [
      "✅📌 Statistics saved to: D:\\PhenoCrop\\3_python\\V2\\PRO_BAR_VOLL\\20240612_PRO_BAR_VOLL_M3M_20m_MS_80_85_statistics.csv\n",
      "⏳ Total execution time: 109.42 seconds\n",
      "🧹 Cleared raster data from memory.\n",
      "🧹 Cleared shapefile data from memory.\n",
      "📁 Saved results to D:\\PhenoCrop\\3_python\\V2\\PRO_BAR_VOLL\\20240612_PRO_BAR_VOLL_M3M_20m_MS_80_85_statistics.csv\n",
      "\n",
      "🚀 Preparing raster processing for flight: 20240620 PRO_BAR_VOLL M3M 30m MS 80 85\n",
      "✅ Matched geojson file: D:\\PhenoCrop\\3_qgis\\3_Extraction Polygons\\3. FINAL MASKS PYTHON\\24 PRO_BAR_VOLL Full Field ProteinBar Vollebekk 20 sorter + NAPE 7m_sorted_ID_polygons_shrinked.geojson\n",
      "📌 Resized RGB Ortho exists: D:\\PhenoCrop\\2_pix4d_cleaned\\PRO_BAR_VOLL\\MS\\20240620 PRO_BAR_VOLL M3M 30m MS 80 85\\2_Orthomosaics\\20240620 PRO_BAR_VOLL M3M 30m MS 80 85_transparent_mosaic_group1_thumb.tif. Skipping downscaling.\n"
     ]
    },
    {
     "name": "stderr",
     "output_type": "stream",
     "text": [
      "2025-02-07 01:02:49,285 - INFO - ✅ Successfully generated NDVI GEOTIFF\n",
      "2025-02-07 01:02:49,285 - INFO - 🚀 Preparing raster processing for flight: 20240620_PRO_BAR_VOLL_M3M_30m_MS_80_85_\n",
      "2025-02-07 01:02:49,286 - INFO - ⚙️ Reading shapefile: 24 PRO_BAR_VOLL Full Field ProteinBar Vollebekk 20 sorter + NAPE 7m_sorted_ID_polygons_shrinked.geojson\n",
      "2025-02-07 01:02:49,320 - INFO - ⚙️ Processing NDVI Stats\n",
      "2025-02-07 01:02:55,900 - INFO - ✅ Successfully processed: NDVI Stats\n",
      "2025-02-07 01:02:55,900 - INFO - ⚙️ Processing raster: green (20240620 PRO_BAR_VOLL M3M 30m MS 80 85_index_green_green.tif)\n",
      "2025-02-07 01:03:07,839 - INFO - ✅ Successfully processed: green\n",
      "2025-02-07 01:03:07,840 - INFO - ⚙️ Processing raster: nir (20240620 PRO_BAR_VOLL M3M 30m MS 80 85_index_nir_nir.tif)\n",
      "2025-02-07 01:03:19,423 - INFO - ✅ Successfully processed: nir\n",
      "2025-02-07 01:03:19,424 - INFO - ⚙️ Processing raster: red (20240620 PRO_BAR_VOLL M3M 30m MS 80 85_index_red_red.tif)\n",
      "2025-02-07 01:03:31,271 - INFO - ✅ Successfully processed: red\n",
      "2025-02-07 01:03:31,272 - INFO - ⚙️ Processing raster: rededge (20240620 PRO_BAR_VOLL M3M 30m MS 80 85_index_red_edge_red_edge.tif)\n",
      "2025-02-07 01:03:42,985 - INFO - ✅ Successfully processed: rededge\n",
      "2025-02-07 01:03:43,009 - INFO - ✅📌 Statistics saved to: D:\\PhenoCrop\\3_python\\V2\\PRO_BAR_VOLL\\20240620_PRO_BAR_VOLL_M3M_30m_MS_80_85_statistics.csv\n",
      "2025-02-07 01:03:43,139 - INFO - Processing project: PRO_BAR_VOLL, Flight: 20240621_PRO_BAR_VOLL_M3M_30m_MS_80_85_\n",
      "2025-02-07 01:03:43,139 - INFO - ⚙️ Generating NDVI Orthomosaic for: PRO_BAR_VOLL, Flight: 20240621_PRO_BAR_VOLL_M3M_30m_MS_80_85_\n"
     ]
    },
    {
     "name": "stdout",
     "output_type": "stream",
     "text": [
      "✅📌 Statistics saved to: D:\\PhenoCrop\\3_python\\V2\\PRO_BAR_VOLL\\20240620_PRO_BAR_VOLL_M3M_30m_MS_80_85_statistics.csv\n",
      "⏳ Total execution time: 59.26 seconds\n",
      "🧹 Cleared raster data from memory.\n",
      "🧹 Cleared shapefile data from memory.\n",
      "📁 Saved results to D:\\PhenoCrop\\3_python\\V2\\PRO_BAR_VOLL\\20240620_PRO_BAR_VOLL_M3M_30m_MS_80_85_statistics.csv\n",
      "\n",
      "🚀 Preparing raster processing for flight: 20240621 PRO_BAR_VOLL M3M 30m MS 80 85\n",
      "✅ Matched geojson file: D:\\PhenoCrop\\3_qgis\\3_Extraction Polygons\\3. FINAL MASKS PYTHON\\24 PRO_BAR_VOLL Full Field ProteinBar Vollebekk 20 sorter + NAPE 7m_sorted_ID_polygons_shrinked.geojson\n",
      "📌 Resized RGB Ortho exists: D:\\PhenoCrop\\2_pix4d_cleaned\\PRO_BAR_VOLL\\MS\\20240621 PRO_BAR_VOLL M3M 30m MS 80 85\\2_Orthomosaics\\20240621 PRO_BAR_VOLL M3M 30m MS 80 85_transparent_mosaic_group1_thumb.tif. Skipping downscaling.\n"
     ]
    },
    {
     "name": "stderr",
     "output_type": "stream",
     "text": [
      "2025-02-07 01:03:47,709 - INFO - ✅ Successfully generated NDVI GEOTIFF\n",
      "2025-02-07 01:03:47,710 - INFO - 🚀 Preparing raster processing for flight: 20240621_PRO_BAR_VOLL_M3M_30m_MS_80_85_\n",
      "2025-02-07 01:03:47,710 - INFO - ⚙️ Reading shapefile: 24 PRO_BAR_VOLL Full Field ProteinBar Vollebekk 20 sorter + NAPE 7m_sorted_ID_polygons_shrinked.geojson\n",
      "2025-02-07 01:03:47,722 - INFO - ⚙️ Processing NDVI Stats\n",
      "2025-02-07 01:03:53,366 - INFO - ✅ Successfully processed: NDVI Stats\n",
      "2025-02-07 01:03:53,367 - INFO - ⚙️ Processing raster: green (20240621 PRO_BAR_VOLL M3M 30m MS 80 85_index_green_green.tif)\n",
      "2025-02-07 01:04:04,153 - INFO - ✅ Successfully processed: green\n",
      "2025-02-07 01:04:04,154 - INFO - ⚙️ Processing raster: nir (20240621 PRO_BAR_VOLL M3M 30m MS 80 85_index_nir_nir.tif)\n",
      "2025-02-07 01:04:14,549 - INFO - ✅ Successfully processed: nir\n",
      "2025-02-07 01:04:14,551 - INFO - ⚙️ Processing raster: red (20240621 PRO_BAR_VOLL M3M 30m MS 80 85_index_red_red.tif)\n",
      "2025-02-07 01:04:25,228 - INFO - ✅ Successfully processed: red\n",
      "2025-02-07 01:04:25,229 - INFO - ⚙️ Processing raster: rededge (20240621 PRO_BAR_VOLL M3M 30m MS 80 85_index_red_edge_red_edge.tif)\n",
      "2025-02-07 01:04:35,832 - INFO - ✅ Successfully processed: rededge\n",
      "2025-02-07 01:04:35,853 - INFO - ✅📌 Statistics saved to: D:\\PhenoCrop\\3_python\\V2\\PRO_BAR_VOLL\\20240621_PRO_BAR_VOLL_M3M_30m_MS_80_85_statistics.csv\n",
      "2025-02-07 01:04:35,981 - INFO - Processing project: PRO_BAR_VOLL, Flight: 20240624_PRO_BAR_VOLL_M3M_30m_MS_80_85_\n",
      "2025-02-07 01:04:35,982 - INFO - ⚙️ Generating NDVI Orthomosaic for: PRO_BAR_VOLL, Flight: 20240624_PRO_BAR_VOLL_M3M_30m_MS_80_85_\n"
     ]
    },
    {
     "name": "stdout",
     "output_type": "stream",
     "text": [
      "✅📌 Statistics saved to: D:\\PhenoCrop\\3_python\\V2\\PRO_BAR_VOLL\\20240621_PRO_BAR_VOLL_M3M_30m_MS_80_85_statistics.csv\n",
      "⏳ Total execution time: 52.71 seconds\n",
      "🧹 Cleared raster data from memory.\n",
      "🧹 Cleared shapefile data from memory.\n",
      "📁 Saved results to D:\\PhenoCrop\\3_python\\V2\\PRO_BAR_VOLL\\20240621_PRO_BAR_VOLL_M3M_30m_MS_80_85_statistics.csv\n",
      "\n",
      "🚀 Preparing raster processing for flight: 20240624 PRO_BAR_VOLL M3M 30m MS 80 85\n",
      "✅ Matched geojson file: D:\\PhenoCrop\\3_qgis\\3_Extraction Polygons\\3. FINAL MASKS PYTHON\\24 PRO_BAR_VOLL Full Field ProteinBar Vollebekk 20 sorter + NAPE 7m_sorted_ID_polygons_shrinked.geojson\n",
      "📌 Resized RGB Ortho exists: D:\\PhenoCrop\\2_pix4d_cleaned\\PRO_BAR_VOLL\\MS\\20240624 PRO_BAR_VOLL M3M 30m MS 80 85\\2_Orthomosaics\\20240624 PRO_BAR_VOLL M3M 30m MS 80 85_transparent_mosaic_group1_thumb.tif. Skipping downscaling.\n"
     ]
    },
    {
     "name": "stderr",
     "output_type": "stream",
     "text": [
      "2025-02-07 01:04:41,174 - INFO - ✅ Successfully generated NDVI GEOTIFF\n",
      "2025-02-07 01:04:41,175 - INFO - 🚀 Preparing raster processing for flight: 20240624_PRO_BAR_VOLL_M3M_30m_MS_80_85_\n",
      "2025-02-07 01:04:41,175 - INFO - ⚙️ Reading shapefile: 24 PRO_BAR_VOLL Full Field ProteinBar Vollebekk 20 sorter + NAPE 7m_sorted_ID_polygons_shrinked.geojson\n",
      "2025-02-07 01:04:41,189 - INFO - ⚙️ Processing NDVI Stats\n",
      "2025-02-07 01:04:47,447 - INFO - ✅ Successfully processed: NDVI Stats\n",
      "2025-02-07 01:04:47,447 - INFO - ⚙️ Processing raster: green (20240624 PRO_BAR_VOLL M3M 30m MS 80 85_index_green_green.tif)\n",
      "2025-02-07 01:04:58,782 - INFO - ✅ Successfully processed: green\n",
      "2025-02-07 01:04:58,783 - INFO - ⚙️ Processing raster: nir (20240624 PRO_BAR_VOLL M3M 30m MS 80 85_index_nir_nir.tif)\n",
      "2025-02-07 01:05:09,736 - INFO - ✅ Successfully processed: nir\n",
      "2025-02-07 01:05:09,736 - INFO - ⚙️ Processing raster: red (20240624 PRO_BAR_VOLL M3M 30m MS 80 85_index_red_red.tif)\n",
      "2025-02-07 01:05:20,994 - INFO - ✅ Successfully processed: red\n",
      "2025-02-07 01:05:20,994 - INFO - ⚙️ Processing raster: rededge (20240624 PRO_BAR_VOLL M3M 30m MS 80 85_index_red_edge_red_edge.tif)\n",
      "2025-02-07 01:05:32,317 - INFO - ✅ Successfully processed: rededge\n",
      "2025-02-07 01:05:32,352 - INFO - ✅📌 Statistics saved to: D:\\PhenoCrop\\3_python\\V2\\PRO_BAR_VOLL\\20240624_PRO_BAR_VOLL_M3M_30m_MS_80_85_statistics.csv\n",
      "2025-02-07 01:05:32,482 - INFO - Processing project: PRO_BAR_VOLL, Flight: 20240703_PRO_BAR_VOLL_M3M_20m_MS_80_85_\n",
      "2025-02-07 01:05:32,483 - INFO - ⚙️ Generating NDVI Orthomosaic for: PRO_BAR_VOLL, Flight: 20240703_PRO_BAR_VOLL_M3M_20m_MS_80_85_\n"
     ]
    },
    {
     "name": "stdout",
     "output_type": "stream",
     "text": [
      "✅📌 Statistics saved to: D:\\PhenoCrop\\3_python\\V2\\PRO_BAR_VOLL\\20240624_PRO_BAR_VOLL_M3M_30m_MS_80_85_statistics.csv\n",
      "⏳ Total execution time: 56.37 seconds\n",
      "🧹 Cleared raster data from memory.\n",
      "🧹 Cleared shapefile data from memory.\n",
      "📁 Saved results to D:\\PhenoCrop\\3_python\\V2\\PRO_BAR_VOLL\\20240624_PRO_BAR_VOLL_M3M_30m_MS_80_85_statistics.csv\n",
      "\n",
      "🚀 Preparing raster processing for flight: 20240703 PRO_BAR_VOLL M3M 20m MS 80 85\n",
      "✅ Matched geojson file: D:\\PhenoCrop\\3_qgis\\3_Extraction Polygons\\3. FINAL MASKS PYTHON\\24 PRO_BAR_VOLL Full Field ProteinBar Vollebekk 20 sorter + NAPE 7m_sorted_ID_polygons_shrinked.geojson\n",
      "📌 Resized RGB Ortho exists: D:\\PhenoCrop\\2_pix4d_cleaned\\PRO_BAR_VOLL\\MS\\20240703 PRO_BAR_VOLL M3M 20m MS 80 85\\2_Orthomosaics\\20240703 PRO_BAR_VOLL M3M 20m MS 80 85_transparent_mosaic_group1_thumb.tif. Skipping downscaling.\n"
     ]
    },
    {
     "name": "stderr",
     "output_type": "stream",
     "text": [
      "2025-02-07 01:05:42,560 - INFO - ✅ Successfully generated NDVI GEOTIFF\n",
      "2025-02-07 01:05:42,562 - INFO - 🚀 Preparing raster processing for flight: 20240703_PRO_BAR_VOLL_M3M_20m_MS_80_85_\n",
      "2025-02-07 01:05:42,563 - INFO - ⚙️ Reading shapefile: 24 PRO_BAR_VOLL Full Field ProteinBar Vollebekk 20 sorter + NAPE 7m_sorted_ID_polygons_shrinked.geojson\n",
      "2025-02-07 01:05:42,575 - INFO - ⚙️ Processing NDVI Stats\n",
      "2025-02-07 01:05:55,360 - INFO - ✅ Successfully processed: NDVI Stats\n",
      "2025-02-07 01:05:55,361 - INFO - ⚙️ Processing raster: green (20240703 PRO_BAR_VOLL M3M 20m MS 80 85_index_green_green.tif)\n",
      "2025-02-07 01:06:17,720 - INFO - ✅ Successfully processed: green\n",
      "2025-02-07 01:06:17,721 - INFO - ⚙️ Processing raster: nir (20240703 PRO_BAR_VOLL M3M 20m MS 80 85_index_nir_nir.tif)\n",
      "2025-02-07 01:06:39,522 - INFO - ✅ Successfully processed: nir\n",
      "2025-02-07 01:06:39,523 - INFO - ⚙️ Processing raster: red (20240703 PRO_BAR_VOLL M3M 20m MS 80 85_index_red_red.tif)\n",
      "2025-02-07 01:07:01,547 - INFO - ✅ Successfully processed: red\n",
      "2025-02-07 01:07:01,548 - INFO - ⚙️ Processing raster: rededge (20240703 PRO_BAR_VOLL M3M 20m MS 80 85_index_red_edge_red_edge.tif)\n",
      "2025-02-07 01:07:23,785 - INFO - ✅ Successfully processed: rededge\n",
      "2025-02-07 01:07:23,806 - INFO - ✅📌 Statistics saved to: D:\\PhenoCrop\\3_python\\V2\\PRO_BAR_VOLL\\20240703_PRO_BAR_VOLL_M3M_20m_MS_80_85_statistics.csv\n",
      "2025-02-07 01:07:23,973 - INFO - Processing project: PRO_BAR_VOLL, Flight: 20240703_PRO_BAR_VOLL_M3M_30m_MS_80_85_\n",
      "2025-02-07 01:07:23,974 - INFO - ⚙️ Generating NDVI Orthomosaic for: PRO_BAR_VOLL, Flight: 20240703_PRO_BAR_VOLL_M3M_30m_MS_80_85_\n"
     ]
    },
    {
     "name": "stdout",
     "output_type": "stream",
     "text": [
      "✅📌 Statistics saved to: D:\\PhenoCrop\\3_python\\V2\\PRO_BAR_VOLL\\20240703_PRO_BAR_VOLL_M3M_20m_MS_80_85_statistics.csv\n",
      "⏳ Total execution time: 111.33 seconds\n",
      "🧹 Cleared raster data from memory.\n",
      "🧹 Cleared shapefile data from memory.\n",
      "📁 Saved results to D:\\PhenoCrop\\3_python\\V2\\PRO_BAR_VOLL\\20240703_PRO_BAR_VOLL_M3M_20m_MS_80_85_statistics.csv\n",
      "\n",
      "🚀 Preparing raster processing for flight: 20240703 PRO_BAR_VOLL M3M 30m MS 80 85\n",
      "✅ Matched geojson file: D:\\PhenoCrop\\3_qgis\\3_Extraction Polygons\\3. FINAL MASKS PYTHON\\24 PRO_BAR_VOLL Full Field ProteinBar Vollebekk 20 sorter + NAPE 7m_sorted_ID_polygons_shrinked.geojson\n",
      "📌 Resized RGB Ortho exists: D:\\PhenoCrop\\2_pix4d_cleaned\\PRO_BAR_VOLL\\MS\\20240703 PRO_BAR_VOLL M3M 30m MS 80 85\\2_Orthomosaics\\20240703 PRO_BAR_VOLL M3M 30m MS 80 85_transparent_mosaic_group1_thumb.tif. Skipping downscaling.\n"
     ]
    },
    {
     "name": "stderr",
     "output_type": "stream",
     "text": [
      "2025-02-07 01:07:28,085 - INFO - ✅ Successfully generated NDVI GEOTIFF\n",
      "2025-02-07 01:07:28,085 - INFO - 🚀 Preparing raster processing for flight: 20240703_PRO_BAR_VOLL_M3M_30m_MS_80_85_\n",
      "2025-02-07 01:07:28,085 - INFO - ⚙️ Reading shapefile: 24 PRO_BAR_VOLL Full Field ProteinBar Vollebekk 20 sorter + NAPE 7m_sorted_ID_polygons_shrinked.geojson\n",
      "2025-02-07 01:07:28,098 - INFO - ⚙️ Processing NDVI Stats\n",
      "2025-02-07 01:07:34,406 - INFO - ✅ Successfully processed: NDVI Stats\n",
      "2025-02-07 01:07:34,406 - INFO - ⚙️ Processing raster: green (20240703 PRO_BAR_VOLL M3M 30m MS 80 85_index_green_green.tif)\n",
      "2025-02-07 01:07:45,734 - INFO - ✅ Successfully processed: green\n",
      "2025-02-07 01:07:45,735 - INFO - ⚙️ Processing raster: nir (20240703 PRO_BAR_VOLL M3M 30m MS 80 85_index_nir_nir.tif)\n",
      "2025-02-07 01:07:56,751 - INFO - ✅ Successfully processed: nir\n",
      "2025-02-07 01:07:56,753 - INFO - ⚙️ Processing raster: red (20240703 PRO_BAR_VOLL M3M 30m MS 80 85_index_red_red.tif)\n",
      "2025-02-07 01:08:07,944 - INFO - ✅ Successfully processed: red\n",
      "2025-02-07 01:08:07,945 - INFO - ⚙️ Processing raster: rededge (20240703 PRO_BAR_VOLL M3M 30m MS 80 85_index_red_edge_red_edge.tif)\n",
      "2025-02-07 01:08:19,176 - INFO - ✅ Successfully processed: rededge\n",
      "2025-02-07 01:08:19,201 - INFO - ✅📌 Statistics saved to: D:\\PhenoCrop\\3_python\\V2\\PRO_BAR_VOLL\\20240703_PRO_BAR_VOLL_M3M_30m_MS_80_85_statistics.csv\n",
      "2025-02-07 01:08:19,320 - INFO - Processing project: PRO_BAR_VOLL, Flight: 20240708_PRO_BAR_VOLL_M3M_20m_MS_80_85_\n",
      "2025-02-07 01:08:19,322 - INFO - ⚙️ Generating NDVI Orthomosaic for: PRO_BAR_VOLL, Flight: 20240708_PRO_BAR_VOLL_M3M_20m_MS_80_85_\n"
     ]
    },
    {
     "name": "stdout",
     "output_type": "stream",
     "text": [
      "✅📌 Statistics saved to: D:\\PhenoCrop\\3_python\\V2\\PRO_BAR_VOLL\\20240703_PRO_BAR_VOLL_M3M_30m_MS_80_85_statistics.csv\n",
      "⏳ Total execution time: 55.23 seconds\n",
      "🧹 Cleared raster data from memory.\n",
      "🧹 Cleared shapefile data from memory.\n",
      "📁 Saved results to D:\\PhenoCrop\\3_python\\V2\\PRO_BAR_VOLL\\20240703_PRO_BAR_VOLL_M3M_30m_MS_80_85_statistics.csv\n",
      "\n",
      "🚀 Preparing raster processing for flight: 20240708 PRO_BAR_VOLL M3M 20m MS 80 85\n",
      "✅ Matched geojson file: D:\\PhenoCrop\\3_qgis\\3_Extraction Polygons\\3. FINAL MASKS PYTHON\\24 PRO_BAR_VOLL Full Field ProteinBar Vollebekk 20 sorter + NAPE 7m_sorted_ID_polygons_shrinked.geojson\n",
      "📌 Resized RGB Ortho exists: D:\\PhenoCrop\\2_pix4d_cleaned\\PRO_BAR_VOLL\\MS\\20240708 PRO_BAR_VOLL M3M 20m MS 80 85\\2_Orthomosaics\\20240708 PRO_BAR_VOLL M3M 20m MS 80 85_transparent_mosaic_group1_thumb.tif. Skipping downscaling.\n"
     ]
    },
    {
     "name": "stderr",
     "output_type": "stream",
     "text": [
      "2025-02-07 01:08:26,724 - INFO - ✅ Successfully generated NDVI GEOTIFF\n",
      "2025-02-07 01:08:26,725 - INFO - 🚀 Preparing raster processing for flight: 20240708_PRO_BAR_VOLL_M3M_20m_MS_80_85_\n",
      "2025-02-07 01:08:26,725 - INFO - ⚙️ Reading shapefile: 24 PRO_BAR_VOLL Full Field ProteinBar Vollebekk 20 sorter + NAPE 7m_sorted_ID_polygons_shrinked.geojson\n",
      "2025-02-07 01:08:26,737 - INFO - ⚙️ Processing NDVI Stats\n",
      "2025-02-07 01:08:36,456 - INFO - ✅ Successfully processed: NDVI Stats\n",
      "2025-02-07 01:08:36,457 - INFO - ⚙️ Processing raster: green (20240708 PRO_BAR_VOLL M3M 20m MS 80 85_index_green_green.tif)\n",
      "2025-02-07 01:08:53,563 - INFO - ✅ Successfully processed: green\n",
      "2025-02-07 01:08:53,563 - INFO - ⚙️ Processing raster: nir (20240708 PRO_BAR_VOLL M3M 20m MS 80 85_index_nir_nir.tif)\n",
      "2025-02-07 01:09:10,363 - INFO - ✅ Successfully processed: nir\n",
      "2025-02-07 01:09:10,364 - INFO - ⚙️ Processing raster: red (20240708 PRO_BAR_VOLL M3M 20m MS 80 85_index_red_red.tif)\n",
      "2025-02-07 01:09:27,324 - INFO - ✅ Successfully processed: red\n",
      "2025-02-07 01:09:27,325 - INFO - ⚙️ Processing raster: rededge (20240708 PRO_BAR_VOLL M3M 20m MS 80 85_index_red_edge_red_edge.tif)\n",
      "2025-02-07 01:09:44,261 - INFO - ✅ Successfully processed: rededge\n",
      "2025-02-07 01:09:44,285 - INFO - ✅📌 Statistics saved to: D:\\PhenoCrop\\3_python\\V2\\PRO_BAR_VOLL\\20240708_PRO_BAR_VOLL_M3M_20m_MS_80_85_statistics.csv\n",
      "2025-02-07 01:09:44,428 - INFO - Processing project: PRO_BAR_VOLL, Flight: 20240718_PRO_BAR_VOLL_M3M_30m_MS_80_85_\n",
      "2025-02-07 01:09:44,429 - INFO - ⚙️ Generating NDVI Orthomosaic for: PRO_BAR_VOLL, Flight: 20240718_PRO_BAR_VOLL_M3M_30m_MS_80_85_\n"
     ]
    },
    {
     "name": "stdout",
     "output_type": "stream",
     "text": [
      "✅📌 Statistics saved to: D:\\PhenoCrop\\3_python\\V2\\PRO_BAR_VOLL\\20240708_PRO_BAR_VOLL_M3M_20m_MS_80_85_statistics.csv\n",
      "⏳ Total execution time: 84.97 seconds\n",
      "🧹 Cleared raster data from memory.\n",
      "🧹 Cleared shapefile data from memory.\n",
      "📁 Saved results to D:\\PhenoCrop\\3_python\\V2\\PRO_BAR_VOLL\\20240708_PRO_BAR_VOLL_M3M_20m_MS_80_85_statistics.csv\n",
      "\n",
      "🚀 Preparing raster processing for flight: 20240718 PRO_BAR_VOLL M3M 30m MS 80 85\n",
      "✅ Matched geojson file: D:\\PhenoCrop\\3_qgis\\3_Extraction Polygons\\3. FINAL MASKS PYTHON\\24 PRO_BAR_VOLL Full Field ProteinBar Vollebekk 20 sorter + NAPE 7m_sorted_ID_polygons_shrinked.geojson\n",
      "📌 Resized RGB Ortho exists: D:\\PhenoCrop\\2_pix4d_cleaned\\PRO_BAR_VOLL\\MS\\20240718 PRO_BAR_VOLL M3M 30m MS 80 85\\2_Orthomosaics\\20240718 PRO_BAR_VOLL M3M 30m MS 80 85_transparent_mosaic_group1_thumb.tif. Skipping downscaling.\n"
     ]
    },
    {
     "name": "stderr",
     "output_type": "stream",
     "text": [
      "2025-02-07 01:09:48,429 - INFO - ✅ Successfully generated NDVI GEOTIFF\n",
      "2025-02-07 01:09:48,430 - INFO - 🚀 Preparing raster processing for flight: 20240718_PRO_BAR_VOLL_M3M_30m_MS_80_85_\n",
      "2025-02-07 01:09:48,430 - INFO - ⚙️ Reading shapefile: 24 PRO_BAR_VOLL Full Field ProteinBar Vollebekk 20 sorter + NAPE 7m_sorted_ID_polygons_shrinked.geojson\n",
      "2025-02-07 01:09:48,443 - INFO - ⚙️ Processing NDVI Stats\n",
      "2025-02-07 01:09:54,699 - INFO - ✅ Successfully processed: NDVI Stats\n",
      "2025-02-07 01:09:54,701 - INFO - ⚙️ Processing raster: green (20240718 PRO_BAR_VOLL M3M 30m MS 80 85_index_green_green.tif)\n",
      "2025-02-07 01:10:05,827 - INFO - ✅ Successfully processed: green\n",
      "2025-02-07 01:10:05,828 - INFO - ⚙️ Processing raster: nir (20240718 PRO_BAR_VOLL M3M 30m MS 80 85_index_nir_nir.tif)\n",
      "2025-02-07 01:10:16,709 - INFO - ✅ Successfully processed: nir\n",
      "2025-02-07 01:10:16,710 - INFO - ⚙️ Processing raster: red (20240718 PRO_BAR_VOLL M3M 30m MS 80 85_index_red_red.tif)\n",
      "2025-02-07 01:10:27,740 - INFO - ✅ Successfully processed: red\n",
      "2025-02-07 01:10:27,741 - INFO - ⚙️ Processing raster: rededge (20240718 PRO_BAR_VOLL M3M 30m MS 80 85_index_red_edge_red_edge.tif)\n",
      "2025-02-07 01:10:38,833 - INFO - ✅ Successfully processed: rededge\n",
      "2025-02-07 01:10:38,868 - INFO - ✅📌 Statistics saved to: D:\\PhenoCrop\\3_python\\V2\\PRO_BAR_VOLL\\20240718_PRO_BAR_VOLL_M3M_30m_MS_80_85_statistics.csv\n",
      "2025-02-07 01:10:38,990 - INFO - Processing project: PRO_BAR_VOLL, Flight: 20240724_PRO_BAR_VOLL_M3M_30m_MS_80_85_\n",
      "2025-02-07 01:10:38,991 - INFO - ⚙️ Generating NDVI Orthomosaic for: PRO_BAR_VOLL, Flight: 20240724_PRO_BAR_VOLL_M3M_30m_MS_80_85_\n"
     ]
    },
    {
     "name": "stdout",
     "output_type": "stream",
     "text": [
      "✅📌 Statistics saved to: D:\\PhenoCrop\\3_python\\V2\\PRO_BAR_VOLL\\20240718_PRO_BAR_VOLL_M3M_30m_MS_80_85_statistics.csv\n",
      "⏳ Total execution time: 54.44 seconds\n",
      "🧹 Cleared raster data from memory.\n",
      "🧹 Cleared shapefile data from memory.\n",
      "📁 Saved results to D:\\PhenoCrop\\3_python\\V2\\PRO_BAR_VOLL\\20240718_PRO_BAR_VOLL_M3M_30m_MS_80_85_statistics.csv\n",
      "\n",
      "🚀 Preparing raster processing for flight: 20240724 PRO_BAR_VOLL M3M 30m MS 80 85\n",
      "✅ Matched geojson file: D:\\PhenoCrop\\3_qgis\\3_Extraction Polygons\\3. FINAL MASKS PYTHON\\24 PRO_BAR_VOLL Full Field ProteinBar Vollebekk 20 sorter + NAPE 7m_sorted_ID_polygons_shrinked.geojson\n",
      "📌 Resized RGB Ortho exists: D:\\PhenoCrop\\2_pix4d_cleaned\\PRO_BAR_VOLL\\MS\\20240724 PRO_BAR_VOLL M3M 30m MS 80 85\\2_Orthomosaics\\20240724 PRO_BAR_VOLL M3M 30m MS 80 85_transparent_mosaic_group1_thumb.tif. Skipping downscaling.\n"
     ]
    },
    {
     "name": "stderr",
     "output_type": "stream",
     "text": [
      "2025-02-07 01:10:42,558 - INFO - ✅ Successfully generated NDVI GEOTIFF\n",
      "2025-02-07 01:10:42,558 - INFO - 🚀 Preparing raster processing for flight: 20240724_PRO_BAR_VOLL_M3M_30m_MS_80_85_\n",
      "2025-02-07 01:10:42,559 - INFO - ⚙️ Reading shapefile: 24 PRO_BAR_VOLL Full Field ProteinBar Vollebekk 20 sorter + NAPE 7m_sorted_ID_polygons_shrinked.geojson\n",
      "2025-02-07 01:10:42,570 - INFO - ⚙️ Processing NDVI Stats\n",
      "2025-02-07 01:10:48,721 - INFO - ✅ Successfully processed: NDVI Stats\n",
      "2025-02-07 01:10:48,722 - INFO - ⚙️ Processing raster: green (20240724 PRO_BAR_VOLL M3M 30m MS 80 85_index_green_green.tif)\n",
      "2025-02-07 01:10:59,317 - INFO - ✅ Successfully processed: green\n",
      "2025-02-07 01:10:59,318 - INFO - ⚙️ Processing raster: nir (20240724 PRO_BAR_VOLL M3M 30m MS 80 85_index_nir_nir.tif)\n",
      "2025-02-07 01:11:09,680 - INFO - ✅ Successfully processed: nir\n",
      "2025-02-07 01:11:09,682 - INFO - ⚙️ Processing raster: red (20240724 PRO_BAR_VOLL M3M 30m MS 80 85_index_red_red.tif)\n",
      "2025-02-07 01:11:20,136 - INFO - ✅ Successfully processed: red\n",
      "2025-02-07 01:11:20,137 - INFO - ⚙️ Processing raster: rededge (20240724 PRO_BAR_VOLL M3M 30m MS 80 85_index_red_edge_red_edge.tif)\n",
      "2025-02-07 01:11:30,686 - INFO - ✅ Successfully processed: rededge\n",
      "2025-02-07 01:11:30,711 - INFO - ✅📌 Statistics saved to: D:\\PhenoCrop\\3_python\\V2\\PRO_BAR_VOLL\\20240724_PRO_BAR_VOLL_M3M_30m_MS_80_85_statistics.csv\n",
      "2025-02-07 01:11:30,827 - INFO - Processing project: PRO_BAR_VOLL, Flight: 20240730_PRO_BAR_VOLL_M3M_30m_MS_80_85_\n",
      "2025-02-07 01:11:30,827 - INFO - ⚙️ Generating NDVI Orthomosaic for: PRO_BAR_VOLL, Flight: 20240730_PRO_BAR_VOLL_M3M_30m_MS_80_85_\n"
     ]
    },
    {
     "name": "stdout",
     "output_type": "stream",
     "text": [
      "✅📌 Statistics saved to: D:\\PhenoCrop\\3_python\\V2\\PRO_BAR_VOLL\\20240724_PRO_BAR_VOLL_M3M_30m_MS_80_85_statistics.csv\n",
      "⏳ Total execution time: 51.72 seconds\n",
      "🧹 Cleared raster data from memory.\n",
      "🧹 Cleared shapefile data from memory.\n",
      "📁 Saved results to D:\\PhenoCrop\\3_python\\V2\\PRO_BAR_VOLL\\20240724_PRO_BAR_VOLL_M3M_30m_MS_80_85_statistics.csv\n",
      "\n",
      "🚀 Preparing raster processing for flight: 20240730 PRO_BAR_VOLL M3M 30m MS 80 85\n",
      "✅ Matched geojson file: D:\\PhenoCrop\\3_qgis\\3_Extraction Polygons\\3. FINAL MASKS PYTHON\\24 PRO_BAR_VOLL Full Field ProteinBar Vollebekk 20 sorter + NAPE 7m_sorted_ID_polygons_shrinked.geojson\n",
      "📌 Resized RGB Ortho exists: D:\\PhenoCrop\\2_pix4d_cleaned\\PRO_BAR_VOLL\\MS\\20240730 PRO_BAR_VOLL M3M 30m MS 80 85\\2_Orthomosaics\\20240730 PRO_BAR_VOLL M3M 30m MS 80 85_transparent_mosaic_group1_thumb.tif. Skipping downscaling.\n"
     ]
    },
    {
     "name": "stderr",
     "output_type": "stream",
     "text": [
      "2025-02-07 01:11:35,536 - INFO - ✅ Successfully generated NDVI GEOTIFF\n",
      "2025-02-07 01:11:35,537 - INFO - 🚀 Preparing raster processing for flight: 20240730_PRO_BAR_VOLL_M3M_30m_MS_80_85_\n",
      "2025-02-07 01:11:35,538 - INFO - ⚙️ Reading shapefile: 24 PRO_BAR_VOLL Full Field ProteinBar Vollebekk 20 sorter + NAPE 7m_sorted_ID_polygons_shrinked.geojson\n",
      "2025-02-07 01:11:35,549 - INFO - ⚙️ Processing NDVI Stats\n",
      "2025-02-07 01:11:42,047 - INFO - ✅ Successfully processed: NDVI Stats\n",
      "2025-02-07 01:11:42,048 - INFO - ⚙️ Processing raster: green (20240730 PRO_BAR_VOLL M3M 30m MS 80 85_index_green_green.tif)\n",
      "2025-02-07 01:11:53,709 - INFO - ✅ Successfully processed: green\n",
      "2025-02-07 01:11:53,710 - INFO - ⚙️ Processing raster: nir (20240730 PRO_BAR_VOLL M3M 30m MS 80 85_index_nir_nir.tif)\n",
      "2025-02-07 01:12:05,080 - INFO - ✅ Successfully processed: nir\n",
      "2025-02-07 01:12:05,081 - INFO - ⚙️ Processing raster: red (20240730 PRO_BAR_VOLL M3M 30m MS 80 85_index_red_red.tif)\n",
      "2025-02-07 01:12:16,685 - INFO - ✅ Successfully processed: red\n",
      "2025-02-07 01:12:16,686 - INFO - ⚙️ Processing raster: rededge (20240730 PRO_BAR_VOLL M3M 30m MS 80 85_index_red_edge_red_edge.tif)\n",
      "2025-02-07 01:12:28,274 - INFO - ✅ Successfully processed: rededge\n",
      "2025-02-07 01:12:28,298 - INFO - ✅📌 Statistics saved to: D:\\PhenoCrop\\3_python\\V2\\PRO_BAR_VOLL\\20240730_PRO_BAR_VOLL_M3M_30m_MS_80_85_statistics.csv\n",
      "2025-02-07 01:12:28,427 - INFO - Processing project: PRO_BAR_VOLL, Flight: 20240806_PRO_BAR_VOLL_M3M_30m_MS_80_85_\n",
      "2025-02-07 01:12:28,428 - INFO - ⚙️ Generating NDVI Orthomosaic for: PRO_BAR_VOLL, Flight: 20240806_PRO_BAR_VOLL_M3M_30m_MS_80_85_\n"
     ]
    },
    {
     "name": "stdout",
     "output_type": "stream",
     "text": [
      "✅📌 Statistics saved to: D:\\PhenoCrop\\3_python\\V2\\PRO_BAR_VOLL\\20240730_PRO_BAR_VOLL_M3M_30m_MS_80_85_statistics.csv\n",
      "⏳ Total execution time: 57.47 seconds\n",
      "🧹 Cleared raster data from memory.\n",
      "🧹 Cleared shapefile data from memory.\n",
      "📁 Saved results to D:\\PhenoCrop\\3_python\\V2\\PRO_BAR_VOLL\\20240730_PRO_BAR_VOLL_M3M_30m_MS_80_85_statistics.csv\n",
      "\n",
      "🚀 Preparing raster processing for flight: 20240806 PRO_BAR_VOLL M3M 30m MS 80 85\n",
      "✅ Matched geojson file: D:\\PhenoCrop\\3_qgis\\3_Extraction Polygons\\3. FINAL MASKS PYTHON\\24 PRO_BAR_VOLL Full Field ProteinBar Vollebekk 20 sorter + NAPE 7m_sorted_ID_polygons_shrinked.geojson\n",
      "📌 Resized RGB Ortho exists: D:\\PhenoCrop\\2_pix4d_cleaned\\PRO_BAR_VOLL\\MS\\20240806 PRO_BAR_VOLL M3M 30m MS 80 85\\2_Orthomosaics\\20240806 PRO_BAR_VOLL M3M 30m MS 80 85_transparent_mosaic_group1_thumb.tif. Skipping downscaling.\n"
     ]
    },
    {
     "name": "stderr",
     "output_type": "stream",
     "text": [
      "2025-02-07 01:12:32,763 - INFO - ✅ Successfully generated NDVI GEOTIFF\n",
      "2025-02-07 01:12:32,764 - INFO - 🚀 Preparing raster processing for flight: 20240806_PRO_BAR_VOLL_M3M_30m_MS_80_85_\n",
      "2025-02-07 01:12:32,765 - INFO - ⚙️ Reading shapefile: 24 PRO_BAR_VOLL Full Field ProteinBar Vollebekk 20 sorter + NAPE 7m_sorted_ID_polygons_shrinked.geojson\n",
      "2025-02-07 01:12:32,776 - INFO - ⚙️ Processing NDVI Stats\n",
      "2025-02-07 01:12:38,923 - INFO - ✅ Successfully processed: NDVI Stats\n",
      "2025-02-07 01:12:38,924 - INFO - ⚙️ Processing raster: green (20240806 PRO_BAR_VOLL M3M 30m MS 80 85_index_green_green.tif)\n",
      "2025-02-07 01:12:49,975 - INFO - ✅ Successfully processed: green\n",
      "2025-02-07 01:12:49,976 - INFO - ⚙️ Processing raster: nir (20240806 PRO_BAR_VOLL M3M 30m MS 80 85_index_nir_nir.tif)\n",
      "2025-02-07 01:13:00,768 - INFO - ✅ Successfully processed: nir\n",
      "2025-02-07 01:13:00,769 - INFO - ⚙️ Processing raster: red (20240806 PRO_BAR_VOLL M3M 30m MS 80 85_index_red_red.tif)\n",
      "2025-02-07 01:13:11,811 - INFO - ✅ Successfully processed: red\n",
      "2025-02-07 01:13:11,811 - INFO - ⚙️ Processing raster: rededge (20240806 PRO_BAR_VOLL M3M 30m MS 80 85_index_red_edge_red_edge.tif)\n",
      "2025-02-07 01:13:22,810 - INFO - ✅ Successfully processed: rededge\n",
      "2025-02-07 01:13:22,833 - INFO - ✅📌 Statistics saved to: D:\\PhenoCrop\\3_python\\V2\\PRO_BAR_VOLL\\20240806_PRO_BAR_VOLL_M3M_30m_MS_80_85_statistics.csv\n",
      "2025-02-07 01:13:22,977 - INFO - Processing project: OAT_FRONTIERS, Flight: 20240603_OAT_FRONTIERS_M3M_20m_MS_80_85_\n",
      "2025-02-07 01:13:22,977 - INFO - ⚙️ Generating NDVI Orthomosaic for: OAT_FRONTIERS, Flight: 20240603_OAT_FRONTIERS_M3M_20m_MS_80_85_\n"
     ]
    },
    {
     "name": "stdout",
     "output_type": "stream",
     "text": [
      "✅📌 Statistics saved to: D:\\PhenoCrop\\3_python\\V2\\PRO_BAR_VOLL\\20240806_PRO_BAR_VOLL_M3M_30m_MS_80_85_statistics.csv\n",
      "⏳ Total execution time: 54.41 seconds\n",
      "🧹 Cleared raster data from memory.\n",
      "🧹 Cleared shapefile data from memory.\n",
      "📁 Saved results to D:\\PhenoCrop\\3_python\\V2\\PRO_BAR_VOLL\\20240806_PRO_BAR_VOLL_M3M_30m_MS_80_85_statistics.csv\n",
      "⏳ Execution time of prepare_and_run_raster_processing: 897.243291 seconds\n",
      "\n",
      "🚀 Processing Project: OAT_FRONTIERS | Flight Type: MS\n",
      "Fetching file lists for project: OAT_FRONTIERS, flight type: MS\n",
      "⏳ Execution time of check_data_completeness: 0.000180 seconds\n",
      "\n",
      "✅ COMPLETENESS STATUS:\n",
      "20240603 OAT_FRONTIERS M3M 20m MS 80 85: ✅ Complete\n",
      "20240603 OAT_FRONTIERS M3M 30m MS 80 85: ✅ Complete\n",
      "20240607 OAT_FRONTIERS M3M 20m MS 80 85: ✅ Complete\n",
      "20240607 OAT_FRONTIERS M3M 30m MS 80 85: ✅ Complete\n",
      "20240611 OAT_FRONTIERS M3M 20m MS 80 85: ✅ Complete\n",
      "20240611 OAT_FRONTIERS M3M 30m MS 80 85: ✅ Complete\n",
      "20240620 OAT_FRONTIERS M3M 30m MS 80 85: ✅ Complete\n",
      "20240620 OAT_FRONTIERS M3M 30m MS 80 85_old: ✅ Complete\n",
      "20240621 OAT_FRONTIERS M3M 20m MS 80 85: ✅ Complete\n",
      "20240624 OAT_FRONTIERS M3M 20m MS 80 85: ✅ Complete\n",
      "20240624 OAT_FRONTIERS M3M 30m MS 80 85: ✅ Complete\n",
      "20240702 OAT_FRONTIERS M3M 20m MS 80 85: ✅ Complete\n",
      "20240703 OAT_FRONTIERS M3M 30m MS 80 85: ✅ Complete\n",
      "20240708 OAT_FRONTIERS M3M 20m MS 80 85: ✅ Complete\n",
      "20240708 OAT_FRONTIERS M3M 30m MS 80 85: ✅ Complete\n",
      "20240718 OAT_FRONTIERS M3M 20m MS 80 85: ✅ Complete\n",
      "20240718 OAT_FRONTIERS M3M 30m MS 80 85: ✅ Complete\n",
      "20240724 OAT_FRONTIERS M3M 20m MS 80 85: ✅ Complete\n",
      "20240724 OAT_FRONTIERS M3M 30m MS 80 85: ✅ Complete\n",
      "20240729 OAT_FRONTIERS M3M 20m MS 80 85: ✅ Complete\n",
      "20240729 OAT_FRONTIERS M3M 30m MS 80 85: ✅ Complete\n",
      "20240805 OAT_FRONTIERS M3M 20m MS 80 85: ✅ Complete\n",
      "20240806 OAT_FRONTIERS M3M 30m MS 80 85: ✅ Complete\n",
      "20240812 OAT_FRONTIERS M3M 20m MS 80 85: ✅ Complete\n",
      "20240812 OAT_FRONTIERS M3M 30m MS 80 85: ✅ Complete\n",
      "20240819 OAT_FRONTIERS M3M 20m MS 80 85: ✅ Complete\n",
      "20240819 OAT_FRONTIERS M3M 30m MS 80 85: ✅ Complete\n",
      "20240826 OAT_FRONTIERS M3M 20m MS 80 85: ✅ Complete\n",
      "\n",
      "🚀 Preparing raster processing for flight: 20240603 OAT_FRONTIERS M3M 20m MS 80 85\n",
      "✅ Matched geojson file: D:\\PhenoCrop\\3_qgis\\3_Extraction Polygons\\3. FINAL MASKS PYTHON\\24 OAT_FRONTIERS G2B+OatsFrontier_sorted_ID_polygons_shrinked.geojson\n",
      "📌 Resized RGB Ortho exists: D:\\PhenoCrop\\2_pix4d_cleaned\\OAT_FRONTIERS\\MS\\20240603 OAT_FRONTIERS M3M 20m MS 80 85\\2_Orthomosaics\\20240603 OAT_FRONTIERS M3M 20m MS 80 85_transparent_mosaic_group1_thumb.tif. Skipping downscaling.\n"
     ]
    },
    {
     "name": "stderr",
     "output_type": "stream",
     "text": [
      "2025-02-07 01:13:34,255 - INFO - ✅ Successfully generated NDVI GEOTIFF\n",
      "2025-02-07 01:13:34,255 - INFO - 🚀 Preparing raster processing for flight: 20240603_OAT_FRONTIERS_M3M_20m_MS_80_85_\n",
      "2025-02-07 01:13:34,256 - INFO - ⚙️ Reading shapefile: 24 OAT_FRONTIERS G2B+OatsFrontier_sorted_ID_polygons_shrinked.geojson\n",
      "2025-02-07 01:13:34,280 - INFO - ⚙️ Processing NDVI Stats\n",
      "2025-02-07 01:13:50,013 - INFO - ✅ Successfully processed: NDVI Stats\n",
      "2025-02-07 01:13:50,014 - INFO - ⚙️ Processing raster: green (20240603 OAT_FRONTIERS M3M 20m MS 80 85_index_green_green.tif)\n",
      "2025-02-07 01:14:14,414 - INFO - ✅ Successfully processed: green\n",
      "2025-02-07 01:14:14,414 - INFO - ⚙️ Processing raster: nir (20240603 OAT_FRONTIERS M3M 20m MS 80 85_index_nir_nir.tif)\n",
      "2025-02-07 01:14:38,347 - INFO - ✅ Successfully processed: nir\n",
      "2025-02-07 01:14:38,347 - INFO - ⚙️ Processing raster: red (20240603 OAT_FRONTIERS M3M 20m MS 80 85_index_red_red.tif)\n",
      "2025-02-07 01:15:02,728 - INFO - ✅ Successfully processed: red\n",
      "2025-02-07 01:15:02,728 - INFO - ⚙️ Processing raster: rededge (20240603 OAT_FRONTIERS M3M 20m MS 80 85_index_red_edge_red_edge.tif)\n",
      "2025-02-07 01:15:27,385 - INFO - ✅ Successfully processed: rededge\n",
      "2025-02-07 01:15:27,415 - INFO - ✅📌 Statistics saved to: D:\\PhenoCrop\\3_python\\V2\\OAT_FRONTIERS\\20240603_OAT_FRONTIERS_M3M_20m_MS_80_85_statistics.csv\n",
      "2025-02-07 01:15:27,552 - INFO - Processing project: OAT_FRONTIERS, Flight: 20240603_OAT_FRONTIERS_M3M_30m_MS_80_85_\n",
      "2025-02-07 01:15:27,553 - INFO - ⚙️ Generating NDVI Orthomosaic for: OAT_FRONTIERS, Flight: 20240603_OAT_FRONTIERS_M3M_30m_MS_80_85_\n"
     ]
    },
    {
     "name": "stdout",
     "output_type": "stream",
     "text": [
      "✅📌 Statistics saved to: D:\\PhenoCrop\\3_python\\V2\\OAT_FRONTIERS\\20240603_OAT_FRONTIERS_M3M_20m_MS_80_85_statistics.csv\n",
      "⏳ Total execution time: 124.44 seconds\n",
      "🧹 Cleared raster data from memory.\n",
      "🧹 Cleared shapefile data from memory.\n",
      "📁 Saved results to D:\\PhenoCrop\\3_python\\V2\\OAT_FRONTIERS\\20240603_OAT_FRONTIERS_M3M_20m_MS_80_85_statistics.csv\n",
      "\n",
      "🚀 Preparing raster processing for flight: 20240603 OAT_FRONTIERS M3M 30m MS 80 85\n",
      "✅ Matched geojson file: D:\\PhenoCrop\\3_qgis\\3_Extraction Polygons\\3. FINAL MASKS PYTHON\\24 OAT_FRONTIERS G2B+OatsFrontier_sorted_ID_polygons_shrinked.geojson\n",
      "📌 Resized RGB Ortho exists: D:\\PhenoCrop\\2_pix4d_cleaned\\OAT_FRONTIERS\\MS\\20240603 OAT_FRONTIERS M3M 30m MS 80 85\\2_Orthomosaics\\20240603 OAT_FRONTIERS M3M 30m MS 80 85_transparent_mosaic_group1_thumb.tif. Skipping downscaling.\n"
     ]
    },
    {
     "name": "stderr",
     "output_type": "stream",
     "text": [
      "2025-02-07 01:15:32,098 - INFO - ✅ Successfully generated NDVI GEOTIFF\n",
      "2025-02-07 01:15:32,099 - INFO - 🚀 Preparing raster processing for flight: 20240603_OAT_FRONTIERS_M3M_30m_MS_80_85_\n",
      "2025-02-07 01:15:32,099 - INFO - ⚙️ Reading shapefile: 24 OAT_FRONTIERS G2B+OatsFrontier_sorted_ID_polygons_shrinked.geojson\n",
      "2025-02-07 01:15:32,113 - INFO - ⚙️ Processing NDVI Stats\n",
      "2025-02-07 01:15:38,246 - INFO - ✅ Successfully processed: NDVI Stats\n",
      "2025-02-07 01:15:38,246 - INFO - ⚙️ Processing raster: green (20240603 OAT_FRONTIERS M3M 30m MS 80 85_index_green_green.tif)\n",
      "2025-02-07 01:15:48,831 - INFO - ✅ Successfully processed: green\n",
      "2025-02-07 01:15:48,832 - INFO - ⚙️ Processing raster: nir (20240603 OAT_FRONTIERS M3M 30m MS 80 85_index_nir_nir.tif)\n",
      "2025-02-07 01:15:59,201 - INFO - ✅ Successfully processed: nir\n",
      "2025-02-07 01:15:59,202 - INFO - ⚙️ Processing raster: red (20240603 OAT_FRONTIERS M3M 30m MS 80 85_index_red_red.tif)\n",
      "2025-02-07 01:16:09,719 - INFO - ✅ Successfully processed: red\n",
      "2025-02-07 01:16:09,720 - INFO - ⚙️ Processing raster: rededge (20240603 OAT_FRONTIERS M3M 30m MS 80 85_index_red_edge_red_edge.tif)\n",
      "2025-02-07 01:16:20,335 - INFO - ✅ Successfully processed: rededge\n",
      "2025-02-07 01:16:20,366 - INFO - ✅📌 Statistics saved to: D:\\PhenoCrop\\3_python\\V2\\OAT_FRONTIERS\\20240603_OAT_FRONTIERS_M3M_30m_MS_80_85_statistics.csv\n",
      "2025-02-07 01:16:20,487 - INFO - Processing project: OAT_FRONTIERS, Flight: 20240607_OAT_FRONTIERS_M3M_20m_MS_80_85_\n",
      "2025-02-07 01:16:20,488 - INFO - ⚙️ Generating NDVI Orthomosaic for: OAT_FRONTIERS, Flight: 20240607_OAT_FRONTIERS_M3M_20m_MS_80_85_\n"
     ]
    },
    {
     "name": "stdout",
     "output_type": "stream",
     "text": [
      "✅📌 Statistics saved to: D:\\PhenoCrop\\3_python\\V2\\OAT_FRONTIERS\\20240603_OAT_FRONTIERS_M3M_30m_MS_80_85_statistics.csv\n",
      "⏳ Total execution time: 52.82 seconds\n",
      "🧹 Cleared raster data from memory.\n",
      "🧹 Cleared shapefile data from memory.\n",
      "📁 Saved results to D:\\PhenoCrop\\3_python\\V2\\OAT_FRONTIERS\\20240603_OAT_FRONTIERS_M3M_30m_MS_80_85_statistics.csv\n",
      "\n",
      "🚀 Preparing raster processing for flight: 20240607 OAT_FRONTIERS M3M 20m MS 80 85\n",
      "✅ Matched geojson file: D:\\PhenoCrop\\3_qgis\\3_Extraction Polygons\\3. FINAL MASKS PYTHON\\24 OAT_FRONTIERS G2B+OatsFrontier_sorted_ID_polygons_shrinked.geojson\n",
      "📌 Resized RGB Ortho exists: D:\\PhenoCrop\\2_pix4d_cleaned\\OAT_FRONTIERS\\MS\\20240607 OAT_FRONTIERS M3M 20m MS 80 85\\2_Orthomosaics\\20240607 OAT_FRONTIERS M3M 20m MS 80 85_transparent_mosaic_group1_thumb.tif. Skipping downscaling.\n"
     ]
    },
    {
     "name": "stderr",
     "output_type": "stream",
     "text": [
      "2025-02-07 01:16:31,560 - INFO - ✅ Successfully generated NDVI GEOTIFF\n",
      "2025-02-07 01:16:31,560 - INFO - 🚀 Preparing raster processing for flight: 20240607_OAT_FRONTIERS_M3M_20m_MS_80_85_\n",
      "2025-02-07 01:16:31,561 - INFO - ⚙️ Reading shapefile: 24 OAT_FRONTIERS G2B+OatsFrontier_sorted_ID_polygons_shrinked.geojson\n",
      "2025-02-07 01:16:31,577 - INFO - ⚙️ Processing NDVI Stats\n",
      "2025-02-07 01:16:47,434 - INFO - ✅ Successfully processed: NDVI Stats\n",
      "2025-02-07 01:16:47,435 - INFO - ⚙️ Processing raster: green (20240607 OAT_FRONTIERS M3M 20m MS 80 85_index_green_green.tif)\n",
      "2025-02-07 01:17:12,329 - INFO - ✅ Successfully processed: green\n",
      "2025-02-07 01:17:12,330 - INFO - ⚙️ Processing raster: nir (20240607 OAT_FRONTIERS M3M 20m MS 80 85_index_nir_nir.tif)\n",
      "2025-02-07 01:17:36,850 - INFO - ✅ Successfully processed: nir\n",
      "2025-02-07 01:17:36,851 - INFO - ⚙️ Processing raster: red (20240607 OAT_FRONTIERS M3M 20m MS 80 85_index_red_red.tif)\n",
      "2025-02-07 01:18:01,299 - INFO - ✅ Successfully processed: red\n",
      "2025-02-07 01:18:01,300 - INFO - ⚙️ Processing raster: rededge (20240607 OAT_FRONTIERS M3M 20m MS 80 85_index_red_edge_red_edge.tif)\n",
      "2025-02-07 01:18:26,154 - INFO - ✅ Successfully processed: rededge\n",
      "2025-02-07 01:18:26,183 - INFO - ✅📌 Statistics saved to: D:\\PhenoCrop\\3_python\\V2\\OAT_FRONTIERS\\20240607_OAT_FRONTIERS_M3M_20m_MS_80_85_statistics.csv\n",
      "2025-02-07 01:18:26,318 - INFO - Processing project: OAT_FRONTIERS, Flight: 20240607_OAT_FRONTIERS_M3M_30m_MS_80_85_\n",
      "2025-02-07 01:18:26,319 - INFO - ⚙️ Generating NDVI Orthomosaic for: OAT_FRONTIERS, Flight: 20240607_OAT_FRONTIERS_M3M_30m_MS_80_85_\n"
     ]
    },
    {
     "name": "stdout",
     "output_type": "stream",
     "text": [
      "✅📌 Statistics saved to: D:\\PhenoCrop\\3_python\\V2\\OAT_FRONTIERS\\20240607_OAT_FRONTIERS_M3M_20m_MS_80_85_statistics.csv\n",
      "⏳ Total execution time: 125.70 seconds\n",
      "🧹 Cleared raster data from memory.\n",
      "🧹 Cleared shapefile data from memory.\n",
      "📁 Saved results to D:\\PhenoCrop\\3_python\\V2\\OAT_FRONTIERS\\20240607_OAT_FRONTIERS_M3M_20m_MS_80_85_statistics.csv\n",
      "\n",
      "🚀 Preparing raster processing for flight: 20240607 OAT_FRONTIERS M3M 30m MS 80 85\n",
      "✅ Matched geojson file: D:\\PhenoCrop\\3_qgis\\3_Extraction Polygons\\3. FINAL MASKS PYTHON\\24 OAT_FRONTIERS G2B+OatsFrontier_sorted_ID_polygons_shrinked.geojson\n",
      "📌 Resized RGB Ortho exists: D:\\PhenoCrop\\2_pix4d_cleaned\\OAT_FRONTIERS\\MS\\20240607 OAT_FRONTIERS M3M 30m MS 80 85\\2_Orthomosaics\\20240607 OAT_FRONTIERS M3M 30m MS 80 85_transparent_mosaic_group1_thumb.tif. Skipping downscaling.\n"
     ]
    },
    {
     "name": "stderr",
     "output_type": "stream",
     "text": [
      "2025-02-07 01:18:31,660 - INFO - ✅ Successfully generated NDVI GEOTIFF\n",
      "2025-02-07 01:18:31,660 - INFO - 🚀 Preparing raster processing for flight: 20240607_OAT_FRONTIERS_M3M_30m_MS_80_85_\n",
      "2025-02-07 01:18:31,660 - INFO - ⚙️ Reading shapefile: 24 OAT_FRONTIERS G2B+OatsFrontier_sorted_ID_polygons_shrinked.geojson\n",
      "2025-02-07 01:18:31,675 - INFO - ⚙️ Processing NDVI Stats\n",
      "2025-02-07 01:18:38,390 - INFO - ✅ Successfully processed: NDVI Stats\n",
      "2025-02-07 01:18:38,392 - INFO - ⚙️ Processing raster: green (20240607 OAT_FRONTIERS M3M 30m MS 80 85_index_green_green.tif)\n",
      "2025-02-07 01:18:50,026 - INFO - ✅ Successfully processed: green\n",
      "2025-02-07 01:18:50,026 - INFO - ⚙️ Processing raster: nir (20240607 OAT_FRONTIERS M3M 30m MS 80 85_index_nir_nir.tif)\n",
      "2025-02-07 01:19:01,486 - INFO - ✅ Successfully processed: nir\n",
      "2025-02-07 01:19:01,487 - INFO - ⚙️ Processing raster: red (20240607 OAT_FRONTIERS M3M 30m MS 80 85_index_red_red.tif)\n",
      "2025-02-07 01:19:12,974 - INFO - ✅ Successfully processed: red\n",
      "2025-02-07 01:19:12,974 - INFO - ⚙️ Processing raster: rededge (20240607 OAT_FRONTIERS M3M 30m MS 80 85_index_red_edge_red_edge.tif)\n",
      "2025-02-07 01:19:24,568 - INFO - ✅ Successfully processed: rededge\n",
      "2025-02-07 01:19:24,598 - INFO - ✅📌 Statistics saved to: D:\\PhenoCrop\\3_python\\V2\\OAT_FRONTIERS\\20240607_OAT_FRONTIERS_M3M_30m_MS_80_85_statistics.csv\n",
      "2025-02-07 01:19:24,729 - INFO - Processing project: OAT_FRONTIERS, Flight: 20240611_OAT_FRONTIERS_M3M_20m_MS_80_85_\n",
      "2025-02-07 01:19:24,729 - INFO - ⚙️ Generating NDVI Orthomosaic for: OAT_FRONTIERS, Flight: 20240611_OAT_FRONTIERS_M3M_20m_MS_80_85_\n"
     ]
    },
    {
     "name": "stdout",
     "output_type": "stream",
     "text": [
      "✅📌 Statistics saved to: D:\\PhenoCrop\\3_python\\V2\\OAT_FRONTIERS\\20240607_OAT_FRONTIERS_M3M_30m_MS_80_85_statistics.csv\n",
      "⏳ Total execution time: 58.28 seconds\n",
      "🧹 Cleared raster data from memory.\n",
      "🧹 Cleared shapefile data from memory.\n",
      "📁 Saved results to D:\\PhenoCrop\\3_python\\V2\\OAT_FRONTIERS\\20240607_OAT_FRONTIERS_M3M_30m_MS_80_85_statistics.csv\n",
      "\n",
      "🚀 Preparing raster processing for flight: 20240611 OAT_FRONTIERS M3M 20m MS 80 85\n",
      "✅ Matched geojson file: D:\\PhenoCrop\\3_qgis\\3_Extraction Polygons\\3. FINAL MASKS PYTHON\\24 OAT_FRONTIERS G2B+OatsFrontier_sorted_ID_polygons_shrinked.geojson\n",
      "📌 Resized RGB Ortho exists: D:\\PhenoCrop\\2_pix4d_cleaned\\OAT_FRONTIERS\\MS\\20240611 OAT_FRONTIERS M3M 20m MS 80 85\\2_Orthomosaics\\20240611 OAT_FRONTIERS M3M 20m MS 80 85_transparent_mosaic_group1_thumb.tif. Skipping downscaling.\n"
     ]
    },
    {
     "name": "stderr",
     "output_type": "stream",
     "text": [
      "2025-02-07 01:19:35,293 - INFO - ✅ Successfully generated NDVI GEOTIFF\n",
      "2025-02-07 01:19:35,293 - INFO - 🚀 Preparing raster processing for flight: 20240611_OAT_FRONTIERS_M3M_20m_MS_80_85_\n",
      "2025-02-07 01:19:35,294 - INFO - ⚙️ Reading shapefile: 24 OAT_FRONTIERS G2B+OatsFrontier_sorted_ID_polygons_shrinked.geojson\n",
      "2025-02-07 01:19:35,308 - INFO - ⚙️ Processing NDVI Stats\n",
      "2025-02-07 01:19:50,525 - INFO - ✅ Successfully processed: NDVI Stats\n",
      "2025-02-07 01:19:50,526 - INFO - ⚙️ Processing raster: green (20240611 OAT_FRONTIERS M3M 20m MS 80 85_index_green_green.tif)\n",
      "2025-02-07 01:20:14,372 - INFO - ✅ Successfully processed: green\n",
      "2025-02-07 01:20:14,372 - INFO - ⚙️ Processing raster: nir (20240611 OAT_FRONTIERS M3M 20m MS 80 85_index_nir_nir.tif)\n",
      "2025-02-07 01:20:37,895 - INFO - ✅ Successfully processed: nir\n",
      "2025-02-07 01:20:37,896 - INFO - ⚙️ Processing raster: red (20240611 OAT_FRONTIERS M3M 20m MS 80 85_index_red_red.tif)\n",
      "2025-02-07 01:21:01,486 - INFO - ✅ Successfully processed: red\n",
      "2025-02-07 01:21:01,487 - INFO - ⚙️ Processing raster: rededge (20240611 OAT_FRONTIERS M3M 20m MS 80 85_index_red_edge_red_edge.tif)\n",
      "2025-02-07 01:21:25,560 - INFO - ✅ Successfully processed: rededge\n",
      "2025-02-07 01:21:25,590 - INFO - ✅📌 Statistics saved to: D:\\PhenoCrop\\3_python\\V2\\OAT_FRONTIERS\\20240611_OAT_FRONTIERS_M3M_20m_MS_80_85_statistics.csv\n",
      "2025-02-07 01:21:25,746 - INFO - Processing project: OAT_FRONTIERS, Flight: 20240611_OAT_FRONTIERS_M3M_30m_MS_80_85_\n",
      "2025-02-07 01:21:25,747 - INFO - ⚙️ Generating NDVI Orthomosaic for: OAT_FRONTIERS, Flight: 20240611_OAT_FRONTIERS_M3M_30m_MS_80_85_\n"
     ]
    },
    {
     "name": "stdout",
     "output_type": "stream",
     "text": [
      "✅📌 Statistics saved to: D:\\PhenoCrop\\3_python\\V2\\OAT_FRONTIERS\\20240611_OAT_FRONTIERS_M3M_20m_MS_80_85_statistics.csv\n",
      "⏳ Total execution time: 120.86 seconds\n",
      "🧹 Cleared raster data from memory.\n",
      "🧹 Cleared shapefile data from memory.\n",
      "📁 Saved results to D:\\PhenoCrop\\3_python\\V2\\OAT_FRONTIERS\\20240611_OAT_FRONTIERS_M3M_20m_MS_80_85_statistics.csv\n",
      "\n",
      "🚀 Preparing raster processing for flight: 20240611 OAT_FRONTIERS M3M 30m MS 80 85\n",
      "✅ Matched geojson file: D:\\PhenoCrop\\3_qgis\\3_Extraction Polygons\\3. FINAL MASKS PYTHON\\24 OAT_FRONTIERS G2B+OatsFrontier_sorted_ID_polygons_shrinked.geojson\n",
      "📌 Resized RGB Ortho exists: D:\\PhenoCrop\\2_pix4d_cleaned\\OAT_FRONTIERS\\MS\\20240611 OAT_FRONTIERS M3M 30m MS 80 85\\2_Orthomosaics\\20240611 OAT_FRONTIERS M3M 30m MS 80 85_transparent_mosaic_group1_thumb.tif. Skipping downscaling.\n"
     ]
    },
    {
     "name": "stderr",
     "output_type": "stream",
     "text": [
      "2025-02-07 01:21:31,058 - INFO - ✅ Successfully generated NDVI GEOTIFF\n",
      "2025-02-07 01:21:31,059 - INFO - 🚀 Preparing raster processing for flight: 20240611_OAT_FRONTIERS_M3M_30m_MS_80_85_\n",
      "2025-02-07 01:21:31,059 - INFO - ⚙️ Reading shapefile: 24 OAT_FRONTIERS G2B+OatsFrontier_sorted_ID_polygons_shrinked.geojson\n",
      "2025-02-07 01:21:31,074 - INFO - ⚙️ Processing NDVI Stats\n",
      "2025-02-07 01:21:37,558 - INFO - ✅ Successfully processed: NDVI Stats\n",
      "2025-02-07 01:21:37,560 - INFO - ⚙️ Processing raster: green (20240611 OAT_FRONTIERS M3M 30m MS 80 85_index_green_green.tif)\n",
      "2025-02-07 01:21:48,685 - INFO - ✅ Successfully processed: green\n",
      "2025-02-07 01:21:48,686 - INFO - ⚙️ Processing raster: nir (20240611 OAT_FRONTIERS M3M 30m MS 80 85_index_nir_nir.tif)\n",
      "2025-02-07 01:21:59,572 - INFO - ✅ Successfully processed: nir\n",
      "2025-02-07 01:21:59,572 - INFO - ⚙️ Processing raster: red (20240611 OAT_FRONTIERS M3M 30m MS 80 85_index_red_red.tif)\n",
      "2025-02-07 01:22:10,629 - INFO - ✅ Successfully processed: red\n",
      "2025-02-07 01:22:10,629 - INFO - ⚙️ Processing raster: rededge (20240611 OAT_FRONTIERS M3M 30m MS 80 85_index_red_edge_red_edge.tif)\n",
      "2025-02-07 01:22:21,950 - INFO - ✅ Successfully processed: rededge\n",
      "2025-02-07 01:22:21,979 - INFO - ✅📌 Statistics saved to: D:\\PhenoCrop\\3_python\\V2\\OAT_FRONTIERS\\20240611_OAT_FRONTIERS_M3M_30m_MS_80_85_statistics.csv\n",
      "2025-02-07 01:22:22,098 - INFO - Processing project: OAT_FRONTIERS, Flight: 20240620_OAT_FRONTIERS_M3M_30m_MS_80_85_\n",
      "2025-02-07 01:22:22,099 - INFO - ⚙️ Generating NDVI Orthomosaic for: OAT_FRONTIERS, Flight: 20240620_OAT_FRONTIERS_M3M_30m_MS_80_85_\n"
     ]
    },
    {
     "name": "stdout",
     "output_type": "stream",
     "text": [
      "✅📌 Statistics saved to: D:\\PhenoCrop\\3_python\\V2\\OAT_FRONTIERS\\20240611_OAT_FRONTIERS_M3M_30m_MS_80_85_statistics.csv\n",
      "⏳ Total execution time: 56.23 seconds\n",
      "🧹 Cleared raster data from memory.\n",
      "🧹 Cleared shapefile data from memory.\n",
      "📁 Saved results to D:\\PhenoCrop\\3_python\\V2\\OAT_FRONTIERS\\20240611_OAT_FRONTIERS_M3M_30m_MS_80_85_statistics.csv\n",
      "\n",
      "🚀 Preparing raster processing for flight: 20240620 OAT_FRONTIERS M3M 30m MS 80 85\n",
      "✅ Matched geojson file: D:\\PhenoCrop\\3_qgis\\3_Extraction Polygons\\3. FINAL MASKS PYTHON\\24 OAT_FRONTIERS G2B+OatsFrontier_sorted_ID_polygons_shrinked.geojson\n",
      "📌 Resized RGB Ortho exists: D:\\PhenoCrop\\2_pix4d_cleaned\\OAT_FRONTIERS\\MS\\20240620 OAT_FRONTIERS M3M 30m MS 80 85\\2_Orthomosaics\\20240620 OAT_FRONTIERS M3M 30m MS 80 85_transparent_mosaic_group1_thumb.tif. Skipping downscaling.\n"
     ]
    },
    {
     "name": "stderr",
     "output_type": "stream",
     "text": [
      "2025-02-07 01:22:26,227 - INFO - ✅ Successfully generated NDVI GEOTIFF\n",
      "2025-02-07 01:22:26,227 - INFO - 🚀 Preparing raster processing for flight: 20240620_OAT_FRONTIERS_M3M_30m_MS_80_85_\n",
      "2025-02-07 01:22:26,228 - INFO - ⚙️ Reading shapefile: 24 OAT_FRONTIERS G2B+OatsFrontier_sorted_ID_polygons_shrinked.geojson\n",
      "2025-02-07 01:22:26,242 - INFO - ⚙️ Processing NDVI Stats\n",
      "2025-02-07 01:22:32,284 - INFO - ✅ Successfully processed: NDVI Stats\n",
      "2025-02-07 01:22:32,285 - INFO - ⚙️ Processing raster: green (20240620 OAT_FRONTIERS M3M 30m MS 80 85_index_green_green.tif)\n",
      "2025-02-07 01:22:42,472 - INFO - ✅ Successfully processed: green\n",
      "2025-02-07 01:22:42,474 - INFO - ⚙️ Processing raster: nir (20240620 OAT_FRONTIERS M3M 30m MS 80 85_index_nir_nir.tif)\n",
      "2025-02-07 01:22:52,499 - INFO - ✅ Successfully processed: nir\n",
      "2025-02-07 01:22:52,499 - INFO - ⚙️ Processing raster: red (20240620 OAT_FRONTIERS M3M 30m MS 80 85_index_red_red.tif)\n",
      "2025-02-07 01:23:02,718 - INFO - ✅ Successfully processed: red\n",
      "2025-02-07 01:23:02,718 - INFO - ⚙️ Processing raster: rededge (20240620 OAT_FRONTIERS M3M 30m MS 80 85_index_red_edge_red_edge.tif)\n",
      "2025-02-07 01:23:12,869 - INFO - ✅ Successfully processed: rededge\n",
      "2025-02-07 01:23:12,897 - INFO - ✅📌 Statistics saved to: D:\\PhenoCrop\\3_python\\V2\\OAT_FRONTIERS\\20240620_OAT_FRONTIERS_M3M_30m_MS_80_85_statistics.csv\n",
      "2025-02-07 01:23:13,016 - INFO - Processing project: OAT_FRONTIERS, Flight: 20240621_OAT_FRONTIERS_M3M_20m_MS_80_85_\n",
      "2025-02-07 01:23:13,016 - INFO - ⚙️ Generating NDVI Orthomosaic for: OAT_FRONTIERS, Flight: 20240621_OAT_FRONTIERS_M3M_20m_MS_80_85_\n"
     ]
    },
    {
     "name": "stdout",
     "output_type": "stream",
     "text": [
      "✅📌 Statistics saved to: D:\\PhenoCrop\\3_python\\V2\\OAT_FRONTIERS\\20240620_OAT_FRONTIERS_M3M_30m_MS_80_85_statistics.csv\n",
      "⏳ Total execution time: 50.80 seconds\n",
      "🧹 Cleared raster data from memory.\n",
      "🧹 Cleared shapefile data from memory.\n",
      "📁 Saved results to D:\\PhenoCrop\\3_python\\V2\\OAT_FRONTIERS\\20240620_OAT_FRONTIERS_M3M_30m_MS_80_85_statistics.csv\n",
      "\n",
      "🚀 Preparing raster processing for flight: 20240620 OAT_FRONTIERS M3M 30m MS 80 85_old\n",
      "✅ Matched geojson file: D:\\PhenoCrop\\3_qgis\\3_Extraction Polygons\\3. FINAL MASKS PYTHON\\24 OAT_FRONTIERS G2B+OatsFrontier_sorted_ID_polygons_shrinked.geojson\n",
      "📌 Output CSV already exists: D:\\PhenoCrop\\3_python\\V2\\OAT_FRONTIERS\\20240620_OAT_FRONTIERS_M3M_30m_MS_80_85_statistics.csv. Skipping processing.\n",
      "\n",
      "🚀 Preparing raster processing for flight: 20240621 OAT_FRONTIERS M3M 20m MS 80 85\n",
      "✅ Matched geojson file: D:\\PhenoCrop\\3_qgis\\3_Extraction Polygons\\3. FINAL MASKS PYTHON\\24 OAT_FRONTIERS G2B+OatsFrontier_sorted_ID_polygons_shrinked.geojson\n",
      "📌 Resized RGB Ortho exists: D:\\PhenoCrop\\2_pix4d_cleaned\\OAT_FRONTIERS\\MS\\20240621 OAT_FRONTIERS M3M 20m MS 80 85\\2_Orthomosaics\\20240621 OAT_FRONTIERS M3M 20m MS 80 85_transparent_mosaic_group1_thumb.tif. Skipping downscaling.\n"
     ]
    },
    {
     "name": "stderr",
     "output_type": "stream",
     "text": [
      "2025-02-07 01:23:23,920 - INFO - ✅ Successfully generated NDVI GEOTIFF\n",
      "2025-02-07 01:23:23,921 - INFO - 🚀 Preparing raster processing for flight: 20240621_OAT_FRONTIERS_M3M_20m_MS_80_85_\n",
      "2025-02-07 01:23:23,921 - INFO - ⚙️ Reading shapefile: 24 OAT_FRONTIERS G2B+OatsFrontier_sorted_ID_polygons_shrinked.geojson\n",
      "2025-02-07 01:23:23,934 - INFO - ⚙️ Processing NDVI Stats\n",
      "2025-02-07 01:23:38,947 - INFO - ✅ Successfully processed: NDVI Stats\n",
      "2025-02-07 01:23:38,948 - INFO - ⚙️ Processing raster: green (20240621 OAT_FRONTIERS M3M 20m MS 80 85_index_green_green.tif)\n",
      "2025-02-07 01:24:02,447 - INFO - ✅ Successfully processed: green\n",
      "2025-02-07 01:24:02,448 - INFO - ⚙️ Processing raster: nir (20240621 OAT_FRONTIERS M3M 20m MS 80 85_index_nir_nir.tif)\n",
      "2025-02-07 01:24:25,420 - INFO - ✅ Successfully processed: nir\n",
      "2025-02-07 01:24:25,421 - INFO - ⚙️ Processing raster: red (20240621 OAT_FRONTIERS M3M 20m MS 80 85_index_red_red.tif)\n",
      "2025-02-07 01:24:48,707 - INFO - ✅ Successfully processed: red\n",
      "2025-02-07 01:24:48,708 - INFO - ⚙️ Processing raster: rededge (20240621 OAT_FRONTIERS M3M 20m MS 80 85_index_red_edge_red_edge.tif)\n",
      "2025-02-07 01:25:11,975 - INFO - ✅ Successfully processed: rededge\n",
      "2025-02-07 01:25:12,005 - INFO - ✅📌 Statistics saved to: D:\\PhenoCrop\\3_python\\V2\\OAT_FRONTIERS\\20240621_OAT_FRONTIERS_M3M_20m_MS_80_85_statistics.csv\n"
     ]
    },
    {
     "name": "stdout",
     "output_type": "stream",
     "text": [
      "✅📌 Statistics saved to: D:\\PhenoCrop\\3_python\\V2\\OAT_FRONTIERS\\20240621_OAT_FRONTIERS_M3M_20m_MS_80_85_statistics.csv\n",
      "⏳ Total execution time: 118.99 seconds\n",
      "🧹 Cleared raster data from memory.\n",
      "🧹 Cleared shapefile data from memory.\n",
      "📁 Saved results to D:\\PhenoCrop\\3_python\\V2\\OAT_FRONTIERS\\20240621_OAT_FRONTIERS_M3M_20m_MS_80_85_statistics.csv\n",
      "\n",
      "🚀 Preparing raster processing for flight: 20240624 OAT_FRONTIERS M3M 20m MS 80 85\n",
      "✅ Matched geojson file: D:\\PhenoCrop\\3_qgis\\3_Extraction Polygons\\3. FINAL MASKS PYTHON\\24 OAT_FRONTIERS G2B+OatsFrontier_sorted_ID_polygons_shrinked.geojson\n",
      "\n",
      "⚙️ Processing: 20240624 OAT_FRONTIERS M3M 20m MS 80 85_transparent_mosaic_group1.tif at 25% resolution\n",
      "   - Original size: 9231 x 10052\n",
      "   - New size: 2307 x 2513\n"
     ]
    },
    {
     "name": "stderr",
     "output_type": "stream",
     "text": [
      "2025-02-07 01:25:14,407 - INFO - Processing project: OAT_FRONTIERS, Flight: 20240624_OAT_FRONTIERS_M3M_20m_MS_80_85_\n"
     ]
    },
    {
     "name": "stdout",
     "output_type": "stream",
     "text": [
      "   - Saving downscaled file: D:\\PhenoCrop\\2_pix4d_cleaned\\OAT_FRONTIERS\\MS\\20240624 OAT_FRONTIERS M3M 20m MS 80 85\\2_Orthomosaics\\20240624 OAT_FRONTIERS M3M 20m MS 80 85_transparent_mosaic_group1_thumb.tif\n",
      "✅ Successfully downscaled: 20240624 OAT_FRONTIERS M3M 20m MS 80 85_transparent_mosaic_group1.tif\n"
     ]
    },
    {
     "name": "stderr",
     "output_type": "stream",
     "text": [
      "2025-02-07 01:25:14,408 - INFO - ⚙️ Generating NDVI Orthomosaic for: OAT_FRONTIERS, Flight: 20240624_OAT_FRONTIERS_M3M_20m_MS_80_85_\n",
      "2025-02-07 01:25:23,252 - INFO - ✅ Successfully generated NDVI GEOTIFF\n",
      "2025-02-07 01:25:23,252 - INFO - 🚀 Preparing raster processing for flight: 20240624_OAT_FRONTIERS_M3M_20m_MS_80_85_\n",
      "2025-02-07 01:25:23,253 - INFO - ⚙️ Reading shapefile: 24 OAT_FRONTIERS G2B+OatsFrontier_sorted_ID_polygons_shrinked.geojson\n",
      "2025-02-07 01:25:23,267 - INFO - ⚙️ Processing NDVI Stats\n",
      "2025-02-07 01:25:35,815 - INFO - ✅ Successfully processed: NDVI Stats\n",
      "2025-02-07 01:25:35,815 - INFO - ⚙️ Processing raster: green (20240624 OAT_FRONTIERS M3M 20m MS 80 85_index_green_green.tif)\n",
      "2025-02-07 01:25:55,820 - INFO - ✅ Successfully processed: green\n",
      "2025-02-07 01:25:55,820 - INFO - ⚙️ Processing raster: nir (20240624 OAT_FRONTIERS M3M 20m MS 80 85_index_nir_nir.tif)\n",
      "2025-02-07 01:26:15,400 - INFO - ✅ Successfully processed: nir\n",
      "2025-02-07 01:26:15,401 - INFO - ⚙️ Processing raster: red (20240624 OAT_FRONTIERS M3M 20m MS 80 85_index_red_red.tif)\n",
      "2025-02-07 01:26:35,336 - INFO - ✅ Successfully processed: red\n",
      "2025-02-07 01:26:35,337 - INFO - ⚙️ Processing raster: rededge (20240624 OAT_FRONTIERS M3M 20m MS 80 85_index_red_edge_red_edge.tif)\n",
      "2025-02-07 01:26:55,303 - INFO - ✅ Successfully processed: rededge\n",
      "2025-02-07 01:26:55,334 - INFO - ✅📌 Statistics saved to: D:\\PhenoCrop\\3_python\\V2\\OAT_FRONTIERS\\20240624_OAT_FRONTIERS_M3M_20m_MS_80_85_statistics.csv\n"
     ]
    },
    {
     "name": "stdout",
     "output_type": "stream",
     "text": [
      "✅📌 Statistics saved to: D:\\PhenoCrop\\3_python\\V2\\OAT_FRONTIERS\\20240624_OAT_FRONTIERS_M3M_20m_MS_80_85_statistics.csv\n",
      "⏳ Total execution time: 100.93 seconds\n",
      "🧹 Cleared raster data from memory.\n",
      "🧹 Cleared shapefile data from memory.\n",
      "📁 Saved results to D:\\PhenoCrop\\3_python\\V2\\OAT_FRONTIERS\\20240624_OAT_FRONTIERS_M3M_20m_MS_80_85_statistics.csv\n",
      "\n",
      "🚀 Preparing raster processing for flight: 20240624 OAT_FRONTIERS M3M 30m MS 80 85\n",
      "✅ Matched geojson file: D:\\PhenoCrop\\3_qgis\\3_Extraction Polygons\\3. FINAL MASKS PYTHON\\24 OAT_FRONTIERS G2B+OatsFrontier_sorted_ID_polygons_shrinked.geojson\n",
      "\n",
      "⚙️ Processing: 20240624 OAT_FRONTIERS M3M 30m MS 80 85_transparent_mosaic_group1.tif at 25% resolution\n",
      "   - Original size: 6959 x 7430\n",
      "   - New size: 1739 x 1857\n"
     ]
    },
    {
     "name": "stderr",
     "output_type": "stream",
     "text": [
      "2025-02-07 01:26:56,767 - INFO - Processing project: OAT_FRONTIERS, Flight: 20240624_OAT_FRONTIERS_M3M_30m_MS_80_85_\n",
      "2025-02-07 01:26:56,768 - INFO - ⚙️ Generating NDVI Orthomosaic for: OAT_FRONTIERS, Flight: 20240624_OAT_FRONTIERS_M3M_30m_MS_80_85_\n"
     ]
    },
    {
     "name": "stdout",
     "output_type": "stream",
     "text": [
      "   - Saving downscaled file: D:\\PhenoCrop\\2_pix4d_cleaned\\OAT_FRONTIERS\\MS\\20240624 OAT_FRONTIERS M3M 30m MS 80 85\\2_Orthomosaics\\20240624 OAT_FRONTIERS M3M 30m MS 80 85_transparent_mosaic_group1_thumb.tif\n",
      "✅ Successfully downscaled: 20240624 OAT_FRONTIERS M3M 30m MS 80 85_transparent_mosaic_group1.tif\n"
     ]
    },
    {
     "name": "stderr",
     "output_type": "stream",
     "text": [
      "2025-02-07 01:27:01,246 - INFO - ✅ Successfully generated NDVI GEOTIFF\n",
      "2025-02-07 01:27:01,246 - INFO - 🚀 Preparing raster processing for flight: 20240624_OAT_FRONTIERS_M3M_30m_MS_80_85_\n",
      "2025-02-07 01:27:01,247 - INFO - ⚙️ Reading shapefile: 24 OAT_FRONTIERS G2B+OatsFrontier_sorted_ID_polygons_shrinked.geojson\n",
      "2025-02-07 01:27:01,262 - INFO - ⚙️ Processing NDVI Stats\n",
      "2025-02-07 01:27:07,017 - INFO - ✅ Successfully processed: NDVI Stats\n",
      "2025-02-07 01:27:07,018 - INFO - ⚙️ Processing raster: green (20240624 OAT_FRONTIERS M3M 30m MS 80 85_index_green_green.tif)\n",
      "2025-02-07 01:27:16,869 - INFO - ✅ Successfully processed: green\n",
      "2025-02-07 01:27:16,870 - INFO - ⚙️ Processing raster: nir (20240624 OAT_FRONTIERS M3M 30m MS 80 85_index_nir_nir.tif)\n",
      "2025-02-07 01:27:26,493 - INFO - ✅ Successfully processed: nir\n",
      "2025-02-07 01:27:26,494 - INFO - ⚙️ Processing raster: red (20240624 OAT_FRONTIERS M3M 30m MS 80 85_index_red_red.tif)\n",
      "2025-02-07 01:27:36,243 - INFO - ✅ Successfully processed: red\n",
      "2025-02-07 01:27:36,244 - INFO - ⚙️ Processing raster: rededge (20240624 OAT_FRONTIERS M3M 30m MS 80 85_index_red_edge_red_edge.tif)\n",
      "2025-02-07 01:27:46,036 - INFO - ✅ Successfully processed: rededge\n",
      "2025-02-07 01:27:46,066 - INFO - ✅📌 Statistics saved to: D:\\PhenoCrop\\3_python\\V2\\OAT_FRONTIERS\\20240624_OAT_FRONTIERS_M3M_30m_MS_80_85_statistics.csv\n"
     ]
    },
    {
     "name": "stdout",
     "output_type": "stream",
     "text": [
      "✅📌 Statistics saved to: D:\\PhenoCrop\\3_python\\V2\\OAT_FRONTIERS\\20240624_OAT_FRONTIERS_M3M_30m_MS_80_85_statistics.csv\n",
      "⏳ Total execution time: 49.30 seconds\n",
      "🧹 Cleared raster data from memory.\n",
      "🧹 Cleared shapefile data from memory.\n",
      "📁 Saved results to D:\\PhenoCrop\\3_python\\V2\\OAT_FRONTIERS\\20240624_OAT_FRONTIERS_M3M_30m_MS_80_85_statistics.csv\n",
      "\n",
      "🚀 Preparing raster processing for flight: 20240702 OAT_FRONTIERS M3M 20m MS 80 85\n",
      "✅ Matched geojson file: D:\\PhenoCrop\\3_qgis\\3_Extraction Polygons\\3. FINAL MASKS PYTHON\\24 OAT_FRONTIERS G2B+OatsFrontier_sorted_ID_polygons_shrinked.geojson\n",
      "\n",
      "⚙️ Processing: 20240702 OAT_FRONTIERS M3M 20m MS 80 85_transparent_mosaic_group1.tif at 25% resolution\n",
      "   - Original size: 9247 x 9779\n",
      "   - New size: 2311 x 2444\n"
     ]
    },
    {
     "name": "stderr",
     "output_type": "stream",
     "text": [
      "2025-02-07 01:27:48,389 - INFO - Processing project: OAT_FRONTIERS, Flight: 20240702_OAT_FRONTIERS_M3M_20m_MS_80_85_\n"
     ]
    },
    {
     "name": "stdout",
     "output_type": "stream",
     "text": [
      "   - Saving downscaled file: D:\\PhenoCrop\\2_pix4d_cleaned\\OAT_FRONTIERS\\MS\\20240702 OAT_FRONTIERS M3M 20m MS 80 85\\2_Orthomosaics\\20240702 OAT_FRONTIERS M3M 20m MS 80 85_transparent_mosaic_group1_thumb.tif\n",
      "✅ Successfully downscaled: 20240702 OAT_FRONTIERS M3M 20m MS 80 85_transparent_mosaic_group1.tif\n"
     ]
    },
    {
     "name": "stderr",
     "output_type": "stream",
     "text": [
      "2025-02-07 01:27:48,389 - INFO - ⚙️ Generating NDVI Orthomosaic for: OAT_FRONTIERS, Flight: 20240702_OAT_FRONTIERS_M3M_20m_MS_80_85_\n",
      "2025-02-07 01:27:57,174 - INFO - ✅ Successfully generated NDVI GEOTIFF\n",
      "2025-02-07 01:27:57,174 - INFO - 🚀 Preparing raster processing for flight: 20240702_OAT_FRONTIERS_M3M_20m_MS_80_85_\n",
      "2025-02-07 01:27:57,174 - INFO - ⚙️ Reading shapefile: 24 OAT_FRONTIERS G2B+OatsFrontier_sorted_ID_polygons_shrinked.geojson\n",
      "2025-02-07 01:27:57,189 - INFO - ⚙️ Processing NDVI Stats\n",
      "2025-02-07 01:28:09,266 - INFO - ✅ Successfully processed: NDVI Stats\n",
      "2025-02-07 01:28:09,266 - INFO - ⚙️ Processing raster: green (20240702 OAT_FRONTIERS M3M 20m MS 80 85_index_green_green.tif)\n",
      "2025-02-07 01:28:28,689 - INFO - ✅ Successfully processed: green\n",
      "2025-02-07 01:28:28,690 - INFO - ⚙️ Processing raster: nir (20240702 OAT_FRONTIERS M3M 20m MS 80 85_index_nir_nir.tif)\n",
      "2025-02-07 01:28:47,705 - INFO - ✅ Successfully processed: nir\n",
      "2025-02-07 01:28:47,706 - INFO - ⚙️ Processing raster: red (20240702 OAT_FRONTIERS M3M 20m MS 80 85_index_red_red.tif)\n",
      "2025-02-07 01:29:06,991 - INFO - ✅ Successfully processed: red\n",
      "2025-02-07 01:29:06,991 - INFO - ⚙️ Processing raster: rededge (20240702 OAT_FRONTIERS M3M 20m MS 80 85_index_red_edge_red_edge.tif)\n",
      "2025-02-07 01:29:26,242 - INFO - ✅ Successfully processed: rededge\n",
      "2025-02-07 01:29:26,283 - INFO - ✅📌 Statistics saved to: D:\\PhenoCrop\\3_python\\V2\\OAT_FRONTIERS\\20240702_OAT_FRONTIERS_M3M_20m_MS_80_85_statistics.csv\n"
     ]
    },
    {
     "name": "stdout",
     "output_type": "stream",
     "text": [
      "✅📌 Statistics saved to: D:\\PhenoCrop\\3_python\\V2\\OAT_FRONTIERS\\20240702_OAT_FRONTIERS_M3M_20m_MS_80_85_statistics.csv\n",
      "⏳ Total execution time: 97.89 seconds\n",
      "🧹 Cleared raster data from memory.\n",
      "🧹 Cleared shapefile data from memory.\n",
      "📁 Saved results to D:\\PhenoCrop\\3_python\\V2\\OAT_FRONTIERS\\20240702_OAT_FRONTIERS_M3M_20m_MS_80_85_statistics.csv\n",
      "\n",
      "🚀 Preparing raster processing for flight: 20240703 OAT_FRONTIERS M3M 30m MS 80 85\n",
      "✅ Matched geojson file: D:\\PhenoCrop\\3_qgis\\3_Extraction Polygons\\3. FINAL MASKS PYTHON\\24 OAT_FRONTIERS G2B+OatsFrontier_sorted_ID_polygons_shrinked.geojson\n",
      "\n",
      "⚙️ Processing: 20240703 OAT_FRONTIERS M3M 30m MS 80 85_transparent_mosaic_group1.tif at 25% resolution\n",
      "   - Original size: 7043 x 7664\n",
      "   - New size: 1760 x 1916\n"
     ]
    },
    {
     "name": "stderr",
     "output_type": "stream",
     "text": [
      "2025-02-07 01:29:27,791 - INFO - Processing project: OAT_FRONTIERS, Flight: 20240703_OAT_FRONTIERS_M3M_30m_MS_80_85_\n",
      "2025-02-07 01:29:27,792 - INFO - ⚙️ Generating NDVI Orthomosaic for: OAT_FRONTIERS, Flight: 20240703_OAT_FRONTIERS_M3M_30m_MS_80_85_\n"
     ]
    },
    {
     "name": "stdout",
     "output_type": "stream",
     "text": [
      "   - Saving downscaled file: D:\\PhenoCrop\\2_pix4d_cleaned\\OAT_FRONTIERS\\MS\\20240703 OAT_FRONTIERS M3M 30m MS 80 85\\2_Orthomosaics\\20240703 OAT_FRONTIERS M3M 30m MS 80 85_transparent_mosaic_group1_thumb.tif\n",
      "✅ Successfully downscaled: 20240703 OAT_FRONTIERS M3M 30m MS 80 85_transparent_mosaic_group1.tif\n"
     ]
    },
    {
     "name": "stderr",
     "output_type": "stream",
     "text": [
      "2025-02-07 01:29:32,318 - INFO - ✅ Successfully generated NDVI GEOTIFF\n",
      "2025-02-07 01:29:32,318 - INFO - 🚀 Preparing raster processing for flight: 20240703_OAT_FRONTIERS_M3M_30m_MS_80_85_\n",
      "2025-02-07 01:29:32,319 - INFO - ⚙️ Reading shapefile: 24 OAT_FRONTIERS G2B+OatsFrontier_sorted_ID_polygons_shrinked.geojson\n",
      "2025-02-07 01:29:32,332 - INFO - ⚙️ Processing NDVI Stats\n",
      "2025-02-07 01:29:38,762 - INFO - ✅ Successfully processed: NDVI Stats\n",
      "2025-02-07 01:29:38,762 - INFO - ⚙️ Processing raster: green (20240703 OAT_FRONTIERS M3M 30m MS 80 85_index_green_green.tif)\n",
      "2025-02-07 01:29:49,624 - INFO - ✅ Successfully processed: green\n",
      "2025-02-07 01:29:49,625 - INFO - ⚙️ Processing raster: nir (20240703 OAT_FRONTIERS M3M 30m MS 80 85_index_nir_nir.tif)\n",
      "2025-02-07 01:30:00,122 - INFO - ✅ Successfully processed: nir\n",
      "2025-02-07 01:30:00,123 - INFO - ⚙️ Processing raster: red (20240703 OAT_FRONTIERS M3M 30m MS 80 85_index_red_red.tif)\n",
      "2025-02-07 01:30:10,791 - INFO - ✅ Successfully processed: red\n",
      "2025-02-07 01:30:10,792 - INFO - ⚙️ Processing raster: rededge (20240703 OAT_FRONTIERS M3M 30m MS 80 85_index_red_edge_red_edge.tif)\n",
      "2025-02-07 01:30:21,505 - INFO - ✅ Successfully processed: rededge\n",
      "2025-02-07 01:30:21,535 - INFO - ✅📌 Statistics saved to: D:\\PhenoCrop\\3_python\\V2\\OAT_FRONTIERS\\20240703_OAT_FRONTIERS_M3M_30m_MS_80_85_statistics.csv\n"
     ]
    },
    {
     "name": "stdout",
     "output_type": "stream",
     "text": [
      "✅📌 Statistics saved to: D:\\PhenoCrop\\3_python\\V2\\OAT_FRONTIERS\\20240703_OAT_FRONTIERS_M3M_30m_MS_80_85_statistics.csv\n",
      "⏳ Total execution time: 53.74 seconds\n",
      "🧹 Cleared raster data from memory.\n",
      "🧹 Cleared shapefile data from memory.\n",
      "📁 Saved results to D:\\PhenoCrop\\3_python\\V2\\OAT_FRONTIERS\\20240703_OAT_FRONTIERS_M3M_30m_MS_80_85_statistics.csv\n",
      "\n",
      "🚀 Preparing raster processing for flight: 20240708 OAT_FRONTIERS M3M 20m MS 80 85\n",
      "✅ Matched geojson file: D:\\PhenoCrop\\3_qgis\\3_Extraction Polygons\\3. FINAL MASKS PYTHON\\24 OAT_FRONTIERS G2B+OatsFrontier_sorted_ID_polygons_shrinked.geojson\n",
      "\n",
      "⚙️ Processing: 20240708 OAT_FRONTIERS M3M 20m MS 80 85_transparent_mosaic_group1.tif at 25% resolution\n",
      "   - Original size: 8864 x 9873\n",
      "   - New size: 2216 x 2468\n",
      "   - Saving downscaled file: D:\\PhenoCrop\\2_pix4d_cleaned\\OAT_FRONTIERS\\MS\\20240708 OAT_FRONTIERS M3M 20m MS 80 85\\2_Orthomosaics\\20240708 OAT_FRONTIERS M3M 20m MS 80 85_transparent_mosaic_group1_thumb.tif\n",
      "✅ Successfully downscaled: 20240708 OAT_FRONTIERS M3M 20m MS 80 85_transparent_mosaic_group1.tif\n"
     ]
    },
    {
     "name": "stderr",
     "output_type": "stream",
     "text": [
      "2025-02-07 01:30:23,867 - INFO - Processing project: OAT_FRONTIERS, Flight: 20240708_OAT_FRONTIERS_M3M_20m_MS_80_85_\n",
      "2025-02-07 01:30:23,868 - INFO - ⚙️ Generating NDVI Orthomosaic for: OAT_FRONTIERS, Flight: 20240708_OAT_FRONTIERS_M3M_20m_MS_80_85_\n",
      "2025-02-07 01:30:32,339 - INFO - ✅ Successfully generated NDVI GEOTIFF\n",
      "2025-02-07 01:30:32,340 - INFO - 🚀 Preparing raster processing for flight: 20240708_OAT_FRONTIERS_M3M_20m_MS_80_85_\n",
      "2025-02-07 01:30:32,341 - INFO - ⚙️ Reading shapefile: 24 OAT_FRONTIERS G2B+OatsFrontier_sorted_ID_polygons_shrinked.geojson\n",
      "2025-02-07 01:30:32,355 - INFO - ⚙️ Processing NDVI Stats\n",
      "2025-02-07 01:30:43,905 - INFO - ✅ Successfully processed: NDVI Stats\n",
      "2025-02-07 01:30:43,906 - INFO - ⚙️ Processing raster: green (20240708 OAT_FRONTIERS M3M 20m MS 80 85_index_green_green.tif)\n",
      "2025-02-07 01:31:02,361 - INFO - ✅ Successfully processed: green\n",
      "2025-02-07 01:31:02,362 - INFO - ⚙️ Processing raster: nir (20240708 OAT_FRONTIERS M3M 20m MS 80 85_index_nir_nir.tif)\n",
      "2025-02-07 01:31:20,584 - INFO - ✅ Successfully processed: nir\n",
      "2025-02-07 01:31:20,585 - INFO - ⚙️ Processing raster: red (20240708 OAT_FRONTIERS M3M 20m MS 80 85_index_red_red.tif)\n",
      "2025-02-07 01:31:38,912 - INFO - ✅ Successfully processed: red\n",
      "2025-02-07 01:31:38,913 - INFO - ⚙️ Processing raster: rededge (20240708 OAT_FRONTIERS M3M 20m MS 80 85_index_red_edge_red_edge.tif)\n",
      "2025-02-07 01:31:57,121 - INFO - ✅ Successfully processed: rededge\n",
      "2025-02-07 01:31:57,149 - INFO - ✅📌 Statistics saved to: D:\\PhenoCrop\\3_python\\V2\\OAT_FRONTIERS\\20240708_OAT_FRONTIERS_M3M_20m_MS_80_85_statistics.csv\n"
     ]
    },
    {
     "name": "stdout",
     "output_type": "stream",
     "text": [
      "✅📌 Statistics saved to: D:\\PhenoCrop\\3_python\\V2\\OAT_FRONTIERS\\20240708_OAT_FRONTIERS_M3M_20m_MS_80_85_statistics.csv\n",
      "⏳ Total execution time: 93.28 seconds\n",
      "🧹 Cleared raster data from memory.\n",
      "🧹 Cleared shapefile data from memory.\n",
      "📁 Saved results to D:\\PhenoCrop\\3_python\\V2\\OAT_FRONTIERS\\20240708_OAT_FRONTIERS_M3M_20m_MS_80_85_statistics.csv\n",
      "\n",
      "🚀 Preparing raster processing for flight: 20240708 OAT_FRONTIERS M3M 30m MS 80 85\n",
      "✅ Matched geojson file: D:\\PhenoCrop\\3_qgis\\3_Extraction Polygons\\3. FINAL MASKS PYTHON\\24 OAT_FRONTIERS G2B+OatsFrontier_sorted_ID_polygons_shrinked.geojson\n",
      "\n",
      "⚙️ Processing: 20240708 OAT_FRONTIERS M3M 30m MS 80 85_transparent_mosaic_group1.tif at 25% resolution\n",
      "   - Original size: 6586 x 7262\n",
      "   - New size: 1646 x 1815\n"
     ]
    },
    {
     "name": "stderr",
     "output_type": "stream",
     "text": [
      "2025-02-07 01:31:58,475 - INFO - Processing project: OAT_FRONTIERS, Flight: 20240708_OAT_FRONTIERS_M3M_30m_MS_80_85_\n",
      "2025-02-07 01:31:58,476 - INFO - ⚙️ Generating NDVI Orthomosaic for: OAT_FRONTIERS, Flight: 20240708_OAT_FRONTIERS_M3M_30m_MS_80_85_\n"
     ]
    },
    {
     "name": "stdout",
     "output_type": "stream",
     "text": [
      "   - Saving downscaled file: D:\\PhenoCrop\\2_pix4d_cleaned\\OAT_FRONTIERS\\MS\\20240708 OAT_FRONTIERS M3M 30m MS 80 85\\2_Orthomosaics\\20240708 OAT_FRONTIERS M3M 30m MS 80 85_transparent_mosaic_group1_thumb.tif\n",
      "✅ Successfully downscaled: 20240708 OAT_FRONTIERS M3M 30m MS 80 85_transparent_mosaic_group1.tif\n"
     ]
    },
    {
     "name": "stderr",
     "output_type": "stream",
     "text": [
      "2025-02-07 01:32:02,708 - INFO - ✅ Successfully generated NDVI GEOTIFF\n",
      "2025-02-07 01:32:02,709 - INFO - 🚀 Preparing raster processing for flight: 20240708_OAT_FRONTIERS_M3M_30m_MS_80_85_\n",
      "2025-02-07 01:32:02,709 - INFO - ⚙️ Reading shapefile: 24 OAT_FRONTIERS G2B+OatsFrontier_sorted_ID_polygons_shrinked.geojson\n",
      "2025-02-07 01:32:02,724 - INFO - ⚙️ Processing NDVI Stats\n",
      "2025-02-07 01:32:07,988 - INFO - ✅ Successfully processed: NDVI Stats\n",
      "2025-02-07 01:32:07,988 - INFO - ⚙️ Processing raster: green (20240708 OAT_FRONTIERS M3M 30m MS 80 85_index_green_green.tif)\n",
      "2025-02-07 01:32:16,883 - INFO - ✅ Successfully processed: green\n",
      "2025-02-07 01:32:16,884 - INFO - ⚙️ Processing raster: nir (20240708 OAT_FRONTIERS M3M 30m MS 80 85_index_nir_nir.tif)\n",
      "2025-02-07 01:32:26,036 - INFO - ✅ Successfully processed: nir\n",
      "2025-02-07 01:32:26,037 - INFO - ⚙️ Processing raster: red (20240708 OAT_FRONTIERS M3M 30m MS 80 85_index_red_red.tif)\n",
      "2025-02-07 01:32:35,753 - INFO - ✅ Successfully processed: red\n",
      "2025-02-07 01:32:35,754 - INFO - ⚙️ Processing raster: rededge (20240708 OAT_FRONTIERS M3M 30m MS 80 85_index_red_edge_red_edge.tif)\n",
      "2025-02-07 01:32:45,546 - INFO - ✅ Successfully processed: rededge\n",
      "2025-02-07 01:32:45,595 - INFO - ✅📌 Statistics saved to: D:\\PhenoCrop\\3_python\\V2\\OAT_FRONTIERS\\20240708_OAT_FRONTIERS_M3M_30m_MS_80_85_statistics.csv\n"
     ]
    },
    {
     "name": "stdout",
     "output_type": "stream",
     "text": [
      "✅📌 Statistics saved to: D:\\PhenoCrop\\3_python\\V2\\OAT_FRONTIERS\\20240708_OAT_FRONTIERS_M3M_30m_MS_80_85_statistics.csv\n",
      "⏳ Total execution time: 47.12 seconds\n",
      "🧹 Cleared raster data from memory.\n",
      "🧹 Cleared shapefile data from memory.\n",
      "📁 Saved results to D:\\PhenoCrop\\3_python\\V2\\OAT_FRONTIERS\\20240708_OAT_FRONTIERS_M3M_30m_MS_80_85_statistics.csv\n",
      "\n",
      "🚀 Preparing raster processing for flight: 20240718 OAT_FRONTIERS M3M 20m MS 80 85\n",
      "✅ Matched geojson file: D:\\PhenoCrop\\3_qgis\\3_Extraction Polygons\\3. FINAL MASKS PYTHON\\24 OAT_FRONTIERS G2B+OatsFrontier_sorted_ID_polygons_shrinked.geojson\n",
      "\n",
      "⚙️ Processing: 20240718 OAT_FRONTIERS M3M 20m MS 80 85_transparent_mosaic_group1.tif at 25% resolution\n",
      "   - Original size: 8558 x 9508\n",
      "   - New size: 2139 x 2377\n",
      "   - Saving downscaled file: D:\\PhenoCrop\\2_pix4d_cleaned\\OAT_FRONTIERS\\MS\\20240718 OAT_FRONTIERS M3M 20m MS 80 85\\2_Orthomosaics\\20240718 OAT_FRONTIERS M3M 20m MS 80 85_transparent_mosaic_group1_thumb.tif\n",
      "✅ Successfully downscaled: 20240718 OAT_FRONTIERS M3M 20m MS 80 85_transparent_mosaic_group1.tif\n"
     ]
    },
    {
     "name": "stderr",
     "output_type": "stream",
     "text": [
      "2025-02-07 01:32:48,936 - INFO - Processing project: OAT_FRONTIERS, Flight: 20240718_OAT_FRONTIERS_M3M_20m_MS_80_85_\n",
      "2025-02-07 01:32:48,936 - INFO - ⚙️ Generating NDVI Orthomosaic for: OAT_FRONTIERS, Flight: 20240718_OAT_FRONTIERS_M3M_20m_MS_80_85_\n",
      "2025-02-07 01:32:57,558 - INFO - ✅ Successfully generated NDVI GEOTIFF\n",
      "2025-02-07 01:32:57,559 - INFO - 🚀 Preparing raster processing for flight: 20240718_OAT_FRONTIERS_M3M_20m_MS_80_85_\n",
      "2025-02-07 01:32:57,560 - INFO - ⚙️ Reading shapefile: 24 OAT_FRONTIERS G2B+OatsFrontier_sorted_ID_polygons_shrinked.geojson\n",
      "2025-02-07 01:32:57,588 - INFO - ⚙️ Processing NDVI Stats\n",
      "2025-02-07 01:33:09,924 - INFO - ✅ Successfully processed: NDVI Stats\n",
      "2025-02-07 01:33:09,925 - INFO - ⚙️ Processing raster: green (20240718 OAT_FRONTIERS M3M 20m MS 80 85_index_green_green.tif)\n",
      "2025-02-07 01:33:27,910 - INFO - ✅ Successfully processed: green\n",
      "2025-02-07 01:33:27,911 - INFO - ⚙️ Processing raster: nir (20240718 OAT_FRONTIERS M3M 20m MS 80 85_index_nir_nir.tif)\n",
      "2025-02-07 01:33:43,396 - INFO - ✅ Successfully processed: nir\n",
      "2025-02-07 01:33:43,397 - INFO - ⚙️ Processing raster: red (20240718 OAT_FRONTIERS M3M 20m MS 80 85_index_red_red.tif)\n",
      "2025-02-07 01:33:59,183 - INFO - ✅ Successfully processed: red\n",
      "2025-02-07 01:33:59,184 - INFO - ⚙️ Processing raster: rededge (20240718 OAT_FRONTIERS M3M 20m MS 80 85_index_red_edge_red_edge.tif)\n",
      "2025-02-07 01:34:15,044 - INFO - ✅ Successfully processed: rededge\n",
      "2025-02-07 01:34:15,069 - INFO - ✅📌 Statistics saved to: D:\\PhenoCrop\\3_python\\V2\\OAT_FRONTIERS\\20240718_OAT_FRONTIERS_M3M_20m_MS_80_85_statistics.csv\n"
     ]
    },
    {
     "name": "stdout",
     "output_type": "stream",
     "text": [
      "✅📌 Statistics saved to: D:\\PhenoCrop\\3_python\\V2\\OAT_FRONTIERS\\20240718_OAT_FRONTIERS_M3M_20m_MS_80_85_statistics.csv\n",
      "⏳ Total execution time: 86.14 seconds\n",
      "🧹 Cleared raster data from memory.\n",
      "🧹 Cleared shapefile data from memory.\n",
      "📁 Saved results to D:\\PhenoCrop\\3_python\\V2\\OAT_FRONTIERS\\20240718_OAT_FRONTIERS_M3M_20m_MS_80_85_statistics.csv\n",
      "\n",
      "🚀 Preparing raster processing for flight: 20240718 OAT_FRONTIERS M3M 30m MS 80 85\n",
      "✅ Matched geojson file: D:\\PhenoCrop\\3_qgis\\3_Extraction Polygons\\3. FINAL MASKS PYTHON\\24 OAT_FRONTIERS G2B+OatsFrontier_sorted_ID_polygons_shrinked.geojson\n",
      "\n",
      "⚙️ Processing: 20240718 OAT_FRONTIERS M3M 30m MS 80 85_transparent_mosaic_group1.tif at 25% resolution\n",
      "   - Original size: 6426 x 7223\n",
      "   - New size: 1606 x 1805\n"
     ]
    },
    {
     "name": "stderr",
     "output_type": "stream",
     "text": [
      "2025-02-07 01:34:16,265 - INFO - Processing project: OAT_FRONTIERS, Flight: 20240718_OAT_FRONTIERS_M3M_30m_MS_80_85_\n",
      "2025-02-07 01:34:16,265 - INFO - ⚙️ Generating NDVI Orthomosaic for: OAT_FRONTIERS, Flight: 20240718_OAT_FRONTIERS_M3M_30m_MS_80_85_\n"
     ]
    },
    {
     "name": "stdout",
     "output_type": "stream",
     "text": [
      "   - Saving downscaled file: D:\\PhenoCrop\\2_pix4d_cleaned\\OAT_FRONTIERS\\MS\\20240718 OAT_FRONTIERS M3M 30m MS 80 85\\2_Orthomosaics\\20240718 OAT_FRONTIERS M3M 30m MS 80 85_transparent_mosaic_group1_thumb.tif\n",
      "✅ Successfully downscaled: 20240718 OAT_FRONTIERS M3M 30m MS 80 85_transparent_mosaic_group1.tif\n"
     ]
    },
    {
     "name": "stderr",
     "output_type": "stream",
     "text": [
      "2025-02-07 01:34:19,581 - INFO - ✅ Successfully generated NDVI GEOTIFF\n",
      "2025-02-07 01:34:19,582 - INFO - 🚀 Preparing raster processing for flight: 20240718_OAT_FRONTIERS_M3M_30m_MS_80_85_\n",
      "2025-02-07 01:34:19,583 - INFO - ⚙️ Reading shapefile: 24 OAT_FRONTIERS G2B+OatsFrontier_sorted_ID_polygons_shrinked.geojson\n",
      "2025-02-07 01:34:19,596 - INFO - ⚙️ Processing NDVI Stats\n",
      "2025-02-07 01:34:24,284 - INFO - ✅ Successfully processed: NDVI Stats\n",
      "2025-02-07 01:34:24,285 - INFO - ⚙️ Processing raster: green (20240718 OAT_FRONTIERS M3M 30m MS 80 85_index_green_green.tif)\n",
      "2025-02-07 01:34:32,297 - INFO - ✅ Successfully processed: green\n",
      "2025-02-07 01:34:32,298 - INFO - ⚙️ Processing raster: nir (20240718 OAT_FRONTIERS M3M 30m MS 80 85_index_nir_nir.tif)\n",
      "2025-02-07 01:34:40,076 - INFO - ✅ Successfully processed: nir\n",
      "2025-02-07 01:34:40,076 - INFO - ⚙️ Processing raster: red (20240718 OAT_FRONTIERS M3M 30m MS 80 85_index_red_red.tif)\n",
      "2025-02-07 01:34:48,026 - INFO - ✅ Successfully processed: red\n",
      "2025-02-07 01:34:48,028 - INFO - ⚙️ Processing raster: rededge (20240718 OAT_FRONTIERS M3M 30m MS 80 85_index_red_edge_red_edge.tif)\n",
      "2025-02-07 01:34:55,991 - INFO - ✅ Successfully processed: rededge\n",
      "2025-02-07 01:34:56,019 - INFO - ✅📌 Statistics saved to: D:\\PhenoCrop\\3_python\\V2\\OAT_FRONTIERS\\20240718_OAT_FRONTIERS_M3M_30m_MS_80_85_statistics.csv\n"
     ]
    },
    {
     "name": "stdout",
     "output_type": "stream",
     "text": [
      "✅📌 Statistics saved to: D:\\PhenoCrop\\3_python\\V2\\OAT_FRONTIERS\\20240718_OAT_FRONTIERS_M3M_30m_MS_80_85_statistics.csv\n",
      "⏳ Total execution time: 39.76 seconds\n",
      "🧹 Cleared raster data from memory.\n",
      "🧹 Cleared shapefile data from memory.\n",
      "📁 Saved results to D:\\PhenoCrop\\3_python\\V2\\OAT_FRONTIERS\\20240718_OAT_FRONTIERS_M3M_30m_MS_80_85_statistics.csv\n",
      "\n",
      "🚀 Preparing raster processing for flight: 20240724 OAT_FRONTIERS M3M 20m MS 80 85\n",
      "✅ Matched geojson file: D:\\PhenoCrop\\3_qgis\\3_Extraction Polygons\\3. FINAL MASKS PYTHON\\24 OAT_FRONTIERS G2B+OatsFrontier_sorted_ID_polygons_shrinked.geojson\n",
      "\n",
      "⚙️ Processing: 20240724 OAT_FRONTIERS M3M 20m MS 80 85_transparent_mosaic_group1.tif at 25% resolution\n",
      "   - Original size: 8499 x 9575\n",
      "   - New size: 2124 x 2393\n"
     ]
    },
    {
     "name": "stderr",
     "output_type": "stream",
     "text": [
      "2025-02-07 01:34:57,938 - INFO - Processing project: OAT_FRONTIERS, Flight: 20240724_OAT_FRONTIERS_M3M_20m_MS_80_85_\n",
      "2025-02-07 01:34:57,939 - INFO - ⚙️ Generating NDVI Orthomosaic for: OAT_FRONTIERS, Flight: 20240724_OAT_FRONTIERS_M3M_20m_MS_80_85_\n"
     ]
    },
    {
     "name": "stdout",
     "output_type": "stream",
     "text": [
      "   - Saving downscaled file: D:\\PhenoCrop\\2_pix4d_cleaned\\OAT_FRONTIERS\\MS\\20240724 OAT_FRONTIERS M3M 20m MS 80 85\\2_Orthomosaics\\20240724 OAT_FRONTIERS M3M 20m MS 80 85_transparent_mosaic_group1_thumb.tif\n",
      "✅ Successfully downscaled: 20240724 OAT_FRONTIERS M3M 20m MS 80 85_transparent_mosaic_group1.tif\n"
     ]
    },
    {
     "name": "stderr",
     "output_type": "stream",
     "text": [
      "2025-02-07 01:35:03,623 - INFO - ✅ Successfully generated NDVI GEOTIFF\n",
      "2025-02-07 01:35:03,625 - INFO - 🚀 Preparing raster processing for flight: 20240724_OAT_FRONTIERS_M3M_20m_MS_80_85_\n",
      "2025-02-07 01:35:03,626 - INFO - ⚙️ Reading shapefile: 24 OAT_FRONTIERS G2B+OatsFrontier_sorted_ID_polygons_shrinked.geojson\n",
      "2025-02-07 01:35:03,640 - INFO - ⚙️ Processing NDVI Stats\n",
      "2025-02-07 01:35:14,320 - INFO - ✅ Successfully processed: NDVI Stats\n",
      "2025-02-07 01:35:14,321 - INFO - ⚙️ Processing raster: green (20240724 OAT_FRONTIERS M3M 20m MS 80 85_index_green_green.tif)\n",
      "2025-02-07 01:35:30,812 - INFO - ✅ Successfully processed: green\n",
      "2025-02-07 01:35:30,812 - INFO - ⚙️ Processing raster: nir (20240724 OAT_FRONTIERS M3M 20m MS 80 85_index_nir_nir.tif)\n",
      "2025-02-07 01:35:46,970 - INFO - ✅ Successfully processed: nir\n",
      "2025-02-07 01:35:46,970 - INFO - ⚙️ Processing raster: red (20240724 OAT_FRONTIERS M3M 20m MS 80 85_index_red_red.tif)\n",
      "2025-02-07 01:36:03,422 - INFO - ✅ Successfully processed: red\n",
      "2025-02-07 01:36:03,422 - INFO - ⚙️ Processing raster: rededge (20240724 OAT_FRONTIERS M3M 20m MS 80 85_index_red_edge_red_edge.tif)\n",
      "2025-02-07 01:36:19,852 - INFO - ✅ Successfully processed: rededge\n",
      "2025-02-07 01:36:19,880 - INFO - ✅📌 Statistics saved to: D:\\PhenoCrop\\3_python\\V2\\OAT_FRONTIERS\\20240724_OAT_FRONTIERS_M3M_20m_MS_80_85_statistics.csv\n"
     ]
    },
    {
     "name": "stdout",
     "output_type": "stream",
     "text": [
      "✅📌 Statistics saved to: D:\\PhenoCrop\\3_python\\V2\\OAT_FRONTIERS\\20240724_OAT_FRONTIERS_M3M_20m_MS_80_85_statistics.csv\n",
      "⏳ Total execution time: 81.94 seconds\n",
      "🧹 Cleared raster data from memory.\n",
      "🧹 Cleared shapefile data from memory.\n",
      "📁 Saved results to D:\\PhenoCrop\\3_python\\V2\\OAT_FRONTIERS\\20240724_OAT_FRONTIERS_M3M_20m_MS_80_85_statistics.csv\n",
      "\n",
      "🚀 Preparing raster processing for flight: 20240724 OAT_FRONTIERS M3M 30m MS 80 85\n",
      "✅ Matched geojson file: D:\\PhenoCrop\\3_qgis\\3_Extraction Polygons\\3. FINAL MASKS PYTHON\\24 OAT_FRONTIERS G2B+OatsFrontier_sorted_ID_polygons_shrinked.geojson\n",
      "\n",
      "⚙️ Processing: 20240724 OAT_FRONTIERS M3M 30m MS 80 85_transparent_mosaic_group1.tif at 25% resolution\n",
      "   - Original size: 6164 x 7033\n",
      "   - New size: 1541 x 1758\n"
     ]
    },
    {
     "name": "stderr",
     "output_type": "stream",
     "text": [
      "2025-02-07 01:36:20,992 - INFO - Processing project: OAT_FRONTIERS, Flight: 20240724_OAT_FRONTIERS_M3M_30m_MS_80_85_\n",
      "2025-02-07 01:36:20,993 - INFO - ⚙️ Generating NDVI Orthomosaic for: OAT_FRONTIERS, Flight: 20240724_OAT_FRONTIERS_M3M_30m_MS_80_85_\n"
     ]
    },
    {
     "name": "stdout",
     "output_type": "stream",
     "text": [
      "   - Saving downscaled file: D:\\PhenoCrop\\2_pix4d_cleaned\\OAT_FRONTIERS\\MS\\20240724 OAT_FRONTIERS M3M 30m MS 80 85\\2_Orthomosaics\\20240724 OAT_FRONTIERS M3M 30m MS 80 85_transparent_mosaic_group1_thumb.tif\n",
      "✅ Successfully downscaled: 20240724 OAT_FRONTIERS M3M 30m MS 80 85_transparent_mosaic_group1.tif\n"
     ]
    },
    {
     "name": "stderr",
     "output_type": "stream",
     "text": [
      "2025-02-07 01:36:24,112 - INFO - ✅ Successfully generated NDVI GEOTIFF\n",
      "2025-02-07 01:36:24,113 - INFO - 🚀 Preparing raster processing for flight: 20240724_OAT_FRONTIERS_M3M_30m_MS_80_85_\n",
      "2025-02-07 01:36:24,114 - INFO - ⚙️ Reading shapefile: 24 OAT_FRONTIERS G2B+OatsFrontier_sorted_ID_polygons_shrinked.geojson\n",
      "2025-02-07 01:36:24,128 - INFO - ⚙️ Processing NDVI Stats\n",
      "2025-02-07 01:36:29,167 - INFO - ✅ Successfully processed: NDVI Stats\n",
      "2025-02-07 01:36:29,168 - INFO - ⚙️ Processing raster: green (20240724 OAT_FRONTIERS M3M 30m MS 80 85_index_green_green.tif)\n",
      "2025-02-07 01:36:37,416 - INFO - ✅ Successfully processed: green\n",
      "2025-02-07 01:36:37,417 - INFO - ⚙️ Processing raster: nir (20240724 OAT_FRONTIERS M3M 30m MS 80 85_index_nir_nir.tif)\n",
      "2025-02-07 01:36:45,464 - INFO - ✅ Successfully processed: nir\n",
      "2025-02-07 01:36:45,465 - INFO - ⚙️ Processing raster: red (20240724 OAT_FRONTIERS M3M 30m MS 80 85_index_red_red.tif)\n",
      "2025-02-07 01:36:53,643 - INFO - ✅ Successfully processed: red\n",
      "2025-02-07 01:36:53,644 - INFO - ⚙️ Processing raster: rededge (20240724 OAT_FRONTIERS M3M 30m MS 80 85_index_red_edge_red_edge.tif)\n",
      "2025-02-07 01:37:01,904 - INFO - ✅ Successfully processed: rededge\n",
      "2025-02-07 01:37:01,933 - INFO - ✅📌 Statistics saved to: D:\\PhenoCrop\\3_python\\V2\\OAT_FRONTIERS\\20240724_OAT_FRONTIERS_M3M_30m_MS_80_85_statistics.csv\n"
     ]
    },
    {
     "name": "stdout",
     "output_type": "stream",
     "text": [
      "✅📌 Statistics saved to: D:\\PhenoCrop\\3_python\\V2\\OAT_FRONTIERS\\20240724_OAT_FRONTIERS_M3M_30m_MS_80_85_statistics.csv\n",
      "⏳ Total execution time: 40.94 seconds\n",
      "🧹 Cleared raster data from memory.\n",
      "🧹 Cleared shapefile data from memory.\n",
      "📁 Saved results to D:\\PhenoCrop\\3_python\\V2\\OAT_FRONTIERS\\20240724_OAT_FRONTIERS_M3M_30m_MS_80_85_statistics.csv\n",
      "\n",
      "🚀 Preparing raster processing for flight: 20240729 OAT_FRONTIERS M3M 20m MS 80 85\n",
      "✅ Matched geojson file: D:\\PhenoCrop\\3_qgis\\3_Extraction Polygons\\3. FINAL MASKS PYTHON\\24 OAT_FRONTIERS G2B+OatsFrontier_sorted_ID_polygons_shrinked.geojson\n",
      "\n",
      "⚙️ Processing: 20240729 OAT_FRONTIERS M3M 20m MS 80 85_transparent_mosaic_group1.tif at 25% resolution\n",
      "   - Original size: 10059 x 10971\n",
      "   - New size: 2514 x 2742\n",
      "   - Saving downscaled file: D:\\PhenoCrop\\2_pix4d_cleaned\\OAT_FRONTIERS\\MS\\20240729 OAT_FRONTIERS M3M 20m MS 80 85\\2_Orthomosaics\\20240729 OAT_FRONTIERS M3M 20m MS 80 85_transparent_mosaic_group1_thumb.tif\n",
      "✅ Successfully downscaled: 20240729 OAT_FRONTIERS M3M 20m MS 80 85_transparent_mosaic_group1.tif\n"
     ]
    },
    {
     "name": "stderr",
     "output_type": "stream",
     "text": [
      "2025-02-07 01:37:04,501 - INFO - Processing project: OAT_FRONTIERS, Flight: 20240729_OAT_FRONTIERS_M3M_20m_MS_80_85_\n",
      "2025-02-07 01:37:04,502 - INFO - ⚙️ Generating NDVI Orthomosaic for: OAT_FRONTIERS, Flight: 20240729_OAT_FRONTIERS_M3M_20m_MS_80_85_\n",
      "2025-02-07 01:37:12,539 - INFO - ✅ Successfully generated NDVI GEOTIFF\n",
      "2025-02-07 01:37:12,540 - INFO - 🚀 Preparing raster processing for flight: 20240729_OAT_FRONTIERS_M3M_20m_MS_80_85_\n",
      "2025-02-07 01:37:12,541 - INFO - ⚙️ Reading shapefile: 24 OAT_FRONTIERS G2B+OatsFrontier_sorted_ID_polygons_shrinked.geojson\n",
      "2025-02-07 01:37:12,559 - INFO - ⚙️ Processing NDVI Stats\n",
      "2025-02-07 01:37:26,762 - INFO - ✅ Successfully processed: NDVI Stats\n",
      "2025-02-07 01:37:26,762 - INFO - ⚙️ Processing raster: green (20240729 OAT_FRONTIERS M3M 20m MS 80 85_index_green_green.tif)\n",
      "2025-02-07 01:37:48,831 - INFO - ✅ Successfully processed: green\n",
      "2025-02-07 01:37:48,832 - INFO - ⚙️ Processing raster: nir (20240729 OAT_FRONTIERS M3M 20m MS 80 85_index_nir_nir.tif)\n",
      "2025-02-07 01:38:10,561 - INFO - ✅ Successfully processed: nir\n",
      "2025-02-07 01:38:10,561 - INFO - ⚙️ Processing raster: red (20240729 OAT_FRONTIERS M3M 20m MS 80 85_index_red_red.tif)\n",
      "2025-02-07 01:38:32,747 - INFO - ✅ Successfully processed: red\n",
      "2025-02-07 01:38:32,747 - INFO - ⚙️ Processing raster: rededge (20240729 OAT_FRONTIERS M3M 20m MS 80 85_index_red_edge_red_edge.tif)\n",
      "2025-02-07 01:38:54,933 - INFO - ✅ Successfully processed: rededge\n",
      "2025-02-07 01:38:54,960 - INFO - ✅📌 Statistics saved to: D:\\PhenoCrop\\3_python\\V2\\OAT_FRONTIERS\\20240729_OAT_FRONTIERS_M3M_20m_MS_80_85_statistics.csv\n"
     ]
    },
    {
     "name": "stdout",
     "output_type": "stream",
     "text": [
      "✅📌 Statistics saved to: D:\\PhenoCrop\\3_python\\V2\\OAT_FRONTIERS\\20240729_OAT_FRONTIERS_M3M_20m_MS_80_85_statistics.csv\n",
      "⏳ Total execution time: 110.46 seconds\n",
      "🧹 Cleared raster data from memory.\n",
      "🧹 Cleared shapefile data from memory.\n",
      "📁 Saved results to D:\\PhenoCrop\\3_python\\V2\\OAT_FRONTIERS\\20240729_OAT_FRONTIERS_M3M_20m_MS_80_85_statistics.csv\n",
      "\n",
      "🚀 Preparing raster processing for flight: 20240729 OAT_FRONTIERS M3M 30m MS 80 85\n",
      "✅ Matched geojson file: D:\\PhenoCrop\\3_qgis\\3_Extraction Polygons\\3. FINAL MASKS PYTHON\\24 OAT_FRONTIERS G2B+OatsFrontier_sorted_ID_polygons_shrinked.geojson\n",
      "\n",
      "⚙️ Processing: 20240729 OAT_FRONTIERS M3M 30m MS 80 85_transparent_mosaic_group1.tif at 25% resolution\n",
      "   - Original size: 7172 x 7761\n",
      "   - New size: 1793 x 1940\n"
     ]
    },
    {
     "name": "stderr",
     "output_type": "stream",
     "text": [
      "2025-02-07 01:38:56,401 - INFO - Processing project: OAT_FRONTIERS, Flight: 20240729_OAT_FRONTIERS_M3M_30m_MS_80_85_\n",
      "2025-02-07 01:38:56,402 - INFO - ⚙️ Generating NDVI Orthomosaic for: OAT_FRONTIERS, Flight: 20240729_OAT_FRONTIERS_M3M_30m_MS_80_85_\n"
     ]
    },
    {
     "name": "stdout",
     "output_type": "stream",
     "text": [
      "   - Saving downscaled file: D:\\PhenoCrop\\2_pix4d_cleaned\\OAT_FRONTIERS\\MS\\20240729 OAT_FRONTIERS M3M 30m MS 80 85\\2_Orthomosaics\\20240729 OAT_FRONTIERS M3M 30m MS 80 85_transparent_mosaic_group1_thumb.tif\n",
      "✅ Successfully downscaled: 20240729 OAT_FRONTIERS M3M 30m MS 80 85_transparent_mosaic_group1.tif\n"
     ]
    },
    {
     "name": "stderr",
     "output_type": "stream",
     "text": [
      "2025-02-07 01:39:00,353 - INFO - ✅ Successfully generated NDVI GEOTIFF\n",
      "2025-02-07 01:39:00,353 - INFO - 🚀 Preparing raster processing for flight: 20240729_OAT_FRONTIERS_M3M_30m_MS_80_85_\n",
      "2025-02-07 01:39:00,354 - INFO - ⚙️ Reading shapefile: 24 OAT_FRONTIERS G2B+OatsFrontier_sorted_ID_polygons_shrinked.geojson\n",
      "2025-02-07 01:39:00,367 - INFO - ⚙️ Processing NDVI Stats\n",
      "2025-02-07 01:39:06,186 - INFO - ✅ Successfully processed: NDVI Stats\n",
      "2025-02-07 01:39:06,186 - INFO - ⚙️ Processing raster: green (20240729 OAT_FRONTIERS M3M 30m MS 80 85_index_green_green.tif)\n",
      "2025-02-07 01:39:16,017 - INFO - ✅ Successfully processed: green\n",
      "2025-02-07 01:39:16,018 - INFO - ⚙️ Processing raster: nir (20240729 OAT_FRONTIERS M3M 30m MS 80 85_index_nir_nir.tif)\n",
      "2025-02-07 01:39:25,594 - INFO - ✅ Successfully processed: nir\n",
      "2025-02-07 01:39:25,594 - INFO - ⚙️ Processing raster: red (20240729 OAT_FRONTIERS M3M 30m MS 80 85_index_red_red.tif)\n",
      "2025-02-07 01:39:35,411 - INFO - ✅ Successfully processed: red\n",
      "2025-02-07 01:39:35,412 - INFO - ⚙️ Processing raster: rededge (20240729 OAT_FRONTIERS M3M 30m MS 80 85_index_red_edge_red_edge.tif)\n",
      "2025-02-07 01:39:45,277 - INFO - ✅ Successfully processed: rededge\n",
      "2025-02-07 01:39:45,305 - INFO - ✅📌 Statistics saved to: D:\\PhenoCrop\\3_python\\V2\\OAT_FRONTIERS\\20240729_OAT_FRONTIERS_M3M_30m_MS_80_85_statistics.csv\n"
     ]
    },
    {
     "name": "stdout",
     "output_type": "stream",
     "text": [
      "✅📌 Statistics saved to: D:\\PhenoCrop\\3_python\\V2\\OAT_FRONTIERS\\20240729_OAT_FRONTIERS_M3M_30m_MS_80_85_statistics.csv\n",
      "⏳ Total execution time: 48.91 seconds\n",
      "🧹 Cleared raster data from memory.\n",
      "🧹 Cleared shapefile data from memory.\n",
      "📁 Saved results to D:\\PhenoCrop\\3_python\\V2\\OAT_FRONTIERS\\20240729_OAT_FRONTIERS_M3M_30m_MS_80_85_statistics.csv\n",
      "\n",
      "🚀 Preparing raster processing for flight: 20240805 OAT_FRONTIERS M3M 20m MS 80 85\n",
      "✅ Matched geojson file: D:\\PhenoCrop\\3_qgis\\3_Extraction Polygons\\3. FINAL MASKS PYTHON\\24 OAT_FRONTIERS G2B+OatsFrontier_sorted_ID_polygons_shrinked.geojson\n",
      "\n",
      "⚙️ Processing: 20240805 OAT_FRONTIERS M3M 20m MS 80 85_transparent_mosaic_group1.tif at 25% resolution\n",
      "   - Original size: 9877 x 10426\n",
      "   - New size: 2469 x 2606\n"
     ]
    },
    {
     "name": "stderr",
     "output_type": "stream",
     "text": [
      "2025-02-07 01:39:47,691 - INFO - Processing project: OAT_FRONTIERS, Flight: 20240805_OAT_FRONTIERS_M3M_20m_MS_80_85_\n"
     ]
    },
    {
     "name": "stdout",
     "output_type": "stream",
     "text": [
      "   - Saving downscaled file: D:\\PhenoCrop\\2_pix4d_cleaned\\OAT_FRONTIERS\\MS\\20240805 OAT_FRONTIERS M3M 20m MS 80 85\\2_Orthomosaics\\20240805 OAT_FRONTIERS M3M 20m MS 80 85_transparent_mosaic_group1_thumb.tif\n",
      "✅ Successfully downscaled: 20240805 OAT_FRONTIERS M3M 20m MS 80 85_transparent_mosaic_group1.tif\n"
     ]
    },
    {
     "name": "stderr",
     "output_type": "stream",
     "text": [
      "2025-02-07 01:39:47,692 - INFO - ⚙️ Generating NDVI Orthomosaic for: OAT_FRONTIERS, Flight: 20240805_OAT_FRONTIERS_M3M_20m_MS_80_85_\n",
      "2025-02-07 01:39:55,001 - INFO - ✅ Successfully generated NDVI GEOTIFF\n",
      "2025-02-07 01:39:55,002 - INFO - 🚀 Preparing raster processing for flight: 20240805_OAT_FRONTIERS_M3M_20m_MS_80_85_\n",
      "2025-02-07 01:39:55,003 - INFO - ⚙️ Reading shapefile: 24 OAT_FRONTIERS G2B+OatsFrontier_sorted_ID_polygons_shrinked.geojson\n",
      "2025-02-07 01:39:55,017 - INFO - ⚙️ Processing NDVI Stats\n",
      "2025-02-07 01:40:07,224 - INFO - ✅ Successfully processed: NDVI Stats\n",
      "2025-02-07 01:40:07,225 - INFO - ⚙️ Processing raster: green (20240805 OAT_FRONTIERS M3M 20m MS 80 85_index_green_green.tif)\n",
      "2025-02-07 01:40:26,862 - INFO - ✅ Successfully processed: green\n",
      "2025-02-07 01:40:26,863 - INFO - ⚙️ Processing raster: nir (20240805 OAT_FRONTIERS M3M 20m MS 80 85_index_nir_nir.tif)\n",
      "2025-02-07 01:40:46,278 - INFO - ✅ Successfully processed: nir\n",
      "2025-02-07 01:40:46,278 - INFO - ⚙️ Processing raster: red (20240805 OAT_FRONTIERS M3M 20m MS 80 85_index_red_red.tif)\n",
      "2025-02-07 01:41:05,893 - INFO - ✅ Successfully processed: red\n",
      "2025-02-07 01:41:05,893 - INFO - ⚙️ Processing raster: rededge (20240805 OAT_FRONTIERS M3M 20m MS 80 85_index_red_edge_red_edge.tif)\n",
      "2025-02-07 01:41:25,435 - INFO - ✅ Successfully processed: rededge\n",
      "2025-02-07 01:41:25,460 - INFO - ✅📌 Statistics saved to: D:\\PhenoCrop\\3_python\\V2\\OAT_FRONTIERS\\20240805_OAT_FRONTIERS_M3M_20m_MS_80_85_statistics.csv\n"
     ]
    },
    {
     "name": "stdout",
     "output_type": "stream",
     "text": [
      "✅📌 Statistics saved to: D:\\PhenoCrop\\3_python\\V2\\OAT_FRONTIERS\\20240805_OAT_FRONTIERS_M3M_20m_MS_80_85_statistics.csv\n",
      "⏳ Total execution time: 97.77 seconds\n",
      "🧹 Cleared raster data from memory.\n",
      "🧹 Cleared shapefile data from memory.\n",
      "📁 Saved results to D:\\PhenoCrop\\3_python\\V2\\OAT_FRONTIERS\\20240805_OAT_FRONTIERS_M3M_20m_MS_80_85_statistics.csv\n",
      "\n",
      "🚀 Preparing raster processing for flight: 20240806 OAT_FRONTIERS M3M 30m MS 80 85\n",
      "✅ Matched geojson file: D:\\PhenoCrop\\3_qgis\\3_Extraction Polygons\\3. FINAL MASKS PYTHON\\24 OAT_FRONTIERS G2B+OatsFrontier_sorted_ID_polygons_shrinked.geojson\n",
      "\n",
      "⚙️ Processing: 20240806 OAT_FRONTIERS M3M 30m MS 80 85_transparent_mosaic_group1.tif at 25% resolution\n",
      "   - Original size: 7214 x 7725\n",
      "   - New size: 1803 x 1931\n"
     ]
    },
    {
     "name": "stderr",
     "output_type": "stream",
     "text": [
      "2025-02-07 01:41:26,889 - INFO - Processing project: OAT_FRONTIERS, Flight: 20240806_OAT_FRONTIERS_M3M_30m_MS_80_85_\n",
      "2025-02-07 01:41:26,890 - INFO - ⚙️ Generating NDVI Orthomosaic for: OAT_FRONTIERS, Flight: 20240806_OAT_FRONTIERS_M3M_30m_MS_80_85_\n"
     ]
    },
    {
     "name": "stdout",
     "output_type": "stream",
     "text": [
      "   - Saving downscaled file: D:\\PhenoCrop\\2_pix4d_cleaned\\OAT_FRONTIERS\\MS\\20240806 OAT_FRONTIERS M3M 30m MS 80 85\\2_Orthomosaics\\20240806 OAT_FRONTIERS M3M 30m MS 80 85_transparent_mosaic_group1_thumb.tif\n",
      "✅ Successfully downscaled: 20240806 OAT_FRONTIERS M3M 30m MS 80 85_transparent_mosaic_group1.tif\n"
     ]
    },
    {
     "name": "stderr",
     "output_type": "stream",
     "text": [
      "2025-02-07 01:41:30,829 - INFO - ✅ Successfully generated NDVI GEOTIFF\n",
      "2025-02-07 01:41:30,830 - INFO - 🚀 Preparing raster processing for flight: 20240806_OAT_FRONTIERS_M3M_30m_MS_80_85_\n",
      "2025-02-07 01:41:30,830 - INFO - ⚙️ Reading shapefile: 24 OAT_FRONTIERS G2B+OatsFrontier_sorted_ID_polygons_shrinked.geojson\n",
      "2025-02-07 01:41:30,845 - INFO - ⚙️ Processing NDVI Stats\n",
      "2025-02-07 01:41:36,554 - INFO - ✅ Successfully processed: NDVI Stats\n",
      "2025-02-07 01:41:36,555 - INFO - ⚙️ Processing raster: green (20240806 OAT_FRONTIERS M3M 30m MS 80 85_index_green_green.tif)\n",
      "2025-02-07 01:41:46,159 - INFO - ✅ Successfully processed: green\n",
      "2025-02-07 01:41:46,160 - INFO - ⚙️ Processing raster: nir (20240806 OAT_FRONTIERS M3M 30m MS 80 85_index_nir_nir.tif)\n",
      "2025-02-07 01:41:55,449 - INFO - ✅ Successfully processed: nir\n",
      "2025-02-07 01:41:55,450 - INFO - ⚙️ Processing raster: red (20240806 OAT_FRONTIERS M3M 30m MS 80 85_index_red_red.tif)\n",
      "2025-02-07 01:42:04,989 - INFO - ✅ Successfully processed: red\n",
      "2025-02-07 01:42:04,991 - INFO - ⚙️ Processing raster: rededge (20240806 OAT_FRONTIERS M3M 30m MS 80 85_index_red_edge_red_edge.tif)\n",
      "2025-02-07 01:42:14,574 - INFO - ✅ Successfully processed: rededge\n",
      "2025-02-07 01:42:14,602 - INFO - ✅📌 Statistics saved to: D:\\PhenoCrop\\3_python\\V2\\OAT_FRONTIERS\\20240806_OAT_FRONTIERS_M3M_30m_MS_80_85_statistics.csv\n"
     ]
    },
    {
     "name": "stdout",
     "output_type": "stream",
     "text": [
      "✅📌 Statistics saved to: D:\\PhenoCrop\\3_python\\V2\\OAT_FRONTIERS\\20240806_OAT_FRONTIERS_M3M_30m_MS_80_85_statistics.csv\n",
      "⏳ Total execution time: 47.71 seconds\n",
      "🧹 Cleared raster data from memory.\n",
      "🧹 Cleared shapefile data from memory.\n",
      "📁 Saved results to D:\\PhenoCrop\\3_python\\V2\\OAT_FRONTIERS\\20240806_OAT_FRONTIERS_M3M_30m_MS_80_85_statistics.csv\n",
      "\n",
      "🚀 Preparing raster processing for flight: 20240812 OAT_FRONTIERS M3M 20m MS 80 85\n",
      "✅ Matched geojson file: D:\\PhenoCrop\\3_qgis\\3_Extraction Polygons\\3. FINAL MASKS PYTHON\\24 OAT_FRONTIERS G2B+OatsFrontier_sorted_ID_polygons_shrinked.geojson\n",
      "\n",
      "⚙️ Processing: 20240812 OAT_FRONTIERS M3M 20m MS 80 85_transparent_mosaic_group1.tif at 25% resolution\n",
      "   - Original size: 9994 x 10625\n",
      "   - New size: 2498 x 2656\n"
     ]
    },
    {
     "name": "stderr",
     "output_type": "stream",
     "text": [
      "2025-02-07 01:42:17,115 - INFO - Processing project: OAT_FRONTIERS, Flight: 20240812_OAT_FRONTIERS_M3M_20m_MS_80_85_\n"
     ]
    },
    {
     "name": "stdout",
     "output_type": "stream",
     "text": [
      "   - Saving downscaled file: D:\\PhenoCrop\\2_pix4d_cleaned\\OAT_FRONTIERS\\MS\\20240812 OAT_FRONTIERS M3M 20m MS 80 85\\2_Orthomosaics\\20240812 OAT_FRONTIERS M3M 20m MS 80 85_transparent_mosaic_group1_thumb.tif\n",
      "✅ Successfully downscaled: 20240812 OAT_FRONTIERS M3M 20m MS 80 85_transparent_mosaic_group1.tif\n"
     ]
    },
    {
     "name": "stderr",
     "output_type": "stream",
     "text": [
      "2025-02-07 01:42:17,116 - INFO - ⚙️ Generating NDVI Orthomosaic for: OAT_FRONTIERS, Flight: 20240812_OAT_FRONTIERS_M3M_20m_MS_80_85_\n",
      "2025-02-07 01:42:24,616 - INFO - ✅ Successfully generated NDVI GEOTIFF\n",
      "2025-02-07 01:42:24,616 - INFO - 🚀 Preparing raster processing for flight: 20240812_OAT_FRONTIERS_M3M_20m_MS_80_85_\n",
      "2025-02-07 01:42:24,617 - INFO - ⚙️ Reading shapefile: 24 OAT_FRONTIERS G2B+OatsFrontier_sorted_ID_polygons_shrinked.geojson\n",
      "2025-02-07 01:42:24,632 - INFO - ⚙️ Processing NDVI Stats\n",
      "2025-02-07 01:42:37,607 - INFO - ✅ Successfully processed: NDVI Stats\n",
      "2025-02-07 01:42:37,608 - INFO - ⚙️ Processing raster: green (20240812 OAT_FRONTIERS M3M 20m MS 80 85_index_green_green.tif)\n",
      "2025-02-07 01:42:58,053 - INFO - ✅ Successfully processed: green\n",
      "2025-02-07 01:42:58,054 - INFO - ⚙️ Processing raster: nir (20240812 OAT_FRONTIERS M3M 20m MS 80 85_index_nir_nir.tif)\n",
      "2025-02-07 01:43:18,106 - INFO - ✅ Successfully processed: nir\n",
      "2025-02-07 01:43:18,107 - INFO - ⚙️ Processing raster: red (20240812 OAT_FRONTIERS M3M 20m MS 80 85_index_red_red.tif)\n",
      "2025-02-07 01:43:38,446 - INFO - ✅ Successfully processed: red\n",
      "2025-02-07 01:43:38,446 - INFO - ⚙️ Processing raster: rededge (20240812 OAT_FRONTIERS M3M 20m MS 80 85_index_red_edge_red_edge.tif)\n",
      "2025-02-07 01:43:58,932 - INFO - ✅ Successfully processed: rededge\n",
      "2025-02-07 01:43:58,960 - INFO - ✅📌 Statistics saved to: D:\\PhenoCrop\\3_python\\V2\\OAT_FRONTIERS\\20240812_OAT_FRONTIERS_M3M_20m_MS_80_85_statistics.csv\n"
     ]
    },
    {
     "name": "stdout",
     "output_type": "stream",
     "text": [
      "✅📌 Statistics saved to: D:\\PhenoCrop\\3_python\\V2\\OAT_FRONTIERS\\20240812_OAT_FRONTIERS_M3M_20m_MS_80_85_statistics.csv\n",
      "⏳ Total execution time: 101.85 seconds\n",
      "🧹 Cleared raster data from memory.\n",
      "🧹 Cleared shapefile data from memory.\n",
      "📁 Saved results to D:\\PhenoCrop\\3_python\\V2\\OAT_FRONTIERS\\20240812_OAT_FRONTIERS_M3M_20m_MS_80_85_statistics.csv\n",
      "\n",
      "🚀 Preparing raster processing for flight: 20240812 OAT_FRONTIERS M3M 30m MS 80 85\n",
      "✅ Matched geojson file: D:\\PhenoCrop\\3_qgis\\3_Extraction Polygons\\3. FINAL MASKS PYTHON\\24 OAT_FRONTIERS G2B+OatsFrontier_sorted_ID_polygons_shrinked.geojson\n",
      "\n",
      "⚙️ Processing: 20240812 OAT_FRONTIERS M3M 30m MS 80 85_transparent_mosaic_group1.tif at 25% resolution\n",
      "   - Original size: 7451 x 7903\n",
      "   - New size: 1862 x 1975\n"
     ]
    },
    {
     "name": "stderr",
     "output_type": "stream",
     "text": [
      "2025-02-07 01:44:00,495 - INFO - Processing project: OAT_FRONTIERS, Flight: 20240812_OAT_FRONTIERS_M3M_30m_MS_80_85_\n",
      "2025-02-07 01:44:00,496 - INFO - ⚙️ Generating NDVI Orthomosaic for: OAT_FRONTIERS, Flight: 20240812_OAT_FRONTIERS_M3M_30m_MS_80_85_\n"
     ]
    },
    {
     "name": "stdout",
     "output_type": "stream",
     "text": [
      "   - Saving downscaled file: D:\\PhenoCrop\\2_pix4d_cleaned\\OAT_FRONTIERS\\MS\\20240812 OAT_FRONTIERS M3M 30m MS 80 85\\2_Orthomosaics\\20240812 OAT_FRONTIERS M3M 30m MS 80 85_transparent_mosaic_group1_thumb.tif\n",
      "✅ Successfully downscaled: 20240812 OAT_FRONTIERS M3M 30m MS 80 85_transparent_mosaic_group1.tif\n"
     ]
    },
    {
     "name": "stderr",
     "output_type": "stream",
     "text": [
      "2025-02-07 01:44:04,609 - INFO - ✅ Successfully generated NDVI GEOTIFF\n",
      "2025-02-07 01:44:04,610 - INFO - 🚀 Preparing raster processing for flight: 20240812_OAT_FRONTIERS_M3M_30m_MS_80_85_\n",
      "2025-02-07 01:44:04,610 - INFO - ⚙️ Reading shapefile: 24 OAT_FRONTIERS G2B+OatsFrontier_sorted_ID_polygons_shrinked.geojson\n",
      "2025-02-07 01:44:04,624 - INFO - ⚙️ Processing NDVI Stats\n",
      "2025-02-07 01:44:10,601 - INFO - ✅ Successfully processed: NDVI Stats\n",
      "2025-02-07 01:44:10,602 - INFO - ⚙️ Processing raster: green (20240812 OAT_FRONTIERS M3M 30m MS 80 85_index_green_green.tif)\n",
      "2025-02-07 01:44:20,722 - INFO - ✅ Successfully processed: green\n",
      "2025-02-07 01:44:20,723 - INFO - ⚙️ Processing raster: nir (20240812 OAT_FRONTIERS M3M 30m MS 80 85_index_nir_nir.tif)\n",
      "2025-02-07 01:44:30,537 - INFO - ✅ Successfully processed: nir\n",
      "2025-02-07 01:44:30,538 - INFO - ⚙️ Processing raster: red (20240812 OAT_FRONTIERS M3M 30m MS 80 85_index_red_red.tif)\n",
      "2025-02-07 01:44:40,563 - INFO - ✅ Successfully processed: red\n",
      "2025-02-07 01:44:40,565 - INFO - ⚙️ Processing raster: rededge (20240812 OAT_FRONTIERS M3M 30m MS 80 85_index_red_edge_red_edge.tif)\n",
      "2025-02-07 01:44:50,717 - INFO - ✅ Successfully processed: rededge\n",
      "2025-02-07 01:44:50,747 - INFO - ✅📌 Statistics saved to: D:\\PhenoCrop\\3_python\\V2\\OAT_FRONTIERS\\20240812_OAT_FRONTIERS_M3M_30m_MS_80_85_statistics.csv\n"
     ]
    },
    {
     "name": "stdout",
     "output_type": "stream",
     "text": [
      "✅📌 Statistics saved to: D:\\PhenoCrop\\3_python\\V2\\OAT_FRONTIERS\\20240812_OAT_FRONTIERS_M3M_30m_MS_80_85_statistics.csv\n",
      "⏳ Total execution time: 50.25 seconds\n",
      "🧹 Cleared raster data from memory.\n",
      "🧹 Cleared shapefile data from memory.\n",
      "📁 Saved results to D:\\PhenoCrop\\3_python\\V2\\OAT_FRONTIERS\\20240812_OAT_FRONTIERS_M3M_30m_MS_80_85_statistics.csv\n",
      "\n",
      "🚀 Preparing raster processing for flight: 20240819 OAT_FRONTIERS M3M 20m MS 80 85\n",
      "✅ Matched geojson file: D:\\PhenoCrop\\3_qgis\\3_Extraction Polygons\\3. FINAL MASKS PYTHON\\24 OAT_FRONTIERS G2B+OatsFrontier_sorted_ID_polygons_shrinked.geojson\n",
      "\n",
      "⚙️ Processing: 20240819 OAT_FRONTIERS M3M 20m MS 80 85_transparent_mosaic_group1.tif at 25% resolution\n",
      "   - Original size: 10206 x 11019\n",
      "   - New size: 2551 x 2754\n",
      "   - Saving downscaled file: D:\\PhenoCrop\\2_pix4d_cleaned\\OAT_FRONTIERS\\MS\\20240819 OAT_FRONTIERS M3M 20m MS 80 85\\2_Orthomosaics\\20240819 OAT_FRONTIERS M3M 20m MS 80 85_transparent_mosaic_group1_thumb.tif\n",
      "✅ Successfully downscaled: 20240819 OAT_FRONTIERS M3M 20m MS 80 85_transparent_mosaic_group1.tif\n"
     ]
    },
    {
     "name": "stderr",
     "output_type": "stream",
     "text": [
      "2025-02-07 01:44:53,319 - INFO - Processing project: OAT_FRONTIERS, Flight: 20240819_OAT_FRONTIERS_M3M_20m_MS_80_85_\n",
      "2025-02-07 01:44:53,320 - INFO - ⚙️ Generating NDVI Orthomosaic for: OAT_FRONTIERS, Flight: 20240819_OAT_FRONTIERS_M3M_20m_MS_80_85_\n",
      "2025-02-07 01:45:01,177 - INFO - ✅ Successfully generated NDVI GEOTIFF\n",
      "2025-02-07 01:45:01,178 - INFO - 🚀 Preparing raster processing for flight: 20240819_OAT_FRONTIERS_M3M_20m_MS_80_85_\n",
      "2025-02-07 01:45:01,178 - INFO - ⚙️ Reading shapefile: 24 OAT_FRONTIERS G2B+OatsFrontier_sorted_ID_polygons_shrinked.geojson\n",
      "2025-02-07 01:45:01,191 - INFO - ⚙️ Processing NDVI Stats\n",
      "2025-02-07 01:45:14,736 - INFO - ✅ Successfully processed: NDVI Stats\n",
      "2025-02-07 01:45:14,737 - INFO - ⚙️ Processing raster: green (20240819 OAT_FRONTIERS M3M 20m MS 80 85_index_green_green.tif)\n",
      "2025-02-07 01:45:35,851 - INFO - ✅ Successfully processed: green\n",
      "2025-02-07 01:45:35,852 - INFO - ⚙️ Processing raster: nir (20240819 OAT_FRONTIERS M3M 20m MS 80 85_index_nir_nir.tif)\n",
      "2025-02-07 01:45:56,835 - INFO - ✅ Successfully processed: nir\n",
      "2025-02-07 01:45:56,836 - INFO - ⚙️ Processing raster: red (20240819 OAT_FRONTIERS M3M 20m MS 80 85_index_red_red.tif)\n",
      "2025-02-07 01:46:17,999 - INFO - ✅ Successfully processed: red\n",
      "2025-02-07 01:46:18,000 - INFO - ⚙️ Processing raster: rededge (20240819 OAT_FRONTIERS M3M 20m MS 80 85_index_red_edge_red_edge.tif)\n",
      "2025-02-07 01:46:39,248 - INFO - ✅ Successfully processed: rededge\n",
      "2025-02-07 01:46:39,275 - INFO - ✅📌 Statistics saved to: D:\\PhenoCrop\\3_python\\V2\\OAT_FRONTIERS\\20240819_OAT_FRONTIERS_M3M_20m_MS_80_85_statistics.csv\n"
     ]
    },
    {
     "name": "stdout",
     "output_type": "stream",
     "text": [
      "✅📌 Statistics saved to: D:\\PhenoCrop\\3_python\\V2\\OAT_FRONTIERS\\20240819_OAT_FRONTIERS_M3M_20m_MS_80_85_statistics.csv\n",
      "⏳ Total execution time: 105.96 seconds\n",
      "🧹 Cleared raster data from memory.\n",
      "🧹 Cleared shapefile data from memory.\n",
      "📁 Saved results to D:\\PhenoCrop\\3_python\\V2\\OAT_FRONTIERS\\20240819_OAT_FRONTIERS_M3M_20m_MS_80_85_statistics.csv\n",
      "\n",
      "🚀 Preparing raster processing for flight: 20240819 OAT_FRONTIERS M3M 30m MS 80 85\n",
      "✅ Matched geojson file: D:\\PhenoCrop\\3_qgis\\3_Extraction Polygons\\3. FINAL MASKS PYTHON\\24 OAT_FRONTIERS G2B+OatsFrontier_sorted_ID_polygons_shrinked.geojson\n",
      "\n",
      "⚙️ Processing: 20240819 OAT_FRONTIERS M3M 30m MS 80 85_transparent_mosaic_group1.tif at 25% resolution\n",
      "   - Original size: 7470 x 7821\n",
      "   - New size: 1867 x 1955\n"
     ]
    },
    {
     "name": "stderr",
     "output_type": "stream",
     "text": [
      "2025-02-07 01:46:40,766 - INFO - Processing project: OAT_FRONTIERS, Flight: 20240819_OAT_FRONTIERS_M3M_30m_MS_80_85_\n",
      "2025-02-07 01:46:40,767 - INFO - ⚙️ Generating NDVI Orthomosaic for: OAT_FRONTIERS, Flight: 20240819_OAT_FRONTIERS_M3M_30m_MS_80_85_\n"
     ]
    },
    {
     "name": "stdout",
     "output_type": "stream",
     "text": [
      "   - Saving downscaled file: D:\\PhenoCrop\\2_pix4d_cleaned\\OAT_FRONTIERS\\MS\\20240819 OAT_FRONTIERS M3M 30m MS 80 85\\2_Orthomosaics\\20240819 OAT_FRONTIERS M3M 30m MS 80 85_transparent_mosaic_group1_thumb.tif\n",
      "✅ Successfully downscaled: 20240819 OAT_FRONTIERS M3M 30m MS 80 85_transparent_mosaic_group1.tif\n"
     ]
    },
    {
     "name": "stderr",
     "output_type": "stream",
     "text": [
      "2025-02-07 01:46:44,851 - INFO - ✅ Successfully generated NDVI GEOTIFF\n",
      "2025-02-07 01:46:44,852 - INFO - 🚀 Preparing raster processing for flight: 20240819_OAT_FRONTIERS_M3M_30m_MS_80_85_\n",
      "2025-02-07 01:46:44,852 - INFO - ⚙️ Reading shapefile: 24 OAT_FRONTIERS G2B+OatsFrontier_sorted_ID_polygons_shrinked.geojson\n",
      "2025-02-07 01:46:44,865 - INFO - ⚙️ Processing NDVI Stats\n",
      "2025-02-07 01:46:50,433 - INFO - ✅ Successfully processed: NDVI Stats\n",
      "2025-02-07 01:46:50,434 - INFO - ⚙️ Processing raster: green (20240819 OAT_FRONTIERS M3M 30m MS 80 85_index_green_green.tif)\n",
      "2025-02-07 01:47:00,201 - INFO - ✅ Successfully processed: green\n",
      "2025-02-07 01:47:00,201 - INFO - ⚙️ Processing raster: nir (20240819 OAT_FRONTIERS M3M 30m MS 80 85_index_nir_nir.tif)\n",
      "2025-02-07 01:47:09,761 - INFO - ✅ Successfully processed: nir\n",
      "2025-02-07 01:47:09,761 - INFO - ⚙️ Processing raster: red (20240819 OAT_FRONTIERS M3M 30m MS 80 85_index_red_red.tif)\n",
      "2025-02-07 01:47:19,381 - INFO - ✅ Successfully processed: red\n",
      "2025-02-07 01:47:19,382 - INFO - ⚙️ Processing raster: rededge (20240819 OAT_FRONTIERS M3M 30m MS 80 85_index_red_edge_red_edge.tif)\n",
      "2025-02-07 01:47:29,041 - INFO - ✅ Successfully processed: rededge\n",
      "2025-02-07 01:47:29,067 - INFO - ✅📌 Statistics saved to: D:\\PhenoCrop\\3_python\\V2\\OAT_FRONTIERS\\20240819_OAT_FRONTIERS_M3M_30m_MS_80_85_statistics.csv\n"
     ]
    },
    {
     "name": "stdout",
     "output_type": "stream",
     "text": [
      "✅📌 Statistics saved to: D:\\PhenoCrop\\3_python\\V2\\OAT_FRONTIERS\\20240819_OAT_FRONTIERS_M3M_30m_MS_80_85_statistics.csv\n",
      "⏳ Total execution time: 48.30 seconds\n",
      "🧹 Cleared raster data from memory.\n",
      "🧹 Cleared shapefile data from memory.\n",
      "📁 Saved results to D:\\PhenoCrop\\3_python\\V2\\OAT_FRONTIERS\\20240819_OAT_FRONTIERS_M3M_30m_MS_80_85_statistics.csv\n",
      "\n",
      "🚀 Preparing raster processing for flight: 20240826 OAT_FRONTIERS M3M 20m MS 80 85\n",
      "✅ Matched geojson file: D:\\PhenoCrop\\3_qgis\\3_Extraction Polygons\\3. FINAL MASKS PYTHON\\24 OAT_FRONTIERS G2B+OatsFrontier_sorted_ID_polygons_shrinked.geojson\n",
      "\n",
      "⚙️ Processing: 20240826 OAT_FRONTIERS M3M 20m MS 80 85_transparent_mosaic_group1.tif at 25% resolution\n",
      "   - Original size: 11278 x 11315\n",
      "   - New size: 2819 x 2828\n",
      "   - Saving downscaled file: D:\\PhenoCrop\\2_pix4d_cleaned\\OAT_FRONTIERS\\MS\\20240826 OAT_FRONTIERS M3M 20m MS 80 85\\2_Orthomosaics\\20240826 OAT_FRONTIERS M3M 20m MS 80 85_transparent_mosaic_group1_thumb.tif\n",
      "✅ Successfully downscaled: 20240826 OAT_FRONTIERS M3M 20m MS 80 85_transparent_mosaic_group1.tif\n"
     ]
    },
    {
     "name": "stderr",
     "output_type": "stream",
     "text": [
      "2025-02-07 01:47:31,928 - INFO - Processing project: OAT_FRONTIERS, Flight: 20240826_OAT_FRONTIERS_M3M_20m_MS_80_85_\n",
      "2025-02-07 01:47:31,928 - INFO - ⚙️ Generating NDVI Orthomosaic for: OAT_FRONTIERS, Flight: 20240826_OAT_FRONTIERS_M3M_20m_MS_80_85_\n",
      "2025-02-07 01:47:40,718 - INFO - ✅ Successfully generated NDVI GEOTIFF\n",
      "2025-02-07 01:47:40,719 - INFO - 🚀 Preparing raster processing for flight: 20240826_OAT_FRONTIERS_M3M_20m_MS_80_85_\n",
      "2025-02-07 01:47:40,720 - INFO - ⚙️ Reading shapefile: 24 OAT_FRONTIERS G2B+OatsFrontier_sorted_ID_polygons_shrinked.geojson\n",
      "2025-02-07 01:47:40,768 - INFO - ⚙️ Processing NDVI Stats\n",
      "2025-02-07 01:47:56,259 - INFO - ✅ Successfully processed: NDVI Stats\n",
      "2025-02-07 01:47:56,261 - INFO - ⚙️ Processing raster: green (20240826 OAT_FRONTIERS M3M 20m MS 80 85_index_green_green.tif)\n",
      "2025-02-07 01:48:20,558 - INFO - ✅ Successfully processed: green\n",
      "2025-02-07 01:48:20,559 - INFO - ⚙️ Processing raster: nir (20240826 OAT_FRONTIERS M3M 20m MS 80 85_index_nir_nir.tif)\n",
      "2025-02-07 01:48:44,351 - INFO - ✅ Successfully processed: nir\n",
      "2025-02-07 01:48:44,352 - INFO - ⚙️ Processing raster: red (20240826 OAT_FRONTIERS M3M 20m MS 80 85_index_red_red.tif)\n",
      "2025-02-07 01:49:08,695 - INFO - ✅ Successfully processed: red\n",
      "2025-02-07 01:49:08,696 - INFO - ⚙️ Processing raster: rededge (20240826 OAT_FRONTIERS M3M 20m MS 80 85_index_red_edge_red_edge.tif)\n",
      "2025-02-07 01:49:33,240 - INFO - ✅ Successfully processed: rededge\n",
      "2025-02-07 01:49:33,265 - INFO - ✅📌 Statistics saved to: D:\\PhenoCrop\\3_python\\V2\\OAT_FRONTIERS\\20240826_OAT_FRONTIERS_M3M_20m_MS_80_85_statistics.csv\n",
      "2025-02-07 01:49:33,435 - INFO - Processing project: DIVERSITY_OATS, Flight: 20240603_DIVERSITY_OATS_M3M_30m_MS_80_85_\n",
      "2025-02-07 01:49:33,436 - INFO - ⚙️ Generating NDVI Orthomosaic for: DIVERSITY_OATS, Flight: 20240603_DIVERSITY_OATS_M3M_30m_MS_80_85_\n"
     ]
    },
    {
     "name": "stdout",
     "output_type": "stream",
     "text": [
      "✅📌 Statistics saved to: D:\\PhenoCrop\\3_python\\V2\\OAT_FRONTIERS\\20240826_OAT_FRONTIERS_M3M_20m_MS_80_85_statistics.csv\n",
      "⏳ Total execution time: 121.34 seconds\n",
      "🧹 Cleared raster data from memory.\n",
      "🧹 Cleared shapefile data from memory.\n",
      "📁 Saved results to D:\\PhenoCrop\\3_python\\V2\\OAT_FRONTIERS\\20240826_OAT_FRONTIERS_M3M_20m_MS_80_85_statistics.csv\n",
      "⏳ Execution time of prepare_and_run_raster_processing: 2170.420544 seconds\n",
      "\n",
      "🚀 Processing Project: DIVERSITY_OATS | Flight Type: MS\n",
      "Fetching file lists for project: DIVERSITY_OATS, flight type: MS\n",
      "⏳ Execution time of check_data_completeness: 0.000094 seconds\n",
      "\n",
      "✅ COMPLETENESS STATUS:\n",
      "20240603 DIVERSITY_OATS M3M 30m MS 80 85: ✅ Complete\n",
      "20240607 DIVERSITY_OATS M3M 30m MS 80 85: ✅ Complete\n",
      "20240611 DIVERSITY_OATS M3M 30m MS 80 85: ✅ Complete\n",
      "20240619 DIVERSITY_OATS M3M 30m MS 80 85: ✅ Complete\n",
      "20240624 DIVERSITY_OATS M3M 30m MS 80 85: ✅ Complete\n",
      "20240703 DIVERSITY_OATS M3M 30m MS 80 85: ✅ Complete\n",
      "20240708 DIVERSITY_OATS M3M 30m MS 80 85: ✅ Complete\n",
      "20240718 DIVERSITY_OATS M3M 30m MS 80 85: ✅ Complete\n",
      "20240724 DIVERSITY_OATS M3M 30m MS 80 85: ✅ Complete\n",
      "20240729 DIVERSITY_OATS M3M 30m MS 80 85: ✅ Complete\n",
      "20240806 DIVERSITY_OATS M3M 30m MS 80 85: ✅ Complete\n",
      "20240812 DIVERSITY_OATS M3M 30m MS 80 85: ✅ Complete\n",
      "20240819 DIVERSITY_OATS M3M 30m MS 80 85: ✅ Complete\n",
      "20240826 DIVERSITY_OATS M3M 30m MS 80 85: ✅ Complete\n",
      "\n",
      "🚀 Preparing raster processing for flight: 20240603 DIVERSITY_OATS M3M 30m MS 80 85\n",
      "✅ Matched geojson file: D:\\PhenoCrop\\3_qgis\\3_Extraction Polygons\\3. FINAL MASKS PYTHON\\24 DIVERSITY_OATS_sorted_ID_polygons_shrinked.geojson\n",
      "📌 Resized RGB Ortho exists: D:\\PhenoCrop\\2_pix4d_cleaned\\DIVERSITY_OATS\\MS\\20240603 DIVERSITY_OATS M3M 30m MS 80 85\\2_Orthomosaics\\20240603 DIVERSITY_OATS M3M 30m MS 80 85_transparent_mosaic_group1_thumb.tif. Skipping downscaling.\n"
     ]
    },
    {
     "name": "stderr",
     "output_type": "stream",
     "text": [
      "2025-02-07 01:49:42,726 - INFO - ✅ Successfully generated NDVI GEOTIFF\n",
      "2025-02-07 01:49:42,727 - INFO - 🚀 Preparing raster processing for flight: 20240603_DIVERSITY_OATS_M3M_30m_MS_80_85_\n",
      "2025-02-07 01:49:42,728 - INFO - ⚙️ Reading shapefile: 24 DIVERSITY_OATS_sorted_ID_polygons_shrinked.geojson\n",
      "2025-02-07 01:49:42,814 - INFO - ⚙️ Processing NDVI Stats\n",
      "2025-02-07 01:49:55,101 - INFO - ✅ Successfully processed: NDVI Stats\n",
      "2025-02-07 01:49:55,102 - INFO - ⚙️ Processing raster: green (20240603 DIVERSITY_OATS M3M 30m MS 80 85_index_green_green.tif)\n",
      "2025-02-07 01:50:32,232 - INFO - ✅ Successfully processed: green\n",
      "2025-02-07 01:50:32,233 - INFO - ⚙️ Processing raster: nir (20240603 DIVERSITY_OATS M3M 30m MS 80 85_index_nir_nir.tif)\n",
      "2025-02-07 01:51:08,614 - INFO - ✅ Successfully processed: nir\n",
      "2025-02-07 01:51:08,615 - INFO - ⚙️ Processing raster: red (20240603 DIVERSITY_OATS M3M 30m MS 80 85_index_red_red.tif)\n",
      "2025-02-07 01:51:45,804 - INFO - ✅ Successfully processed: red\n",
      "2025-02-07 01:51:45,805 - INFO - ⚙️ Processing raster: rededge (20240603 DIVERSITY_OATS M3M 30m MS 80 85_index_red_edge_red_edge.tif)\n",
      "2025-02-07 01:52:23,033 - INFO - ✅ Successfully processed: rededge\n",
      "2025-02-07 01:52:23,225 - INFO - ✅📌 Statistics saved to: D:\\PhenoCrop\\3_python\\V2\\DIVERSITY_OATS\\20240603_DIVERSITY_OATS_M3M_30m_MS_80_85_statistics.csv\n"
     ]
    },
    {
     "name": "stdout",
     "output_type": "stream",
     "text": [
      "✅📌 Statistics saved to: D:\\PhenoCrop\\3_python\\V2\\DIVERSITY_OATS\\20240603_DIVERSITY_OATS_M3M_30m_MS_80_85_statistics.csv\n",
      "⏳ Total execution time: 169.79 seconds\n",
      "🧹 Cleared raster data from memory.\n",
      "🧹 Cleared shapefile data from memory.\n",
      "📁 Saved results to D:\\PhenoCrop\\3_python\\V2\\DIVERSITY_OATS\\20240603_DIVERSITY_OATS_M3M_30m_MS_80_85_statistics.csv\n",
      "\n",
      "🚀 Preparing raster processing for flight: 20240607 DIVERSITY_OATS M3M 30m MS 80 85\n",
      "✅ Matched geojson file: D:\\PhenoCrop\\3_qgis\\3_Extraction Polygons\\3. FINAL MASKS PYTHON\\24 DIVERSITY_OATS_sorted_ID_polygons_shrinked.geojson\n",
      "\n",
      "⚙️ Processing: 20240607 DIVERSITY_OATS M3M 30m MS 80 85_transparent_mosaic_group1.tif at 25% resolution\n",
      "   - Original size: 9228 x 13033\n",
      "   - New size: 2307 x 3258\n",
      "   - Saving downscaled file: D:\\PhenoCrop\\2_pix4d_cleaned\\DIVERSITY_OATS\\MS\\20240607 DIVERSITY_OATS M3M 30m MS 80 85\\2_Orthomosaics\\20240607 DIVERSITY_OATS M3M 30m MS 80 85_transparent_mosaic_group1_thumb.tif\n",
      "✅ Successfully downscaled: 20240607 DIVERSITY_OATS M3M 30m MS 80 85_transparent_mosaic_group1.tif\n"
     ]
    },
    {
     "name": "stderr",
     "output_type": "stream",
     "text": [
      "2025-02-07 01:52:26,010 - INFO - Processing project: DIVERSITY_OATS, Flight: 20240607_DIVERSITY_OATS_M3M_30m_MS_80_85_\n",
      "2025-02-07 01:52:26,012 - INFO - ⚙️ Generating NDVI Orthomosaic for: DIVERSITY_OATS, Flight: 20240607_DIVERSITY_OATS_M3M_30m_MS_80_85_\n",
      "2025-02-07 01:52:34,351 - INFO - ✅ Successfully generated NDVI GEOTIFF\n",
      "2025-02-07 01:52:34,352 - INFO - 🚀 Preparing raster processing for flight: 20240607_DIVERSITY_OATS_M3M_30m_MS_80_85_\n",
      "2025-02-07 01:52:34,353 - INFO - ⚙️ Reading shapefile: 24 DIVERSITY_OATS_sorted_ID_polygons_shrinked.geojson\n",
      "2025-02-07 01:52:34,426 - INFO - ⚙️ Processing NDVI Stats\n",
      "2025-02-07 01:52:46,800 - INFO - ✅ Successfully processed: NDVI Stats\n",
      "2025-02-07 01:52:46,801 - INFO - ⚙️ Processing raster: green (20240607 DIVERSITY_OATS M3M 30m MS 80 85_index_green_green.tif)\n",
      "2025-02-07 01:53:22,956 - INFO - ✅ Successfully processed: green\n",
      "2025-02-07 01:53:22,957 - INFO - ⚙️ Processing raster: nir (20240607 DIVERSITY_OATS M3M 30m MS 80 85_index_nir_nir.tif)\n",
      "2025-02-07 01:53:58,598 - INFO - ✅ Successfully processed: nir\n",
      "2025-02-07 01:53:58,599 - INFO - ⚙️ Processing raster: red (20240607 DIVERSITY_OATS M3M 30m MS 80 85_index_red_red.tif)\n",
      "2025-02-07 01:54:33,951 - INFO - ✅ Successfully processed: red\n",
      "2025-02-07 01:54:33,952 - INFO - ⚙️ Processing raster: rededge (20240607 DIVERSITY_OATS M3M 30m MS 80 85_index_red_edge_red_edge.tif)\n",
      "2025-02-07 01:55:10,352 - INFO - ✅ Successfully processed: rededge\n",
      "2025-02-07 01:55:10,561 - INFO - ✅📌 Statistics saved to: D:\\PhenoCrop\\3_python\\V2\\DIVERSITY_OATS\\20240607_DIVERSITY_OATS_M3M_30m_MS_80_85_statistics.csv\n"
     ]
    },
    {
     "name": "stdout",
     "output_type": "stream",
     "text": [
      "✅📌 Statistics saved to: D:\\PhenoCrop\\3_python\\V2\\DIVERSITY_OATS\\20240607_DIVERSITY_OATS_M3M_30m_MS_80_85_statistics.csv\n",
      "⏳ Total execution time: 164.55 seconds\n",
      "🧹 Cleared raster data from memory.\n",
      "🧹 Cleared shapefile data from memory.\n",
      "📁 Saved results to D:\\PhenoCrop\\3_python\\V2\\DIVERSITY_OATS\\20240607_DIVERSITY_OATS_M3M_30m_MS_80_85_statistics.csv\n",
      "\n",
      "🚀 Preparing raster processing for flight: 20240611 DIVERSITY_OATS M3M 30m MS 80 85\n",
      "✅ Matched geojson file: D:\\PhenoCrop\\3_qgis\\3_Extraction Polygons\\3. FINAL MASKS PYTHON\\24 DIVERSITY_OATS_sorted_ID_polygons_shrinked.geojson\n",
      "\n",
      "⚙️ Processing: 20240611 DIVERSITY_OATS M3M 30m MS 80 85_transparent_mosaic_group1.tif at 25% resolution\n",
      "   - Original size: 11009 x 15575\n",
      "   - New size: 2752 x 3893\n",
      "   - Saving downscaled file: D:\\PhenoCrop\\2_pix4d_cleaned\\DIVERSITY_OATS\\MS\\20240611 DIVERSITY_OATS M3M 30m MS 80 85\\2_Orthomosaics\\20240611 DIVERSITY_OATS M3M 30m MS 80 85_transparent_mosaic_group1_thumb.tif\n"
     ]
    },
    {
     "name": "stderr",
     "output_type": "stream",
     "text": [
      "2025-02-07 01:55:14,545 - INFO - Processing project: DIVERSITY_OATS, Flight: 20240611_DIVERSITY_OATS_M3M_30m_MS_80_85_\n",
      "2025-02-07 01:55:14,546 - INFO - ⚙️ Generating NDVI Orthomosaic for: DIVERSITY_OATS, Flight: 20240611_DIVERSITY_OATS_M3M_30m_MS_80_85_\n"
     ]
    },
    {
     "name": "stdout",
     "output_type": "stream",
     "text": [
      "✅ Successfully downscaled: 20240611 DIVERSITY_OATS M3M 30m MS 80 85_transparent_mosaic_group1.tif\n"
     ]
    },
    {
     "name": "stderr",
     "output_type": "stream",
     "text": [
      "2025-02-07 01:55:26,976 - INFO - ✅ Successfully generated NDVI GEOTIFF\n",
      "2025-02-07 01:55:26,977 - INFO - 🚀 Preparing raster processing for flight: 20240611_DIVERSITY_OATS_M3M_30m_MS_80_85_\n",
      "2025-02-07 01:55:26,978 - INFO - ⚙️ Reading shapefile: 24 DIVERSITY_OATS_sorted_ID_polygons_shrinked.geojson\n",
      "2025-02-07 01:55:27,058 - INFO - ⚙️ Processing NDVI Stats\n",
      "2025-02-07 01:55:42,953 - INFO - ✅ Successfully processed: NDVI Stats\n",
      "2025-02-07 01:55:42,954 - INFO - ⚙️ Processing raster: green (20240611 DIVERSITY_OATS M3M 30m MS 80 85_index_green_green.tif)\n",
      "2025-02-07 01:56:34,315 - INFO - ✅ Successfully processed: green\n",
      "2025-02-07 01:56:34,315 - INFO - ⚙️ Processing raster: nir (20240611 DIVERSITY_OATS M3M 30m MS 80 85_index_nir_nir.tif)\n",
      "2025-02-07 01:57:23,450 - INFO - ✅ Successfully processed: nir\n",
      "2025-02-07 01:57:23,451 - INFO - ⚙️ Processing raster: red (20240611 DIVERSITY_OATS M3M 30m MS 80 85_index_red_red.tif)\n",
      "2025-02-07 01:58:12,021 - INFO - ✅ Successfully processed: red\n",
      "2025-02-07 01:58:12,022 - INFO - ⚙️ Processing raster: rededge (20240611 DIVERSITY_OATS M3M 30m MS 80 85_index_red_edge_red_edge.tif)\n",
      "2025-02-07 01:59:02,277 - INFO - ✅ Successfully processed: rededge\n",
      "2025-02-07 01:59:02,476 - INFO - ✅📌 Statistics saved to: D:\\PhenoCrop\\3_python\\V2\\DIVERSITY_OATS\\20240611_DIVERSITY_OATS_M3M_30m_MS_80_85_statistics.csv\n"
     ]
    },
    {
     "name": "stdout",
     "output_type": "stream",
     "text": [
      "✅📌 Statistics saved to: D:\\PhenoCrop\\3_python\\V2\\DIVERSITY_OATS\\20240611_DIVERSITY_OATS_M3M_30m_MS_80_85_statistics.csv\n",
      "⏳ Total execution time: 227.93 seconds\n",
      "🧹 Cleared raster data from memory.\n",
      "🧹 Cleared shapefile data from memory.\n",
      "📁 Saved results to D:\\PhenoCrop\\3_python\\V2\\DIVERSITY_OATS\\20240611_DIVERSITY_OATS_M3M_30m_MS_80_85_statistics.csv\n",
      "\n",
      "🚀 Preparing raster processing for flight: 20240619 DIVERSITY_OATS M3M 30m MS 80 85\n",
      "✅ Matched geojson file: D:\\PhenoCrop\\3_qgis\\3_Extraction Polygons\\3. FINAL MASKS PYTHON\\24 DIVERSITY_OATS_sorted_ID_polygons_shrinked.geojson\n",
      "\n",
      "⚙️ Processing: 20240619 DIVERSITY_OATS M3M 30m MS 80 85_transparent_mosaic_group1.tif at 25% resolution\n",
      "   - Original size: 11253 x 15934\n",
      "   - New size: 2813 x 3983\n",
      "   - Saving downscaled file: D:\\PhenoCrop\\2_pix4d_cleaned\\DIVERSITY_OATS\\MS\\20240619 DIVERSITY_OATS M3M 30m MS 80 85\\2_Orthomosaics\\20240619 DIVERSITY_OATS M3M 30m MS 80 85_transparent_mosaic_group1_thumb.tif\n"
     ]
    },
    {
     "name": "stderr",
     "output_type": "stream",
     "text": [
      "2025-02-07 01:59:06,588 - INFO - Processing project: DIVERSITY_OATS, Flight: 20240619_DIVERSITY_OATS_M3M_30m_MS_80_85_\n",
      "2025-02-07 01:59:06,588 - INFO - ⚙️ Generating NDVI Orthomosaic for: DIVERSITY_OATS, Flight: 20240619_DIVERSITY_OATS_M3M_30m_MS_80_85_\n"
     ]
    },
    {
     "name": "stdout",
     "output_type": "stream",
     "text": [
      "✅ Successfully downscaled: 20240619 DIVERSITY_OATS M3M 30m MS 80 85_transparent_mosaic_group1.tif\n"
     ]
    },
    {
     "name": "stderr",
     "output_type": "stream",
     "text": [
      "2025-02-07 01:59:18,953 - INFO - ✅ Successfully generated NDVI GEOTIFF\n",
      "2025-02-07 01:59:18,954 - INFO - 🚀 Preparing raster processing for flight: 20240619_DIVERSITY_OATS_M3M_30m_MS_80_85_\n",
      "2025-02-07 01:59:18,954 - INFO - ⚙️ Reading shapefile: 24 DIVERSITY_OATS_sorted_ID_polygons_shrinked.geojson\n",
      "2025-02-07 01:59:19,033 - INFO - ⚙️ Processing NDVI Stats\n",
      "2025-02-07 01:59:35,517 - INFO - ✅ Successfully processed: NDVI Stats\n",
      "2025-02-07 01:59:35,518 - INFO - ⚙️ Processing raster: green (20240619 DIVERSITY_OATS M3M 30m MS 80 85_index_green_green.tif)\n",
      "2025-02-07 02:00:27,338 - INFO - ✅ Successfully processed: green\n",
      "2025-02-07 02:00:27,339 - INFO - ⚙️ Processing raster: nir (20240619 DIVERSITY_OATS M3M 30m MS 80 85_index_nir_nir.tif)\n",
      "2025-02-07 02:01:18,283 - INFO - ✅ Successfully processed: nir\n",
      "2025-02-07 02:01:18,283 - INFO - ⚙️ Processing raster: red (20240619 DIVERSITY_OATS M3M 30m MS 80 85_index_red_red.tif)\n",
      "2025-02-07 02:02:09,412 - INFO - ✅ Successfully processed: red\n",
      "2025-02-07 02:02:09,412 - INFO - ⚙️ Processing raster: rededge (20240619 DIVERSITY_OATS M3M 30m MS 80 85_index_red_edge_red_edge.tif)\n",
      "2025-02-07 02:03:01,792 - INFO - ✅ Successfully processed: rededge\n",
      "2025-02-07 02:03:01,986 - INFO - ✅📌 Statistics saved to: D:\\PhenoCrop\\3_python\\V2\\DIVERSITY_OATS\\20240619_DIVERSITY_OATS_M3M_30m_MS_80_85_statistics.csv\n"
     ]
    },
    {
     "name": "stdout",
     "output_type": "stream",
     "text": [
      "✅📌 Statistics saved to: D:\\PhenoCrop\\3_python\\V2\\DIVERSITY_OATS\\20240619_DIVERSITY_OATS_M3M_30m_MS_80_85_statistics.csv\n",
      "⏳ Total execution time: 235.40 seconds\n",
      "🧹 Cleared raster data from memory.\n",
      "🧹 Cleared shapefile data from memory.\n",
      "📁 Saved results to D:\\PhenoCrop\\3_python\\V2\\DIVERSITY_OATS\\20240619_DIVERSITY_OATS_M3M_30m_MS_80_85_statistics.csv\n",
      "\n",
      "🚀 Preparing raster processing for flight: 20240624 DIVERSITY_OATS M3M 30m MS 80 85\n",
      "✅ Matched geojson file: D:\\PhenoCrop\\3_qgis\\3_Extraction Polygons\\3. FINAL MASKS PYTHON\\24 DIVERSITY_OATS_sorted_ID_polygons_shrinked.geojson\n",
      "\n",
      "⚙️ Processing: 20240624 DIVERSITY_OATS M3M 30m MS 80 85_transparent_mosaic_group1.tif at 25% resolution\n",
      "   - Original size: 10404 x 15139\n",
      "   - New size: 2601 x 3784\n",
      "   - Saving downscaled file: D:\\PhenoCrop\\2_pix4d_cleaned\\DIVERSITY_OATS\\MS\\20240624 DIVERSITY_OATS M3M 30m MS 80 85\\2_Orthomosaics\\20240624 DIVERSITY_OATS M3M 30m MS 80 85_transparent_mosaic_group1_thumb.tif\n"
     ]
    },
    {
     "name": "stderr",
     "output_type": "stream",
     "text": [
      "2025-02-07 02:03:05,639 - INFO - Processing project: DIVERSITY_OATS, Flight: 20240624_DIVERSITY_OATS_M3M_30m_MS_80_85_\n",
      "2025-02-07 02:03:05,640 - INFO - ⚙️ Generating NDVI Orthomosaic for: DIVERSITY_OATS, Flight: 20240624_DIVERSITY_OATS_M3M_30m_MS_80_85_\n"
     ]
    },
    {
     "name": "stdout",
     "output_type": "stream",
     "text": [
      "✅ Successfully downscaled: 20240624 DIVERSITY_OATS M3M 30m MS 80 85_transparent_mosaic_group1.tif\n"
     ]
    },
    {
     "name": "stderr",
     "output_type": "stream",
     "text": [
      "2025-02-07 02:03:16,668 - INFO - ✅ Successfully generated NDVI GEOTIFF\n",
      "2025-02-07 02:03:16,669 - INFO - 🚀 Preparing raster processing for flight: 20240624_DIVERSITY_OATS_M3M_30m_MS_80_85_\n",
      "2025-02-07 02:03:16,670 - INFO - ⚙️ Reading shapefile: 24 DIVERSITY_OATS_sorted_ID_polygons_shrinked.geojson\n",
      "2025-02-07 02:03:16,753 - INFO - ⚙️ Processing NDVI Stats\n",
      "2025-02-07 02:03:31,061 - INFO - ✅ Successfully processed: NDVI Stats\n",
      "2025-02-07 02:03:31,061 - INFO - ⚙️ Processing raster: green (20240624 DIVERSITY_OATS M3M 30m MS 80 85_index_green_green.tif)\n",
      "2025-02-07 02:04:16,263 - INFO - ✅ Successfully processed: green\n",
      "2025-02-07 02:04:16,264 - INFO - ⚙️ Processing raster: nir (20240624 DIVERSITY_OATS M3M 30m MS 80 85_index_nir_nir.tif)\n",
      "2025-02-07 02:05:00,302 - INFO - ✅ Successfully processed: nir\n",
      "2025-02-07 02:05:00,303 - INFO - ⚙️ Processing raster: red (20240624 DIVERSITY_OATS M3M 30m MS 80 85_index_red_red.tif)\n",
      "2025-02-07 02:05:43,514 - INFO - ✅ Successfully processed: red\n",
      "2025-02-07 02:05:43,515 - INFO - ⚙️ Processing raster: rededge (20240624 DIVERSITY_OATS M3M 30m MS 80 85_index_red_edge_red_edge.tif)\n",
      "2025-02-07 02:06:28,062 - INFO - ✅ Successfully processed: rededge\n",
      "2025-02-07 02:06:28,253 - INFO - ✅📌 Statistics saved to: D:\\PhenoCrop\\3_python\\V2\\DIVERSITY_OATS\\20240624_DIVERSITY_OATS_M3M_30m_MS_80_85_statistics.csv\n"
     ]
    },
    {
     "name": "stdout",
     "output_type": "stream",
     "text": [
      "✅📌 Statistics saved to: D:\\PhenoCrop\\3_python\\V2\\DIVERSITY_OATS\\20240624_DIVERSITY_OATS_M3M_30m_MS_80_85_statistics.csv\n",
      "⏳ Total execution time: 202.62 seconds\n",
      "🧹 Cleared raster data from memory.\n",
      "🧹 Cleared shapefile data from memory.\n",
      "📁 Saved results to D:\\PhenoCrop\\3_python\\V2\\DIVERSITY_OATS\\20240624_DIVERSITY_OATS_M3M_30m_MS_80_85_statistics.csv\n",
      "\n",
      "🚀 Preparing raster processing for flight: 20240703 DIVERSITY_OATS M3M 30m MS 80 85\n",
      "✅ Matched geojson file: D:\\PhenoCrop\\3_qgis\\3_Extraction Polygons\\3. FINAL MASKS PYTHON\\24 DIVERSITY_OATS_sorted_ID_polygons_shrinked.geojson\n",
      "\n",
      "⚙️ Processing: 20240703 DIVERSITY_OATS M3M 30m MS 80 85_transparent_mosaic_group1.tif at 25% resolution\n",
      "   - Original size: 9476 x 14321\n",
      "   - New size: 2369 x 3580\n",
      "   - Saving downscaled file: D:\\PhenoCrop\\2_pix4d_cleaned\\DIVERSITY_OATS\\MS\\20240703 DIVERSITY_OATS M3M 30m MS 80 85\\2_Orthomosaics\\20240703 DIVERSITY_OATS M3M 30m MS 80 85_transparent_mosaic_group1_thumb.tif\n"
     ]
    },
    {
     "name": "stderr",
     "output_type": "stream",
     "text": [
      "2025-02-07 02:06:31,480 - INFO - Processing project: DIVERSITY_OATS, Flight: 20240703_DIVERSITY_OATS_M3M_30m_MS_80_85_\n",
      "2025-02-07 02:06:31,480 - INFO - ⚙️ Generating NDVI Orthomosaic for: DIVERSITY_OATS, Flight: 20240703_DIVERSITY_OATS_M3M_30m_MS_80_85_\n"
     ]
    },
    {
     "name": "stdout",
     "output_type": "stream",
     "text": [
      "✅ Successfully downscaled: 20240703 DIVERSITY_OATS M3M 30m MS 80 85_transparent_mosaic_group1.tif\n"
     ]
    },
    {
     "name": "stderr",
     "output_type": "stream",
     "text": [
      "2025-02-07 02:06:41,218 - INFO - ✅ Successfully generated NDVI GEOTIFF\n",
      "2025-02-07 02:06:41,219 - INFO - 🚀 Preparing raster processing for flight: 20240703_DIVERSITY_OATS_M3M_30m_MS_80_85_\n",
      "2025-02-07 02:06:41,220 - INFO - ⚙️ Reading shapefile: 24 DIVERSITY_OATS_sorted_ID_polygons_shrinked.geojson\n",
      "2025-02-07 02:06:41,299 - INFO - ⚙️ Processing NDVI Stats\n",
      "2025-02-07 02:06:54,813 - INFO - ✅ Successfully processed: NDVI Stats\n",
      "2025-02-07 02:06:54,814 - INFO - ⚙️ Processing raster: green (20240703 DIVERSITY_OATS M3M 30m MS 80 85_index_green_green.tif)\n",
      "2025-02-07 02:07:35,381 - INFO - ✅ Successfully processed: green\n",
      "2025-02-07 02:07:35,382 - INFO - ⚙️ Processing raster: nir (20240703 DIVERSITY_OATS M3M 30m MS 80 85_index_nir_nir.tif)\n",
      "2025-02-07 02:08:14,715 - INFO - ✅ Successfully processed: nir\n",
      "2025-02-07 02:08:14,715 - INFO - ⚙️ Processing raster: red (20240703 DIVERSITY_OATS M3M 30m MS 80 85_index_red_red.tif)\n",
      "2025-02-07 02:08:53,817 - INFO - ✅ Successfully processed: red\n",
      "2025-02-07 02:08:53,818 - INFO - ⚙️ Processing raster: rededge (20240703 DIVERSITY_OATS M3M 30m MS 80 85_index_red_edge_red_edge.tif)\n",
      "2025-02-07 02:09:33,559 - INFO - ✅ Successfully processed: rededge\n",
      "2025-02-07 02:09:33,746 - INFO - ✅📌 Statistics saved to: D:\\PhenoCrop\\3_python\\V2\\DIVERSITY_OATS\\20240703_DIVERSITY_OATS_M3M_30m_MS_80_85_statistics.csv\n"
     ]
    },
    {
     "name": "stdout",
     "output_type": "stream",
     "text": [
      "✅📌 Statistics saved to: D:\\PhenoCrop\\3_python\\V2\\DIVERSITY_OATS\\20240703_DIVERSITY_OATS_M3M_30m_MS_80_85_statistics.csv\n",
      "⏳ Total execution time: 182.27 seconds\n",
      "🧹 Cleared raster data from memory.\n",
      "🧹 Cleared shapefile data from memory.\n",
      "📁 Saved results to D:\\PhenoCrop\\3_python\\V2\\DIVERSITY_OATS\\20240703_DIVERSITY_OATS_M3M_30m_MS_80_85_statistics.csv\n",
      "\n",
      "🚀 Preparing raster processing for flight: 20240708 DIVERSITY_OATS M3M 30m MS 80 85\n",
      "✅ Matched geojson file: D:\\PhenoCrop\\3_qgis\\3_Extraction Polygons\\3. FINAL MASKS PYTHON\\24 DIVERSITY_OATS_sorted_ID_polygons_shrinked.geojson\n",
      "\n",
      "⚙️ Processing: 20240708 DIVERSITY_OATS M3M 30m MS 80 85_transparent_mosaic_group1.tif at 25% resolution\n",
      "   - Original size: 8974 x 13305\n",
      "   - New size: 2243 x 3326\n",
      "   - Saving downscaled file: D:\\PhenoCrop\\2_pix4d_cleaned\\DIVERSITY_OATS\\MS\\20240708 DIVERSITY_OATS M3M 30m MS 80 85\\2_Orthomosaics\\20240708 DIVERSITY_OATS M3M 30m MS 80 85_transparent_mosaic_group1_thumb.tif\n",
      "✅ Successfully downscaled: 20240708 DIVERSITY_OATS M3M 30m MS 80 85_transparent_mosaic_group1.tif\n"
     ]
    },
    {
     "name": "stderr",
     "output_type": "stream",
     "text": [
      "2025-02-07 02:09:36,497 - INFO - Processing project: DIVERSITY_OATS, Flight: 20240708_DIVERSITY_OATS_M3M_30m_MS_80_85_\n",
      "2025-02-07 02:09:36,497 - INFO - ⚙️ Generating NDVI Orthomosaic for: DIVERSITY_OATS, Flight: 20240708_DIVERSITY_OATS_M3M_30m_MS_80_85_\n",
      "2025-02-07 02:09:44,956 - INFO - ✅ Successfully generated NDVI GEOTIFF\n",
      "2025-02-07 02:09:44,957 - INFO - 🚀 Preparing raster processing for flight: 20240708_DIVERSITY_OATS_M3M_30m_MS_80_85_\n",
      "2025-02-07 02:09:44,957 - INFO - ⚙️ Reading shapefile: 24 DIVERSITY_OATS_sorted_ID_polygons_shrinked.geojson\n",
      "2025-02-07 02:09:45,033 - INFO - ⚙️ Processing NDVI Stats\n",
      "2025-02-07 02:09:57,229 - INFO - ✅ Successfully processed: NDVI Stats\n",
      "2025-02-07 02:09:57,230 - INFO - ⚙️ Processing raster: green (20240708 DIVERSITY_OATS M3M 30m MS 80 85_index_green_green.tif)\n",
      "2025-02-07 02:10:32,414 - INFO - ✅ Successfully processed: green\n",
      "2025-02-07 02:10:32,416 - INFO - ⚙️ Processing raster: nir (20240708 DIVERSITY_OATS M3M 30m MS 80 85_index_nir_nir.tif)\n",
      "2025-02-07 02:11:07,047 - INFO - ✅ Successfully processed: nir\n",
      "2025-02-07 02:11:07,048 - INFO - ⚙️ Processing raster: red (20240708 DIVERSITY_OATS M3M 30m MS 80 85_index_red_red.tif)\n",
      "2025-02-07 02:11:41,916 - INFO - ✅ Successfully processed: red\n",
      "2025-02-07 02:11:41,916 - INFO - ⚙️ Processing raster: rededge (20240708 DIVERSITY_OATS M3M 30m MS 80 85_index_red_edge_red_edge.tif)\n",
      "2025-02-07 02:12:17,511 - INFO - ✅ Successfully processed: rededge\n",
      "2025-02-07 02:12:17,705 - INFO - ✅📌 Statistics saved to: D:\\PhenoCrop\\3_python\\V2\\DIVERSITY_OATS\\20240708_DIVERSITY_OATS_M3M_30m_MS_80_85_statistics.csv\n"
     ]
    },
    {
     "name": "stdout",
     "output_type": "stream",
     "text": [
      "✅📌 Statistics saved to: D:\\PhenoCrop\\3_python\\V2\\DIVERSITY_OATS\\20240708_DIVERSITY_OATS_M3M_30m_MS_80_85_statistics.csv\n",
      "⏳ Total execution time: 161.21 seconds\n",
      "🧹 Cleared raster data from memory.\n",
      "🧹 Cleared shapefile data from memory.\n",
      "📁 Saved results to D:\\PhenoCrop\\3_python\\V2\\DIVERSITY_OATS\\20240708_DIVERSITY_OATS_M3M_30m_MS_80_85_statistics.csv\n",
      "\n",
      "🚀 Preparing raster processing for flight: 20240718 DIVERSITY_OATS M3M 30m MS 80 85\n",
      "✅ Matched geojson file: D:\\PhenoCrop\\3_qgis\\3_Extraction Polygons\\3. FINAL MASKS PYTHON\\24 DIVERSITY_OATS_sorted_ID_polygons_shrinked.geojson\n",
      "\n",
      "⚙️ Processing: 20240718 DIVERSITY_OATS M3M 30m MS 80 85_transparent_mosaic_group1.tif at 25% resolution\n",
      "   - Original size: 9801 x 14028\n",
      "   - New size: 2450 x 3507\n",
      "   - Saving downscaled file: D:\\PhenoCrop\\2_pix4d_cleaned\\DIVERSITY_OATS\\MS\\20240718 DIVERSITY_OATS M3M 30m MS 80 85\\2_Orthomosaics\\20240718 DIVERSITY_OATS M3M 30m MS 80 85_transparent_mosaic_group1_thumb.tif\n"
     ]
    },
    {
     "name": "stderr",
     "output_type": "stream",
     "text": [
      "2025-02-07 02:12:20,621 - INFO - Processing project: DIVERSITY_OATS, Flight: 20240718_DIVERSITY_OATS_M3M_30m_MS_80_85_\n",
      "2025-02-07 02:12:20,622 - INFO - ⚙️ Generating NDVI Orthomosaic for: DIVERSITY_OATS, Flight: 20240718_DIVERSITY_OATS_M3M_30m_MS_80_85_\n"
     ]
    },
    {
     "name": "stdout",
     "output_type": "stream",
     "text": [
      "✅ Successfully downscaled: 20240718 DIVERSITY_OATS M3M 30m MS 80 85_transparent_mosaic_group1.tif\n"
     ]
    },
    {
     "name": "stderr",
     "output_type": "stream",
     "text": [
      "2025-02-07 02:12:30,242 - INFO - ✅ Successfully generated NDVI GEOTIFF\n",
      "2025-02-07 02:12:30,243 - INFO - 🚀 Preparing raster processing for flight: 20240718_DIVERSITY_OATS_M3M_30m_MS_80_85_\n",
      "2025-02-07 02:12:30,244 - INFO - ⚙️ Reading shapefile: 24 DIVERSITY_OATS_sorted_ID_polygons_shrinked.geojson\n",
      "2025-02-07 02:12:30,317 - INFO - ⚙️ Processing NDVI Stats\n",
      "2025-02-07 02:12:45,358 - INFO - ✅ Successfully processed: NDVI Stats\n",
      "2025-02-07 02:12:45,359 - INFO - ⚙️ Processing raster: green (20240718 DIVERSITY_OATS M3M 30m MS 80 85_index_green_green.tif)\n",
      "2025-02-07 02:13:30,859 - INFO - ✅ Successfully processed: green\n",
      "2025-02-07 02:13:30,859 - INFO - ⚙️ Processing raster: nir (20240718 DIVERSITY_OATS M3M 30m MS 80 85_index_nir_nir.tif)\n",
      "2025-02-07 02:14:14,569 - INFO - ✅ Successfully processed: nir\n",
      "2025-02-07 02:14:14,571 - INFO - ⚙️ Processing raster: red (20240718 DIVERSITY_OATS M3M 30m MS 80 85_index_red_red.tif)\n",
      "2025-02-07 02:14:57,327 - INFO - ✅ Successfully processed: red\n",
      "2025-02-07 02:14:57,327 - INFO - ⚙️ Processing raster: rededge (20240718 DIVERSITY_OATS M3M 30m MS 80 85_index_red_edge_red_edge.tif)\n",
      "2025-02-07 02:15:41,201 - INFO - ✅ Successfully processed: rededge\n",
      "2025-02-07 02:15:41,400 - INFO - ✅📌 Statistics saved to: D:\\PhenoCrop\\3_python\\V2\\DIVERSITY_OATS\\20240718_DIVERSITY_OATS_M3M_30m_MS_80_85_statistics.csv\n"
     ]
    },
    {
     "name": "stdout",
     "output_type": "stream",
     "text": [
      "✅📌 Statistics saved to: D:\\PhenoCrop\\3_python\\V2\\DIVERSITY_OATS\\20240718_DIVERSITY_OATS_M3M_30m_MS_80_85_statistics.csv\n",
      "⏳ Total execution time: 200.78 seconds\n",
      "🧹 Cleared raster data from memory.\n",
      "🧹 Cleared shapefile data from memory.\n",
      "📁 Saved results to D:\\PhenoCrop\\3_python\\V2\\DIVERSITY_OATS\\20240718_DIVERSITY_OATS_M3M_30m_MS_80_85_statistics.csv\n",
      "\n",
      "🚀 Preparing raster processing for flight: 20240724 DIVERSITY_OATS M3M 30m MS 80 85\n",
      "✅ Matched geojson file: D:\\PhenoCrop\\3_qgis\\3_Extraction Polygons\\3. FINAL MASKS PYTHON\\24 DIVERSITY_OATS_sorted_ID_polygons_shrinked.geojson\n",
      "\n",
      "⚙️ Processing: 20240724 DIVERSITY_OATS M3M 30m MS 80 85_transparent_mosaic_group1.tif at 25% resolution\n",
      "   - Original size: 9862 x 14499\n",
      "   - New size: 2465 x 3624\n",
      "   - Saving downscaled file: D:\\PhenoCrop\\2_pix4d_cleaned\\DIVERSITY_OATS\\MS\\20240724 DIVERSITY_OATS M3M 30m MS 80 85\\2_Orthomosaics\\20240724 DIVERSITY_OATS M3M 30m MS 80 85_transparent_mosaic_group1_thumb.tif\n"
     ]
    },
    {
     "name": "stderr",
     "output_type": "stream",
     "text": [
      "2025-02-07 02:15:44,730 - INFO - Processing project: DIVERSITY_OATS, Flight: 20240724_DIVERSITY_OATS_M3M_30m_MS_80_85_\n",
      "2025-02-07 02:15:44,731 - INFO - ⚙️ Generating NDVI Orthomosaic for: DIVERSITY_OATS, Flight: 20240724_DIVERSITY_OATS_M3M_30m_MS_80_85_\n"
     ]
    },
    {
     "name": "stdout",
     "output_type": "stream",
     "text": [
      "✅ Successfully downscaled: 20240724 DIVERSITY_OATS M3M 30m MS 80 85_transparent_mosaic_group1.tif\n"
     ]
    },
    {
     "name": "stderr",
     "output_type": "stream",
     "text": [
      "2025-02-07 02:15:54,936 - INFO - ✅ Successfully generated NDVI GEOTIFF\n",
      "2025-02-07 02:15:54,937 - INFO - 🚀 Preparing raster processing for flight: 20240724_DIVERSITY_OATS_M3M_30m_MS_80_85_\n",
      "2025-02-07 02:15:54,937 - INFO - ⚙️ Reading shapefile: 24 DIVERSITY_OATS_sorted_ID_polygons_shrinked.geojson\n",
      "2025-02-07 02:15:55,013 - INFO - ⚙️ Processing NDVI Stats\n",
      "2025-02-07 02:16:10,267 - INFO - ✅ Successfully processed: NDVI Stats\n",
      "2025-02-07 02:16:10,267 - INFO - ⚙️ Processing raster: green (20240724 DIVERSITY_OATS M3M 30m MS 80 85_index_green_green.tif)\n",
      "2025-02-07 02:16:55,113 - INFO - ✅ Successfully processed: green\n",
      "2025-02-07 02:16:55,114 - INFO - ⚙️ Processing raster: nir (20240724 DIVERSITY_OATS M3M 30m MS 80 85_index_nir_nir.tif)\n",
      "2025-02-07 02:17:38,857 - INFO - ✅ Successfully processed: nir\n",
      "2025-02-07 02:17:38,857 - INFO - ⚙️ Processing raster: red (20240724 DIVERSITY_OATS M3M 30m MS 80 85_index_red_red.tif)\n",
      "2025-02-07 02:18:21,584 - INFO - ✅ Successfully processed: red\n",
      "2025-02-07 02:18:21,585 - INFO - ⚙️ Processing raster: rededge (20240724 DIVERSITY_OATS M3M 30m MS 80 85_index_red_edge_red_edge.tif)\n",
      "2025-02-07 02:19:05,317 - INFO - ✅ Successfully processed: rededge\n",
      "2025-02-07 02:19:05,512 - INFO - ✅📌 Statistics saved to: D:\\PhenoCrop\\3_python\\V2\\DIVERSITY_OATS\\20240724_DIVERSITY_OATS_M3M_30m_MS_80_85_statistics.csv\n"
     ]
    },
    {
     "name": "stdout",
     "output_type": "stream",
     "text": [
      "✅📌 Statistics saved to: D:\\PhenoCrop\\3_python\\V2\\DIVERSITY_OATS\\20240724_DIVERSITY_OATS_M3M_30m_MS_80_85_statistics.csv\n",
      "⏳ Total execution time: 200.78 seconds\n",
      "🧹 Cleared raster data from memory.\n",
      "🧹 Cleared shapefile data from memory.\n",
      "📁 Saved results to D:\\PhenoCrop\\3_python\\V2\\DIVERSITY_OATS\\20240724_DIVERSITY_OATS_M3M_30m_MS_80_85_statistics.csv\n",
      "\n",
      "🚀 Preparing raster processing for flight: 20240729 DIVERSITY_OATS M3M 30m MS 80 85\n",
      "✅ Matched geojson file: D:\\PhenoCrop\\3_qgis\\3_Extraction Polygons\\3. FINAL MASKS PYTHON\\24 DIVERSITY_OATS_sorted_ID_polygons_shrinked.geojson\n",
      "\n",
      "⚙️ Processing: 20240729 DIVERSITY_OATS M3M 30m MS 80 85_transparent_mosaic_group1.tif at 25% resolution\n",
      "   - Original size: 10577 x 15461\n",
      "   - New size: 2644 x 3865\n",
      "   - Saving downscaled file: D:\\PhenoCrop\\2_pix4d_cleaned\\DIVERSITY_OATS\\MS\\20240729 DIVERSITY_OATS M3M 30m MS 80 85\\2_Orthomosaics\\20240729 DIVERSITY_OATS M3M 30m MS 80 85_transparent_mosaic_group1_thumb.tif\n"
     ]
    },
    {
     "name": "stderr",
     "output_type": "stream",
     "text": [
      "2025-02-07 02:19:09,303 - INFO - Processing project: DIVERSITY_OATS, Flight: 20240729_DIVERSITY_OATS_M3M_30m_MS_80_85_\n",
      "2025-02-07 02:19:09,304 - INFO - ⚙️ Generating NDVI Orthomosaic for: DIVERSITY_OATS, Flight: 20240729_DIVERSITY_OATS_M3M_30m_MS_80_85_\n"
     ]
    },
    {
     "name": "stdout",
     "output_type": "stream",
     "text": [
      "✅ Successfully downscaled: 20240729 DIVERSITY_OATS M3M 30m MS 80 85_transparent_mosaic_group1.tif\n"
     ]
    },
    {
     "name": "stderr",
     "output_type": "stream",
     "text": [
      "2025-02-07 02:19:20,962 - INFO - ✅ Successfully generated NDVI GEOTIFF\n",
      "2025-02-07 02:19:20,963 - INFO - 🚀 Preparing raster processing for flight: 20240729_DIVERSITY_OATS_M3M_30m_MS_80_85_\n",
      "2025-02-07 02:19:20,964 - INFO - ⚙️ Reading shapefile: 24 DIVERSITY_OATS_sorted_ID_polygons_shrinked.geojson\n",
      "2025-02-07 02:19:21,069 - INFO - ⚙️ Processing NDVI Stats\n",
      "2025-02-07 02:19:38,466 - INFO - ✅ Successfully processed: NDVI Stats\n",
      "2025-02-07 02:19:38,466 - INFO - ⚙️ Processing raster: green (20240729 DIVERSITY_OATS M3M 30m MS 80 85_index_green_green.tif)\n",
      "2025-02-07 02:20:29,462 - INFO - ✅ Successfully processed: green\n",
      "2025-02-07 02:20:29,463 - INFO - ⚙️ Processing raster: nir (20240729 DIVERSITY_OATS M3M 30m MS 80 85_index_nir_nir.tif)\n",
      "2025-02-07 02:21:18,457 - INFO - ✅ Successfully processed: nir\n",
      "2025-02-07 02:21:18,458 - INFO - ⚙️ Processing raster: red (20240729 DIVERSITY_OATS M3M 30m MS 80 85_index_red_red.tif)\n",
      "2025-02-07 02:22:07,624 - INFO - ✅ Successfully processed: red\n",
      "2025-02-07 02:22:07,626 - INFO - ⚙️ Processing raster: rededge (20240729 DIVERSITY_OATS M3M 30m MS 80 85_index_red_edge_red_edge.tif)\n",
      "2025-02-07 02:22:58,080 - INFO - ✅ Successfully processed: rededge\n",
      "2025-02-07 02:22:58,276 - INFO - ✅📌 Statistics saved to: D:\\PhenoCrop\\3_python\\V2\\DIVERSITY_OATS\\20240729_DIVERSITY_OATS_M3M_30m_MS_80_85_statistics.csv\n"
     ]
    },
    {
     "name": "stdout",
     "output_type": "stream",
     "text": [
      "✅📌 Statistics saved to: D:\\PhenoCrop\\3_python\\V2\\DIVERSITY_OATS\\20240729_DIVERSITY_OATS_M3M_30m_MS_80_85_statistics.csv\n",
      "⏳ Total execution time: 228.97 seconds\n",
      "🧹 Cleared raster data from memory.\n",
      "🧹 Cleared shapefile data from memory.\n",
      "📁 Saved results to D:\\PhenoCrop\\3_python\\V2\\DIVERSITY_OATS\\20240729_DIVERSITY_OATS_M3M_30m_MS_80_85_statistics.csv\n",
      "\n",
      "🚀 Preparing raster processing for flight: 20240806 DIVERSITY_OATS M3M 30m MS 80 85\n",
      "✅ Matched geojson file: D:\\PhenoCrop\\3_qgis\\3_Extraction Polygons\\3. FINAL MASKS PYTHON\\24 DIVERSITY_OATS_sorted_ID_polygons_shrinked.geojson\n",
      "\n",
      "⚙️ Processing: 20240806 DIVERSITY_OATS M3M 30m MS 80 85_transparent_mosaic_group1.tif at 25% resolution\n",
      "   - Original size: 10425 x 15586\n",
      "   - New size: 2606 x 3896\n",
      "   - Saving downscaled file: D:\\PhenoCrop\\2_pix4d_cleaned\\DIVERSITY_OATS\\MS\\20240806 DIVERSITY_OATS M3M 30m MS 80 85\\2_Orthomosaics\\20240806 DIVERSITY_OATS M3M 30m MS 80 85_transparent_mosaic_group1_thumb.tif\n"
     ]
    },
    {
     "name": "stderr",
     "output_type": "stream",
     "text": [
      "2025-02-07 02:23:02,070 - INFO - Processing project: DIVERSITY_OATS, Flight: 20240806_DIVERSITY_OATS_M3M_30m_MS_80_85_\n",
      "2025-02-07 02:23:02,070 - INFO - ⚙️ Generating NDVI Orthomosaic for: DIVERSITY_OATS, Flight: 20240806_DIVERSITY_OATS_M3M_30m_MS_80_85_\n"
     ]
    },
    {
     "name": "stdout",
     "output_type": "stream",
     "text": [
      "✅ Successfully downscaled: 20240806 DIVERSITY_OATS M3M 30m MS 80 85_transparent_mosaic_group1.tif\n"
     ]
    },
    {
     "name": "stderr",
     "output_type": "stream",
     "text": [
      "2025-02-07 02:23:13,637 - INFO - ✅ Successfully generated NDVI GEOTIFF\n",
      "2025-02-07 02:23:13,638 - INFO - 🚀 Preparing raster processing for flight: 20240806_DIVERSITY_OATS_M3M_30m_MS_80_85_\n",
      "2025-02-07 02:23:13,639 - INFO - ⚙️ Reading shapefile: 24 DIVERSITY_OATS_sorted_ID_polygons_shrinked.geojson\n",
      "2025-02-07 02:23:13,716 - INFO - ⚙️ Processing NDVI Stats\n",
      "2025-02-07 02:23:31,467 - INFO - ✅ Successfully processed: NDVI Stats\n",
      "2025-02-07 02:23:31,467 - INFO - ⚙️ Processing raster: green (20240806 DIVERSITY_OATS M3M 30m MS 80 85_index_green_green.tif)\n",
      "2025-02-07 02:24:22,939 - INFO - ✅ Successfully processed: green\n",
      "2025-02-07 02:24:22,940 - INFO - ⚙️ Processing raster: nir (20240806 DIVERSITY_OATS M3M 30m MS 80 85_index_nir_nir.tif)\n",
      "2025-02-07 02:25:11,504 - INFO - ✅ Successfully processed: nir\n",
      "2025-02-07 02:25:11,505 - INFO - ⚙️ Processing raster: red (20240806 DIVERSITY_OATS M3M 30m MS 80 85_index_red_red.tif)\n",
      "2025-02-07 02:26:00,402 - INFO - ✅ Successfully processed: red\n",
      "2025-02-07 02:26:00,403 - INFO - ⚙️ Processing raster: rededge (20240806 DIVERSITY_OATS M3M 30m MS 80 85_index_red_edge_red_edge.tif)\n",
      "2025-02-07 02:26:49,765 - INFO - ✅ Successfully processed: rededge\n",
      "2025-02-07 02:26:49,970 - INFO - ✅📌 Statistics saved to: D:\\PhenoCrop\\3_python\\V2\\DIVERSITY_OATS\\20240806_DIVERSITY_OATS_M3M_30m_MS_80_85_statistics.csv\n"
     ]
    },
    {
     "name": "stdout",
     "output_type": "stream",
     "text": [
      "✅📌 Statistics saved to: D:\\PhenoCrop\\3_python\\V2\\DIVERSITY_OATS\\20240806_DIVERSITY_OATS_M3M_30m_MS_80_85_statistics.csv\n",
      "⏳ Total execution time: 227.90 seconds\n",
      "🧹 Cleared raster data from memory.\n",
      "🧹 Cleared shapefile data from memory.\n",
      "📁 Saved results to D:\\PhenoCrop\\3_python\\V2\\DIVERSITY_OATS\\20240806_DIVERSITY_OATS_M3M_30m_MS_80_85_statistics.csv\n",
      "\n",
      "🚀 Preparing raster processing for flight: 20240812 DIVERSITY_OATS M3M 30m MS 80 85\n",
      "✅ Matched geojson file: D:\\PhenoCrop\\3_qgis\\3_Extraction Polygons\\3. FINAL MASKS PYTHON\\24 DIVERSITY_OATS_sorted_ID_polygons_shrinked.geojson\n",
      "\n",
      "⚙️ Processing: 20240812 DIVERSITY_OATS M3M 30m MS 80 85_transparent_mosaic_group1.tif at 25% resolution\n",
      "   - Original size: 10877 x 15983\n",
      "   - New size: 2719 x 3995\n",
      "   - Saving downscaled file: D:\\PhenoCrop\\2_pix4d_cleaned\\DIVERSITY_OATS\\MS\\20240812 DIVERSITY_OATS M3M 30m MS 80 85\\2_Orthomosaics\\20240812 DIVERSITY_OATS M3M 30m MS 80 85_transparent_mosaic_group1_thumb.tif\n"
     ]
    },
    {
     "name": "stderr",
     "output_type": "stream",
     "text": [
      "2025-02-07 02:26:53,905 - INFO - Processing project: DIVERSITY_OATS, Flight: 20240812_DIVERSITY_OATS_M3M_30m_MS_80_85_\n",
      "2025-02-07 02:26:53,906 - INFO - ⚙️ Generating NDVI Orthomosaic for: DIVERSITY_OATS, Flight: 20240812_DIVERSITY_OATS_M3M_30m_MS_80_85_\n"
     ]
    },
    {
     "name": "stdout",
     "output_type": "stream",
     "text": [
      "✅ Successfully downscaled: 20240812 DIVERSITY_OATS M3M 30m MS 80 85_transparent_mosaic_group1.tif\n"
     ]
    },
    {
     "name": "stderr",
     "output_type": "stream",
     "text": [
      "2025-02-07 02:27:06,411 - INFO - ✅ Successfully generated NDVI GEOTIFF\n",
      "2025-02-07 02:27:06,412 - INFO - 🚀 Preparing raster processing for flight: 20240812_DIVERSITY_OATS_M3M_30m_MS_80_85_\n",
      "2025-02-07 02:27:06,413 - INFO - ⚙️ Reading shapefile: 24 DIVERSITY_OATS_sorted_ID_polygons_shrinked.geojson\n",
      "2025-02-07 02:27:06,496 - INFO - ⚙️ Processing NDVI Stats\n",
      "2025-02-07 02:27:24,415 - INFO - ✅ Successfully processed: NDVI Stats\n",
      "2025-02-07 02:27:24,416 - INFO - ⚙️ Processing raster: green (20240812 DIVERSITY_OATS M3M 30m MS 80 85_index_green_green.tif)\n",
      "2025-02-07 02:28:19,447 - INFO - ✅ Successfully processed: green\n",
      "2025-02-07 02:28:19,447 - INFO - ⚙️ Processing raster: nir (20240812 DIVERSITY_OATS M3M 30m MS 80 85_index_nir_nir.tif)\n",
      "2025-02-07 02:29:15,338 - INFO - ✅ Successfully processed: nir\n",
      "2025-02-07 02:29:15,339 - INFO - ⚙️ Processing raster: red (20240812 DIVERSITY_OATS M3M 30m MS 80 85_index_red_red.tif)\n",
      "2025-02-07 02:30:10,638 - INFO - ✅ Successfully processed: red\n",
      "2025-02-07 02:30:10,639 - INFO - ⚙️ Processing raster: rededge (20240812 DIVERSITY_OATS M3M 30m MS 80 85_index_red_edge_red_edge.tif)\n",
      "2025-02-07 02:31:05,427 - INFO - ✅ Successfully processed: rededge\n",
      "2025-02-07 02:31:05,621 - INFO - ✅📌 Statistics saved to: D:\\PhenoCrop\\3_python\\V2\\DIVERSITY_OATS\\20240812_DIVERSITY_OATS_M3M_30m_MS_80_85_statistics.csv\n"
     ]
    },
    {
     "name": "stdout",
     "output_type": "stream",
     "text": [
      "✅📌 Statistics saved to: D:\\PhenoCrop\\3_python\\V2\\DIVERSITY_OATS\\20240812_DIVERSITY_OATS_M3M_30m_MS_80_85_statistics.csv\n",
      "⏳ Total execution time: 251.72 seconds\n",
      "🧹 Cleared raster data from memory.\n",
      "🧹 Cleared shapefile data from memory.\n",
      "📁 Saved results to D:\\PhenoCrop\\3_python\\V2\\DIVERSITY_OATS\\20240812_DIVERSITY_OATS_M3M_30m_MS_80_85_statistics.csv\n",
      "\n",
      "🚀 Preparing raster processing for flight: 20240819 DIVERSITY_OATS M3M 30m MS 80 85\n",
      "✅ Matched geojson file: D:\\PhenoCrop\\3_qgis\\3_Extraction Polygons\\3. FINAL MASKS PYTHON\\24 DIVERSITY_OATS_sorted_ID_polygons_shrinked.geojson\n",
      "\n",
      "⚙️ Processing: 20240819 DIVERSITY_OATS M3M 30m MS 80 85_transparent_mosaic_group1.tif at 25% resolution\n",
      "   - Original size: 11136 x 16062\n",
      "   - New size: 2784 x 4015\n",
      "   - Saving downscaled file: D:\\PhenoCrop\\2_pix4d_cleaned\\DIVERSITY_OATS\\MS\\20240819 DIVERSITY_OATS M3M 30m MS 80 85\\2_Orthomosaics\\20240819 DIVERSITY_OATS M3M 30m MS 80 85_transparent_mosaic_group1_thumb.tif\n"
     ]
    },
    {
     "name": "stderr",
     "output_type": "stream",
     "text": [
      "2025-02-07 02:31:09,701 - INFO - Processing project: DIVERSITY_OATS, Flight: 20240819_DIVERSITY_OATS_M3M_30m_MS_80_85_\n",
      "2025-02-07 02:31:09,702 - INFO - ⚙️ Generating NDVI Orthomosaic for: DIVERSITY_OATS, Flight: 20240819_DIVERSITY_OATS_M3M_30m_MS_80_85_\n"
     ]
    },
    {
     "name": "stdout",
     "output_type": "stream",
     "text": [
      "✅ Successfully downscaled: 20240819 DIVERSITY_OATS M3M 30m MS 80 85_transparent_mosaic_group1.tif\n"
     ]
    },
    {
     "name": "stderr",
     "output_type": "stream",
     "text": [
      "2025-02-07 02:31:22,361 - INFO - ✅ Successfully generated NDVI GEOTIFF\n",
      "2025-02-07 02:31:22,362 - INFO - 🚀 Preparing raster processing for flight: 20240819_DIVERSITY_OATS_M3M_30m_MS_80_85_\n",
      "2025-02-07 02:31:22,363 - INFO - ⚙️ Reading shapefile: 24 DIVERSITY_OATS_sorted_ID_polygons_shrinked.geojson\n",
      "2025-02-07 02:31:22,437 - INFO - ⚙️ Processing NDVI Stats\n",
      "2025-02-07 02:31:40,896 - INFO - ✅ Successfully processed: NDVI Stats\n",
      "2025-02-07 02:31:40,897 - INFO - ⚙️ Processing raster: green (20240819 DIVERSITY_OATS M3M 30m MS 80 85_index_green_green.tif)\n",
      "2025-02-07 02:32:36,542 - INFO - ✅ Successfully processed: green\n",
      "2025-02-07 02:32:36,542 - INFO - ⚙️ Processing raster: nir (20240819 DIVERSITY_OATS M3M 30m MS 80 85_index_nir_nir.tif)\n",
      "2025-02-07 02:33:35,663 - INFO - ✅ Successfully processed: nir\n",
      "2025-02-07 02:33:35,664 - INFO - ⚙️ Processing raster: red (20240819 DIVERSITY_OATS M3M 30m MS 80 85_index_red_red.tif)\n",
      "2025-02-07 02:34:36,931 - INFO - ✅ Successfully processed: red\n",
      "2025-02-07 02:34:36,932 - INFO - ⚙️ Processing raster: rededge (20240819 DIVERSITY_OATS M3M 30m MS 80 85_index_red_edge_red_edge.tif)\n",
      "2025-02-07 02:35:38,410 - INFO - ✅ Successfully processed: rededge\n",
      "2025-02-07 02:35:38,605 - INFO - ✅📌 Statistics saved to: D:\\PhenoCrop\\3_python\\V2\\DIVERSITY_OATS\\20240819_DIVERSITY_OATS_M3M_30m_MS_80_85_statistics.csv\n"
     ]
    },
    {
     "name": "stdout",
     "output_type": "stream",
     "text": [
      "✅📌 Statistics saved to: D:\\PhenoCrop\\3_python\\V2\\DIVERSITY_OATS\\20240819_DIVERSITY_OATS_M3M_30m_MS_80_85_statistics.csv\n",
      "⏳ Total execution time: 268.91 seconds\n",
      "🧹 Cleared raster data from memory.\n",
      "🧹 Cleared shapefile data from memory.\n",
      "📁 Saved results to D:\\PhenoCrop\\3_python\\V2\\DIVERSITY_OATS\\20240819_DIVERSITY_OATS_M3M_30m_MS_80_85_statistics.csv\n",
      "\n",
      "🚀 Preparing raster processing for flight: 20240826 DIVERSITY_OATS M3M 30m MS 80 85\n",
      "✅ Matched geojson file: D:\\PhenoCrop\\3_qgis\\3_Extraction Polygons\\3. FINAL MASKS PYTHON\\24 DIVERSITY_OATS_sorted_ID_polygons_shrinked.geojson\n",
      "\n",
      "⚙️ Processing: 20240826 DIVERSITY_OATS M3M 30m_transparent_mosaic_group1.tif at 25% resolution\n",
      "   - Original size: 10803 x 15448\n",
      "   - New size: 2700 x 3862\n",
      "   - Saving downscaled file: D:\\PhenoCrop\\2_pix4d_cleaned\\DIVERSITY_OATS\\MS\\20240826 DIVERSITY_OATS M3M 30m MS 80 85\\2_Orthomosaics\\20240826 DIVERSITY_OATS M3M 30m_transparent_mosaic_group1_thumb.tif\n"
     ]
    },
    {
     "name": "stderr",
     "output_type": "stream",
     "text": [
      "2025-02-07 02:35:42,567 - INFO - Processing project: DIVERSITY_OATS, Flight: 20240826_DIVERSITY_OATS_M3M_30m_\n",
      "2025-02-07 02:35:42,568 - INFO - ⚙️ Generating NDVI Orthomosaic for: DIVERSITY_OATS, Flight: 20240826_DIVERSITY_OATS_M3M_30m_\n"
     ]
    },
    {
     "name": "stdout",
     "output_type": "stream",
     "text": [
      "✅ Successfully downscaled: 20240826 DIVERSITY_OATS M3M 30m_transparent_mosaic_group1.tif\n"
     ]
    },
    {
     "name": "stderr",
     "output_type": "stream",
     "text": [
      "2025-02-07 02:35:54,553 - INFO - ✅ Successfully generated NDVI GEOTIFF\n",
      "2025-02-07 02:35:54,554 - INFO - 🚀 Preparing raster processing for flight: 20240826_DIVERSITY_OATS_M3M_30m_\n",
      "2025-02-07 02:35:54,555 - INFO - ⚙️ Reading shapefile: 24 DIVERSITY_OATS_sorted_ID_polygons_shrinked.geojson\n",
      "2025-02-07 02:35:54,639 - INFO - ⚙️ Processing NDVI Stats\n",
      "2025-02-07 02:36:12,285 - INFO - ✅ Successfully processed: NDVI Stats\n",
      "2025-02-07 02:36:12,286 - INFO - ⚙️ Processing raster: green (20240826 DIVERSITY_OATS M3M 30m_index_green_green.tif)\n",
      "2025-02-07 02:37:06,344 - INFO - ✅ Successfully processed: green\n",
      "2025-02-07 02:37:06,345 - INFO - ⚙️ Processing raster: nir (20240826 DIVERSITY_OATS M3M 30m_index_nir_nir.tif)\n",
      "2025-02-07 02:37:57,640 - INFO - ✅ Successfully processed: nir\n",
      "2025-02-07 02:37:57,640 - INFO - ⚙️ Processing raster: red (20240826 DIVERSITY_OATS M3M 30m_index_red_red.tif)\n",
      "2025-02-07 02:38:49,159 - INFO - ✅ Successfully processed: red\n",
      "2025-02-07 02:38:49,159 - INFO - ⚙️ Processing raster: rededge (20240826 DIVERSITY_OATS M3M 30m_index_red_edge_red_edge.tif)\n",
      "2025-02-07 02:39:41,069 - INFO - ✅ Successfully processed: rededge\n",
      "2025-02-07 02:39:41,273 - INFO - ✅📌 Statistics saved to: D:\\PhenoCrop\\3_python\\V2\\DIVERSITY_OATS\\20240826_DIVERSITY_OATS_M3M_30m_statistics.csv\n"
     ]
    },
    {
     "name": "stdout",
     "output_type": "stream",
     "text": [
      "✅📌 Statistics saved to: D:\\PhenoCrop\\3_python\\V2\\DIVERSITY_OATS\\20240826_DIVERSITY_OATS_M3M_30m_statistics.csv\n",
      "⏳ Total execution time: 238.71 seconds\n",
      "🧹 Cleared raster data from memory.\n",
      "🧹 Cleared shapefile data from memory.\n",
      "📁 Saved results to D:\\PhenoCrop\\3_python\\V2\\DIVERSITY_OATS\\20240826_DIVERSITY_OATS_M3M_30m_statistics.csv\n",
      "⏳ Execution time of prepare_and_run_raster_processing: 3007.994789 seconds\n",
      "\n",
      "🚀 Processing Project: PRO_BAR_SØRÅS | Flight Type: MS\n",
      "Fetching file lists for project: PRO_BAR_SØRÅS, flight type: MS\n",
      "⏳ Execution time of check_data_completeness: 0.000111 seconds\n",
      "\n",
      "✅ COMPLETENESS STATUS:\n",
      "20240523 PRO_BAR_SØRÅS M3M 30m MS 80 85: ✅ Complete\n",
      "20240604 PRO_BAR_SØRÅS M3M 30m MS 80 85: ✅ Complete\n",
      "20240606 PRO_BAR_SØRÅS M3M 30m MS 80 85: ✅ Complete\n",
      "20240611 PRO_BAR_SØRÅS M3M 30m MS 80 85: ✅ Complete\n",
      "20240620 PRO_BAR_SØRÅS M3M 30m MS 70 70: ✅ Complete\n",
      "20240620 PRO_BAR_SØRÅS M3M 30m MS 80 85: ✅ Complete\n",
      "20240621 PRO_BAR_SØRÅS M3M 30m MS 70 70: ✅ Complete\n",
      "20240621 PRO_BAR_SØRÅS M3M 30m MS 80 85: ✅ Complete\n",
      "20240624 PRO_BAR_SØRÅS M3M 30m MS 80 85: ✅ Complete\n",
      "20240701 PRO_BAR_SØRÅS M3M 30m MS 80 85: ✅ Complete\n",
      "20240708 PRO_BAR_SØRÅS M3M 30m MS 70 75: ✅ Complete\n",
      "20240718 PRO_BAR_SØRÅS M3M 30m MS 70 75: ❌ Incomplete\n",
      "20240724 PRO_BAR_SØRÅS M3M 30m MS 70 75: ✅ Complete\n",
      "20240729 PRO_BAR_SØRÅS M3M 30m MS 70 75: ✅ Complete\n",
      "20240807 PRO_BAR_SØRÅS M3M 30m MS 70 75: ❌ Incomplete\n",
      "20240812 PRO_BAR_SØRÅS M3M 30m MS 70 75: ✅ Complete\n",
      "\n",
      "❌ MISSING FILES REPORT:\n",
      "20240718 PRO_BAR_SØRÅS M3M 30m MS 70 75 is missing: _transparent_mosaic_group1.tif\n",
      "20240807 PRO_BAR_SØRÅS M3M 30m MS 70 75 is missing: _transparent_mosaic_group1.tif\n",
      "\n",
      "🚀 Preparing raster processing for flight: 20240523 PRO_BAR_SØRÅS M3M 30m MS 80 85\n",
      "✅ Matched geojson file: D:\\PhenoCrop\\3_qgis\\3_Extraction Polygons\\3. FINAL MASKS PYTHON\\24 PRO_BAR_SØRÅS Soraas - ProteinBar_sorted_ID_polygons_shrinked.geojson\n",
      "\n",
      "⚙️ Processing: 20240523 PRO_BAR_SØRÅS M3M 30m MS 80 85_transparent_mosaic_group1.tif at 25% resolution\n",
      "   - Original size: 15785 x 12144\n",
      "   - New size: 3946 x 3036\n",
      "   - Saving downscaled file: D:\\PhenoCrop\\2_pix4d_cleaned\\PRO_BAR_SØRÅS\\MS\\20240523 PRO_BAR_SØRÅS M3M 30m MS 80 85\\2_Orthomosaics\\20240523 PRO_BAR_SØRÅS M3M 30m MS 80 85_transparent_mosaic_group1_thumb.tif\n"
     ]
    },
    {
     "name": "stderr",
     "output_type": "stream",
     "text": [
      "2025-02-07 02:39:45,752 - INFO - Processing project: PRO_BAR_SØRÅS, Flight: 20240523_PRO_BAR_SRS_M3M_30m_MS_80_85_\n",
      "2025-02-07 02:39:45,753 - INFO - ⚙️ Generating NDVI Orthomosaic for: PRO_BAR_SØRÅS, Flight: 20240523_PRO_BAR_SRS_M3M_30m_MS_80_85_\n"
     ]
    },
    {
     "name": "stdout",
     "output_type": "stream",
     "text": [
      "✅ Successfully downscaled: 20240523 PRO_BAR_SØRÅS M3M 30m MS 80 85_transparent_mosaic_group1.tif\n"
     ]
    },
    {
     "name": "stderr",
     "output_type": "stream",
     "text": [
      "2025-02-07 02:39:59,892 - INFO - ✅ Successfully generated NDVI GEOTIFF\n",
      "2025-02-07 02:39:59,893 - INFO - 🚀 Preparing raster processing for flight: 20240523_PRO_BAR_SRS_M3M_30m_MS_80_85_\n",
      "2025-02-07 02:39:59,893 - INFO - ⚙️ Reading shapefile: 24 PRO_BAR_SØRÅS Soraas - ProteinBar_sorted_ID_polygons_shrinked.geojson\n",
      "2025-02-07 02:39:59,967 - INFO - ⚙️ Processing NDVI Stats\n",
      "2025-02-07 02:40:35,114 - INFO - ✅ Successfully processed: NDVI Stats\n",
      "2025-02-07 02:40:35,115 - INFO - ⚙️ Processing raster: green (20240523 PRO_BAR_SØRÅS M3M 30m MS 80 85_index_green_green.tif)\n",
      "2025-02-07 02:43:04,856 - INFO - ✅ Successfully processed: green\n",
      "2025-02-07 02:43:04,857 - INFO - ⚙️ Processing raster: nir (20240523 PRO_BAR_SØRÅS M3M 30m MS 80 85_index_nir_nir.tif)\n",
      "2025-02-07 02:45:30,777 - INFO - ✅ Successfully processed: nir\n",
      "2025-02-07 02:45:30,778 - INFO - ⚙️ Processing raster: red (20240523 PRO_BAR_SØRÅS M3M 30m MS 80 85_index_red_red.tif)\n",
      "2025-02-07 02:47:59,859 - INFO - ✅ Successfully processed: red\n",
      "2025-02-07 02:47:59,860 - INFO - ⚙️ Processing raster: rededge (20240523 PRO_BAR_SØRÅS M3M 30m MS 80 85_index_red_edge_red_edge.tif)\n",
      "2025-02-07 02:50:25,809 - INFO - ✅ Successfully processed: rededge\n",
      "2025-02-07 02:50:25,942 - INFO - ✅📌 Statistics saved to: D:\\PhenoCrop\\3_python\\V2\\PRO_BAR_SØRÅS\\20240523_PRO_BAR_SRS_M3M_30m_MS_80_85_statistics.csv\n"
     ]
    },
    {
     "name": "stdout",
     "output_type": "stream",
     "text": [
      "✅📌 Statistics saved to: D:\\PhenoCrop\\3_python\\V2\\PRO_BAR_SØRÅS\\20240523_PRO_BAR_SRS_M3M_30m_MS_80_85_statistics.csv\n",
      "⏳ Total execution time: 640.19 seconds\n",
      "🧹 Cleared raster data from memory.\n",
      "🧹 Cleared shapefile data from memory.\n",
      "📁 Saved results to D:\\PhenoCrop\\3_python\\V2\\PRO_BAR_SØRÅS\\20240523_PRO_BAR_SRS_M3M_30m_MS_80_85_statistics.csv\n",
      "\n",
      "🚀 Preparing raster processing for flight: 20240604 PRO_BAR_SØRÅS M3M 30m MS 80 85\n",
      "✅ Matched geojson file: D:\\PhenoCrop\\3_qgis\\3_Extraction Polygons\\3. FINAL MASKS PYTHON\\24 PRO_BAR_SØRÅS Soraas - ProteinBar_sorted_ID_polygons_shrinked.geojson\n",
      "\n",
      "⚙️ Processing: 20240604 PRO_BAR_SØRÅS M3M 30m MS 80 85_transparent_mosaic_group1.tif at 25% resolution\n",
      "   - Original size: 15819 x 12729\n",
      "   - New size: 3954 x 3182\n",
      "   - Saving downscaled file: D:\\PhenoCrop\\2_pix4d_cleaned\\PRO_BAR_SØRÅS\\MS\\20240604 PRO_BAR_SØRÅS M3M 30m MS 80 85\\2_Orthomosaics\\20240604 PRO_BAR_SØRÅS M3M 30m MS 80 85_transparent_mosaic_group1_thumb.tif\n"
     ]
    },
    {
     "name": "stderr",
     "output_type": "stream",
     "text": [
      "2025-02-07 02:50:30,794 - INFO - Processing project: PRO_BAR_SØRÅS, Flight: 20240604_PRO_BAR_SRS_M3M_30m_MS_80_85_\n",
      "2025-02-07 02:50:30,795 - INFO - ⚙️ Generating NDVI Orthomosaic for: PRO_BAR_SØRÅS, Flight: 20240604_PRO_BAR_SRS_M3M_30m_MS_80_85_\n"
     ]
    },
    {
     "name": "stdout",
     "output_type": "stream",
     "text": [
      "✅ Successfully downscaled: 20240604 PRO_BAR_SØRÅS M3M 30m MS 80 85_transparent_mosaic_group1.tif\n"
     ]
    },
    {
     "name": "stderr",
     "output_type": "stream",
     "text": [
      "2025-02-07 02:50:45,599 - INFO - ✅ Successfully generated NDVI GEOTIFF\n",
      "2025-02-07 02:50:45,599 - INFO - 🚀 Preparing raster processing for flight: 20240604_PRO_BAR_SRS_M3M_30m_MS_80_85_\n",
      "2025-02-07 02:50:45,600 - INFO - ⚙️ Reading shapefile: 24 PRO_BAR_SØRÅS Soraas - ProteinBar_sorted_ID_polygons_shrinked.geojson\n",
      "2025-02-07 02:50:45,654 - INFO - ⚙️ Processing NDVI Stats\n",
      "2025-02-07 02:51:22,789 - INFO - ✅ Successfully processed: NDVI Stats\n",
      "2025-02-07 02:51:22,790 - INFO - ⚙️ Processing raster: green (20240604 PRO_BAR_SØRÅS M3M 30m MS 80 85_index_green_green.tif)\n",
      "2025-02-07 02:53:51,642 - INFO - ✅ Successfully processed: green\n",
      "2025-02-07 02:53:51,643 - INFO - ⚙️ Processing raster: nir (20240604 PRO_BAR_SØRÅS M3M 30m MS 80 85_index_nir_nir.tif)\n",
      "2025-02-07 02:56:20,327 - INFO - ✅ Successfully processed: nir\n",
      "2025-02-07 02:56:20,328 - INFO - ⚙️ Processing raster: red (20240604 PRO_BAR_SØRÅS M3M 30m MS 80 85_index_red_red.tif)\n",
      "2025-02-07 02:58:56,656 - INFO - ✅ Successfully processed: red\n",
      "2025-02-07 02:58:56,657 - INFO - ⚙️ Processing raster: rededge (20240604 PRO_BAR_SØRÅS M3M 30m MS 80 85_index_red_edge_red_edge.tif)\n",
      "2025-02-07 03:01:30,416 - INFO - ✅ Successfully processed: rededge\n",
      "2025-02-07 03:01:30,555 - INFO - ✅📌 Statistics saved to: D:\\PhenoCrop\\3_python\\V2\\PRO_BAR_SØRÅS\\20240604_PRO_BAR_SRS_M3M_30m_MS_80_85_statistics.csv\n"
     ]
    },
    {
     "name": "stdout",
     "output_type": "stream",
     "text": [
      "✅📌 Statistics saved to: D:\\PhenoCrop\\3_python\\V2\\PRO_BAR_SØRÅS\\20240604_PRO_BAR_SRS_M3M_30m_MS_80_85_statistics.csv\n",
      "⏳ Total execution time: 659.76 seconds\n",
      "🧹 Cleared raster data from memory.\n",
      "🧹 Cleared shapefile data from memory.\n",
      "📁 Saved results to D:\\PhenoCrop\\3_python\\V2\\PRO_BAR_SØRÅS\\20240604_PRO_BAR_SRS_M3M_30m_MS_80_85_statistics.csv\n",
      "\n",
      "🚀 Preparing raster processing for flight: 20240606 PRO_BAR_SØRÅS M3M 30m MS 80 85\n",
      "✅ Matched geojson file: D:\\PhenoCrop\\3_qgis\\3_Extraction Polygons\\3. FINAL MASKS PYTHON\\24 PRO_BAR_SØRÅS Soraas - ProteinBar_sorted_ID_polygons_shrinked.geojson\n",
      "\n",
      "⚙️ Processing: 20240606 PRO_BAR_SØRÅS M3M 30m MS 80 85_transparent_mosaic_group1.tif at 25% resolution\n",
      "   - Original size: 15633 x 12564\n",
      "   - New size: 3908 x 3141\n",
      "   - Saving downscaled file: D:\\PhenoCrop\\2_pix4d_cleaned\\PRO_BAR_SØRÅS\\MS\\20240606 PRO_BAR_SØRÅS M3M 30m MS 80 85\\2_Orthomosaics\\20240606 PRO_BAR_SØRÅS M3M 30m MS 80 85_transparent_mosaic_group1_thumb.tif\n"
     ]
    },
    {
     "name": "stderr",
     "output_type": "stream",
     "text": [
      "2025-02-07 03:01:35,392 - INFO - Processing project: PRO_BAR_SØRÅS, Flight: 20240606_PRO_BAR_SRS_M3M_30m_MS_80_85_\n",
      "2025-02-07 03:01:35,393 - INFO - ⚙️ Generating NDVI Orthomosaic for: PRO_BAR_SØRÅS, Flight: 20240606_PRO_BAR_SRS_M3M_30m_MS_80_85_\n"
     ]
    },
    {
     "name": "stdout",
     "output_type": "stream",
     "text": [
      "✅ Successfully downscaled: 20240606 PRO_BAR_SØRÅS M3M 30m MS 80 85_transparent_mosaic_group1.tif\n"
     ]
    },
    {
     "name": "stderr",
     "output_type": "stream",
     "text": [
      "2025-02-07 03:01:50,410 - INFO - ✅ Successfully generated NDVI GEOTIFF\n",
      "2025-02-07 03:01:50,411 - INFO - 🚀 Preparing raster processing for flight: 20240606_PRO_BAR_SRS_M3M_30m_MS_80_85_\n",
      "2025-02-07 03:01:50,412 - INFO - ⚙️ Reading shapefile: 24 PRO_BAR_SØRÅS Soraas - ProteinBar_sorted_ID_polygons_shrinked.geojson\n",
      "2025-02-07 03:01:50,492 - INFO - ⚙️ Processing NDVI Stats\n",
      "2025-02-07 03:02:27,300 - INFO - ✅ Successfully processed: NDVI Stats\n",
      "2025-02-07 03:02:27,301 - INFO - ⚙️ Processing raster: green (20240606 PRO_BAR_SØRÅS M3M 30m MS 80 85_index_green_green.tif)\n",
      "2025-02-07 03:04:57,164 - INFO - ✅ Successfully processed: green\n",
      "2025-02-07 03:04:57,164 - INFO - ⚙️ Processing raster: nir (20240606 PRO_BAR_SØRÅS M3M 30m MS 80 85_index_nir_nir.tif)\n",
      "2025-02-07 03:07:29,896 - INFO - ✅ Successfully processed: nir\n",
      "2025-02-07 03:07:29,897 - INFO - ⚙️ Processing raster: red (20240606 PRO_BAR_SØRÅS M3M 30m MS 80 85_index_red_red.tif)\n",
      "2025-02-07 03:10:03,911 - INFO - ✅ Successfully processed: red\n",
      "2025-02-07 03:10:03,913 - INFO - ⚙️ Processing raster: rededge (20240606 PRO_BAR_SØRÅS M3M 30m MS 80 85_index_red_edge_red_edge.tif)\n",
      "2025-02-07 03:12:37,009 - INFO - ✅ Successfully processed: rededge\n",
      "2025-02-07 03:12:37,137 - INFO - ✅📌 Statistics saved to: D:\\PhenoCrop\\3_python\\V2\\PRO_BAR_SØRÅS\\20240606_PRO_BAR_SRS_M3M_30m_MS_80_85_statistics.csv\n"
     ]
    },
    {
     "name": "stdout",
     "output_type": "stream",
     "text": [
      "✅📌 Statistics saved to: D:\\PhenoCrop\\3_python\\V2\\PRO_BAR_SØRÅS\\20240606_PRO_BAR_SRS_M3M_30m_MS_80_85_statistics.csv\n",
      "⏳ Total execution time: 661.75 seconds\n",
      "🧹 Cleared raster data from memory.\n",
      "🧹 Cleared shapefile data from memory.\n",
      "📁 Saved results to D:\\PhenoCrop\\3_python\\V2\\PRO_BAR_SØRÅS\\20240606_PRO_BAR_SRS_M3M_30m_MS_80_85_statistics.csv\n",
      "\n",
      "🚀 Preparing raster processing for flight: 20240611 PRO_BAR_SØRÅS M3M 30m MS 80 85\n",
      "✅ Matched geojson file: D:\\PhenoCrop\\3_qgis\\3_Extraction Polygons\\3. FINAL MASKS PYTHON\\24 PRO_BAR_SØRÅS Soraas - ProteinBar_sorted_ID_polygons_shrinked.geojson\n",
      "\n",
      "⚙️ Processing: 20240611 PRO_BAR_SØRÅS M3M 30m MS 80 85_transparent_mosaic_group1.tif at 25% resolution\n",
      "   - Original size: 15753 x 12471\n",
      "   - New size: 3938 x 3117\n",
      "   - Saving downscaled file: D:\\PhenoCrop\\2_pix4d_cleaned\\PRO_BAR_SØRÅS\\MS\\20240611 PRO_BAR_SØRÅS M3M 30m MS 80 85\\2_Orthomosaics\\20240611 PRO_BAR_SØRÅS M3M 30m MS 80 85_transparent_mosaic_group1_thumb.tif\n"
     ]
    },
    {
     "name": "stderr",
     "output_type": "stream",
     "text": [
      "2025-02-07 03:12:41,979 - INFO - Processing project: PRO_BAR_SØRÅS, Flight: 20240611_PRO_BAR_SRS_M3M_30m_MS_80_85_\n",
      "2025-02-07 03:12:41,980 - INFO - ⚙️ Generating NDVI Orthomosaic for: PRO_BAR_SØRÅS, Flight: 20240611_PRO_BAR_SRS_M3M_30m_MS_80_85_\n"
     ]
    },
    {
     "name": "stdout",
     "output_type": "stream",
     "text": [
      "✅ Successfully downscaled: 20240611 PRO_BAR_SØRÅS M3M 30m MS 80 85_transparent_mosaic_group1.tif\n"
     ]
    },
    {
     "name": "stderr",
     "output_type": "stream",
     "text": [
      "2025-02-07 03:12:57,164 - INFO - ✅ Successfully generated NDVI GEOTIFF\n",
      "2025-02-07 03:12:57,165 - INFO - 🚀 Preparing raster processing for flight: 20240611_PRO_BAR_SRS_M3M_30m_MS_80_85_\n",
      "2025-02-07 03:12:57,166 - INFO - ⚙️ Reading shapefile: 24 PRO_BAR_SØRÅS Soraas - ProteinBar_sorted_ID_polygons_shrinked.geojson\n",
      "2025-02-07 03:12:57,249 - INFO - ⚙️ Processing NDVI Stats\n",
      "2025-02-07 03:13:34,199 - INFO - ✅ Successfully processed: NDVI Stats\n",
      "2025-02-07 03:13:34,200 - INFO - ⚙️ Processing raster: green (20240611 PRO_BAR_SØRÅS M3M 30m MS 80 85_index_green_green.tif)\n",
      "2025-02-07 03:16:05,697 - INFO - ✅ Successfully processed: green\n",
      "2025-02-07 03:16:05,697 - INFO - ⚙️ Processing raster: nir (20240611 PRO_BAR_SØRÅS M3M 30m MS 80 85_index_nir_nir.tif)\n",
      "2025-02-07 03:18:32,603 - INFO - ✅ Successfully processed: nir\n",
      "2025-02-07 03:18:32,604 - INFO - ⚙️ Processing raster: red (20240611 PRO_BAR_SØRÅS M3M 30m MS 80 85_index_red_red.tif)\n",
      "2025-02-07 03:21:02,919 - INFO - ✅ Successfully processed: red\n",
      "2025-02-07 03:21:02,920 - INFO - ⚙️ Processing raster: rededge (20240611 PRO_BAR_SØRÅS M3M 30m MS 80 85_index_red_edge_red_edge.tif)\n",
      "2025-02-07 03:23:32,345 - INFO - ✅ Successfully processed: rededge\n",
      "2025-02-07 03:23:32,471 - INFO - ✅📌 Statistics saved to: D:\\PhenoCrop\\3_python\\V2\\PRO_BAR_SØRÅS\\20240611_PRO_BAR_SRS_M3M_30m_MS_80_85_statistics.csv\n"
     ]
    },
    {
     "name": "stdout",
     "output_type": "stream",
     "text": [
      "✅📌 Statistics saved to: D:\\PhenoCrop\\3_python\\V2\\PRO_BAR_SØRÅS\\20240611_PRO_BAR_SRS_M3M_30m_MS_80_85_statistics.csv\n",
      "⏳ Total execution time: 650.49 seconds\n",
      "🧹 Cleared raster data from memory.\n",
      "🧹 Cleared shapefile data from memory.\n",
      "📁 Saved results to D:\\PhenoCrop\\3_python\\V2\\PRO_BAR_SØRÅS\\20240611_PRO_BAR_SRS_M3M_30m_MS_80_85_statistics.csv\n",
      "\n",
      "🚀 Preparing raster processing for flight: 20240620 PRO_BAR_SØRÅS M3M 30m MS 70 70\n",
      "✅ Matched geojson file: D:\\PhenoCrop\\3_qgis\\3_Extraction Polygons\\3. FINAL MASKS PYTHON\\24 PRO_BAR_SØRÅS Soraas - ProteinBar_sorted_ID_polygons_shrinked.geojson\n",
      "\n",
      "⚙️ Processing: 20240620 PRO_BAR_SØRÅS M3M 30m MS 70 70_transparent_mosaic_group1.tif at 25% resolution\n",
      "   - Original size: 15372 x 11860\n",
      "   - New size: 3843 x 2965\n",
      "   - Saving downscaled file: D:\\PhenoCrop\\2_pix4d_cleaned\\PRO_BAR_SØRÅS\\MS\\20240620 PRO_BAR_SØRÅS M3M 30m MS 70 70\\2_Orthomosaics\\20240620 PRO_BAR_SØRÅS M3M 30m MS 70 70_transparent_mosaic_group1_thumb.tif\n"
     ]
    },
    {
     "name": "stderr",
     "output_type": "stream",
     "text": [
      "2025-02-07 03:23:36,920 - INFO - Processing project: PRO_BAR_SØRÅS, Flight: 20240620_PRO_BAR_SRS_M3M_30m_MS_70_70_\n",
      "2025-02-07 03:23:36,921 - INFO - ⚙️ Generating NDVI Orthomosaic for: PRO_BAR_SØRÅS, Flight: 20240620_PRO_BAR_SRS_M3M_30m_MS_70_70_\n"
     ]
    },
    {
     "name": "stdout",
     "output_type": "stream",
     "text": [
      "✅ Successfully downscaled: 20240620 PRO_BAR_SØRÅS M3M 30m MS 70 70_transparent_mosaic_group1.tif\n"
     ]
    },
    {
     "name": "stderr",
     "output_type": "stream",
     "text": [
      "2025-02-07 03:23:51,050 - INFO - ✅ Successfully generated NDVI GEOTIFF\n",
      "2025-02-07 03:23:51,051 - INFO - 🚀 Preparing raster processing for flight: 20240620_PRO_BAR_SRS_M3M_30m_MS_70_70_\n",
      "2025-02-07 03:23:51,051 - INFO - ⚙️ Reading shapefile: 24 PRO_BAR_SØRÅS Soraas - ProteinBar_sorted_ID_polygons_shrinked.geojson\n",
      "2025-02-07 03:23:51,114 - INFO - ⚙️ Processing NDVI Stats\n",
      "2025-02-07 03:24:28,299 - INFO - ✅ Successfully processed: NDVI Stats\n",
      "2025-02-07 03:24:28,300 - INFO - ⚙️ Processing raster: green (20240620 PRO_BAR_SØRÅS M3M 30m MS 70 70_index_green_green.tif)\n",
      "2025-02-07 03:26:53,242 - INFO - ✅ Successfully processed: green\n",
      "2025-02-07 03:26:53,243 - INFO - ⚙️ Processing raster: nir (20240620 PRO_BAR_SØRÅS M3M 30m MS 70 70_index_nir_nir.tif)\n",
      "2025-02-07 03:29:16,966 - INFO - ✅ Successfully processed: nir\n",
      "2025-02-07 03:29:16,967 - INFO - ⚙️ Processing raster: red (20240620 PRO_BAR_SØRÅS M3M 30m MS 70 70_index_red_red.tif)\n",
      "2025-02-07 03:31:47,214 - INFO - ✅ Successfully processed: red\n",
      "2025-02-07 03:31:47,215 - INFO - ⚙️ Processing raster: rededge (20240620 PRO_BAR_SØRÅS M3M 30m MS 70 70_index_red_edge_red_edge.tif)\n",
      "2025-02-07 03:34:15,471 - INFO - ✅ Successfully processed: rededge\n",
      "2025-02-07 03:34:15,616 - INFO - ✅📌 Statistics saved to: D:\\PhenoCrop\\3_python\\V2\\PRO_BAR_SØRÅS\\20240620_PRO_BAR_SRS_M3M_30m_MS_70_70_statistics.csv\n"
     ]
    },
    {
     "name": "stdout",
     "output_type": "stream",
     "text": [
      "✅📌 Statistics saved to: D:\\PhenoCrop\\3_python\\V2\\PRO_BAR_SØRÅS\\20240620_PRO_BAR_SRS_M3M_30m_MS_70_70_statistics.csv\n",
      "⏳ Total execution time: 638.70 seconds\n",
      "🧹 Cleared raster data from memory.\n",
      "🧹 Cleared shapefile data from memory.\n",
      "📁 Saved results to D:\\PhenoCrop\\3_python\\V2\\PRO_BAR_SØRÅS\\20240620_PRO_BAR_SRS_M3M_30m_MS_70_70_statistics.csv\n",
      "\n",
      "🚀 Preparing raster processing for flight: 20240620 PRO_BAR_SØRÅS M3M 30m MS 80 85\n",
      "✅ Matched geojson file: D:\\PhenoCrop\\3_qgis\\3_Extraction Polygons\\3. FINAL MASKS PYTHON\\24 PRO_BAR_SØRÅS Soraas - ProteinBar_sorted_ID_polygons_shrinked.geojson\n",
      "\n",
      "⚙️ Processing: 20240620 PRO_BAR_SØRÅS M3M 30m MS 80 85_transparent_mosaic_group1.tif at 25% resolution\n",
      "   - Original size: 16067 x 12754\n",
      "   - New size: 4016 x 3188\n",
      "   - Saving downscaled file: D:\\PhenoCrop\\2_pix4d_cleaned\\PRO_BAR_SØRÅS\\MS\\20240620 PRO_BAR_SØRÅS M3M 30m MS 80 85\\2_Orthomosaics\\20240620 PRO_BAR_SØRÅS M3M 30m MS 80 85_transparent_mosaic_group1_thumb.tif\n"
     ]
    },
    {
     "name": "stderr",
     "output_type": "stream",
     "text": [
      "2025-02-07 03:34:20,680 - INFO - Processing project: PRO_BAR_SØRÅS, Flight: 20240620_PRO_BAR_SRS_M3M_30m_MS_80_85_\n",
      "2025-02-07 03:34:20,681 - INFO - ⚙️ Generating NDVI Orthomosaic for: PRO_BAR_SØRÅS, Flight: 20240620_PRO_BAR_SRS_M3M_30m_MS_80_85_\n"
     ]
    },
    {
     "name": "stdout",
     "output_type": "stream",
     "text": [
      "✅ Successfully downscaled: 20240620 PRO_BAR_SØRÅS M3M 30m MS 80 85_transparent_mosaic_group1.tif\n"
     ]
    },
    {
     "name": "stderr",
     "output_type": "stream",
     "text": [
      "2025-02-07 03:34:36,314 - INFO - ✅ Successfully generated NDVI GEOTIFF\n",
      "2025-02-07 03:34:36,315 - INFO - 🚀 Preparing raster processing for flight: 20240620_PRO_BAR_SRS_M3M_30m_MS_80_85_\n",
      "2025-02-07 03:34:36,316 - INFO - ⚙️ Reading shapefile: 24 PRO_BAR_SØRÅS Soraas - ProteinBar_sorted_ID_polygons_shrinked.geojson\n",
      "2025-02-07 03:34:36,369 - INFO - ⚙️ Processing NDVI Stats\n",
      "2025-02-07 03:35:15,183 - INFO - ✅ Successfully processed: NDVI Stats\n",
      "2025-02-07 03:35:15,183 - INFO - ⚙️ Processing raster: green (20240620 PRO_BAR_SØRÅS M3M 30m MS 80 85_index_green_green.tif)\n",
      "2025-02-07 03:37:56,310 - INFO - ✅ Successfully processed: green\n",
      "2025-02-07 03:37:56,310 - INFO - ⚙️ Processing raster: nir (20240620 PRO_BAR_SØRÅS M3M 30m MS 80 85_index_nir_nir.tif)\n",
      "2025-02-07 03:40:36,540 - INFO - ✅ Successfully processed: nir\n",
      "2025-02-07 03:40:36,542 - INFO - ⚙️ Processing raster: red (20240620 PRO_BAR_SØRÅS M3M 30m MS 80 85_index_red_red.tif)\n",
      "2025-02-07 03:43:18,502 - INFO - ✅ Successfully processed: red\n",
      "2025-02-07 03:43:18,503 - INFO - ⚙️ Processing raster: rededge (20240620 PRO_BAR_SØRÅS M3M 30m MS 80 85_index_red_edge_red_edge.tif)\n",
      "2025-02-07 03:46:00,624 - INFO - ✅ Successfully processed: rededge\n",
      "2025-02-07 03:46:00,758 - INFO - ✅📌 Statistics saved to: D:\\PhenoCrop\\3_python\\V2\\PRO_BAR_SØRÅS\\20240620_PRO_BAR_SRS_M3M_30m_MS_80_85_statistics.csv\n"
     ]
    },
    {
     "name": "stdout",
     "output_type": "stream",
     "text": [
      "✅📌 Statistics saved to: D:\\PhenoCrop\\3_python\\V2\\PRO_BAR_SØRÅS\\20240620_PRO_BAR_SRS_M3M_30m_MS_80_85_statistics.csv\n",
      "⏳ Total execution time: 700.08 seconds\n",
      "🧹 Cleared raster data from memory.\n",
      "🧹 Cleared shapefile data from memory.\n",
      "📁 Saved results to D:\\PhenoCrop\\3_python\\V2\\PRO_BAR_SØRÅS\\20240620_PRO_BAR_SRS_M3M_30m_MS_80_85_statistics.csv\n",
      "\n",
      "🚀 Preparing raster processing for flight: 20240621 PRO_BAR_SØRÅS M3M 30m MS 70 70\n",
      "✅ Matched geojson file: D:\\PhenoCrop\\3_qgis\\3_Extraction Polygons\\3. FINAL MASKS PYTHON\\24 PRO_BAR_SØRÅS Soraas - ProteinBar_sorted_ID_polygons_shrinked.geojson\n",
      "\n",
      "⚙️ Processing: 20240621 PRO_BAR_SØRÅS M3M 30m MS 70 70_transparent_mosaic_group1.tif at 25% resolution\n",
      "   - Original size: 15428 x 11990\n",
      "   - New size: 3857 x 2997\n",
      "   - Saving downscaled file: D:\\PhenoCrop\\2_pix4d_cleaned\\PRO_BAR_SØRÅS\\MS\\20240621 PRO_BAR_SØRÅS M3M 30m MS 70 70\\2_Orthomosaics\\20240621 PRO_BAR_SØRÅS M3M 30m MS 70 70_transparent_mosaic_group1_thumb.tif\n"
     ]
    },
    {
     "name": "stderr",
     "output_type": "stream",
     "text": [
      "2025-02-07 03:46:05,391 - INFO - Processing project: PRO_BAR_SØRÅS, Flight: 20240621_PRO_BAR_SRS_M3M_30m_MS_70_70_\n",
      "2025-02-07 03:46:05,391 - INFO - ⚙️ Generating NDVI Orthomosaic for: PRO_BAR_SØRÅS, Flight: 20240621_PRO_BAR_SRS_M3M_30m_MS_70_70_\n"
     ]
    },
    {
     "name": "stdout",
     "output_type": "stream",
     "text": [
      "✅ Successfully downscaled: 20240621 PRO_BAR_SØRÅS M3M 30m MS 70 70_transparent_mosaic_group1.tif\n"
     ]
    },
    {
     "name": "stderr",
     "output_type": "stream",
     "text": [
      "2025-02-07 03:46:19,945 - INFO - ✅ Successfully generated NDVI GEOTIFF\n",
      "2025-02-07 03:46:19,946 - INFO - 🚀 Preparing raster processing for flight: 20240621_PRO_BAR_SRS_M3M_30m_MS_70_70_\n",
      "2025-02-07 03:46:19,946 - INFO - ⚙️ Reading shapefile: 24 PRO_BAR_SØRÅS Soraas - ProteinBar_sorted_ID_polygons_shrinked.geojson\n",
      "2025-02-07 03:46:20,007 - INFO - ⚙️ Processing NDVI Stats\n",
      "2025-02-07 03:46:57,961 - INFO - ✅ Successfully processed: NDVI Stats\n",
      "2025-02-07 03:46:57,967 - INFO - ⚙️ Processing raster: green (20240621 PRO_BAR_SØRÅS M3M 30m MS 70 70_index_green_green.tif)\n",
      "2025-02-07 03:49:28,455 - INFO - ✅ Successfully processed: green\n",
      "2025-02-07 03:49:28,456 - INFO - ⚙️ Processing raster: nir (20240621 PRO_BAR_SØRÅS M3M 30m MS 70 70_index_nir_nir.tif)\n",
      "2025-02-07 03:51:57,919 - INFO - ✅ Successfully processed: nir\n",
      "2025-02-07 03:51:57,920 - INFO - ⚙️ Processing raster: red (20240621 PRO_BAR_SØRÅS M3M 30m MS 70 70_index_red_red.tif)\n",
      "2025-02-07 03:54:31,853 - INFO - ✅ Successfully processed: red\n",
      "2025-02-07 03:54:31,854 - INFO - ⚙️ Processing raster: rededge (20240621 PRO_BAR_SØRÅS M3M 30m MS 70 70_index_red_edge_red_edge.tif)\n",
      "2025-02-07 03:57:02,599 - INFO - ✅ Successfully processed: rededge\n",
      "2025-02-07 03:57:02,728 - INFO - ✅📌 Statistics saved to: D:\\PhenoCrop\\3_python\\V2\\PRO_BAR_SØRÅS\\20240621_PRO_BAR_SRS_M3M_30m_MS_70_70_statistics.csv\n"
     ]
    },
    {
     "name": "stdout",
     "output_type": "stream",
     "text": [
      "✅📌 Statistics saved to: D:\\PhenoCrop\\3_python\\V2\\PRO_BAR_SØRÅS\\20240621_PRO_BAR_SRS_M3M_30m_MS_70_70_statistics.csv\n",
      "⏳ Total execution time: 657.34 seconds\n",
      "🧹 Cleared raster data from memory.\n",
      "🧹 Cleared shapefile data from memory.\n",
      "📁 Saved results to D:\\PhenoCrop\\3_python\\V2\\PRO_BAR_SØRÅS\\20240621_PRO_BAR_SRS_M3M_30m_MS_70_70_statistics.csv\n",
      "\n",
      "🚀 Preparing raster processing for flight: 20240621 PRO_BAR_SØRÅS M3M 30m MS 80 85\n",
      "✅ Matched geojson file: D:\\PhenoCrop\\3_qgis\\3_Extraction Polygons\\3. FINAL MASKS PYTHON\\24 PRO_BAR_SØRÅS Soraas - ProteinBar_sorted_ID_polygons_shrinked.geojson\n",
      "\n",
      "⚙️ Processing: 20240621 PRO_BAR_SØRÅS M3M 30m MS 80 85_transparent_mosaic_group1.tif at 25% resolution\n",
      "   - Original size: 16047 x 12626\n",
      "   - New size: 4011 x 3156\n",
      "   - Saving downscaled file: D:\\PhenoCrop\\2_pix4d_cleaned\\PRO_BAR_SØRÅS\\MS\\20240621 PRO_BAR_SØRÅS M3M 30m MS 80 85\\2_Orthomosaics\\20240621 PRO_BAR_SØRÅS M3M 30m MS 80 85_transparent_mosaic_group1_thumb.tif\n"
     ]
    },
    {
     "name": "stderr",
     "output_type": "stream",
     "text": [
      "2025-02-07 03:57:07,643 - INFO - Processing project: PRO_BAR_SØRÅS, Flight: 20240621_PRO_BAR_SRS_M3M_30m_MS_80_85_\n",
      "2025-02-07 03:57:07,643 - INFO - ⚙️ Generating NDVI Orthomosaic for: PRO_BAR_SØRÅS, Flight: 20240621_PRO_BAR_SRS_M3M_30m_MS_80_85_\n"
     ]
    },
    {
     "name": "stdout",
     "output_type": "stream",
     "text": [
      "✅ Successfully downscaled: 20240621 PRO_BAR_SØRÅS M3M 30m MS 80 85_transparent_mosaic_group1.tif\n"
     ]
    },
    {
     "name": "stderr",
     "output_type": "stream",
     "text": [
      "2025-02-07 03:57:23,247 - INFO - ✅ Successfully generated NDVI GEOTIFF\n",
      "2025-02-07 03:57:23,248 - INFO - 🚀 Preparing raster processing for flight: 20240621_PRO_BAR_SRS_M3M_30m_MS_80_85_\n",
      "2025-02-07 03:57:23,248 - INFO - ⚙️ Reading shapefile: 24 PRO_BAR_SØRÅS Soraas - ProteinBar_sorted_ID_polygons_shrinked.geojson\n",
      "2025-02-07 03:57:23,341 - INFO - ⚙️ Processing NDVI Stats\n",
      "2025-02-07 03:58:01,200 - INFO - ✅ Successfully processed: NDVI Stats\n",
      "2025-02-07 03:58:01,201 - INFO - ⚙️ Processing raster: green (20240621 PRO_BAR_SØRÅS M3M 30m MS 80 85_index_green_green.tif)\n",
      "2025-02-07 04:00:38,843 - INFO - ✅ Successfully processed: green\n",
      "2025-02-07 04:00:38,844 - INFO - ⚙️ Processing raster: nir (20240621 PRO_BAR_SØRÅS M3M 30m MS 80 85_index_nir_nir.tif)\n",
      "2025-02-07 04:03:13,745 - INFO - ✅ Successfully processed: nir\n",
      "2025-02-07 04:03:13,746 - INFO - ⚙️ Processing raster: red (20240621 PRO_BAR_SØRÅS M3M 30m MS 80 85_index_red_red.tif)\n",
      "2025-02-07 04:05:52,140 - INFO - ✅ Successfully processed: red\n",
      "2025-02-07 04:05:52,141 - INFO - ⚙️ Processing raster: rededge (20240621 PRO_BAR_SØRÅS M3M 30m MS 80 85_index_red_edge_red_edge.tif)\n",
      "2025-02-07 04:08:30,516 - INFO - ✅ Successfully processed: rededge\n",
      "2025-02-07 04:08:30,648 - INFO - ✅📌 Statistics saved to: D:\\PhenoCrop\\3_python\\V2\\PRO_BAR_SØRÅS\\20240621_PRO_BAR_SRS_M3M_30m_MS_80_85_statistics.csv\n"
     ]
    },
    {
     "name": "stdout",
     "output_type": "stream",
     "text": [
      "✅📌 Statistics saved to: D:\\PhenoCrop\\3_python\\V2\\PRO_BAR_SØRÅS\\20240621_PRO_BAR_SRS_M3M_30m_MS_80_85_statistics.csv\n",
      "⏳ Total execution time: 683.01 seconds\n",
      "🧹 Cleared raster data from memory.\n",
      "🧹 Cleared shapefile data from memory.\n",
      "📁 Saved results to D:\\PhenoCrop\\3_python\\V2\\PRO_BAR_SØRÅS\\20240621_PRO_BAR_SRS_M3M_30m_MS_80_85_statistics.csv\n",
      "\n",
      "🚀 Preparing raster processing for flight: 20240624 PRO_BAR_SØRÅS M3M 30m MS 80 85\n",
      "✅ Matched geojson file: D:\\PhenoCrop\\3_qgis\\3_Extraction Polygons\\3. FINAL MASKS PYTHON\\24 PRO_BAR_SØRÅS Soraas - ProteinBar_sorted_ID_polygons_shrinked.geojson\n",
      "\n",
      "⚙️ Processing: 20240624 PRO_BAR_SØRÅS M3M 30m MS 80 85_transparent_mosaic_group1.tif at 25% resolution\n",
      "   - Original size: 15912 x 12820\n",
      "   - New size: 3978 x 3205\n",
      "   - Saving downscaled file: D:\\PhenoCrop\\2_pix4d_cleaned\\PRO_BAR_SØRÅS\\MS\\20240624 PRO_BAR_SØRÅS M3M 30m MS 80 85\\2_Orthomosaics\\20240624 PRO_BAR_SØRÅS M3M 30m MS 80 85_transparent_mosaic_group1_thumb.tif\n"
     ]
    },
    {
     "name": "stderr",
     "output_type": "stream",
     "text": [
      "2025-02-07 04:08:35,610 - INFO - Processing project: PRO_BAR_SØRÅS, Flight: 20240624_PRO_BAR_SRS_M3M_30m_MS_80_85_\n",
      "2025-02-07 04:08:35,611 - INFO - ⚙️ Generating NDVI Orthomosaic for: PRO_BAR_SØRÅS, Flight: 20240624_PRO_BAR_SRS_M3M_30m_MS_80_85_\n"
     ]
    },
    {
     "name": "stdout",
     "output_type": "stream",
     "text": [
      "✅ Successfully downscaled: 20240624 PRO_BAR_SØRÅS M3M 30m MS 80 85_transparent_mosaic_group1.tif\n"
     ]
    },
    {
     "name": "stderr",
     "output_type": "stream",
     "text": [
      "2025-02-07 04:08:51,915 - INFO - ✅ Successfully generated NDVI GEOTIFF\n",
      "2025-02-07 04:08:51,916 - INFO - 🚀 Preparing raster processing for flight: 20240624_PRO_BAR_SRS_M3M_30m_MS_80_85_\n",
      "2025-02-07 04:08:51,916 - INFO - ⚙️ Reading shapefile: 24 PRO_BAR_SØRÅS Soraas - ProteinBar_sorted_ID_polygons_shrinked.geojson\n",
      "2025-02-07 04:08:51,969 - INFO - ⚙️ Processing NDVI Stats\n",
      "2025-02-07 04:09:31,166 - INFO - ✅ Successfully processed: NDVI Stats\n",
      "2025-02-07 04:09:31,167 - INFO - ⚙️ Processing raster: green (20240624 PRO_BAR_SØRÅS M3M 30m MS 80 85_index_green_green.tif)\n",
      "2025-02-07 04:12:07,872 - INFO - ✅ Successfully processed: green\n",
      "2025-02-07 04:12:07,873 - INFO - ⚙️ Processing raster: nir (20240624 PRO_BAR_SØRÅS M3M 30m MS 80 85_index_nir_nir.tif)\n",
      "2025-02-07 04:14:44,446 - INFO - ✅ Successfully processed: nir\n",
      "2025-02-07 04:14:44,447 - INFO - ⚙️ Processing raster: red (20240624 PRO_BAR_SØRÅS M3M 30m MS 80 85_index_red_red.tif)\n",
      "2025-02-07 04:17:28,170 - INFO - ✅ Successfully processed: red\n",
      "2025-02-07 04:17:28,171 - INFO - ⚙️ Processing raster: rededge (20240624 PRO_BAR_SØRÅS M3M 30m MS 80 85_index_red_edge_red_edge.tif)\n",
      "2025-02-07 04:20:07,485 - INFO - ✅ Successfully processed: rededge\n",
      "2025-02-07 04:20:07,631 - INFO - ✅📌 Statistics saved to: D:\\PhenoCrop\\3_python\\V2\\PRO_BAR_SØRÅS\\20240624_PRO_BAR_SRS_M3M_30m_MS_80_85_statistics.csv\n"
     ]
    },
    {
     "name": "stdout",
     "output_type": "stream",
     "text": [
      "✅📌 Statistics saved to: D:\\PhenoCrop\\3_python\\V2\\PRO_BAR_SØRÅS\\20240624_PRO_BAR_SRS_M3M_30m_MS_80_85_statistics.csv\n",
      "⏳ Total execution time: 692.02 seconds\n",
      "🧹 Cleared raster data from memory.\n",
      "🧹 Cleared shapefile data from memory.\n",
      "📁 Saved results to D:\\PhenoCrop\\3_python\\V2\\PRO_BAR_SØRÅS\\20240624_PRO_BAR_SRS_M3M_30m_MS_80_85_statistics.csv\n",
      "\n",
      "🚀 Preparing raster processing for flight: 20240701 PRO_BAR_SØRÅS M3M 30m MS 80 85\n",
      "✅ Matched geojson file: D:\\PhenoCrop\\3_qgis\\3_Extraction Polygons\\3. FINAL MASKS PYTHON\\24 PRO_BAR_SØRÅS Soraas - ProteinBar_sorted_ID_polygons_shrinked.geojson\n",
      "\n",
      "⚙️ Processing: 20240701 PRO_BAR_SØRÅS M3M 30m MS 80 85_transparent_mosaic_group1.tif at 25% resolution\n",
      "   - Original size: 15574 x 12561\n",
      "   - New size: 3893 x 3140\n",
      "   - Saving downscaled file: D:\\PhenoCrop\\2_pix4d_cleaned\\PRO_BAR_SØRÅS\\MS\\20240701 PRO_BAR_SØRÅS M3M 30m MS 80 85\\2_Orthomosaics\\20240701 PRO_BAR_SØRÅS M3M 30m MS 80 85_transparent_mosaic_group1_thumb.tif\n"
     ]
    },
    {
     "name": "stderr",
     "output_type": "stream",
     "text": [
      "2025-02-07 04:20:12,512 - INFO - Processing project: PRO_BAR_SØRÅS, Flight: 20240701_PRO_BAR_SRS_M3M_30m_MS_80_85_\n",
      "2025-02-07 04:20:12,513 - INFO - ⚙️ Generating NDVI Orthomosaic for: PRO_BAR_SØRÅS, Flight: 20240701_PRO_BAR_SRS_M3M_30m_MS_80_85_\n"
     ]
    },
    {
     "name": "stdout",
     "output_type": "stream",
     "text": [
      "✅ Successfully downscaled: 20240701 PRO_BAR_SØRÅS M3M 30m MS 80 85_transparent_mosaic_group1.tif\n"
     ]
    },
    {
     "name": "stderr",
     "output_type": "stream",
     "text": [
      "2025-02-07 04:20:27,441 - INFO - ✅ Successfully generated NDVI GEOTIFF\n",
      "2025-02-07 04:20:27,442 - INFO - 🚀 Preparing raster processing for flight: 20240701_PRO_BAR_SRS_M3M_30m_MS_80_85_\n",
      "2025-02-07 04:20:27,443 - INFO - ⚙️ Reading shapefile: 24 PRO_BAR_SØRÅS Soraas - ProteinBar_sorted_ID_polygons_shrinked.geojson\n",
      "2025-02-07 04:20:27,513 - INFO - ⚙️ Processing NDVI Stats\n",
      "2025-02-07 04:21:04,911 - INFO - ✅ Successfully processed: NDVI Stats\n",
      "2025-02-07 04:21:04,912 - INFO - ⚙️ Processing raster: green (20240701 PRO_BAR_SØRÅS M3M 30m MS 80 85_index_green_green.tif)\n",
      "2025-02-07 04:23:33,099 - INFO - ✅ Successfully processed: green\n",
      "2025-02-07 04:23:33,100 - INFO - ⚙️ Processing raster: nir (20240701 PRO_BAR_SØRÅS M3M 30m MS 80 85_index_nir_nir.tif)\n",
      "2025-02-07 04:25:58,758 - INFO - ✅ Successfully processed: nir\n",
      "2025-02-07 04:25:58,760 - INFO - ⚙️ Processing raster: red (20240701 PRO_BAR_SØRÅS M3M 30m MS 80 85_index_red_red.tif)\n",
      "2025-02-07 04:28:28,255 - INFO - ✅ Successfully processed: red\n",
      "2025-02-07 04:28:28,256 - INFO - ⚙️ Processing raster: rededge (20240701 PRO_BAR_SØRÅS M3M 30m MS 80 85_index_red_edge_red_edge.tif)\n",
      "2025-02-07 04:30:56,171 - INFO - ✅ Successfully processed: rededge\n",
      "2025-02-07 04:30:56,304 - INFO - ✅📌 Statistics saved to: D:\\PhenoCrop\\3_python\\V2\\PRO_BAR_SØRÅS\\20240701_PRO_BAR_SRS_M3M_30m_MS_80_85_statistics.csv\n"
     ]
    },
    {
     "name": "stdout",
     "output_type": "stream",
     "text": [
      "✅📌 Statistics saved to: D:\\PhenoCrop\\3_python\\V2\\PRO_BAR_SØRÅS\\20240701_PRO_BAR_SRS_M3M_30m_MS_80_85_statistics.csv\n",
      "⏳ Total execution time: 643.79 seconds\n",
      "🧹 Cleared raster data from memory.\n",
      "🧹 Cleared shapefile data from memory.\n",
      "📁 Saved results to D:\\PhenoCrop\\3_python\\V2\\PRO_BAR_SØRÅS\\20240701_PRO_BAR_SRS_M3M_30m_MS_80_85_statistics.csv\n",
      "\n",
      "🚀 Preparing raster processing for flight: 20240708 PRO_BAR_SØRÅS M3M 30m MS 70 75\n",
      "✅ Matched geojson file: D:\\PhenoCrop\\3_qgis\\3_Extraction Polygons\\3. FINAL MASKS PYTHON\\24 PRO_BAR_SØRÅS Soraas - ProteinBar_sorted_ID_polygons_shrinked.geojson\n",
      "\n",
      "⚙️ Processing: 20240708 PRO_BAR_SØRÅS M3M 30m MS 70 75_transparent_mosaic_group1.tif at 25% resolution\n",
      "   - Original size: 15505 x 12341\n",
      "   - New size: 3876 x 3085\n",
      "   - Saving downscaled file: D:\\PhenoCrop\\2_pix4d_cleaned\\PRO_BAR_SØRÅS\\MS\\20240708 PRO_BAR_SØRÅS M3M 30m MS 70 75\\2_Orthomosaics\\20240708 PRO_BAR_SØRÅS M3M 30m MS 70 75_transparent_mosaic_group1_thumb.tif\n"
     ]
    },
    {
     "name": "stderr",
     "output_type": "stream",
     "text": [
      "2025-02-07 04:31:01,059 - INFO - Processing project: PRO_BAR_SØRÅS, Flight: 20240708_PRO_BAR_SRS_M3M_30m_MS_70_75_\n",
      "2025-02-07 04:31:01,060 - INFO - ⚙️ Generating NDVI Orthomosaic for: PRO_BAR_SØRÅS, Flight: 20240708_PRO_BAR_SRS_M3M_30m_MS_70_75_\n"
     ]
    },
    {
     "name": "stdout",
     "output_type": "stream",
     "text": [
      "✅ Successfully downscaled: 20240708 PRO_BAR_SØRÅS M3M 30m MS 70 75_transparent_mosaic_group1.tif\n"
     ]
    },
    {
     "name": "stderr",
     "output_type": "stream",
     "text": [
      "2025-02-07 04:31:15,664 - INFO - ✅ Successfully generated NDVI GEOTIFF\n",
      "2025-02-07 04:31:15,665 - INFO - 🚀 Preparing raster processing for flight: 20240708_PRO_BAR_SRS_M3M_30m_MS_70_75_\n",
      "2025-02-07 04:31:15,666 - INFO - ⚙️ Reading shapefile: 24 PRO_BAR_SØRÅS Soraas - ProteinBar_sorted_ID_polygons_shrinked.geojson\n",
      "2025-02-07 04:31:15,725 - INFO - ⚙️ Processing NDVI Stats\n",
      "2025-02-07 04:31:55,651 - INFO - ✅ Successfully processed: NDVI Stats\n",
      "2025-02-07 04:31:55,652 - INFO - ⚙️ Processing raster: green (20240708 PRO_BAR_SØRÅS M3M 30m MS 70 75_index_green_green.tif)\n",
      "2025-02-07 04:34:32,488 - INFO - ✅ Successfully processed: green\n",
      "2025-02-07 04:34:32,489 - INFO - ⚙️ Processing raster: nir (20240708 PRO_BAR_SØRÅS M3M 30m MS 70 75_index_nir_nir.tif)\n",
      "2025-02-07 04:37:05,069 - INFO - ✅ Successfully processed: nir\n",
      "2025-02-07 04:37:05,070 - INFO - ⚙️ Processing raster: red (20240708 PRO_BAR_SØRÅS M3M 30m MS 70 75_index_red_red.tif)\n",
      "2025-02-07 04:39:41,835 - INFO - ✅ Successfully processed: red\n",
      "2025-02-07 04:39:41,836 - INFO - ⚙️ Processing raster: rededge (20240708 PRO_BAR_SØRÅS M3M 30m MS 70 75_index_red_edge_red_edge.tif)\n",
      "2025-02-07 04:42:16,345 - INFO - ✅ Successfully processed: rededge\n",
      "2025-02-07 04:42:16,494 - INFO - ✅📌 Statistics saved to: D:\\PhenoCrop\\3_python\\V2\\PRO_BAR_SØRÅS\\20240708_PRO_BAR_SRS_M3M_30m_MS_70_75_statistics.csv\n"
     ]
    },
    {
     "name": "stdout",
     "output_type": "stream",
     "text": [
      "✅📌 Statistics saved to: D:\\PhenoCrop\\3_python\\V2\\PRO_BAR_SØRÅS\\20240708_PRO_BAR_SRS_M3M_30m_MS_70_75_statistics.csv\n",
      "⏳ Total execution time: 675.44 seconds\n",
      "🧹 Cleared raster data from memory.\n",
      "🧹 Cleared shapefile data from memory.\n",
      "📁 Saved results to D:\\PhenoCrop\\3_python\\V2\\PRO_BAR_SØRÅS\\20240708_PRO_BAR_SRS_M3M_30m_MS_70_75_statistics.csv\n",
      "\n",
      "🚀 Preparing raster processing for flight: 20240724 PRO_BAR_SØRÅS M3M 30m MS 70 75\n",
      "✅ Matched geojson file: D:\\PhenoCrop\\3_qgis\\3_Extraction Polygons\\3. FINAL MASKS PYTHON\\24 PRO_BAR_SØRÅS Soraas - ProteinBar_sorted_ID_polygons_shrinked.geojson\n",
      "\n",
      "⚙️ Processing: 20240724 PRO_BAR_SØRÅS M3M 30m MS 70 75_transparent_mosaic_group1.tif at 25% resolution\n",
      "   - Original size: 15630 x 11806\n",
      "   - New size: 3907 x 2951\n",
      "   - Saving downscaled file: D:\\PhenoCrop\\2_pix4d_cleaned\\PRO_BAR_SØRÅS\\MS\\20240724 PRO_BAR_SØRÅS M3M 30m MS 70 75\\2_Orthomosaics\\20240724 PRO_BAR_SØRÅS M3M 30m MS 70 75_transparent_mosaic_group1_thumb.tif\n"
     ]
    },
    {
     "name": "stderr",
     "output_type": "stream",
     "text": [
      "2025-02-07 04:42:21,097 - INFO - Processing project: PRO_BAR_SØRÅS, Flight: 20240724_PRO_BAR_SRS_M3M_30m_MS_70_75_\n",
      "2025-02-07 04:42:21,098 - INFO - ⚙️ Generating NDVI Orthomosaic for: PRO_BAR_SØRÅS, Flight: 20240724_PRO_BAR_SRS_M3M_30m_MS_70_75_\n"
     ]
    },
    {
     "name": "stdout",
     "output_type": "stream",
     "text": [
      "✅ Successfully downscaled: 20240724 PRO_BAR_SØRÅS M3M 30m MS 70 75_transparent_mosaic_group1.tif\n"
     ]
    },
    {
     "name": "stderr",
     "output_type": "stream",
     "text": [
      "2025-02-07 04:42:35,682 - INFO - ✅ Successfully generated NDVI GEOTIFF\n",
      "2025-02-07 04:42:35,683 - INFO - 🚀 Preparing raster processing for flight: 20240724_PRO_BAR_SRS_M3M_30m_MS_70_75_\n",
      "2025-02-07 04:42:35,683 - INFO - ⚙️ Reading shapefile: 24 PRO_BAR_SØRÅS Soraas - ProteinBar_sorted_ID_polygons_shrinked.geojson\n",
      "2025-02-07 04:42:35,788 - INFO - ⚙️ Processing NDVI Stats\n",
      "2025-02-07 04:43:15,942 - INFO - ✅ Successfully processed: NDVI Stats\n",
      "2025-02-07 04:43:15,943 - INFO - ⚙️ Processing raster: green (20240724 PRO_BAR_SØRÅS M3M 30m MS 70 75_index_green_green.tif)\n",
      "2025-02-07 04:46:02,063 - INFO - ✅ Successfully processed: green\n",
      "2025-02-07 04:46:02,064 - INFO - ⚙️ Processing raster: nir (20240724 PRO_BAR_SØRÅS M3M 30m MS 70 75_index_nir_nir.tif)\n",
      "2025-02-07 04:48:46,601 - INFO - ✅ Successfully processed: nir\n",
      "2025-02-07 04:48:46,602 - INFO - ⚙️ Processing raster: red (20240724 PRO_BAR_SØRÅS M3M 30m MS 70 75_index_red_red.tif)\n",
      "2025-02-07 04:51:30,515 - INFO - ✅ Successfully processed: red\n",
      "2025-02-07 04:51:30,516 - INFO - ⚙️ Processing raster: rededge (20240724 PRO_BAR_SØRÅS M3M 30m MS 70 75_index_red_edge_red_edge.tif)\n",
      "2025-02-07 04:54:17,611 - INFO - ✅ Successfully processed: rededge\n",
      "2025-02-07 04:54:17,742 - INFO - ✅📌 Statistics saved to: D:\\PhenoCrop\\3_python\\V2\\PRO_BAR_SØRÅS\\20240724_PRO_BAR_SRS_M3M_30m_MS_70_75_statistics.csv\n"
     ]
    },
    {
     "name": "stdout",
     "output_type": "stream",
     "text": [
      "✅📌 Statistics saved to: D:\\PhenoCrop\\3_python\\V2\\PRO_BAR_SØRÅS\\20240724_PRO_BAR_SRS_M3M_30m_MS_70_75_statistics.csv\n",
      "⏳ Total execution time: 716.65 seconds\n",
      "🧹 Cleared raster data from memory.\n",
      "🧹 Cleared shapefile data from memory.\n",
      "📁 Saved results to D:\\PhenoCrop\\3_python\\V2\\PRO_BAR_SØRÅS\\20240724_PRO_BAR_SRS_M3M_30m_MS_70_75_statistics.csv\n",
      "\n",
      "🚀 Preparing raster processing for flight: 20240729 PRO_BAR_SØRÅS M3M 30m MS 70 75\n",
      "✅ Matched geojson file: D:\\PhenoCrop\\3_qgis\\3_Extraction Polygons\\3. FINAL MASKS PYTHON\\24 PRO_BAR_SØRÅS Soraas - ProteinBar_sorted_ID_polygons_shrinked.geojson\n",
      "\n",
      "⚙️ Processing: 20240729 PRO_BAR_SØRÅS M3M 30m MS 70 75_transparent_mosaic_group1.tif at 25% resolution\n",
      "   - Original size: 16024 x 12549\n",
      "   - New size: 4006 x 3137\n",
      "   - Saving downscaled file: D:\\PhenoCrop\\2_pix4d_cleaned\\PRO_BAR_SØRÅS\\MS\\20240729 PRO_BAR_SØRÅS M3M 30m MS 70 75\\2_Orthomosaics\\20240729 PRO_BAR_SØRÅS M3M 30m MS 70 75_transparent_mosaic_group1_thumb.tif\n"
     ]
    },
    {
     "name": "stderr",
     "output_type": "stream",
     "text": [
      "2025-02-07 04:54:22,755 - INFO - Processing project: PRO_BAR_SØRÅS, Flight: 20240729_PRO_BAR_SRS_M3M_30m_MS_70_75_\n",
      "2025-02-07 04:54:22,755 - INFO - ⚙️ Generating NDVI Orthomosaic for: PRO_BAR_SØRÅS, Flight: 20240729_PRO_BAR_SRS_M3M_30m_MS_70_75_\n"
     ]
    },
    {
     "name": "stdout",
     "output_type": "stream",
     "text": [
      "✅ Successfully downscaled: 20240729 PRO_BAR_SØRÅS M3M 30m MS 70 75_transparent_mosaic_group1.tif\n"
     ]
    },
    {
     "name": "stderr",
     "output_type": "stream",
     "text": [
      "2025-02-07 04:54:38,930 - INFO - ✅ Successfully generated NDVI GEOTIFF\n",
      "2025-02-07 04:54:38,931 - INFO - 🚀 Preparing raster processing for flight: 20240729_PRO_BAR_SRS_M3M_30m_MS_70_75_\n",
      "2025-02-07 04:54:38,932 - INFO - ⚙️ Reading shapefile: 24 PRO_BAR_SØRÅS Soraas - ProteinBar_sorted_ID_polygons_shrinked.geojson\n",
      "2025-02-07 04:54:39,013 - INFO - ⚙️ Processing NDVI Stats\n",
      "2025-02-07 04:55:21,636 - INFO - ✅ Successfully processed: NDVI Stats\n",
      "2025-02-07 04:55:21,637 - INFO - ⚙️ Processing raster: green (20240729 PRO_BAR_SØRÅS M3M 30m MS 70 75_index_green_green.tif)\n",
      "2025-02-07 04:58:06,949 - INFO - ✅ Successfully processed: green\n",
      "2025-02-07 04:58:06,950 - INFO - ⚙️ Processing raster: nir (20240729 PRO_BAR_SØRÅS M3M 30m MS 70 75_index_nir_nir.tif)\n",
      "2025-02-07 05:00:46,403 - INFO - ✅ Successfully processed: nir\n",
      "2025-02-07 05:00:46,404 - INFO - ⚙️ Processing raster: red (20240729 PRO_BAR_SØRÅS M3M 30m MS 70 75_index_red_red.tif)\n",
      "2025-02-07 05:03:33,103 - INFO - ✅ Successfully processed: red\n",
      "2025-02-07 05:03:33,104 - INFO - ⚙️ Processing raster: rededge (20240729 PRO_BAR_SØRÅS M3M 30m MS 70 75_index_red_edge_red_edge.tif)\n",
      "2025-02-07 05:06:13,882 - INFO - ✅ Successfully processed: rededge\n",
      "2025-02-07 05:06:14,032 - INFO - ✅📌 Statistics saved to: D:\\PhenoCrop\\3_python\\V2\\PRO_BAR_SØRÅS\\20240729_PRO_BAR_SRS_M3M_30m_MS_70_75_statistics.csv\n"
     ]
    },
    {
     "name": "stdout",
     "output_type": "stream",
     "text": [
      "✅📌 Statistics saved to: D:\\PhenoCrop\\3_python\\V2\\PRO_BAR_SØRÅS\\20240729_PRO_BAR_SRS_M3M_30m_MS_70_75_statistics.csv\n",
      "⏳ Total execution time: 711.28 seconds\n",
      "🧹 Cleared raster data from memory.\n",
      "🧹 Cleared shapefile data from memory.\n",
      "📁 Saved results to D:\\PhenoCrop\\3_python\\V2\\PRO_BAR_SØRÅS\\20240729_PRO_BAR_SRS_M3M_30m_MS_70_75_statistics.csv\n",
      "\n",
      "🚀 Preparing raster processing for flight: 20240812 PRO_BAR_SØRÅS M3M 30m MS 70 75\n",
      "✅ Matched geojson file: D:\\PhenoCrop\\3_qgis\\3_Extraction Polygons\\3. FINAL MASKS PYTHON\\24 PRO_BAR_SØRÅS Soraas - ProteinBar_sorted_ID_polygons_shrinked.geojson\n",
      "\n",
      "⚙️ Processing: 20240812 PRO_BAR_SØRÅS M3M 30m MS 70 75_transparent_mosaic_group1.tif at 25% resolution\n",
      "   - Original size: 16649 x 12750\n",
      "   - New size: 4162 x 3187\n",
      "   - Saving downscaled file: D:\\PhenoCrop\\2_pix4d_cleaned\\PRO_BAR_SØRÅS\\MS\\20240812 PRO_BAR_SØRÅS M3M 30m MS 70 75\\2_Orthomosaics\\20240812 PRO_BAR_SØRÅS M3M 30m MS 70 75_transparent_mosaic_group1_thumb.tif\n"
     ]
    },
    {
     "name": "stderr",
     "output_type": "stream",
     "text": [
      "2025-02-07 05:06:25,941 - INFO - Processing project: PRO_BAR_SØRÅS, Flight: 20240812_PRO_BAR_SRS_M3M_30m_MS_70_75_\n",
      "2025-02-07 05:06:25,941 - INFO - ⚙️ Generating NDVI Orthomosaic for: PRO_BAR_SØRÅS, Flight: 20240812_PRO_BAR_SRS_M3M_30m_MS_70_75_\n"
     ]
    },
    {
     "name": "stdout",
     "output_type": "stream",
     "text": [
      "✅ Successfully downscaled: 20240812 PRO_BAR_SØRÅS M3M 30m MS 70 75_transparent_mosaic_group1.tif\n"
     ]
    },
    {
     "name": "stderr",
     "output_type": "stream",
     "text": [
      "2025-02-07 05:06:43,293 - INFO - ✅ Successfully generated NDVI GEOTIFF\n",
      "2025-02-07 05:06:43,294 - INFO - 🚀 Preparing raster processing for flight: 20240812_PRO_BAR_SRS_M3M_30m_MS_70_75_\n",
      "2025-02-07 05:06:43,294 - INFO - ⚙️ Reading shapefile: 24 PRO_BAR_SØRÅS Soraas - ProteinBar_sorted_ID_polygons_shrinked.geojson\n",
      "2025-02-07 05:06:43,374 - INFO - ⚙️ Processing NDVI Stats\n",
      "2025-02-07 05:07:30,206 - INFO - ✅ Successfully processed: NDVI Stats\n",
      "2025-02-07 05:07:30,207 - INFO - ⚙️ Processing raster: green (20240812 PRO_BAR_SØRÅS M3M 30m MS 70 75_index_green_green.tif)\n",
      "2025-02-07 05:10:29,973 - INFO - ✅ Successfully processed: green\n",
      "2025-02-07 05:10:29,974 - INFO - ⚙️ Processing raster: nir (20240812 PRO_BAR_SØRÅS M3M 30m MS 70 75_index_nir_nir.tif)\n",
      "2025-02-07 05:13:22,570 - INFO - ✅ Successfully processed: nir\n",
      "2025-02-07 05:13:22,571 - INFO - ⚙️ Processing raster: red (20240812 PRO_BAR_SØRÅS M3M 30m MS 70 75_index_red_red.tif)\n",
      "2025-02-07 05:16:24,450 - INFO - ✅ Successfully processed: red\n",
      "2025-02-07 05:16:24,451 - INFO - ⚙️ Processing raster: rededge (20240812 PRO_BAR_SØRÅS M3M 30m MS 70 75_index_red_edge_red_edge.tif)\n",
      "2025-02-07 05:19:21,654 - INFO - ✅ Successfully processed: rededge\n",
      "2025-02-07 05:19:21,805 - INFO - ✅📌 Statistics saved to: D:\\PhenoCrop\\3_python\\V2\\PRO_BAR_SØRÅS\\20240812_PRO_BAR_SRS_M3M_30m_MS_70_75_statistics.csv\n"
     ]
    },
    {
     "name": "stdout",
     "output_type": "stream",
     "text": [
      "✅📌 Statistics saved to: D:\\PhenoCrop\\3_python\\V2\\PRO_BAR_SØRÅS\\20240812_PRO_BAR_SRS_M3M_30m_MS_70_75_statistics.csv\n",
      "⏳ Total execution time: 775.86 seconds\n",
      "🧹 Cleared raster data from memory.\n",
      "🧹 Cleared shapefile data from memory.\n",
      "📁 Saved results to D:\\PhenoCrop\\3_python\\V2\\PRO_BAR_SØRÅS\\20240812_PRO_BAR_SRS_M3M_30m_MS_70_75_statistics.csv\n",
      "⏳ Execution time of prepare_and_run_raster_processing: 9580.488444 seconds\n",
      "\n",
      "🚀 Processing Project: PHENO_CROP | Flight Type: MS\n",
      "Fetching file lists for project: PHENO_CROP, flight type: MS\n",
      "⏳ Execution time of check_data_completeness: 0.000160 seconds\n",
      "\n",
      "✅ COMPLETENESS STATUS:\n",
      "20240603 PHENO_CROP P4M 20m MS 80 85: ✅ Complete\n",
      "20240606 PHENO_CROP M3M 20m MS 80 85: ✅ Complete\n",
      "20240607 PHENO_CROP M3M 30m MS 80 85: ✅ Complete\n",
      "20240611 PHENO_CROP M3M 30m MS 80 85: ✅ Complete\n",
      "20240611 PHENO_CROP P4M 20m MS 80 85 - NOJPG: ❌ Incomplete\n",
      "20240613 PHENO_CROP P4M 20m MS 70 70: ✅ Complete\n",
      "20240619 PHENO_CROP P4M 20m MS 70 75: ✅ Complete\n",
      "20240621 PHENO_CROP M3M 30m MS 80 85: ✅ Complete\n",
      "20240624 PHENO_CROP P4M 20m MS 70 75: ✅ Complete\n",
      "20240625 PHENO_CROP M3M 30m MS 80 85: ✅ Complete\n",
      "20240701 PHENO_CROP P4M 20m MS 70 75: ✅ Complete\n",
      "20240705 PHENO_CROP M3M 30m MS 70 75: ✅ Complete\n",
      "20240708 PHENO_CROP M3M 30m MS 70 75: ✅ Complete\n",
      "20240708 PHENO_CROP P4M 20m MS 70 75: ✅ Complete\n",
      "20240718 PHENO_CROP M3M 30m MS 70 75: ✅ Complete\n",
      "20240718 PHENO_CROP P4M 20m MS 70 75: ✅ Complete\n",
      "20240724 PHENO_CROP M3M 30m MS 70 75: ✅ Complete\n",
      "20240724 PHENO_CROP P4M 20m MS 70 75: ✅ Complete\n",
      "20240729 PHENO_CROP M3M 30m MS 70 75: ✅ Complete\n",
      "20240729 PHENO_CROP P4M 20m MS 70 75: ✅ Complete\n",
      "20240806 PHENO_CROP M3M 30m MS 80 85: ✅ Complete\n",
      "20240806 PHENO_CROP P4M 20m MS 70 75: ✅ Complete\n",
      "20240812 PHENO_CROP M3M 30m MS 70 75: ✅ Complete\n",
      "20240812 PHENO_CROP P4M 20m MS 70 75: ✅ Complete\n",
      "20240819 PHENO_CROP M3M 30m MS 70 75: ✅ Complete\n",
      "20240819 PHENO_CROP P4M 20m MS 70 75: ✅ Complete\n",
      "\n",
      "❌ MISSING FILES REPORT:\n",
      "20240611 PHENO_CROP P4M 20m MS 80 85 - NOJPG is missing: _index_red_edge_red_edge.tif, _index_green_green.tif, _transparent_mosaic_group1.tif, _index_red_red.tif, _index_nir_nir.tif\n",
      "\n",
      "🚀 Preparing raster processing for flight: 20240603 PHENO_CROP P4M 20m MS 80 85\n",
      "✅ Matched geojson file: D:\\PhenoCrop\\3_qgis\\3_Extraction Polygons\\3. FINAL MASKS PYTHON\\24 PHENO_CROP Avlingsregistrering_sorted_ID_polygons_shrinked.geojson\n",
      "\n",
      "⚙️ Processing: 20240603 PHENO_CROP P4M 20m MS 80 85_transparent_mosaic_group1.tif at 25% resolution\n",
      "   - Original size: 12699 x 21103\n",
      "   - New size: 3174 x 5275\n",
      "   - Saving downscaled file: D:\\PhenoCrop\\2_pix4d_cleaned\\PHENO_CROP\\MS\\20240603 PHENO_CROP P4M 20m MS 80 85\\2_Orthomosaics\\20240603 PHENO_CROP P4M 20m MS 80 85_transparent_mosaic_group1_thumb.tif\n"
     ]
    },
    {
     "name": "stderr",
     "output_type": "stream",
     "text": [
      "2025-02-07 05:19:28,229 - INFO - Processing project: PHENO_CROP, Flight: 20240603_PHENO_CROP_P4M_20m_MS_80_85_\n",
      "2025-02-07 05:19:28,230 - INFO - ⚙️ Generating NDVI Orthomosaic for: PHENO_CROP, Flight: 20240603_PHENO_CROP_P4M_20m_MS_80_85_\n"
     ]
    },
    {
     "name": "stdout",
     "output_type": "stream",
     "text": [
      "✅ Successfully downscaled: 20240603 PHENO_CROP P4M 20m MS 80 85_transparent_mosaic_group1.tif\n"
     ]
    },
    {
     "name": "stderr",
     "output_type": "stream",
     "text": [
      "2025-02-07 05:19:50,178 - INFO - ✅ Successfully generated NDVI GEOTIFF\n",
      "2025-02-07 05:19:50,179 - INFO - 🚀 Preparing raster processing for flight: 20240603_PHENO_CROP_P4M_20m_MS_80_85_\n",
      "2025-02-07 05:19:50,180 - INFO - ⚙️ Reading shapefile: 24 PHENO_CROP Avlingsregistrering_sorted_ID_polygons_shrinked.geojson\n",
      "2025-02-07 05:19:50,232 - INFO - ⚙️ Processing NDVI Stats\n",
      "2025-02-07 05:20:41,345 - INFO - ✅ Successfully processed: NDVI Stats\n",
      "2025-02-07 05:20:41,346 - INFO - ⚙️ Processing raster: blue (20240603 PHENO_CROP P4M 20m MS 80 85_index_blue_blue.tif)\n",
      "2025-02-07 05:22:10,091 - INFO - ✅ Successfully processed: blue\n",
      "2025-02-07 05:22:10,091 - INFO - ⚙️ Processing raster: green (20240603 PHENO_CROP P4M 20m MS 80 85_index_green_green.tif)\n",
      "2025-02-07 05:23:36,380 - INFO - ✅ Successfully processed: green\n",
      "2025-02-07 05:23:36,380 - INFO - ⚙️ Processing raster: nir (20240603 PHENO_CROP P4M 20m MS 80 85_index_nir_nir.tif)\n",
      "2025-02-07 05:25:03,201 - INFO - ✅ Successfully processed: nir\n",
      "2025-02-07 05:25:03,202 - INFO - ⚙️ Processing raster: red (20240603 PHENO_CROP P4M 20m MS 80 85_index_red_red.tif)\n",
      "2025-02-07 05:26:30,500 - INFO - ✅ Successfully processed: red\n",
      "2025-02-07 05:26:30,501 - INFO - ⚙️ Processing raster: rededge (20240603 PHENO_CROP P4M 20m MS 80 85_index_red_edge_red_edge.tif)\n",
      "2025-02-07 05:27:58,304 - INFO - ✅ Successfully processed: rededge\n",
      "2025-02-07 05:27:58,416 - INFO - ✅📌 Statistics saved to: D:\\PhenoCrop\\3_python\\V2\\PHENO_CROP\\20240603_PHENO_CROP_P4M_20m_MS_80_85_statistics.csv\n"
     ]
    },
    {
     "name": "stdout",
     "output_type": "stream",
     "text": [
      "✅📌 Statistics saved to: D:\\PhenoCrop\\3_python\\V2\\PHENO_CROP\\20240603_PHENO_CROP_P4M_20m_MS_80_85_statistics.csv\n",
      "⏳ Total execution time: 510.19 seconds\n",
      "🧹 Cleared raster data from memory.\n",
      "🧹 Cleared shapefile data from memory.\n",
      "📁 Saved results to D:\\PhenoCrop\\3_python\\V2\\PHENO_CROP\\20240603_PHENO_CROP_P4M_20m_MS_80_85_statistics.csv\n",
      "\n",
      "🚀 Preparing raster processing for flight: 20240606 PHENO_CROP M3M 20m MS 80 85\n",
      "✅ Matched geojson file: D:\\PhenoCrop\\3_qgis\\3_Extraction Polygons\\3. FINAL MASKS PYTHON\\24 PHENO_CROP Avlingsregistrering_sorted_ID_polygons_shrinked.geojson\n",
      "\n",
      "⚙️ Processing: 20240606 PHENO_CROP M3M 20m MS 80 85_transparent_mosaic_group1.tif at 25% resolution\n",
      "   - Original size: 12444 x 22450\n",
      "   - New size: 3111 x 5612\n",
      "   - Saving downscaled file: D:\\PhenoCrop\\2_pix4d_cleaned\\PHENO_CROP\\MS\\20240606 PHENO_CROP M3M 20m MS 80 85\\2_Orthomosaics\\20240606 PHENO_CROP M3M 20m MS 80 85_transparent_mosaic_group1_thumb.tif\n"
     ]
    },
    {
     "name": "stderr",
     "output_type": "stream",
     "text": [
      "2025-02-07 05:28:05,583 - INFO - Processing project: PHENO_CROP, Flight: 20240606_PHENO_CROP_M3M_20m_MS_80_85_\n",
      "2025-02-07 05:28:05,584 - INFO - ⚙️ Generating NDVI Orthomosaic for: PHENO_CROP, Flight: 20240606_PHENO_CROP_M3M_20m_MS_80_85_\n"
     ]
    },
    {
     "name": "stdout",
     "output_type": "stream",
     "text": [
      "✅ Successfully downscaled: 20240606 PHENO_CROP M3M 20m MS 80 85_transparent_mosaic_group1.tif\n"
     ]
    },
    {
     "name": "stderr",
     "output_type": "stream",
     "text": [
      "2025-02-07 05:28:29,159 - INFO - ✅ Successfully generated NDVI GEOTIFF\n",
      "2025-02-07 05:28:29,160 - INFO - 🚀 Preparing raster processing for flight: 20240606_PHENO_CROP_M3M_20m_MS_80_85_\n",
      "2025-02-07 05:28:29,161 - INFO - ⚙️ Reading shapefile: 24 PHENO_CROP Avlingsregistrering_sorted_ID_polygons_shrinked.geojson\n",
      "2025-02-07 05:28:29,199 - INFO - ⚙️ Processing NDVI Stats\n",
      "2025-02-07 05:29:24,387 - INFO - ✅ Successfully processed: NDVI Stats\n",
      "2025-02-07 05:29:24,388 - INFO - ⚙️ Processing raster: green (20240606 PHENO_CROP M3M 20m MS 80 85_index_green_green.tif)\n",
      "2025-02-07 05:30:58,351 - INFO - ✅ Successfully processed: green\n",
      "2025-02-07 05:30:58,351 - INFO - ⚙️ Processing raster: nir (20240606 PHENO_CROP M3M 20m MS 80 85_index_nir_nir.tif)\n",
      "2025-02-07 05:32:31,447 - INFO - ✅ Successfully processed: nir\n",
      "2025-02-07 05:32:31,448 - INFO - ⚙️ Processing raster: red (20240606 PHENO_CROP M3M 20m MS 80 85_index_red_red.tif)\n",
      "2025-02-07 05:34:05,989 - INFO - ✅ Successfully processed: red\n",
      "2025-02-07 05:34:05,990 - INFO - ⚙️ Processing raster: rededge (20240606 PHENO_CROP M3M 20m MS 80 85_index_red_edge_red_edge.tif)\n",
      "2025-02-07 05:35:40,882 - INFO - ✅ Successfully processed: rededge\n",
      "2025-02-07 05:35:40,984 - INFO - ✅📌 Statistics saved to: D:\\PhenoCrop\\3_python\\V2\\PHENO_CROP\\20240606_PHENO_CROP_M3M_20m_MS_80_85_statistics.csv\n"
     ]
    },
    {
     "name": "stdout",
     "output_type": "stream",
     "text": [
      "✅📌 Statistics saved to: D:\\PhenoCrop\\3_python\\V2\\PHENO_CROP\\20240606_PHENO_CROP_M3M_20m_MS_80_85_statistics.csv\n",
      "⏳ Total execution time: 455.40 seconds\n",
      "🧹 Cleared raster data from memory.\n",
      "🧹 Cleared shapefile data from memory.\n",
      "📁 Saved results to D:\\PhenoCrop\\3_python\\V2\\PHENO_CROP\\20240606_PHENO_CROP_M3M_20m_MS_80_85_statistics.csv\n",
      "\n",
      "🚀 Preparing raster processing for flight: 20240607 PHENO_CROP M3M 30m MS 80 85\n",
      "✅ Matched geojson file: D:\\PhenoCrop\\3_qgis\\3_Extraction Polygons\\3. FINAL MASKS PYTHON\\24 PHENO_CROP Avlingsregistrering_sorted_ID_polygons_shrinked.geojson\n",
      "\n",
      "⚙️ Processing: 20240607 PHENO_CROP M3M 30m MS 80 85_transparent_mosaic_group1.tif at 25% resolution\n",
      "   - Original size: 9602 x 16658\n",
      "   - New size: 2400 x 4164\n",
      "   - Saving downscaled file: D:\\PhenoCrop\\2_pix4d_cleaned\\PHENO_CROP\\MS\\20240607 PHENO_CROP M3M 30m MS 80 85\\2_Orthomosaics\\20240607 PHENO_CROP M3M 30m MS 80 85_transparent_mosaic_group1_thumb.tif\n"
     ]
    },
    {
     "name": "stderr",
     "output_type": "stream",
     "text": [
      "2025-02-07 05:35:45,222 - INFO - Processing project: PHENO_CROP, Flight: 20240607_PHENO_CROP_M3M_30m_MS_80_85_\n",
      "2025-02-07 05:35:45,223 - INFO - ⚙️ Generating NDVI Orthomosaic for: PHENO_CROP, Flight: 20240607_PHENO_CROP_M3M_30m_MS_80_85_\n"
     ]
    },
    {
     "name": "stdout",
     "output_type": "stream",
     "text": [
      "✅ Successfully downscaled: 20240607 PHENO_CROP M3M 30m MS 80 85_transparent_mosaic_group1.tif\n"
     ]
    },
    {
     "name": "stderr",
     "output_type": "stream",
     "text": [
      "2025-02-07 05:35:58,333 - INFO - ✅ Successfully generated NDVI GEOTIFF\n",
      "2025-02-07 05:35:58,334 - INFO - 🚀 Preparing raster processing for flight: 20240607_PHENO_CROP_M3M_30m_MS_80_85_\n",
      "2025-02-07 05:35:58,335 - INFO - ⚙️ Reading shapefile: 24 PHENO_CROP Avlingsregistrering_sorted_ID_polygons_shrinked.geojson\n",
      "2025-02-07 05:35:58,376 - INFO - ⚙️ Processing NDVI Stats\n",
      "2025-02-07 05:36:25,120 - INFO - ✅ Successfully processed: NDVI Stats\n",
      "2025-02-07 05:36:25,121 - INFO - ⚙️ Processing raster: green (20240607 PHENO_CROP M3M 30m MS 80 85_index_green_green.tif)\n",
      "2025-02-07 05:37:13,883 - INFO - ✅ Successfully processed: green\n",
      "2025-02-07 05:37:13,884 - INFO - ⚙️ Processing raster: nir (20240607 PHENO_CROP M3M 30m MS 80 85_index_nir_nir.tif)\n",
      "2025-02-07 05:38:01,992 - INFO - ✅ Successfully processed: nir\n",
      "2025-02-07 05:38:01,993 - INFO - ⚙️ Processing raster: red (20240607 PHENO_CROP M3M 30m MS 80 85_index_red_red.tif)\n",
      "2025-02-07 05:38:49,841 - INFO - ✅ Successfully processed: red\n",
      "2025-02-07 05:38:49,842 - INFO - ⚙️ Processing raster: rededge (20240607 PHENO_CROP M3M 30m MS 80 85_index_red_edge_red_edge.tif)\n",
      "2025-02-07 05:39:38,004 - INFO - ✅ Successfully processed: rededge\n",
      "2025-02-07 05:39:38,093 - INFO - ✅📌 Statistics saved to: D:\\PhenoCrop\\3_python\\V2\\PHENO_CROP\\20240607_PHENO_CROP_M3M_30m_MS_80_85_statistics.csv\n"
     ]
    },
    {
     "name": "stdout",
     "output_type": "stream",
     "text": [
      "✅📌 Statistics saved to: D:\\PhenoCrop\\3_python\\V2\\PHENO_CROP\\20240607_PHENO_CROP_M3M_30m_MS_80_85_statistics.csv\n",
      "⏳ Total execution time: 232.87 seconds\n",
      "🧹 Cleared raster data from memory.\n",
      "🧹 Cleared shapefile data from memory.\n",
      "📁 Saved results to D:\\PhenoCrop\\3_python\\V2\\PHENO_CROP\\20240607_PHENO_CROP_M3M_30m_MS_80_85_statistics.csv\n",
      "\n",
      "🚀 Preparing raster processing for flight: 20240611 PHENO_CROP M3M 30m MS 80 85\n",
      "✅ Matched geojson file: D:\\PhenoCrop\\3_qgis\\3_Extraction Polygons\\3. FINAL MASKS PYTHON\\24 PHENO_CROP Avlingsregistrering_sorted_ID_polygons_shrinked.geojson\n",
      "\n",
      "⚙️ Processing: 20240611 PHENO_CROP M3M 30m MS 80 85_transparent_mosaic_group1.tif at 25% resolution\n",
      "   - Original size: 8766 x 14623\n",
      "   - New size: 2191 x 3655\n",
      "   - Saving downscaled file: D:\\PhenoCrop\\2_pix4d_cleaned\\PHENO_CROP\\MS\\20240611 PHENO_CROP M3M 30m MS 80 85\\2_Orthomosaics\\20240611 PHENO_CROP M3M 30m MS 80 85_transparent_mosaic_group1_thumb.tif\n"
     ]
    },
    {
     "name": "stderr",
     "output_type": "stream",
     "text": [
      "2025-02-07 05:39:41,314 - INFO - Processing project: PHENO_CROP, Flight: 20240611_PHENO_CROP_M3M_30m_MS_80_85_\n",
      "2025-02-07 05:39:41,314 - INFO - ⚙️ Generating NDVI Orthomosaic for: PHENO_CROP, Flight: 20240611_PHENO_CROP_M3M_30m_MS_80_85_\n"
     ]
    },
    {
     "name": "stdout",
     "output_type": "stream",
     "text": [
      "✅ Successfully downscaled: 20240611 PHENO_CROP M3M 30m MS 80 85_transparent_mosaic_group1.tif\n"
     ]
    },
    {
     "name": "stderr",
     "output_type": "stream",
     "text": [
      "2025-02-07 05:39:51,673 - INFO - ✅ Successfully generated NDVI GEOTIFF\n",
      "2025-02-07 05:39:51,674 - INFO - 🚀 Preparing raster processing for flight: 20240611_PHENO_CROP_M3M_30m_MS_80_85_\n",
      "2025-02-07 05:39:51,675 - INFO - ⚙️ Reading shapefile: 24 PHENO_CROP Avlingsregistrering_sorted_ID_polygons_shrinked.geojson\n",
      "2025-02-07 05:39:51,714 - INFO - ⚙️ Processing NDVI Stats\n",
      "2025-02-07 05:40:15,484 - INFO - ✅ Successfully processed: NDVI Stats\n",
      "2025-02-07 05:40:15,485 - INFO - ⚙️ Processing raster: green (20240611 PHENO_CROP M3M 30m MS 80 85_index_green_green.tif)\n",
      "2025-02-07 05:40:58,357 - INFO - ✅ Successfully processed: green\n",
      "2025-02-07 05:40:58,357 - INFO - ⚙️ Processing raster: nir (20240611 PHENO_CROP M3M 30m MS 80 85_index_nir_nir.tif)\n",
      "2025-02-07 05:41:40,523 - INFO - ✅ Successfully processed: nir\n",
      "2025-02-07 05:41:40,523 - INFO - ⚙️ Processing raster: red (20240611 PHENO_CROP M3M 30m MS 80 85_index_red_red.tif)\n",
      "2025-02-07 05:42:23,003 - INFO - ✅ Successfully processed: red\n",
      "2025-02-07 05:42:23,004 - INFO - ⚙️ Processing raster: rededge (20240611 PHENO_CROP M3M 30m MS 80 85_index_red_edge_red_edge.tif)\n",
      "2025-02-07 05:43:05,098 - INFO - ✅ Successfully processed: rededge\n",
      "2025-02-07 05:43:05,191 - INFO - ✅📌 Statistics saved to: D:\\PhenoCrop\\3_python\\V2\\PHENO_CROP\\20240611_PHENO_CROP_M3M_30m_MS_80_85_statistics.csv\n"
     ]
    },
    {
     "name": "stdout",
     "output_type": "stream",
     "text": [
      "✅📌 Statistics saved to: D:\\PhenoCrop\\3_python\\V2\\PHENO_CROP\\20240611_PHENO_CROP_M3M_30m_MS_80_85_statistics.csv\n",
      "⏳ Total execution time: 203.88 seconds\n",
      "🧹 Cleared raster data from memory.\n",
      "🧹 Cleared shapefile data from memory.\n",
      "📁 Saved results to D:\\PhenoCrop\\3_python\\V2\\PHENO_CROP\\20240611_PHENO_CROP_M3M_30m_MS_80_85_statistics.csv\n",
      "\n",
      "🚀 Preparing raster processing for flight: 20240613 PHENO_CROP P4M 20m MS 70 70\n",
      "✅ Matched geojson file: D:\\PhenoCrop\\3_qgis\\3_Extraction Polygons\\3. FINAL MASKS PYTHON\\24 PHENO_CROP Avlingsregistrering_sorted_ID_polygons_shrinked.geojson\n",
      "\n",
      "⚙️ Processing: 20240613 PHENO_CROP P4M 20m MS 70 70_transparent_mosaic_group1.tif at 25% resolution\n",
      "   - Original size: 9973 x 16331\n",
      "   - New size: 2493 x 4082\n",
      "   - Saving downscaled file: D:\\PhenoCrop\\2_pix4d_cleaned\\PHENO_CROP\\MS\\20240613 PHENO_CROP P4M 20m MS 70 70\\2_Orthomosaics\\20240613 PHENO_CROP P4M 20m MS 70 70_transparent_mosaic_group1_thumb.tif\n"
     ]
    },
    {
     "name": "stderr",
     "output_type": "stream",
     "text": [
      "2025-02-07 05:43:08,983 - INFO - Processing project: PHENO_CROP, Flight: 20240613_PHENO_CROP_P4M_20m_MS_70_70_\n",
      "2025-02-07 05:43:08,983 - INFO - ⚙️ Generating NDVI Orthomosaic for: PHENO_CROP, Flight: 20240613_PHENO_CROP_P4M_20m_MS_70_70_\n"
     ]
    },
    {
     "name": "stdout",
     "output_type": "stream",
     "text": [
      "✅ Successfully downscaled: 20240613 PHENO_CROP P4M 20m MS 70 70_transparent_mosaic_group1.tif\n"
     ]
    },
    {
     "name": "stderr",
     "output_type": "stream",
     "text": [
      "2025-02-07 05:43:22,057 - INFO - ✅ Successfully generated NDVI GEOTIFF\n",
      "2025-02-07 05:43:22,058 - INFO - 🚀 Preparing raster processing for flight: 20240613_PHENO_CROP_P4M_20m_MS_70_70_\n",
      "2025-02-07 05:43:22,059 - INFO - ⚙️ Reading shapefile: 24 PHENO_CROP Avlingsregistrering_sorted_ID_polygons_shrinked.geojson\n",
      "2025-02-07 05:43:22,099 - INFO - ⚙️ Processing NDVI Stats\n",
      "2025-02-07 05:43:51,882 - INFO - ✅ Successfully processed: NDVI Stats\n",
      "2025-02-07 05:43:51,883 - INFO - ⚙️ Processing raster: blue (20240613 PHENO_CROP P4M 20m MS 70 70_index_blue_blue.tif)\n",
      "2025-02-07 05:44:45,976 - INFO - ✅ Successfully processed: blue\n",
      "2025-02-07 05:44:45,977 - INFO - ⚙️ Processing raster: green (20240613 PHENO_CROP P4M 20m MS 70 70_index_green_green.tif)\n",
      "2025-02-07 05:45:38,279 - INFO - ✅ Successfully processed: green\n",
      "2025-02-07 05:45:38,279 - INFO - ⚙️ Processing raster: nir (20240613 PHENO_CROP P4M 20m MS 70 70_index_nir_nir.tif)\n",
      "2025-02-07 05:46:30,982 - INFO - ✅ Successfully processed: nir\n",
      "2025-02-07 05:46:30,983 - INFO - ⚙️ Processing raster: red (20240613 PHENO_CROP P4M 20m MS 70 70_index_red_red.tif)\n",
      "2025-02-07 05:47:23,343 - INFO - ✅ Successfully processed: red\n",
      "2025-02-07 05:47:23,343 - INFO - ⚙️ Processing raster: rededge (20240613 PHENO_CROP P4M 20m MS 70 70_index_red_edge_red_edge.tif)\n",
      "2025-02-07 05:48:16,544 - INFO - ✅ Successfully processed: rededge\n",
      "2025-02-07 05:48:16,651 - INFO - ✅📌 Statistics saved to: D:\\PhenoCrop\\3_python\\V2\\PHENO_CROP\\20240613_PHENO_CROP_P4M_20m_MS_70_70_statistics.csv\n"
     ]
    },
    {
     "name": "stdout",
     "output_type": "stream",
     "text": [
      "✅📌 Statistics saved to: D:\\PhenoCrop\\3_python\\V2\\PHENO_CROP\\20240613_PHENO_CROP_P4M_20m_MS_70_70_statistics.csv\n",
      "⏳ Total execution time: 307.67 seconds\n",
      "🧹 Cleared raster data from memory.\n",
      "🧹 Cleared shapefile data from memory.\n",
      "📁 Saved results to D:\\PhenoCrop\\3_python\\V2\\PHENO_CROP\\20240613_PHENO_CROP_P4M_20m_MS_70_70_statistics.csv\n",
      "\n",
      "🚀 Preparing raster processing for flight: 20240619 PHENO_CROP P4M 20m MS 70 75\n",
      "✅ Matched geojson file: D:\\PhenoCrop\\3_qgis\\3_Extraction Polygons\\3. FINAL MASKS PYTHON\\24 PHENO_CROP Avlingsregistrering_sorted_ID_polygons_shrinked.geojson\n",
      "\n",
      "⚙️ Processing: 20240619 PHENO_CROP P4M 20m MS 70 75_transparent_mosaic_group1.tif at 25% resolution\n",
      "   - Original size: 10181 x 17916\n",
      "   - New size: 2545 x 4479\n",
      "   - Saving downscaled file: D:\\PhenoCrop\\2_pix4d_cleaned\\PHENO_CROP\\MS\\20240619 PHENO_CROP P4M 20m MS 70 75\\2_Orthomosaics\\20240619 PHENO_CROP P4M 20m MS 70 75_transparent_mosaic_group1_thumb.tif\n"
     ]
    },
    {
     "name": "stderr",
     "output_type": "stream",
     "text": [
      "2025-02-07 05:48:20,926 - INFO - Processing project: PHENO_CROP, Flight: 20240619_PHENO_CROP_P4M_20m_MS_70_75_\n",
      "2025-02-07 05:48:20,926 - INFO - ⚙️ Generating NDVI Orthomosaic for: PHENO_CROP, Flight: 20240619_PHENO_CROP_P4M_20m_MS_70_75_\n"
     ]
    },
    {
     "name": "stdout",
     "output_type": "stream",
     "text": [
      "✅ Successfully downscaled: 20240619 PHENO_CROP P4M 20m MS 70 75_transparent_mosaic_group1.tif\n"
     ]
    },
    {
     "name": "stderr",
     "output_type": "stream",
     "text": [
      "2025-02-07 05:48:35,262 - INFO - ✅ Successfully generated NDVI GEOTIFF\n",
      "2025-02-07 05:48:35,263 - INFO - 🚀 Preparing raster processing for flight: 20240619_PHENO_CROP_P4M_20m_MS_70_75_\n",
      "2025-02-07 05:48:35,263 - INFO - ⚙️ Reading shapefile: 24 PHENO_CROP Avlingsregistrering_sorted_ID_polygons_shrinked.geojson\n",
      "2025-02-07 05:48:35,307 - INFO - ⚙️ Processing NDVI Stats\n",
      "2025-02-07 05:49:09,922 - INFO - ✅ Successfully processed: NDVI Stats\n",
      "2025-02-07 05:49:09,924 - INFO - ⚙️ Processing raster: blue (20240619 PHENO_CROP P4M 20m MS 70 75_index_blue_blue.tif)\n",
      "2025-02-07 05:50:10,935 - INFO - ✅ Successfully processed: blue\n",
      "2025-02-07 05:50:10,935 - INFO - ⚙️ Processing raster: green (20240619 PHENO_CROP P4M 20m MS 70 75_index_green_green.tif)\n",
      "2025-02-07 05:51:11,486 - INFO - ✅ Successfully processed: green\n",
      "2025-02-07 05:51:11,487 - INFO - ⚙️ Processing raster: nir (20240619 PHENO_CROP P4M 20m MS 70 75_index_nir_nir.tif)\n",
      "2025-02-07 05:52:11,444 - INFO - ✅ Successfully processed: nir\n",
      "2025-02-07 05:52:11,444 - INFO - ⚙️ Processing raster: red (20240619 PHENO_CROP P4M 20m MS 70 75_index_red_red.tif)\n",
      "2025-02-07 05:53:12,189 - INFO - ✅ Successfully processed: red\n",
      "2025-02-07 05:53:12,190 - INFO - ⚙️ Processing raster: rededge (20240619 PHENO_CROP P4M 20m MS 70 75_index_red_edge_red_edge.tif)\n",
      "2025-02-07 05:54:12,937 - INFO - ✅ Successfully processed: rededge\n",
      "2025-02-07 05:54:13,044 - INFO - ✅📌 Statistics saved to: D:\\PhenoCrop\\3_python\\V2\\PHENO_CROP\\20240619_PHENO_CROP_P4M_20m_MS_70_75_statistics.csv\n"
     ]
    },
    {
     "name": "stdout",
     "output_type": "stream",
     "text": [
      "✅📌 Statistics saved to: D:\\PhenoCrop\\3_python\\V2\\PHENO_CROP\\20240619_PHENO_CROP_P4M_20m_MS_70_75_statistics.csv\n",
      "⏳ Total execution time: 352.12 seconds\n",
      "🧹 Cleared raster data from memory.\n",
      "🧹 Cleared shapefile data from memory.\n",
      "📁 Saved results to D:\\PhenoCrop\\3_python\\V2\\PHENO_CROP\\20240619_PHENO_CROP_P4M_20m_MS_70_75_statistics.csv\n",
      "\n",
      "🚀 Preparing raster processing for flight: 20240621 PHENO_CROP M3M 30m MS 80 85\n",
      "✅ Matched geojson file: D:\\PhenoCrop\\3_qgis\\3_Extraction Polygons\\3. FINAL MASKS PYTHON\\24 PHENO_CROP Avlingsregistrering_sorted_ID_polygons_shrinked.geojson\n",
      "\n",
      "⚙️ Processing: 20240621 PHENO_CROP M3M 30m MS 80 85_transparent_mosaic_group1.tif at 25% resolution\n",
      "   - Original size: 8571 x 15186\n",
      "   - New size: 2142 x 3796\n",
      "   - Saving downscaled file: D:\\PhenoCrop\\2_pix4d_cleaned\\PHENO_CROP\\MS\\20240621 PHENO_CROP M3M 30m MS 80 85\\2_Orthomosaics\\20240621 PHENO_CROP M3M 30m MS 80 85_transparent_mosaic_group1_thumb.tif\n"
     ]
    },
    {
     "name": "stderr",
     "output_type": "stream",
     "text": [
      "2025-02-07 05:54:16,442 - INFO - Processing project: PHENO_CROP, Flight: 20240621_PHENO_CROP_M3M_30m_MS_80_85_\n",
      "2025-02-07 05:54:16,442 - INFO - ⚙️ Generating NDVI Orthomosaic for: PHENO_CROP, Flight: 20240621_PHENO_CROP_M3M_30m_MS_80_85_\n"
     ]
    },
    {
     "name": "stdout",
     "output_type": "stream",
     "text": [
      "✅ Successfully downscaled: 20240621 PHENO_CROP M3M 30m MS 80 85_transparent_mosaic_group1.tif\n"
     ]
    },
    {
     "name": "stderr",
     "output_type": "stream",
     "text": [
      "2025-02-07 05:54:26,971 - INFO - ✅ Successfully generated NDVI GEOTIFF\n",
      "2025-02-07 05:54:26,972 - INFO - 🚀 Preparing raster processing for flight: 20240621_PHENO_CROP_M3M_30m_MS_80_85_\n",
      "2025-02-07 05:54:26,972 - INFO - ⚙️ Reading shapefile: 24 PHENO_CROP Avlingsregistrering_sorted_ID_polygons_shrinked.geojson\n",
      "2025-02-07 05:54:27,045 - INFO - ⚙️ Processing NDVI Stats\n",
      "2025-02-07 05:54:51,480 - INFO - ✅ Successfully processed: NDVI Stats\n",
      "2025-02-07 05:54:51,481 - INFO - ⚙️ Processing raster: green (20240621 PHENO_CROP M3M 30m MS 80 85_index_green_green.tif)\n",
      "2025-02-07 05:55:35,006 - INFO - ✅ Successfully processed: green\n",
      "2025-02-07 05:55:35,006 - INFO - ⚙️ Processing raster: nir (20240621 PHENO_CROP M3M 30m MS 80 85_index_nir_nir.tif)\n",
      "2025-02-07 05:56:16,679 - INFO - ✅ Successfully processed: nir\n",
      "2025-02-07 05:56:16,679 - INFO - ⚙️ Processing raster: red (20240621 PHENO_CROP M3M 30m MS 80 85_index_red_red.tif)\n",
      "2025-02-07 05:56:59,383 - INFO - ✅ Successfully processed: red\n",
      "2025-02-07 05:56:59,384 - INFO - ⚙️ Processing raster: rededge (20240621 PHENO_CROP M3M 30m MS 80 85_index_red_edge_red_edge.tif)\n",
      "2025-02-07 05:57:41,981 - INFO - ✅ Successfully processed: rededge\n",
      "2025-02-07 05:57:42,077 - INFO - ✅📌 Statistics saved to: D:\\PhenoCrop\\3_python\\V2\\PHENO_CROP\\20240621_PHENO_CROP_M3M_30m_MS_80_85_statistics.csv\n"
     ]
    },
    {
     "name": "stdout",
     "output_type": "stream",
     "text": [
      "✅📌 Statistics saved to: D:\\PhenoCrop\\3_python\\V2\\PHENO_CROP\\20240621_PHENO_CROP_M3M_30m_MS_80_85_statistics.csv\n",
      "⏳ Total execution time: 205.64 seconds\n",
      "🧹 Cleared raster data from memory.\n",
      "🧹 Cleared shapefile data from memory.\n",
      "📁 Saved results to D:\\PhenoCrop\\3_python\\V2\\PHENO_CROP\\20240621_PHENO_CROP_M3M_30m_MS_80_85_statistics.csv\n",
      "\n",
      "🚀 Preparing raster processing for flight: 20240624 PHENO_CROP P4M 20m MS 70 75\n",
      "✅ Matched geojson file: D:\\PhenoCrop\\3_qgis\\3_Extraction Polygons\\3. FINAL MASKS PYTHON\\24 PHENO_CROP Avlingsregistrering_sorted_ID_polygons_shrinked.geojson\n",
      "\n",
      "⚙️ Processing: 20240624 PHENO_CROP P4M 20m MS 70 75_transparent_mosaic_group1.tif at 25% resolution\n",
      "   - Original size: 9237 x 15448\n",
      "   - New size: 2309 x 3862\n",
      "   - Saving downscaled file: D:\\PhenoCrop\\2_pix4d_cleaned\\PHENO_CROP\\MS\\20240624 PHENO_CROP P4M 20m MS 70 75\\2_Orthomosaics\\20240624 PHENO_CROP P4M 20m MS 70 75_transparent_mosaic_group1_thumb.tif\n"
     ]
    },
    {
     "name": "stderr",
     "output_type": "stream",
     "text": [
      "2025-02-07 05:57:45,492 - INFO - Processing project: PHENO_CROP, Flight: 20240624_PHENO_CROP_P4M_20m_MS_70_75_\n",
      "2025-02-07 05:57:45,493 - INFO - ⚙️ Generating NDVI Orthomosaic for: PHENO_CROP, Flight: 20240624_PHENO_CROP_P4M_20m_MS_70_75_\n"
     ]
    },
    {
     "name": "stdout",
     "output_type": "stream",
     "text": [
      "✅ Successfully downscaled: 20240624 PHENO_CROP P4M 20m MS 70 75_transparent_mosaic_group1.tif\n"
     ]
    },
    {
     "name": "stderr",
     "output_type": "stream",
     "text": [
      "2025-02-07 05:57:57,043 - INFO - ✅ Successfully generated NDVI GEOTIFF\n",
      "2025-02-07 05:57:57,044 - INFO - 🚀 Preparing raster processing for flight: 20240624_PHENO_CROP_P4M_20m_MS_70_75_\n",
      "2025-02-07 05:57:57,044 - INFO - ⚙️ Reading shapefile: 24 PHENO_CROP Avlingsregistrering_sorted_ID_polygons_shrinked.geojson\n",
      "2025-02-07 05:57:57,082 - INFO - ⚙️ Processing NDVI Stats\n",
      "2025-02-07 05:58:25,807 - INFO - ✅ Successfully processed: NDVI Stats\n",
      "2025-02-07 05:58:25,808 - INFO - ⚙️ Processing raster: blue (20240624 PHENO_CROP P4M 20m MS 70 75_index_blue_blue.tif)\n",
      "2025-02-07 05:59:16,443 - INFO - ✅ Successfully processed: blue\n",
      "2025-02-07 05:59:16,443 - INFO - ⚙️ Processing raster: green (20240624 PHENO_CROP P4M 20m MS 70 75_index_green_green.tif)\n",
      "2025-02-07 06:00:06,215 - INFO - ✅ Successfully processed: green\n",
      "2025-02-07 06:00:06,216 - INFO - ⚙️ Processing raster: nir (20240624 PHENO_CROP P4M 20m MS 70 75_index_nir_nir.tif)\n",
      "2025-02-07 06:00:55,545 - INFO - ✅ Successfully processed: nir\n",
      "2025-02-07 06:00:55,546 - INFO - ⚙️ Processing raster: red (20240624 PHENO_CROP P4M 20m MS 70 75_index_red_red.tif)\n",
      "2025-02-07 06:01:45,439 - INFO - ✅ Successfully processed: red\n",
      "2025-02-07 06:01:45,440 - INFO - ⚙️ Processing raster: rededge (20240624 PHENO_CROP P4M 20m MS 70 75_index_red_edge_red_edge.tif)\n",
      "2025-02-07 06:02:35,400 - INFO - ✅ Successfully processed: rededge\n",
      "2025-02-07 06:02:35,524 - INFO - ✅📌 Statistics saved to: D:\\PhenoCrop\\3_python\\V2\\PHENO_CROP\\20240624_PHENO_CROP_P4M_20m_MS_70_75_statistics.csv\n"
     ]
    },
    {
     "name": "stdout",
     "output_type": "stream",
     "text": [
      "✅📌 Statistics saved to: D:\\PhenoCrop\\3_python\\V2\\PHENO_CROP\\20240624_PHENO_CROP_P4M_20m_MS_70_75_statistics.csv\n",
      "⏳ Total execution time: 290.03 seconds\n",
      "🧹 Cleared raster data from memory.\n",
      "🧹 Cleared shapefile data from memory.\n",
      "📁 Saved results to D:\\PhenoCrop\\3_python\\V2\\PHENO_CROP\\20240624_PHENO_CROP_P4M_20m_MS_70_75_statistics.csv\n",
      "\n",
      "🚀 Preparing raster processing for flight: 20240625 PHENO_CROP M3M 30m MS 80 85\n",
      "✅ Matched geojson file: D:\\PhenoCrop\\3_qgis\\3_Extraction Polygons\\3. FINAL MASKS PYTHON\\24 PHENO_CROP Avlingsregistrering_sorted_ID_polygons_shrinked.geojson\n",
      "\n",
      "⚙️ Processing: 20240625 PHENO_CROP M3M 30m MS 80 85_transparent_mosaic_group1.tif at 25% resolution\n",
      "   - Original size: 8238 x 14638\n",
      "   - New size: 2059 x 3659\n",
      "   - Saving downscaled file: D:\\PhenoCrop\\2_pix4d_cleaned\\PHENO_CROP\\MS\\20240625 PHENO_CROP M3M 30m MS 80 85\\2_Orthomosaics\\20240625 PHENO_CROP M3M 30m MS 80 85_transparent_mosaic_group1_thumb.tif\n"
     ]
    },
    {
     "name": "stderr",
     "output_type": "stream",
     "text": [
      "2025-02-07 06:02:38,597 - INFO - Processing project: PHENO_CROP, Flight: 20240625_PHENO_CROP_M3M_30m_MS_80_85_\n",
      "2025-02-07 06:02:38,597 - INFO - ⚙️ Generating NDVI Orthomosaic for: PHENO_CROP, Flight: 20240625_PHENO_CROP_M3M_30m_MS_80_85_\n"
     ]
    },
    {
     "name": "stdout",
     "output_type": "stream",
     "text": [
      "✅ Successfully downscaled: 20240625 PHENO_CROP M3M 30m MS 80 85_transparent_mosaic_group1.tif\n"
     ]
    },
    {
     "name": "stderr",
     "output_type": "stream",
     "text": [
      "2025-02-07 06:02:48,480 - INFO - ✅ Successfully generated NDVI GEOTIFF\n",
      "2025-02-07 06:02:48,481 - INFO - 🚀 Preparing raster processing for flight: 20240625_PHENO_CROP_M3M_30m_MS_80_85_\n",
      "2025-02-07 06:02:48,482 - INFO - ⚙️ Reading shapefile: 24 PHENO_CROP Avlingsregistrering_sorted_ID_polygons_shrinked.geojson\n",
      "2025-02-07 06:02:48,525 - INFO - ⚙️ Processing NDVI Stats\n",
      "2025-02-07 06:03:11,940 - INFO - ✅ Successfully processed: NDVI Stats\n",
      "2025-02-07 06:03:11,942 - INFO - ⚙️ Processing raster: green (20240625 PHENO_CROP M3M 30m MS 80 85_index_green_green.tif)\n",
      "2025-02-07 06:03:52,470 - INFO - ✅ Successfully processed: green\n",
      "2025-02-07 06:03:52,471 - INFO - ⚙️ Processing raster: nir (20240625 PHENO_CROP M3M 30m MS 80 85_index_nir_nir.tif)\n",
      "2025-02-07 06:04:32,178 - INFO - ✅ Successfully processed: nir\n",
      "2025-02-07 06:04:32,179 - INFO - ⚙️ Processing raster: red (20240625 PHENO_CROP M3M 30m MS 80 85_index_red_red.tif)\n",
      "2025-02-07 06:05:12,359 - INFO - ✅ Successfully processed: red\n",
      "2025-02-07 06:05:12,360 - INFO - ⚙️ Processing raster: rededge (20240625 PHENO_CROP M3M 30m MS 80 85_index_red_edge_red_edge.tif)\n",
      "2025-02-07 06:05:52,662 - INFO - ✅ Successfully processed: rededge\n",
      "2025-02-07 06:05:52,756 - INFO - ✅📌 Statistics saved to: D:\\PhenoCrop\\3_python\\V2\\PHENO_CROP\\20240625_PHENO_CROP_M3M_30m_MS_80_85_statistics.csv\n"
     ]
    },
    {
     "name": "stdout",
     "output_type": "stream",
     "text": [
      "✅📌 Statistics saved to: D:\\PhenoCrop\\3_python\\V2\\PHENO_CROP\\20240625_PHENO_CROP_M3M_30m_MS_80_85_statistics.csv\n",
      "⏳ Total execution time: 194.16 seconds\n",
      "🧹 Cleared raster data from memory.\n",
      "🧹 Cleared shapefile data from memory.\n",
      "📁 Saved results to D:\\PhenoCrop\\3_python\\V2\\PHENO_CROP\\20240625_PHENO_CROP_M3M_30m_MS_80_85_statistics.csv\n",
      "\n",
      "🚀 Preparing raster processing for flight: 20240701 PHENO_CROP P4M 20m MS 70 75\n",
      "✅ Matched geojson file: D:\\PhenoCrop\\3_qgis\\3_Extraction Polygons\\3. FINAL MASKS PYTHON\\24 PHENO_CROP Avlingsregistrering_sorted_ID_polygons_shrinked.geojson\n",
      "\n",
      "⚙️ Processing: 20240701 PHENO_CROP P4M 20m MS 70 75_transparent_mosaic_group1.tif at 25% resolution\n",
      "   - Original size: 9089 x 16323\n",
      "   - New size: 2272 x 4080\n",
      "   - Saving downscaled file: D:\\PhenoCrop\\2_pix4d_cleaned\\PHENO_CROP\\MS\\20240701 PHENO_CROP P4M 20m MS 70 75\\2_Orthomosaics\\20240701 PHENO_CROP P4M 20m MS 70 75_transparent_mosaic_group1_thumb.tif\n"
     ]
    },
    {
     "name": "stderr",
     "output_type": "stream",
     "text": [
      "2025-02-07 06:05:56,405 - INFO - Processing project: PHENO_CROP, Flight: 20240701_PHENO_CROP_P4M_20m_MS_70_75_\n",
      "2025-02-07 06:05:56,406 - INFO - ⚙️ Generating NDVI Orthomosaic for: PHENO_CROP, Flight: 20240701_PHENO_CROP_P4M_20m_MS_70_75_\n"
     ]
    },
    {
     "name": "stdout",
     "output_type": "stream",
     "text": [
      "✅ Successfully downscaled: 20240701 PHENO_CROP P4M 20m MS 70 75_transparent_mosaic_group1.tif\n"
     ]
    },
    {
     "name": "stderr",
     "output_type": "stream",
     "text": [
      "2025-02-07 06:06:08,372 - INFO - ✅ Successfully generated NDVI GEOTIFF\n",
      "2025-02-07 06:06:08,373 - INFO - 🚀 Preparing raster processing for flight: 20240701_PHENO_CROP_P4M_20m_MS_70_75_\n",
      "2025-02-07 06:06:08,374 - INFO - ⚙️ Reading shapefile: 24 PHENO_CROP Avlingsregistrering_sorted_ID_polygons_shrinked.geojson\n",
      "2025-02-07 06:06:08,411 - INFO - ⚙️ Processing NDVI Stats\n",
      "2025-02-07 06:06:37,178 - INFO - ✅ Successfully processed: NDVI Stats\n",
      "2025-02-07 06:06:37,179 - INFO - ⚙️ Processing raster: blue (20240701 PHENO_CROP P4M 20m MS 70 75_index_blue_blue.tif)\n",
      "2025-02-07 06:07:26,084 - INFO - ✅ Successfully processed: blue\n",
      "2025-02-07 06:07:26,085 - INFO - ⚙️ Processing raster: green (20240701 PHENO_CROP P4M 20m MS 70 75_index_green_green.tif)\n",
      "2025-02-07 06:08:15,055 - INFO - ✅ Successfully processed: green\n",
      "2025-02-07 06:08:15,056 - INFO - ⚙️ Processing raster: nir (20240701 PHENO_CROP P4M 20m MS 70 75_index_nir_nir.tif)\n",
      "2025-02-07 06:09:02,947 - INFO - ✅ Successfully processed: nir\n",
      "2025-02-07 06:09:02,948 - INFO - ⚙️ Processing raster: red (20240701 PHENO_CROP P4M 20m MS 70 75_index_red_red.tif)\n",
      "2025-02-07 06:09:51,676 - INFO - ✅ Successfully processed: red\n",
      "2025-02-07 06:09:51,676 - INFO - ⚙️ Processing raster: rededge (20240701 PHENO_CROP P4M 20m MS 70 75_index_red_edge_red_edge.tif)\n",
      "2025-02-07 06:10:40,201 - INFO - ✅ Successfully processed: rededge\n",
      "2025-02-07 06:10:40,312 - INFO - ✅📌 Statistics saved to: D:\\PhenoCrop\\3_python\\V2\\PHENO_CROP\\20240701_PHENO_CROP_P4M_20m_MS_70_75_statistics.csv\n"
     ]
    },
    {
     "name": "stdout",
     "output_type": "stream",
     "text": [
      "✅📌 Statistics saved to: D:\\PhenoCrop\\3_python\\V2\\PHENO_CROP\\20240701_PHENO_CROP_P4M_20m_MS_70_75_statistics.csv\n",
      "⏳ Total execution time: 283.91 seconds\n",
      "🧹 Cleared raster data from memory.\n",
      "🧹 Cleared shapefile data from memory.\n",
      "📁 Saved results to D:\\PhenoCrop\\3_python\\V2\\PHENO_CROP\\20240701_PHENO_CROP_P4M_20m_MS_70_75_statistics.csv\n",
      "\n",
      "🚀 Preparing raster processing for flight: 20240705 PHENO_CROP M3M 30m MS 70 75\n",
      "✅ Matched geojson file: D:\\PhenoCrop\\3_qgis\\3_Extraction Polygons\\3. FINAL MASKS PYTHON\\24 PHENO_CROP Avlingsregistrering_sorted_ID_polygons_shrinked.geojson\n",
      "\n",
      "⚙️ Processing: 20240705 PHENO_CROP M3M 30m MS 70 75_transparent_mosaic_group1.tif at 25% resolution\n",
      "   - Original size: 8144 x 14867\n",
      "   - New size: 2036 x 3716\n",
      "   - Saving downscaled file: D:\\PhenoCrop\\2_pix4d_cleaned\\PHENO_CROP\\MS\\20240705 PHENO_CROP M3M 30m MS 70 75\\2_Orthomosaics\\20240705 PHENO_CROP M3M 30m MS 70 75_transparent_mosaic_group1_thumb.tif\n"
     ]
    },
    {
     "name": "stderr",
     "output_type": "stream",
     "text": [
      "2025-02-07 06:10:43,562 - INFO - Processing project: PHENO_CROP, Flight: 20240705_PHENO_CROP_M3M_30m_MS_70_75_\n",
      "2025-02-07 06:10:43,563 - INFO - ⚙️ Generating NDVI Orthomosaic for: PHENO_CROP, Flight: 20240705_PHENO_CROP_M3M_30m_MS_70_75_\n"
     ]
    },
    {
     "name": "stdout",
     "output_type": "stream",
     "text": [
      "✅ Successfully downscaled: 20240705 PHENO_CROP M3M 30m MS 70 75_transparent_mosaic_group1.tif\n"
     ]
    },
    {
     "name": "stderr",
     "output_type": "stream",
     "text": [
      "2025-02-07 06:10:53,597 - INFO - ✅ Successfully generated NDVI GEOTIFF\n",
      "2025-02-07 06:10:53,598 - INFO - 🚀 Preparing raster processing for flight: 20240705_PHENO_CROP_M3M_30m_MS_70_75_\n",
      "2025-02-07 06:10:53,599 - INFO - ⚙️ Reading shapefile: 24 PHENO_CROP Avlingsregistrering_sorted_ID_polygons_shrinked.geojson\n",
      "2025-02-07 06:10:53,637 - INFO - ⚙️ Processing NDVI Stats\n",
      "2025-02-07 06:11:20,912 - INFO - ✅ Successfully processed: NDVI Stats\n",
      "2025-02-07 06:11:20,913 - INFO - ⚙️ Processing raster: green (20240705 PHENO_CROP M3M 30m MS 70 75_index_green_green.tif)\n",
      "2025-02-07 06:12:07,305 - INFO - ✅ Successfully processed: green\n",
      "2025-02-07 06:12:07,306 - INFO - ⚙️ Processing raster: nir (20240705 PHENO_CROP M3M 30m MS 70 75_index_nir_nir.tif)\n",
      "2025-02-07 06:12:52,346 - INFO - ✅ Successfully processed: nir\n",
      "2025-02-07 06:12:52,347 - INFO - ⚙️ Processing raster: red (20240705 PHENO_CROP M3M 30m MS 70 75_index_red_red.tif)\n",
      "2025-02-07 06:13:38,143 - INFO - ✅ Successfully processed: red\n",
      "2025-02-07 06:13:38,144 - INFO - ⚙️ Processing raster: rededge (20240705 PHENO_CROP M3M 30m MS 70 75_index_red_edge_red_edge.tif)\n",
      "2025-02-07 06:14:23,870 - INFO - ✅ Successfully processed: rededge\n",
      "2025-02-07 06:14:23,959 - INFO - ✅📌 Statistics saved to: D:\\PhenoCrop\\3_python\\V2\\PHENO_CROP\\20240705_PHENO_CROP_M3M_30m_MS_70_75_statistics.csv\n"
     ]
    },
    {
     "name": "stdout",
     "output_type": "stream",
     "text": [
      "✅📌 Statistics saved to: D:\\PhenoCrop\\3_python\\V2\\PHENO_CROP\\20240705_PHENO_CROP_M3M_30m_MS_70_75_statistics.csv\n",
      "⏳ Total execution time: 220.40 seconds\n",
      "🧹 Cleared raster data from memory.\n",
      "🧹 Cleared shapefile data from memory.\n",
      "📁 Saved results to D:\\PhenoCrop\\3_python\\V2\\PHENO_CROP\\20240705_PHENO_CROP_M3M_30m_MS_70_75_statistics.csv\n",
      "\n",
      "🚀 Preparing raster processing for flight: 20240708 PHENO_CROP M3M 30m MS 70 75\n",
      "✅ Matched geojson file: D:\\PhenoCrop\\3_qgis\\3_Extraction Polygons\\3. FINAL MASKS PYTHON\\24 PHENO_CROP Avlingsregistrering_sorted_ID_polygons_shrinked.geojson\n",
      "\n",
      "⚙️ Processing: 20240708 PHENO_CROP M3M 30m MS 70 75_transparent_mosaic_group1.tif at 25% resolution\n",
      "   - Original size: 7080 x 12952\n",
      "   - New size: 1770 x 3238\n"
     ]
    },
    {
     "name": "stderr",
     "output_type": "stream",
     "text": [
      "2025-02-07 06:14:26,327 - INFO - Processing project: PHENO_CROP, Flight: 20240708_PHENO_CROP_M3M_30m_MS_70_75_\n"
     ]
    },
    {
     "name": "stdout",
     "output_type": "stream",
     "text": [
      "   - Saving downscaled file: D:\\PhenoCrop\\2_pix4d_cleaned\\PHENO_CROP\\MS\\20240708 PHENO_CROP M3M 30m MS 70 75\\2_Orthomosaics\\20240708 PHENO_CROP M3M 30m MS 70 75_transparent_mosaic_group1_thumb.tif\n",
      "✅ Successfully downscaled: 20240708 PHENO_CROP M3M 30m MS 70 75_transparent_mosaic_group1.tif\n"
     ]
    },
    {
     "name": "stderr",
     "output_type": "stream",
     "text": [
      "2025-02-07 06:14:26,328 - INFO - ⚙️ Generating NDVI Orthomosaic for: PHENO_CROP, Flight: 20240708_PHENO_CROP_M3M_30m_MS_70_75_\n",
      "2025-02-07 06:14:33,845 - INFO - ✅ Successfully generated NDVI GEOTIFF\n",
      "2025-02-07 06:14:33,846 - INFO - 🚀 Preparing raster processing for flight: 20240708_PHENO_CROP_M3M_30m_MS_70_75_\n",
      "2025-02-07 06:14:33,847 - INFO - ⚙️ Reading shapefile: 24 PHENO_CROP Avlingsregistrering_sorted_ID_polygons_shrinked.geojson\n",
      "2025-02-07 06:14:33,889 - INFO - ⚙️ Processing NDVI Stats\n",
      "2025-02-07 06:14:53,862 - INFO - ✅ Successfully processed: NDVI Stats\n",
      "2025-02-07 06:14:53,862 - INFO - ⚙️ Processing raster: green (20240708 PHENO_CROP M3M 30m MS 70 75_index_green_green.tif)\n",
      "2025-02-07 06:15:27,653 - INFO - ✅ Successfully processed: green\n",
      "2025-02-07 06:15:27,654 - INFO - ⚙️ Processing raster: nir (20240708 PHENO_CROP M3M 30m MS 70 75_index_nir_nir.tif)\n",
      "2025-02-07 06:16:00,469 - INFO - ✅ Successfully processed: nir\n",
      "2025-02-07 06:16:00,470 - INFO - ⚙️ Processing raster: red (20240708 PHENO_CROP M3M 30m MS 70 75_index_red_red.tif)\n",
      "2025-02-07 06:16:33,671 - INFO - ✅ Successfully processed: red\n",
      "2025-02-07 06:16:33,672 - INFO - ⚙️ Processing raster: rededge (20240708 PHENO_CROP M3M 30m MS 70 75_index_red_edge_red_edge.tif)\n",
      "2025-02-07 06:17:06,676 - INFO - ✅ Successfully processed: rededge\n",
      "2025-02-07 06:17:06,768 - INFO - ✅📌 Statistics saved to: D:\\PhenoCrop\\3_python\\V2\\PHENO_CROP\\20240708_PHENO_CROP_M3M_30m_MS_70_75_statistics.csv\n"
     ]
    },
    {
     "name": "stdout",
     "output_type": "stream",
     "text": [
      "✅📌 Statistics saved to: D:\\PhenoCrop\\3_python\\V2\\PHENO_CROP\\20240708_PHENO_CROP_M3M_30m_MS_70_75_statistics.csv\n",
      "⏳ Total execution time: 160.44 seconds\n",
      "🧹 Cleared raster data from memory.\n",
      "🧹 Cleared shapefile data from memory.\n",
      "📁 Saved results to D:\\PhenoCrop\\3_python\\V2\\PHENO_CROP\\20240708_PHENO_CROP_M3M_30m_MS_70_75_statistics.csv\n",
      "\n",
      "🚀 Preparing raster processing for flight: 20240708 PHENO_CROP P4M 20m MS 70 75\n",
      "✅ Matched geojson file: D:\\PhenoCrop\\3_qgis\\3_Extraction Polygons\\3. FINAL MASKS PYTHON\\24 PHENO_CROP Avlingsregistrering_sorted_ID_polygons_shrinked.geojson\n",
      "\n",
      "⚙️ Processing: 20240708 PHENO_CROP P4M 20m MS 70 75_transparent_mosaic_group1.tif at 25% resolution\n",
      "   - Original size: 10351 x 17651\n",
      "   - New size: 2587 x 4412\n",
      "   - Saving downscaled file: D:\\PhenoCrop\\2_pix4d_cleaned\\PHENO_CROP\\MS\\20240708 PHENO_CROP P4M 20m MS 70 75\\2_Orthomosaics\\20240708 PHENO_CROP P4M 20m MS 70 75_transparent_mosaic_group1_thumb.tif\n"
     ]
    },
    {
     "name": "stderr",
     "output_type": "stream",
     "text": [
      "2025-02-07 06:17:11,013 - INFO - Processing project: PHENO_CROP, Flight: 20240708_PHENO_CROP_P4M_20m_MS_70_75_\n",
      "2025-02-07 06:17:11,014 - INFO - ⚙️ Generating NDVI Orthomosaic for: PHENO_CROP, Flight: 20240708_PHENO_CROP_P4M_20m_MS_70_75_\n"
     ]
    },
    {
     "name": "stdout",
     "output_type": "stream",
     "text": [
      "✅ Successfully downscaled: 20240708 PHENO_CROP P4M 20m MS 70 75_transparent_mosaic_group1.tif\n"
     ]
    },
    {
     "name": "stderr",
     "output_type": "stream",
     "text": [
      "2025-02-07 06:17:25,365 - INFO - ✅ Successfully generated NDVI GEOTIFF\n",
      "2025-02-07 06:17:25,366 - INFO - 🚀 Preparing raster processing for flight: 20240708_PHENO_CROP_P4M_20m_MS_70_75_\n",
      "2025-02-07 06:17:25,366 - INFO - ⚙️ Reading shapefile: 24 PHENO_CROP Avlingsregistrering_sorted_ID_polygons_shrinked.geojson\n",
      "2025-02-07 06:17:25,407 - INFO - ⚙️ Processing NDVI Stats\n",
      "2025-02-07 06:17:57,645 - INFO - ✅ Successfully processed: NDVI Stats\n",
      "2025-02-07 06:17:57,646 - INFO - ⚙️ Processing raster: blue (20240708 PHENO_CROP P4M 20m MS 70 75_index_blue_blue.tif)\n",
      "2025-02-07 06:18:56,571 - INFO - ✅ Successfully processed: blue\n",
      "2025-02-07 06:18:56,572 - INFO - ⚙️ Processing raster: green (20240708 PHENO_CROP P4M 20m MS 70 75_index_green_green.tif)\n",
      "2025-02-07 06:19:53,779 - INFO - ✅ Successfully processed: green\n",
      "2025-02-07 06:19:53,779 - INFO - ⚙️ Processing raster: nir (20240708 PHENO_CROP P4M 20m MS 70 75_index_nir_nir.tif)\n",
      "2025-02-07 06:20:51,469 - INFO - ✅ Successfully processed: nir\n",
      "2025-02-07 06:20:51,469 - INFO - ⚙️ Processing raster: red (20240708 PHENO_CROP P4M 20m MS 70 75_index_red_red.tif)\n",
      "2025-02-07 06:21:48,792 - INFO - ✅ Successfully processed: red\n",
      "2025-02-07 06:21:48,793 - INFO - ⚙️ Processing raster: rededge (20240708 PHENO_CROP P4M 20m MS 70 75_index_red_edge_red_edge.tif)\n",
      "2025-02-07 06:22:46,951 - INFO - ✅ Successfully processed: rededge\n",
      "2025-02-07 06:22:47,079 - INFO - ✅📌 Statistics saved to: D:\\PhenoCrop\\3_python\\V2\\PHENO_CROP\\20240708_PHENO_CROP_P4M_20m_MS_70_75_statistics.csv\n"
     ]
    },
    {
     "name": "stdout",
     "output_type": "stream",
     "text": [
      "✅📌 Statistics saved to: D:\\PhenoCrop\\3_python\\V2\\PHENO_CROP\\20240708_PHENO_CROP_P4M_20m_MS_70_75_statistics.csv\n",
      "⏳ Total execution time: 336.07 seconds\n",
      "🧹 Cleared raster data from memory.\n",
      "🧹 Cleared shapefile data from memory.\n",
      "📁 Saved results to D:\\PhenoCrop\\3_python\\V2\\PHENO_CROP\\20240708_PHENO_CROP_P4M_20m_MS_70_75_statistics.csv\n",
      "\n",
      "🚀 Preparing raster processing for flight: 20240718 PHENO_CROP M3M 30m MS 70 75\n",
      "✅ Matched geojson file: D:\\PhenoCrop\\3_qgis\\3_Extraction Polygons\\3. FINAL MASKS PYTHON\\24 PHENO_CROP Avlingsregistrering_sorted_ID_polygons_shrinked.geojson\n",
      "\n",
      "⚙️ Processing: 20240718 PHENO_CROP M3M 30m MS 70 75_transparent_mosaic_group1.tif at 25% resolution\n",
      "   - Original size: 7546 x 13266\n",
      "   - New size: 1886 x 3316\n",
      "   - Saving downscaled file: D:\\PhenoCrop\\2_pix4d_cleaned\\PHENO_CROP\\MS\\20240718 PHENO_CROP M3M 30m MS 70 75\\2_Orthomosaics\\20240718 PHENO_CROP M3M 30m MS 70 75_transparent_mosaic_group1_thumb.tif\n",
      "✅ Successfully downscaled: 20240718 PHENO_CROP M3M 30m MS 70 75_transparent_mosaic_group1.tif\n"
     ]
    },
    {
     "name": "stderr",
     "output_type": "stream",
     "text": [
      "2025-02-07 06:22:49,697 - INFO - Processing project: PHENO_CROP, Flight: 20240718_PHENO_CROP_M3M_30m_MS_70_75_\n",
      "2025-02-07 06:22:49,698 - INFO - ⚙️ Generating NDVI Orthomosaic for: PHENO_CROP, Flight: 20240718_PHENO_CROP_M3M_30m_MS_70_75_\n",
      "2025-02-07 06:22:57,747 - INFO - ✅ Successfully generated NDVI GEOTIFF\n",
      "2025-02-07 06:22:57,748 - INFO - 🚀 Preparing raster processing for flight: 20240718_PHENO_CROP_M3M_30m_MS_70_75_\n",
      "2025-02-07 06:22:57,749 - INFO - ⚙️ Reading shapefile: 24 PHENO_CROP Avlingsregistrering_sorted_ID_polygons_shrinked.geojson\n",
      "2025-02-07 06:22:57,812 - INFO - ⚙️ Processing NDVI Stats\n",
      "2025-02-07 06:23:17,626 - INFO - ✅ Successfully processed: NDVI Stats\n",
      "2025-02-07 06:23:17,626 - INFO - ⚙️ Processing raster: green (20240718 PHENO_CROP M3M 30m MS 70 75_index_green_green.tif)\n",
      "2025-02-07 06:23:52,854 - INFO - ✅ Successfully processed: green\n",
      "2025-02-07 06:23:52,855 - INFO - ⚙️ Processing raster: nir (20240718 PHENO_CROP M3M 30m MS 70 75_index_nir_nir.tif)\n",
      "2025-02-07 06:24:26,917 - INFO - ✅ Successfully processed: nir\n",
      "2025-02-07 06:24:26,918 - INFO - ⚙️ Processing raster: red (20240718 PHENO_CROP M3M 30m MS 70 75_index_red_red.tif)\n",
      "2025-02-07 06:25:01,628 - INFO - ✅ Successfully processed: red\n",
      "2025-02-07 06:25:01,628 - INFO - ⚙️ Processing raster: rededge (20240718 PHENO_CROP M3M 30m MS 70 75_index_red_edge_red_edge.tif)\n",
      "2025-02-07 06:25:36,369 - INFO - ✅ Successfully processed: rededge\n",
      "2025-02-07 06:25:36,461 - INFO - ✅📌 Statistics saved to: D:\\PhenoCrop\\3_python\\V2\\PHENO_CROP\\20240718_PHENO_CROP_M3M_30m_MS_70_75_statistics.csv\n"
     ]
    },
    {
     "name": "stdout",
     "output_type": "stream",
     "text": [
      "✅📌 Statistics saved to: D:\\PhenoCrop\\3_python\\V2\\PHENO_CROP\\20240718_PHENO_CROP_M3M_30m_MS_70_75_statistics.csv\n",
      "⏳ Total execution time: 166.77 seconds\n",
      "🧹 Cleared raster data from memory.\n",
      "🧹 Cleared shapefile data from memory.\n",
      "📁 Saved results to D:\\PhenoCrop\\3_python\\V2\\PHENO_CROP\\20240718_PHENO_CROP_M3M_30m_MS_70_75_statistics.csv\n",
      "\n",
      "🚀 Preparing raster processing for flight: 20240718 PHENO_CROP P4M 20m MS 70 75\n",
      "✅ Matched geojson file: D:\\PhenoCrop\\3_qgis\\3_Extraction Polygons\\3. FINAL MASKS PYTHON\\24 PHENO_CROP Avlingsregistrering_sorted_ID_polygons_shrinked.geojson\n",
      "\n",
      "⚙️ Processing: 20240718 PHENO_CROP P4M 20m MS 70 75_transparent_mosaic_group1.tif at 25% resolution\n",
      "   - Original size: 9165 x 15431\n",
      "   - New size: 2291 x 3857\n",
      "   - Saving downscaled file: D:\\PhenoCrop\\2_pix4d_cleaned\\PHENO_CROP\\MS\\20240718 PHENO_CROP P4M 20m MS 70 75\\2_Orthomosaics\\20240718 PHENO_CROP P4M 20m MS 70 75_transparent_mosaic_group1_thumb.tif\n"
     ]
    },
    {
     "name": "stderr",
     "output_type": "stream",
     "text": [
      "2025-02-07 06:25:39,745 - INFO - Processing project: PHENO_CROP, Flight: 20240718_PHENO_CROP_P4M_20m_MS_70_75_\n",
      "2025-02-07 06:25:39,746 - INFO - ⚙️ Generating NDVI Orthomosaic for: PHENO_CROP, Flight: 20240718_PHENO_CROP_P4M_20m_MS_70_75_\n"
     ]
    },
    {
     "name": "stdout",
     "output_type": "stream",
     "text": [
      "✅ Successfully downscaled: 20240718 PHENO_CROP P4M 20m MS 70 75_transparent_mosaic_group1.tif\n"
     ]
    },
    {
     "name": "stderr",
     "output_type": "stream",
     "text": [
      "2025-02-07 06:25:50,658 - INFO - ✅ Successfully generated NDVI GEOTIFF\n",
      "2025-02-07 06:25:50,659 - INFO - 🚀 Preparing raster processing for flight: 20240718_PHENO_CROP_P4M_20m_MS_70_75_\n",
      "2025-02-07 06:25:50,660 - INFO - ⚙️ Reading shapefile: 24 PHENO_CROP Avlingsregistrering_sorted_ID_polygons_shrinked.geojson\n",
      "2025-02-07 06:25:50,702 - INFO - ⚙️ Processing NDVI Stats\n",
      "2025-02-07 06:26:18,606 - INFO - ✅ Successfully processed: NDVI Stats\n",
      "2025-02-07 06:26:18,606 - INFO - ⚙️ Processing raster: blue (20240718 PHENO_CROP P4M 20m MS 70 75_index_blue_blue.tif)\n",
      "2025-02-07 06:27:06,174 - INFO - ✅ Successfully processed: blue\n",
      "2025-02-07 06:27:06,175 - INFO - ⚙️ Processing raster: green (20240718 PHENO_CROP P4M 20m MS 70 75_index_green_green.tif)\n",
      "2025-02-07 06:27:53,626 - INFO - ✅ Successfully processed: green\n",
      "2025-02-07 06:27:53,627 - INFO - ⚙️ Processing raster: nir (20240718 PHENO_CROP P4M 20m MS 70 75_index_nir_nir.tif)\n",
      "2025-02-07 06:28:40,840 - INFO - ✅ Successfully processed: nir\n",
      "2025-02-07 06:28:40,841 - INFO - ⚙️ Processing raster: red (20240718 PHENO_CROP P4M 20m MS 70 75_index_red_red.tif)\n",
      "2025-02-07 06:29:28,300 - INFO - ✅ Successfully processed: red\n",
      "2025-02-07 06:29:28,301 - INFO - ⚙️ Processing raster: rededge (20240718 PHENO_CROP P4M 20m MS 70 75_index_red_edge_red_edge.tif)\n",
      "2025-02-07 06:30:15,649 - INFO - ✅ Successfully processed: rededge\n",
      "2025-02-07 06:30:15,761 - INFO - ✅📌 Statistics saved to: D:\\PhenoCrop\\3_python\\V2\\PHENO_CROP\\20240718_PHENO_CROP_P4M_20m_MS_70_75_statistics.csv\n"
     ]
    },
    {
     "name": "stdout",
     "output_type": "stream",
     "text": [
      "✅📌 Statistics saved to: D:\\PhenoCrop\\3_python\\V2\\PHENO_CROP\\20240718_PHENO_CROP_P4M_20m_MS_70_75_statistics.csv\n",
      "⏳ Total execution time: 276.02 seconds\n",
      "🧹 Cleared raster data from memory.\n",
      "🧹 Cleared shapefile data from memory.\n",
      "📁 Saved results to D:\\PhenoCrop\\3_python\\V2\\PHENO_CROP\\20240718_PHENO_CROP_P4M_20m_MS_70_75_statistics.csv\n",
      "\n",
      "🚀 Preparing raster processing for flight: 20240724 PHENO_CROP M3M 30m MS 70 75\n",
      "✅ Matched geojson file: D:\\PhenoCrop\\3_qgis\\3_Extraction Polygons\\3. FINAL MASKS PYTHON\\24 PHENO_CROP Avlingsregistrering_sorted_ID_polygons_shrinked.geojson\n",
      "\n",
      "⚙️ Processing: 20240724 PHENO_CROP M3M 30m MS 70 75_transparent_mosaic_group1.tif at 25% resolution\n",
      "   - Original size: 7750 x 13426\n",
      "   - New size: 1937 x 3356\n",
      "   - Saving downscaled file: D:\\PhenoCrop\\2_pix4d_cleaned\\PHENO_CROP\\MS\\20240724 PHENO_CROP M3M 30m MS 70 75\\2_Orthomosaics\\20240724 PHENO_CROP M3M 30m MS 70 75_transparent_mosaic_group1_thumb.tif\n",
      "✅ Successfully downscaled: 20240724 PHENO_CROP M3M 30m MS 70 75_transparent_mosaic_group1.tif\n"
     ]
    },
    {
     "name": "stderr",
     "output_type": "stream",
     "text": [
      "2025-02-07 06:30:18,390 - INFO - Processing project: PHENO_CROP, Flight: 20240724_PHENO_CROP_M3M_30m_MS_70_75_\n",
      "2025-02-07 06:30:18,391 - INFO - ⚙️ Generating NDVI Orthomosaic for: PHENO_CROP, Flight: 20240724_PHENO_CROP_M3M_30m_MS_70_75_\n",
      "2025-02-07 06:30:26,893 - INFO - ✅ Successfully generated NDVI GEOTIFF\n",
      "2025-02-07 06:30:26,894 - INFO - 🚀 Preparing raster processing for flight: 20240724_PHENO_CROP_M3M_30m_MS_70_75_\n",
      "2025-02-07 06:30:26,894 - INFO - ⚙️ Reading shapefile: 24 PHENO_CROP Avlingsregistrering_sorted_ID_polygons_shrinked.geojson\n",
      "2025-02-07 06:30:26,936 - INFO - ⚙️ Processing NDVI Stats\n",
      "2025-02-07 06:30:47,285 - INFO - ✅ Successfully processed: NDVI Stats\n",
      "2025-02-07 06:30:47,285 - INFO - ⚙️ Processing raster: green (20240724 PHENO_CROP M3M 30m MS 70 75_index_green_green.tif)\n",
      "2025-02-07 06:31:22,695 - INFO - ✅ Successfully processed: green\n",
      "2025-02-07 06:31:22,695 - INFO - ⚙️ Processing raster: nir (20240724 PHENO_CROP M3M 30m MS 70 75_index_nir_nir.tif)\n",
      "2025-02-07 06:31:56,971 - INFO - ✅ Successfully processed: nir\n",
      "2025-02-07 06:31:56,972 - INFO - ⚙️ Processing raster: red (20240724 PHENO_CROP M3M 30m MS 70 75_index_red_red.tif)\n",
      "2025-02-07 06:32:31,864 - INFO - ✅ Successfully processed: red\n",
      "2025-02-07 06:32:31,864 - INFO - ⚙️ Processing raster: rededge (20240724 PHENO_CROP M3M 30m MS 70 75_index_red_edge_red_edge.tif)\n",
      "2025-02-07 06:33:06,558 - INFO - ✅ Successfully processed: rededge\n",
      "2025-02-07 06:33:06,665 - INFO - ✅📌 Statistics saved to: D:\\PhenoCrop\\3_python\\V2\\PHENO_CROP\\20240724_PHENO_CROP_M3M_30m_MS_70_75_statistics.csv\n"
     ]
    },
    {
     "name": "stdout",
     "output_type": "stream",
     "text": [
      "✅📌 Statistics saved to: D:\\PhenoCrop\\3_python\\V2\\PHENO_CROP\\20240724_PHENO_CROP_M3M_30m_MS_70_75_statistics.csv\n",
      "⏳ Total execution time: 168.28 seconds\n",
      "🧹 Cleared raster data from memory.\n",
      "🧹 Cleared shapefile data from memory.\n",
      "📁 Saved results to D:\\PhenoCrop\\3_python\\V2\\PHENO_CROP\\20240724_PHENO_CROP_M3M_30m_MS_70_75_statistics.csv\n",
      "\n",
      "🚀 Preparing raster processing for flight: 20240724 PHENO_CROP P4M 20m MS 70 75\n",
      "✅ Matched geojson file: D:\\PhenoCrop\\3_qgis\\3_Extraction Polygons\\3. FINAL MASKS PYTHON\\24 PHENO_CROP Avlingsregistrering_sorted_ID_polygons_shrinked.geojson\n",
      "\n",
      "⚙️ Processing: 20240724 PHENO_CROP P4M 20m MS 70 75_transparent_mosaic_group1.tif at 25% resolution\n",
      "   - Original size: 9567 x 15316\n",
      "   - New size: 2391 x 3829\n",
      "   - Saving downscaled file: D:\\PhenoCrop\\2_pix4d_cleaned\\PHENO_CROP\\MS\\20240724 PHENO_CROP P4M 20m MS 70 75\\2_Orthomosaics\\20240724 PHENO_CROP P4M 20m MS 70 75_transparent_mosaic_group1_thumb.tif\n"
     ]
    },
    {
     "name": "stderr",
     "output_type": "stream",
     "text": [
      "2025-02-07 06:33:10,059 - INFO - Processing project: PHENO_CROP, Flight: 20240724_PHENO_CROP_P4M_20m_MS_70_75_\n",
      "2025-02-07 06:33:10,059 - INFO - ⚙️ Generating NDVI Orthomosaic for: PHENO_CROP, Flight: 20240724_PHENO_CROP_P4M_20m_MS_70_75_\n"
     ]
    },
    {
     "name": "stdout",
     "output_type": "stream",
     "text": [
      "✅ Successfully downscaled: 20240724 PHENO_CROP P4M 20m MS 70 75_transparent_mosaic_group1.tif\n"
     ]
    },
    {
     "name": "stderr",
     "output_type": "stream",
     "text": [
      "2025-02-07 06:33:21,878 - INFO - ✅ Successfully generated NDVI GEOTIFF\n",
      "2025-02-07 06:33:21,879 - INFO - 🚀 Preparing raster processing for flight: 20240724_PHENO_CROP_P4M_20m_MS_70_75_\n",
      "2025-02-07 06:33:21,880 - INFO - ⚙️ Reading shapefile: 24 PHENO_CROP Avlingsregistrering_sorted_ID_polygons_shrinked.geojson\n",
      "2025-02-07 06:33:21,921 - INFO - ⚙️ Processing NDVI Stats\n",
      "2025-02-07 06:33:51,594 - INFO - ✅ Successfully processed: NDVI Stats\n",
      "2025-02-07 06:33:51,595 - INFO - ⚙️ Processing raster: blue (20240724 PHENO_CROP P4M 20m MS 70 75_index_blue_blue.tif)\n",
      "2025-02-07 06:34:43,224 - INFO - ✅ Successfully processed: blue\n",
      "2025-02-07 06:34:43,225 - INFO - ⚙️ Processing raster: green (20240724 PHENO_CROP P4M 20m MS 70 75_index_green_green.tif)\n",
      "2025-02-07 06:35:33,343 - INFO - ✅ Successfully processed: green\n",
      "2025-02-07 06:35:33,344 - INFO - ⚙️ Processing raster: nir (20240724 PHENO_CROP P4M 20m MS 70 75_index_nir_nir.tif)\n",
      "2025-02-07 06:36:23,251 - INFO - ✅ Successfully processed: nir\n",
      "2025-02-07 06:36:23,252 - INFO - ⚙️ Processing raster: red (20240724 PHENO_CROP P4M 20m MS 70 75_index_red_red.tif)\n",
      "2025-02-07 06:37:13,508 - INFO - ✅ Successfully processed: red\n",
      "2025-02-07 06:37:13,509 - INFO - ⚙️ Processing raster: rededge (20240724 PHENO_CROP P4M 20m MS 70 75_index_red_edge_red_edge.tif)\n",
      "2025-02-07 06:38:04,552 - INFO - ✅ Successfully processed: rededge\n",
      "2025-02-07 06:38:04,663 - INFO - ✅📌 Statistics saved to: D:\\PhenoCrop\\3_python\\V2\\PHENO_CROP\\20240724_PHENO_CROP_P4M_20m_MS_70_75_statistics.csv\n"
     ]
    },
    {
     "name": "stdout",
     "output_type": "stream",
     "text": [
      "✅📌 Statistics saved to: D:\\PhenoCrop\\3_python\\V2\\PHENO_CROP\\20240724_PHENO_CROP_P4M_20m_MS_70_75_statistics.csv\n",
      "⏳ Total execution time: 294.61 seconds\n",
      "🧹 Cleared raster data from memory.\n",
      "🧹 Cleared shapefile data from memory.\n",
      "📁 Saved results to D:\\PhenoCrop\\3_python\\V2\\PHENO_CROP\\20240724_PHENO_CROP_P4M_20m_MS_70_75_statistics.csv\n",
      "\n",
      "🚀 Preparing raster processing for flight: 20240729 PHENO_CROP M3M 30m MS 70 75\n",
      "✅ Matched geojson file: D:\\PhenoCrop\\3_qgis\\3_Extraction Polygons\\3. FINAL MASKS PYTHON\\24 PHENO_CROP Avlingsregistrering_sorted_ID_polygons_shrinked.geojson\n",
      "\n",
      "⚙️ Processing: 20240729 PHENO_CROP M3M 30m MS 70 75_transparent_mosaic_group1.tif at 25% resolution\n",
      "   - Original size: 8460 x 14120\n",
      "   - New size: 2115 x 3530\n",
      "   - Saving downscaled file: D:\\PhenoCrop\\2_pix4d_cleaned\\PHENO_CROP\\MS\\20240729 PHENO_CROP M3M 30m MS 70 75\\2_Orthomosaics\\20240729 PHENO_CROP M3M 30m MS 70 75_transparent_mosaic_group1_thumb.tif\n"
     ]
    },
    {
     "name": "stderr",
     "output_type": "stream",
     "text": [
      "2025-02-07 06:38:07,799 - INFO - Processing project: PHENO_CROP, Flight: 20240729_PHENO_CROP_M3M_30m_MS_70_75_\n",
      "2025-02-07 06:38:07,800 - INFO - ⚙️ Generating NDVI Orthomosaic for: PHENO_CROP, Flight: 20240729_PHENO_CROP_M3M_30m_MS_70_75_\n"
     ]
    },
    {
     "name": "stdout",
     "output_type": "stream",
     "text": [
      "✅ Successfully downscaled: 20240729 PHENO_CROP M3M 30m MS 70 75_transparent_mosaic_group1.tif\n"
     ]
    },
    {
     "name": "stderr",
     "output_type": "stream",
     "text": [
      "2025-02-07 06:38:17,581 - INFO - ✅ Successfully generated NDVI GEOTIFF\n",
      "2025-02-07 06:38:17,582 - INFO - 🚀 Preparing raster processing for flight: 20240729_PHENO_CROP_M3M_30m_MS_70_75_\n",
      "2025-02-07 06:38:17,583 - INFO - ⚙️ Reading shapefile: 24 PHENO_CROP Avlingsregistrering_sorted_ID_polygons_shrinked.geojson\n",
      "2025-02-07 06:38:17,622 - INFO - ⚙️ Processing NDVI Stats\n",
      "2025-02-07 06:38:41,729 - INFO - ✅ Successfully processed: NDVI Stats\n",
      "2025-02-07 06:38:41,730 - INFO - ⚙️ Processing raster: green (20240729 PHENO_CROP M3M 30m MS 70 75_index_green_green.tif)\n",
      "2025-02-07 06:39:23,619 - INFO - ✅ Successfully processed: green\n",
      "2025-02-07 06:39:23,620 - INFO - ⚙️ Processing raster: nir (20240729 PHENO_CROP M3M 30m MS 70 75_index_nir_nir.tif)\n",
      "2025-02-07 06:40:04,304 - INFO - ✅ Successfully processed: nir\n",
      "2025-02-07 06:40:04,305 - INFO - ⚙️ Processing raster: red (20240729 PHENO_CROP M3M 30m MS 70 75_index_red_red.tif)\n",
      "2025-02-07 06:40:45,583 - INFO - ✅ Successfully processed: red\n",
      "2025-02-07 06:40:45,584 - INFO - ⚙️ Processing raster: rededge (20240729 PHENO_CROP M3M 30m MS 70 75_index_red_edge_red_edge.tif)\n",
      "2025-02-07 06:41:27,105 - INFO - ✅ Successfully processed: rededge\n",
      "2025-02-07 06:41:27,208 - INFO - ✅📌 Statistics saved to: D:\\PhenoCrop\\3_python\\V2\\PHENO_CROP\\20240729_PHENO_CROP_M3M_30m_MS_70_75_statistics.csv\n"
     ]
    },
    {
     "name": "stdout",
     "output_type": "stream",
     "text": [
      "✅📌 Statistics saved to: D:\\PhenoCrop\\3_python\\V2\\PHENO_CROP\\20240729_PHENO_CROP_M3M_30m_MS_70_75_statistics.csv\n",
      "⏳ Total execution time: 199.41 seconds\n",
      "🧹 Cleared raster data from memory.\n",
      "🧹 Cleared shapefile data from memory.\n",
      "📁 Saved results to D:\\PhenoCrop\\3_python\\V2\\PHENO_CROP\\20240729_PHENO_CROP_M3M_30m_MS_70_75_statistics.csv\n",
      "\n",
      "🚀 Preparing raster processing for flight: 20240729 PHENO_CROP P4M 20m MS 70 75\n",
      "✅ Matched geojson file: D:\\PhenoCrop\\3_qgis\\3_Extraction Polygons\\3. FINAL MASKS PYTHON\\24 PHENO_CROP Avlingsregistrering_sorted_ID_polygons_shrinked.geojson\n",
      "\n",
      "⚙️ Processing: 20240729 PHENO_CROP P4M 20m MS 70 75_transparent_mosaic_group1.tif at 25% resolution\n",
      "   - Original size: 10726 x 16972\n",
      "   - New size: 2681 x 4243\n",
      "   - Saving downscaled file: D:\\PhenoCrop\\2_pix4d_cleaned\\PHENO_CROP\\MS\\20240729 PHENO_CROP P4M 20m MS 70 75\\2_Orthomosaics\\20240729 PHENO_CROP P4M 20m MS 70 75_transparent_mosaic_group1_thumb.tif\n"
     ]
    },
    {
     "name": "stderr",
     "output_type": "stream",
     "text": [
      "2025-02-07 06:41:31,506 - INFO - Processing project: PHENO_CROP, Flight: 20240729_PHENO_CROP_P4M_20m_MS_70_75_\n",
      "2025-02-07 06:41:31,507 - INFO - ⚙️ Generating NDVI Orthomosaic for: PHENO_CROP, Flight: 20240729_PHENO_CROP_P4M_20m_MS_70_75_\n"
     ]
    },
    {
     "name": "stdout",
     "output_type": "stream",
     "text": [
      "✅ Successfully downscaled: 20240729 PHENO_CROP P4M 20m MS 70 75_transparent_mosaic_group1.tif\n"
     ]
    },
    {
     "name": "stderr",
     "output_type": "stream",
     "text": [
      "2025-02-07 06:41:46,381 - INFO - ✅ Successfully generated NDVI GEOTIFF\n",
      "2025-02-07 06:41:46,382 - INFO - 🚀 Preparing raster processing for flight: 20240729_PHENO_CROP_P4M_20m_MS_70_75_\n",
      "2025-02-07 06:41:46,383 - INFO - ⚙️ Reading shapefile: 24 PHENO_CROP Avlingsregistrering_sorted_ID_polygons_shrinked.geojson\n",
      "2025-02-07 06:41:46,424 - INFO - ⚙️ Processing NDVI Stats\n",
      "2025-02-07 06:42:23,330 - INFO - ✅ Successfully processed: NDVI Stats\n",
      "2025-02-07 06:42:23,331 - INFO - ⚙️ Processing raster: blue (20240729 PHENO_CROP P4M 20m MS 70 75_index_blue_blue.tif)\n",
      "2025-02-07 06:43:27,491 - INFO - ✅ Successfully processed: blue\n",
      "2025-02-07 06:43:27,492 - INFO - ⚙️ Processing raster: green (20240729 PHENO_CROP P4M 20m MS 70 75_index_green_green.tif)\n",
      "2025-02-07 06:44:31,041 - INFO - ✅ Successfully processed: green\n",
      "2025-02-07 06:44:31,042 - INFO - ⚙️ Processing raster: nir (20240729 PHENO_CROP P4M 20m MS 70 75_index_nir_nir.tif)\n",
      "2025-02-07 06:45:34,327 - INFO - ✅ Successfully processed: nir\n",
      "2025-02-07 06:45:34,328 - INFO - ⚙️ Processing raster: red (20240729 PHENO_CROP P4M 20m MS 70 75_index_red_red.tif)\n",
      "2025-02-07 06:46:38,387 - INFO - ✅ Successfully processed: red\n",
      "2025-02-07 06:46:38,388 - INFO - ⚙️ Processing raster: rededge (20240729 PHENO_CROP P4M 20m MS 70 75_index_red_edge_red_edge.tif)\n",
      "2025-02-07 06:47:42,398 - INFO - ✅ Successfully processed: rededge\n",
      "2025-02-07 06:47:42,509 - INFO - ✅📌 Statistics saved to: D:\\PhenoCrop\\3_python\\V2\\PHENO_CROP\\20240729_PHENO_CROP_P4M_20m_MS_70_75_statistics.csv\n"
     ]
    },
    {
     "name": "stdout",
     "output_type": "stream",
     "text": [
      "✅📌 Statistics saved to: D:\\PhenoCrop\\3_python\\V2\\PHENO_CROP\\20240729_PHENO_CROP_P4M_20m_MS_70_75_statistics.csv\n",
      "⏳ Total execution time: 371.00 seconds\n",
      "🧹 Cleared raster data from memory.\n",
      "🧹 Cleared shapefile data from memory.\n",
      "📁 Saved results to D:\\PhenoCrop\\3_python\\V2\\PHENO_CROP\\20240729_PHENO_CROP_P4M_20m_MS_70_75_statistics.csv\n",
      "\n",
      "🚀 Preparing raster processing for flight: 20240806 PHENO_CROP M3M 30m MS 80 85\n",
      "✅ Matched geojson file: D:\\PhenoCrop\\3_qgis\\3_Extraction Polygons\\3. FINAL MASKS PYTHON\\24 PHENO_CROP Avlingsregistrering_sorted_ID_polygons_shrinked.geojson\n",
      "\n",
      "⚙️ Processing: 20240806 PHENO_CROP M3M 30m MS 80 85_transparent_mosaic_group1.tif at 25% resolution\n",
      "   - Original size: 8493 x 14129\n",
      "   - New size: 2123 x 3532\n",
      "   - Saving downscaled file: D:\\PhenoCrop\\2_pix4d_cleaned\\PHENO_CROP\\MS\\20240806 PHENO_CROP M3M 30m MS 80 85\\2_Orthomosaics\\20240806 PHENO_CROP M3M 30m MS 80 85_transparent_mosaic_group1_thumb.tif\n",
      "✅ Successfully downscaled: 20240806 PHENO_CROP M3M 30m MS 80 85_transparent_mosaic_group1.tif\n"
     ]
    },
    {
     "name": "stderr",
     "output_type": "stream",
     "text": [
      "2025-02-07 06:47:45,652 - INFO - Processing project: PHENO_CROP, Flight: 20240806_PHENO_CROP_M3M_30m_MS_80_85_\n",
      "2025-02-07 06:47:45,653 - INFO - ⚙️ Generating NDVI Orthomosaic for: PHENO_CROP, Flight: 20240806_PHENO_CROP_M3M_30m_MS_80_85_\n",
      "2025-02-07 06:47:55,355 - INFO - ✅ Successfully generated NDVI GEOTIFF\n",
      "2025-02-07 06:47:55,356 - INFO - 🚀 Preparing raster processing for flight: 20240806_PHENO_CROP_M3M_30m_MS_80_85_\n",
      "2025-02-07 06:47:55,356 - INFO - ⚙️ Reading shapefile: 24 PHENO_CROP Avlingsregistrering_sorted_ID_polygons_shrinked.geojson\n",
      "2025-02-07 06:47:55,397 - INFO - ⚙️ Processing NDVI Stats\n",
      "2025-02-07 06:48:18,384 - INFO - ✅ Successfully processed: NDVI Stats\n",
      "2025-02-07 06:48:18,385 - INFO - ⚙️ Processing raster: green (20240806 PHENO_CROP M3M 30m MS 80 85_index_green_green.tif)\n",
      "2025-02-07 06:48:58,997 - INFO - ✅ Successfully processed: green\n",
      "2025-02-07 06:48:58,997 - INFO - ⚙️ Processing raster: nir (20240806 PHENO_CROP M3M 30m MS 80 85_index_nir_nir.tif)\n",
      "2025-02-07 06:49:39,512 - INFO - ✅ Successfully processed: nir\n",
      "2025-02-07 06:49:39,513 - INFO - ⚙️ Processing raster: red (20240806 PHENO_CROP M3M 30m MS 80 85_index_red_red.tif)\n",
      "2025-02-07 06:50:19,977 - INFO - ✅ Successfully processed: red\n",
      "2025-02-07 06:50:19,978 - INFO - ⚙️ Processing raster: rededge (20240806 PHENO_CROP M3M 30m MS 80 85_index_red_edge_red_edge.tif)\n",
      "2025-02-07 06:51:00,441 - INFO - ✅ Successfully processed: rededge\n",
      "2025-02-07 06:51:00,550 - INFO - ✅📌 Statistics saved to: D:\\PhenoCrop\\3_python\\V2\\PHENO_CROP\\20240806_PHENO_CROP_M3M_30m_MS_80_85_statistics.csv\n"
     ]
    },
    {
     "name": "stdout",
     "output_type": "stream",
     "text": [
      "✅📌 Statistics saved to: D:\\PhenoCrop\\3_python\\V2\\PHENO_CROP\\20240806_PHENO_CROP_M3M_30m_MS_80_85_statistics.csv\n",
      "⏳ Total execution time: 194.90 seconds\n",
      "🧹 Cleared raster data from memory.\n",
      "🧹 Cleared shapefile data from memory.\n",
      "📁 Saved results to D:\\PhenoCrop\\3_python\\V2\\PHENO_CROP\\20240806_PHENO_CROP_M3M_30m_MS_80_85_statistics.csv\n",
      "\n",
      "🚀 Preparing raster processing for flight: 20240806 PHENO_CROP P4M 20m MS 70 75\n",
      "✅ Matched geojson file: D:\\PhenoCrop\\3_qgis\\3_Extraction Polygons\\3. FINAL MASKS PYTHON\\24 PHENO_CROP Avlingsregistrering_sorted_ID_polygons_shrinked.geojson\n",
      "\n",
      "⚙️ Processing: 20240806 PHENO_CROP P4M 20m MS 70 75_transparent_mosaic_group1.tif at 25% resolution\n",
      "   - Original size: 10595 x 17952\n",
      "   - New size: 2648 x 4488\n",
      "   - Saving downscaled file: D:\\PhenoCrop\\2_pix4d_cleaned\\PHENO_CROP\\MS\\20240806 PHENO_CROP P4M 20m MS 70 75\\2_Orthomosaics\\20240806 PHENO_CROP P4M 20m MS 70 75_transparent_mosaic_group1_thumb.tif\n"
     ]
    },
    {
     "name": "stderr",
     "output_type": "stream",
     "text": [
      "2025-02-07 06:51:05,014 - INFO - Processing project: PHENO_CROP, Flight: 20240806_PHENO_CROP_P4M_20m_MS_70_75_\n",
      "2025-02-07 06:51:05,015 - INFO - ⚙️ Generating NDVI Orthomosaic for: PHENO_CROP, Flight: 20240806_PHENO_CROP_P4M_20m_MS_70_75_\n"
     ]
    },
    {
     "name": "stdout",
     "output_type": "stream",
     "text": [
      "✅ Successfully downscaled: 20240806 PHENO_CROP P4M 20m MS 70 75_transparent_mosaic_group1.tif\n"
     ]
    },
    {
     "name": "stderr",
     "output_type": "stream",
     "text": [
      "2025-02-07 06:51:19,870 - INFO - ✅ Successfully generated NDVI GEOTIFF\n",
      "2025-02-07 06:51:19,871 - INFO - 🚀 Preparing raster processing for flight: 20240806_PHENO_CROP_P4M_20m_MS_70_75_\n",
      "2025-02-07 06:51:19,872 - INFO - ⚙️ Reading shapefile: 24 PHENO_CROP Avlingsregistrering_sorted_ID_polygons_shrinked.geojson\n",
      "2025-02-07 06:51:19,912 - INFO - ⚙️ Processing NDVI Stats\n",
      "2025-02-07 06:51:55,263 - INFO - ✅ Successfully processed: NDVI Stats\n",
      "2025-02-07 06:51:55,264 - INFO - ⚙️ Processing raster: blue (20240806 PHENO_CROP P4M 20m MS 70 75_index_blue_blue.tif)\n",
      "2025-02-07 06:52:57,986 - INFO - ✅ Successfully processed: blue\n",
      "2025-02-07 06:52:57,986 - INFO - ⚙️ Processing raster: green (20240806 PHENO_CROP P4M 20m MS 70 75_index_green_green.tif)\n",
      "2025-02-07 06:53:59,638 - INFO - ✅ Successfully processed: green\n",
      "2025-02-07 06:53:59,639 - INFO - ⚙️ Processing raster: nir (20240806 PHENO_CROP P4M 20m MS 70 75_index_nir_nir.tif)\n",
      "2025-02-07 06:55:00,823 - INFO - ✅ Successfully processed: nir\n",
      "2025-02-07 06:55:00,824 - INFO - ⚙️ Processing raster: red (20240806 PHENO_CROP P4M 20m MS 70 75_index_red_red.tif)\n",
      "2025-02-07 06:56:01,930 - INFO - ✅ Successfully processed: red\n",
      "2025-02-07 06:56:01,931 - INFO - ⚙️ Processing raster: rededge (20240806 PHENO_CROP P4M 20m MS 70 75_index_red_edge_red_edge.tif)\n",
      "2025-02-07 06:57:03,619 - INFO - ✅ Successfully processed: rededge\n",
      "2025-02-07 06:57:03,738 - INFO - ✅📌 Statistics saved to: D:\\PhenoCrop\\3_python\\V2\\PHENO_CROP\\20240806_PHENO_CROP_P4M_20m_MS_70_75_statistics.csv\n"
     ]
    },
    {
     "name": "stdout",
     "output_type": "stream",
     "text": [
      "✅📌 Statistics saved to: D:\\PhenoCrop\\3_python\\V2\\PHENO_CROP\\20240806_PHENO_CROP_P4M_20m_MS_70_75_statistics.csv\n",
      "⏳ Total execution time: 358.73 seconds\n",
      "🧹 Cleared raster data from memory.\n",
      "🧹 Cleared shapefile data from memory.\n",
      "📁 Saved results to D:\\PhenoCrop\\3_python\\V2\\PHENO_CROP\\20240806_PHENO_CROP_P4M_20m_MS_70_75_statistics.csv\n",
      "\n",
      "🚀 Preparing raster processing for flight: 20240812 PHENO_CROP M3M 30m MS 70 75\n",
      "✅ Matched geojson file: D:\\PhenoCrop\\3_qgis\\3_Extraction Polygons\\3. FINAL MASKS PYTHON\\24 PHENO_CROP Avlingsregistrering_sorted_ID_polygons_shrinked.geojson\n",
      "\n",
      "⚙️ Processing: 20240812 PHENO_CROP M3M 30m MS 70 75_transparent_mosaic_group1.tif at 25% resolution\n",
      "   - Original size: 8563 x 14077\n",
      "   - New size: 2140 x 3519\n",
      "   - Saving downscaled file: D:\\PhenoCrop\\2_pix4d_cleaned\\PHENO_CROP\\MS\\20240812 PHENO_CROP M3M 30m MS 70 75\\2_Orthomosaics\\20240812 PHENO_CROP M3M 30m MS 70 75_transparent_mosaic_group1_thumb.tif\n",
      "✅ Successfully downscaled: 20240812 PHENO_CROP M3M 30m MS 70 75_transparent_mosaic_group1.tif\n"
     ]
    },
    {
     "name": "stderr",
     "output_type": "stream",
     "text": [
      "2025-02-07 06:57:06,944 - INFO - Processing project: PHENO_CROP, Flight: 20240812_PHENO_CROP_M3M_30m_MS_70_75_\n",
      "2025-02-07 06:57:06,945 - INFO - ⚙️ Generating NDVI Orthomosaic for: PHENO_CROP, Flight: 20240812_PHENO_CROP_M3M_30m_MS_70_75_\n",
      "2025-02-07 06:57:16,489 - INFO - ✅ Successfully generated NDVI GEOTIFF\n",
      "2025-02-07 06:57:16,491 - INFO - 🚀 Preparing raster processing for flight: 20240812_PHENO_CROP_M3M_30m_MS_70_75_\n",
      "2025-02-07 06:57:16,492 - INFO - ⚙️ Reading shapefile: 24 PHENO_CROP Avlingsregistrering_sorted_ID_polygons_shrinked.geojson\n",
      "2025-02-07 06:57:16,539 - INFO - ⚙️ Processing NDVI Stats\n",
      "2025-02-07 06:57:39,880 - INFO - ✅ Successfully processed: NDVI Stats\n",
      "2025-02-07 06:57:39,880 - INFO - ⚙️ Processing raster: green (20240812 PHENO_CROP M3M 30m MS 70 75_index_green_green.tif)\n",
      "2025-02-07 06:58:20,540 - INFO - ✅ Successfully processed: green\n",
      "2025-02-07 06:58:20,542 - INFO - ⚙️ Processing raster: nir (20240812 PHENO_CROP M3M 30m MS 70 75_index_nir_nir.tif)\n",
      "2025-02-07 06:59:00,594 - INFO - ✅ Successfully processed: nir\n",
      "2025-02-07 06:59:00,594 - INFO - ⚙️ Processing raster: red (20240812 PHENO_CROP M3M 30m MS 70 75_index_red_red.tif)\n",
      "2025-02-07 06:59:41,057 - INFO - ✅ Successfully processed: red\n",
      "2025-02-07 06:59:41,058 - INFO - ⚙️ Processing raster: rededge (20240812 PHENO_CROP M3M 30m MS 70 75_index_red_edge_red_edge.tif)\n",
      "2025-02-07 07:00:21,576 - INFO - ✅ Successfully processed: rededge\n",
      "2025-02-07 07:00:21,680 - INFO - ✅📌 Statistics saved to: D:\\PhenoCrop\\3_python\\V2\\PHENO_CROP\\20240812_PHENO_CROP_M3M_30m_MS_70_75_statistics.csv\n"
     ]
    },
    {
     "name": "stdout",
     "output_type": "stream",
     "text": [
      "✅📌 Statistics saved to: D:\\PhenoCrop\\3_python\\V2\\PHENO_CROP\\20240812_PHENO_CROP_M3M_30m_MS_70_75_statistics.csv\n",
      "⏳ Total execution time: 194.74 seconds\n",
      "🧹 Cleared raster data from memory.\n",
      "🧹 Cleared shapefile data from memory.\n",
      "📁 Saved results to D:\\PhenoCrop\\3_python\\V2\\PHENO_CROP\\20240812_PHENO_CROP_M3M_30m_MS_70_75_statistics.csv\n",
      "\n",
      "🚀 Preparing raster processing for flight: 20240812 PHENO_CROP P4M 20m MS 70 75\n",
      "✅ Matched geojson file: D:\\PhenoCrop\\3_qgis\\3_Extraction Polygons\\3. FINAL MASKS PYTHON\\24 PHENO_CROP Avlingsregistrering_sorted_ID_polygons_shrinked.geojson\n",
      "\n",
      "⚙️ Processing: 20240812 PHENO_CROP P4M 20m MS 70 75_transparent_mosaic_group1.tif at 25% resolution\n",
      "   - Original size: 10576 x 17762\n",
      "   - New size: 2644 x 4440\n",
      "   - Saving downscaled file: D:\\PhenoCrop\\2_pix4d_cleaned\\PHENO_CROP\\MS\\20240812 PHENO_CROP P4M 20m MS 70 75\\2_Orthomosaics\\20240812 PHENO_CROP P4M 20m MS 70 75_transparent_mosaic_group1_thumb.tif\n"
     ]
    },
    {
     "name": "stderr",
     "output_type": "stream",
     "text": [
      "2025-02-07 07:00:26,101 - INFO - Processing project: PHENO_CROP, Flight: 20240812_PHENO_CROP_P4M_20m_MS_70_75_\n",
      "2025-02-07 07:00:26,101 - INFO - ⚙️ Generating NDVI Orthomosaic for: PHENO_CROP, Flight: 20240812_PHENO_CROP_P4M_20m_MS_70_75_\n"
     ]
    },
    {
     "name": "stdout",
     "output_type": "stream",
     "text": [
      "✅ Successfully downscaled: 20240812 PHENO_CROP P4M 20m MS 70 75_transparent_mosaic_group1.tif\n"
     ]
    },
    {
     "name": "stderr",
     "output_type": "stream",
     "text": [
      "2025-02-07 07:00:40,932 - INFO - ✅ Successfully generated NDVI GEOTIFF\n",
      "2025-02-07 07:00:40,934 - INFO - 🚀 Preparing raster processing for flight: 20240812_PHENO_CROP_P4M_20m_MS_70_75_\n",
      "2025-02-07 07:00:40,934 - INFO - ⚙️ Reading shapefile: 24 PHENO_CROP Avlingsregistrering_sorted_ID_polygons_shrinked.geojson\n",
      "2025-02-07 07:00:40,978 - INFO - ⚙️ Processing NDVI Stats\n",
      "2025-02-07 07:01:17,761 - INFO - ✅ Successfully processed: NDVI Stats\n",
      "2025-02-07 07:01:17,762 - INFO - ⚙️ Processing raster: blue (20240812 PHENO_CROP P4M 20m MS 70 75_index_blue_blue.tif)\n",
      "2025-02-07 07:02:22,711 - INFO - ✅ Successfully processed: blue\n",
      "2025-02-07 07:02:22,712 - INFO - ⚙️ Processing raster: green (20240812 PHENO_CROP P4M 20m MS 70 75_index_green_green.tif)\n",
      "2025-02-07 07:03:26,916 - INFO - ✅ Successfully processed: green\n",
      "2025-02-07 07:03:26,917 - INFO - ⚙️ Processing raster: nir (20240812 PHENO_CROP P4M 20m MS 70 75_index_nir_nir.tif)\n",
      "2025-02-07 07:04:31,198 - INFO - ✅ Successfully processed: nir\n",
      "2025-02-07 07:04:31,199 - INFO - ⚙️ Processing raster: red (20240812 PHENO_CROP P4M 20m MS 70 75_index_red_red.tif)\n",
      "2025-02-07 07:05:35,791 - INFO - ✅ Successfully processed: red\n",
      "2025-02-07 07:05:35,792 - INFO - ⚙️ Processing raster: rededge (20240812 PHENO_CROP P4M 20m MS 70 75_index_red_edge_red_edge.tif)\n",
      "2025-02-07 07:06:40,097 - INFO - ✅ Successfully processed: rededge\n",
      "2025-02-07 07:06:40,212 - INFO - ✅📌 Statistics saved to: D:\\PhenoCrop\\3_python\\V2\\PHENO_CROP\\20240812_PHENO_CROP_P4M_20m_MS_70_75_statistics.csv\n"
     ]
    },
    {
     "name": "stdout",
     "output_type": "stream",
     "text": [
      "✅📌 Statistics saved to: D:\\PhenoCrop\\3_python\\V2\\PHENO_CROP\\20240812_PHENO_CROP_P4M_20m_MS_70_75_statistics.csv\n",
      "⏳ Total execution time: 374.11 seconds\n",
      "🧹 Cleared raster data from memory.\n",
      "🧹 Cleared shapefile data from memory.\n",
      "📁 Saved results to D:\\PhenoCrop\\3_python\\V2\\PHENO_CROP\\20240812_PHENO_CROP_P4M_20m_MS_70_75_statistics.csv\n",
      "\n",
      "🚀 Preparing raster processing for flight: 20240819 PHENO_CROP M3M 30m MS 70 75\n",
      "✅ Matched geojson file: D:\\PhenoCrop\\3_qgis\\3_Extraction Polygons\\3. FINAL MASKS PYTHON\\24 PHENO_CROP Avlingsregistrering_sorted_ID_polygons_shrinked.geojson\n",
      "\n",
      "⚙️ Processing: 20240819 PHENO_CROP M3M 30m MS 70 75_transparent_mosaic_group1.tif at 25% resolution\n",
      "   - Original size: 8776 x 13860\n",
      "   - New size: 2194 x 3465\n",
      "   - Saving downscaled file: D:\\PhenoCrop\\2_pix4d_cleaned\\PHENO_CROP\\MS\\20240819 PHENO_CROP M3M 30m MS 70 75\\2_Orthomosaics\\20240819 PHENO_CROP M3M 30m MS 70 75_transparent_mosaic_group1_thumb.tif\n",
      "✅ Successfully downscaled: 20240819 PHENO_CROP M3M 30m MS 70 75_transparent_mosaic_group1.tif\n"
     ]
    },
    {
     "name": "stderr",
     "output_type": "stream",
     "text": [
      "2025-02-07 07:06:43,500 - INFO - Processing project: PHENO_CROP, Flight: 20240819_PHENO_CROP_M3M_30m_MS_70_75_\n",
      "2025-02-07 07:06:43,501 - INFO - ⚙️ Generating NDVI Orthomosaic for: PHENO_CROP, Flight: 20240819_PHENO_CROP_M3M_30m_MS_70_75_\n",
      "2025-02-07 07:06:53,331 - INFO - ✅ Successfully generated NDVI GEOTIFF\n",
      "2025-02-07 07:06:53,332 - INFO - 🚀 Preparing raster processing for flight: 20240819_PHENO_CROP_M3M_30m_MS_70_75_\n",
      "2025-02-07 07:06:53,332 - INFO - ⚙️ Reading shapefile: 24 PHENO_CROP Avlingsregistrering_sorted_ID_polygons_shrinked.geojson\n",
      "2025-02-07 07:06:53,372 - INFO - ⚙️ Processing NDVI Stats\n",
      "2025-02-07 07:07:16,837 - INFO - ✅ Successfully processed: NDVI Stats\n",
      "2025-02-07 07:07:16,838 - INFO - ⚙️ Processing raster: green (20240819 PHENO_CROP M3M 30m MS 70 75_index_green_green.tif)\n",
      "2025-02-07 07:07:58,266 - INFO - ✅ Successfully processed: green\n",
      "2025-02-07 07:07:58,267 - INFO - ⚙️ Processing raster: nir (20240819 PHENO_CROP M3M 30m MS 70 75_index_nir_nir.tif)\n",
      "2025-02-07 07:08:38,522 - INFO - ✅ Successfully processed: nir\n",
      "2025-02-07 07:08:38,523 - INFO - ⚙️ Processing raster: red (20240819 PHENO_CROP M3M 30m MS 70 75_index_red_red.tif)\n",
      "2025-02-07 07:09:19,118 - INFO - ✅ Successfully processed: red\n",
      "2025-02-07 07:09:19,119 - INFO - ⚙️ Processing raster: rededge (20240819 PHENO_CROP M3M 30m MS 70 75_index_red_edge_red_edge.tif)\n",
      "2025-02-07 07:09:59,987 - INFO - ✅ Successfully processed: rededge\n",
      "2025-02-07 07:10:00,097 - INFO - ✅📌 Statistics saved to: D:\\PhenoCrop\\3_python\\V2\\PHENO_CROP\\20240819_PHENO_CROP_M3M_30m_MS_70_75_statistics.csv\n"
     ]
    },
    {
     "name": "stdout",
     "output_type": "stream",
     "text": [
      "✅📌 Statistics saved to: D:\\PhenoCrop\\3_python\\V2\\PHENO_CROP\\20240819_PHENO_CROP_M3M_30m_MS_70_75_statistics.csv\n",
      "⏳ Total execution time: 196.60 seconds\n",
      "🧹 Cleared raster data from memory.\n",
      "🧹 Cleared shapefile data from memory.\n",
      "📁 Saved results to D:\\PhenoCrop\\3_python\\V2\\PHENO_CROP\\20240819_PHENO_CROP_M3M_30m_MS_70_75_statistics.csv\n",
      "\n",
      "🚀 Preparing raster processing for flight: 20240819 PHENO_CROP P4M 20m MS 70 75\n",
      "✅ Matched geojson file: D:\\PhenoCrop\\3_qgis\\3_Extraction Polygons\\3. FINAL MASKS PYTHON\\24 PHENO_CROP Avlingsregistrering_sorted_ID_polygons_shrinked.geojson\n",
      "\n",
      "⚙️ Processing: 20240819 PHENO_CROP P4M 20m MS 70 75_transparent_mosaic_group1.tif at 25% resolution\n",
      "   - Original size: 10303 x 17146\n",
      "   - New size: 2575 x 4286\n",
      "   - Saving downscaled file: D:\\PhenoCrop\\2_pix4d_cleaned\\PHENO_CROP\\MS\\20240819 PHENO_CROP P4M 20m MS 70 75\\2_Orthomosaics\\20240819 PHENO_CROP P4M 20m MS 70 75_transparent_mosaic_group1_thumb.tif\n"
     ]
    },
    {
     "name": "stderr",
     "output_type": "stream",
     "text": [
      "2025-02-07 07:10:04,267 - INFO - Processing project: PHENO_CROP, Flight: 20240819_PHENO_CROP_P4M_20m_MS_70_75_\n",
      "2025-02-07 07:10:04,268 - INFO - ⚙️ Generating NDVI Orthomosaic for: PHENO_CROP, Flight: 20240819_PHENO_CROP_P4M_20m_MS_70_75_\n"
     ]
    },
    {
     "name": "stdout",
     "output_type": "stream",
     "text": [
      "✅ Successfully downscaled: 20240819 PHENO_CROP P4M 20m MS 70 75_transparent_mosaic_group1.tif\n"
     ]
    },
    {
     "name": "stderr",
     "output_type": "stream",
     "text": [
      "2025-02-07 07:10:18,060 - INFO - ✅ Successfully generated NDVI GEOTIFF\n",
      "2025-02-07 07:10:18,061 - INFO - 🚀 Preparing raster processing for flight: 20240819_PHENO_CROP_P4M_20m_MS_70_75_\n",
      "2025-02-07 07:10:18,062 - INFO - ⚙️ Reading shapefile: 24 PHENO_CROP Avlingsregistrering_sorted_ID_polygons_shrinked.geojson\n",
      "2025-02-07 07:10:18,105 - INFO - ⚙️ Processing NDVI Stats\n",
      "2025-02-07 07:10:54,326 - INFO - ✅ Successfully processed: NDVI Stats\n",
      "2025-02-07 07:10:54,326 - INFO - ⚙️ Processing raster: blue (20240819 PHENO_CROP P4M 20m MS 70 75_index_blue_blue.tif)\n",
      "2025-02-07 07:11:57,574 - INFO - ✅ Successfully processed: blue\n",
      "2025-02-07 07:11:57,575 - INFO - ⚙️ Processing raster: green (20240819 PHENO_CROP P4M 20m MS 70 75_index_green_green.tif)\n",
      "2025-02-07 07:12:59,215 - INFO - ✅ Successfully processed: green\n",
      "2025-02-07 07:12:59,215 - INFO - ⚙️ Processing raster: nir (20240819 PHENO_CROP P4M 20m MS 70 75_index_nir_nir.tif)\n",
      "2025-02-07 07:14:00,737 - INFO - ✅ Successfully processed: nir\n",
      "2025-02-07 07:14:00,737 - INFO - ⚙️ Processing raster: red (20240819 PHENO_CROP P4M 20m MS 70 75_index_red_red.tif)\n",
      "2025-02-07 07:15:02,319 - INFO - ✅ Successfully processed: red\n",
      "2025-02-07 07:15:02,320 - INFO - ⚙️ Processing raster: rededge (20240819 PHENO_CROP P4M 20m MS 70 75_index_red_edge_red_edge.tif)\n",
      "2025-02-07 07:16:04,454 - INFO - ✅ Successfully processed: rededge\n",
      "2025-02-07 07:16:04,575 - INFO - ✅📌 Statistics saved to: D:\\PhenoCrop\\3_python\\V2\\PHENO_CROP\\20240819_PHENO_CROP_P4M_20m_MS_70_75_statistics.csv\n"
     ]
    },
    {
     "name": "stdout",
     "output_type": "stream",
     "text": [
      "✅📌 Statistics saved to: D:\\PhenoCrop\\3_python\\V2\\PHENO_CROP\\20240819_PHENO_CROP_P4M_20m_MS_70_75_statistics.csv\n",
      "⏳ Total execution time: 360.31 seconds\n",
      "🧹 Cleared raster data from memory.\n",
      "🧹 Cleared shapefile data from memory.\n",
      "📁 Saved results to D:\\PhenoCrop\\3_python\\V2\\PHENO_CROP\\20240819_PHENO_CROP_P4M_20m_MS_70_75_statistics.csv\n",
      "⏳ Execution time of prepare_and_run_raster_processing: 7002.608652 seconds\n",
      "\n",
      "🚀 Processing Project: PILOT | Flight Type: MS\n",
      "Fetching file lists for project: PILOT, flight type: MS\n",
      "⏳ Execution time of check_data_completeness: 0.000087 seconds\n",
      "\n",
      "✅ COMPLETENESS STATUS:\n",
      "20240530 PILOT M3M 30m MS 80 85: ✅ Complete\n",
      "20240606 PILOT M3M 30m MS 80 85: ✅ Complete\n",
      "20240619 PILOT M3M 30m MS 80 85: ✅ Complete\n",
      "20240620 PILOT M3M 30m MS 80 85: ✅ Complete\n",
      "20240624 PILOT M3M 30m MS 80 85: ✅ Complete\n",
      "20240627 PILOT M3M 20m MS 80 85: ✅ Complete\n",
      "20240701 PILOT M3M 30m MS 80 85: ✅ Complete\n",
      "20240708 PILOT M3M 30m MS 70 75: ✅ Complete\n",
      "20240724 PILOT M3M 30m MS 70 75: ✅ Complete\n",
      "20240729 PILOT M3M 30m MS 70 75: ✅ Complete\n",
      "20240806 PILOT M3M 30m MS 70 75: ✅ Complete\n",
      "20240807 PILOT M3M 30m MS 70 75: ✅ Complete\n",
      "20240812 PILOT M3M 30m MS 70 75: ✅ Complete\n",
      "\n",
      "🚀 Preparing raster processing for flight: 20240530 PILOT M3M 30m MS 80 85\n",
      "⚠️ No matching geojson file found for 20240530 PILOT M3M 30m MS 80 85. Skipping...\n",
      "\n",
      "🚀 Preparing raster processing for flight: 20240606 PILOT M3M 30m MS 80 85\n",
      "⚠️ No matching geojson file found for 20240606 PILOT M3M 30m MS 80 85. Skipping...\n",
      "\n",
      "🚀 Preparing raster processing for flight: 20240619 PILOT M3M 30m MS 80 85\n",
      "⚠️ No matching geojson file found for 20240619 PILOT M3M 30m MS 80 85. Skipping...\n",
      "\n",
      "🚀 Preparing raster processing for flight: 20240620 PILOT M3M 30m MS 80 85\n",
      "⚠️ No matching geojson file found for 20240620 PILOT M3M 30m MS 80 85. Skipping...\n",
      "\n",
      "🚀 Preparing raster processing for flight: 20240624 PILOT M3M 30m MS 80 85\n",
      "⚠️ No matching geojson file found for 20240624 PILOT M3M 30m MS 80 85. Skipping...\n",
      "\n",
      "🚀 Preparing raster processing for flight: 20240627 PILOT M3M 20m MS 80 85\n",
      "⚠️ No matching geojson file found for 20240627 PILOT M3M 20m MS 80 85. Skipping...\n",
      "\n",
      "🚀 Preparing raster processing for flight: 20240701 PILOT M3M 30m MS 80 85\n",
      "⚠️ No matching geojson file found for 20240701 PILOT M3M 30m MS 80 85. Skipping...\n",
      "\n",
      "🚀 Preparing raster processing for flight: 20240708 PILOT M3M 30m MS 70 75\n",
      "⚠️ No matching geojson file found for 20240708 PILOT M3M 30m MS 70 75. Skipping...\n",
      "\n",
      "🚀 Preparing raster processing for flight: 20240724 PILOT M3M 30m MS 70 75\n",
      "⚠️ No matching geojson file found for 20240724 PILOT M3M 30m MS 70 75. Skipping...\n",
      "\n",
      "🚀 Preparing raster processing for flight: 20240729 PILOT M3M 30m MS 70 75\n",
      "⚠️ No matching geojson file found for 20240729 PILOT M3M 30m MS 70 75. Skipping...\n",
      "\n",
      "🚀 Preparing raster processing for flight: 20240806 PILOT M3M 30m MS 70 75\n",
      "⚠️ No matching geojson file found for 20240806 PILOT M3M 30m MS 70 75. Skipping...\n",
      "\n",
      "🚀 Preparing raster processing for flight: 20240807 PILOT M3M 30m MS 70 75\n",
      "⚠️ No matching geojson file found for 20240807 PILOT M3M 30m MS 70 75. Skipping...\n",
      "\n",
      "🚀 Preparing raster processing for flight: 20240812 PILOT M3M 30m MS 70 75\n",
      "⚠️ No matching geojson file found for 20240812 PILOT M3M 30m MS 70 75. Skipping...\n",
      "⏳ Execution time of prepare_and_run_raster_processing: 0.000213 seconds\n"
     ]
    }
   ],
   "source": [
    "import os\n",
    "\n",
    "def process_multiple_projects(project_names, src_folder, flight_type, geojson_file_folder, output_root_folder):\n",
    "    \"\"\"\n",
    "    Processes multiple projects by fetching orthomosaic files, validating data, and running raster analysis.\n",
    "\n",
    "    Parameters:\n",
    "    - project_names (list of str): List of project names to process.\n",
    "    - src_folder (str): Root folder containing project data.\n",
    "    - flight_type (str): Either 'MS' or '3D' indicating the flight type.\n",
    "    - geojson_file_folder (str): Path to folder containing GeoJSON shapefiles.\n",
    "    - output_root_folder (str): Folder where processed CSV files will be saved.\n",
    "\n",
    "    Returns:\n",
    "    - None\n",
    "    \"\"\"\n",
    "    for project_name in project_names:\n",
    "        print(f\"\\n🚀 Processing Project: {project_name} | Flight Type: {flight_type}\")\n",
    "\n",
    "        # **Step 1: Generate ortho_dict**\n",
    "        ortho_dict, dsm_dtm_dict = get_project_files(src_folder, project_name, flight_type)\n",
    "\n",
    "\n",
    "\n",
    "        completeness, missing = check_data_completeness(ortho_dict, dsm_dtm_dict)\n",
    "\n",
    "        print(\"\\n✅ COMPLETENESS STATUS:\")\n",
    "        for flight, status in completeness.items():\n",
    "            print(f\"{flight}: {status}\")\n",
    "\n",
    "        if missing:\n",
    "            print(\"\\n❌ MISSING FILES REPORT:\")\n",
    "            for flight, files in missing.items():\n",
    "                print(f\"{flight} is missing: {', '.join(files)}\")\n",
    "\n",
    "        # Drop incomplete flights\n",
    "        ortho_dict, dsm_dtm_dict = drop_incomplete_flights(ortho_dict, dsm_dtm_dict, missing, output_root_folder)\n",
    "\n",
    "        # **Step 4: Run raster processing**\n",
    "        prepare_and_run_raster_processing(project_name, output_root_folder, ortho_dict, geojson_file_folder)\n",
    "\n",
    "if __name__ == \"__main__\":\n",
    "    # Example usage\n",
    "    field_ids = ['E166', 'PRO_BAR_VOLL', 'OAT_FRONTIERS', 'DIVERSITY_OATS', 'PRO_BAR_SØRÅS', 'PHENO_CROP', 'PILOT']\n",
    "    src_folder = r\"D:\\PhenoCrop\\2_pix4d_cleaned\"\n",
    "    project_names = [field for field in field_ids if field in os.listdir(src_folder)]   # List of projects\n",
    "    # project_names_TEST = ['E166']   # TEMP List of projects\n",
    "    geojson_file_folder = r'D:\\PhenoCrop\\3_qgis\\3_Extraction Polygons\\3. FINAL MASKS PYTHON'\n",
    "    output_root_folder = r'D:\\PhenoCrop\\3_python\\V2'\n",
    "    print(project_names)\n",
    "    # for flight_type in [\"MS\", \"3D\"]:  # Process both flight types\n",
    "    for flight_type in [\"MS\"]:  # Process only MS flight types\n",
    "        process_multiple_projects(project_names, src_folder, flight_type, geojson_file_folder, output_root_folder)\n"
   ]
  },
  {
   "cell_type": "code",
   "execution_count": null,
   "id": "7598778a-6667-4991-aefd-0f5ab2a303f8",
   "metadata": {},
   "outputs": [],
   "source": []
  },
  {
   "cell_type": "code",
   "execution_count": null,
   "id": "1ab0510a-6542-40f4-9c5f-7e14d69f2093",
   "metadata": {},
   "outputs": [],
   "source": []
  },
  {
   "cell_type": "code",
   "execution_count": null,
   "id": "c4189641-87f1-4472-a632-e856b53f1233",
   "metadata": {},
   "outputs": [],
   "source": []
  },
  {
   "cell_type": "code",
   "execution_count": 18,
   "id": "76ab50ec-a0d8-40f9-ba03-f81aa2ab941a",
   "metadata": {},
   "outputs": [],
   "source": [
    "# # Example Usage\n",
    "# src_folder = r'D:\\PhenoCrop\\2_pix4d_cleaned\\E166\\MS\\20240812 E166 M3M 30m MS 80 85\\2_Orthomosaics'\n",
    "# paths = find_files_in_folder(src_folder, 'tif')\n",
    "# raster_files = find_raster_files(paths, RASTER_ORDER)\n",
    "# # shapefile_path = r\"D:\\PhenoCrop\\3_qgis\\3_Extraction Polygons\\3. FINAL MASKS PYTHON\\24 E 166_test.geojson\"\n",
    "# shapefile_path = r\"D:\\PhenoCrop\\3_qgis\\3_Extraction Polygons\\3. FINAL MASKS PYTHON\\24 E166_sorted_ID_corrected_coordinate_system_polygons_shrinked.geojson\"\n",
    "# project = \"E166\"\n",
    "# flight = \"20240812 E166 M3M 30m MS 80 85\"\n",
    "# output_folder = r\"D:\\PhenoCrop\\3_python\\test\"\n",
    "\n",
    "# stats_df = extract_raster_stats_multiple(shapefile_path, raster_files, project, flight, output_folder)"
   ]
  }
 ],
 "metadata": {
  "kernelspec": {
   "display_name": "Python 3 (ipykernel)",
   "language": "python",
   "name": "python3"
  },
  "language_info": {
   "codemirror_mode": {
    "name": "ipython",
    "version": 3
   },
   "file_extension": ".py",
   "mimetype": "text/x-python",
   "name": "python",
   "nbconvert_exporter": "python",
   "pygments_lexer": "ipython3",
   "version": "3.12.7"
  }
 },
 "nbformat": 4,
 "nbformat_minor": 5
}
