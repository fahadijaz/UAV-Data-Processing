{
 "cells": [
  {
   "cell_type": "markdown",
   "id": "9fd63d81-491b-4ef9-9532-8c09332d66ea",
   "metadata": {},
   "source": [
    "# Move the colored examples to separate folders"
   ]
  },
  {
   "cell_type": "code",
   "execution_count": 2,
   "id": "54d51970-8f47-4440-b18e-5f519dc77441",
   "metadata": {},
   "outputs": [],
   "source": [
    "import os\n",
    "import shutil\n",
    "\n",
    "# Define colormap categories\n",
    "COLORMAP_CATEGORIES = {\n",
    "    \"Perceptually_Uniform (Best for Scientific Visualization)\": [\"viridis\", \"plasma\", \"inferno\", \"magma\", \"cividis\"],\n",
    "    \"Classic Diverging (Good for Differences)\": [\"coolwarm\", \"RdYlBu\", \"RdYlGn\", \"PiYG\", \"Spectral\", \"bwr\"],\n",
    "    \"Sequential Colormaps (For NDVI, Elevation, etc.)\": [\"Blues\", \"Greens\", \"Oranges\", \"Purples\", \"Reds\"],\n",
    "    \"Rainbow & Jet Variants (Not Uniform, but Classic)\": [\"jet\", \"rainbow\", \"nipy_spectral\"],\n",
    "    \"Cyclic (Best for Wind Direction, Phase Angles)\": [\"twilight\", \"twilight_shifted\", \"hsv\"],\n",
    "    \"Categorical (For Class Labels)\": [\"tab10\", \"tab20\", \"Set1\", \"Set2\", \"Set3\"],\n",
    "    \"Extra Colorcet Colormaps (for better color mapping)\": [\"fire\", \"glasbey\", \"rainbow4\", \"kb\", \"kr\", \"bgy\", \"bmw\", \"coolwarm_cet\"]\n",
    "}\n",
    "\n",
    "def create_subfolders(base_folder, categories):\n",
    "    \"\"\"Create subfolders for each colormap category.\"\"\"\n",
    "    for category in categories:\n",
    "        folder_path = os.path.join(base_folder, category)\n",
    "        if not os.path.exists(folder_path):\n",
    "            os.makedirs(folder_path)\n",
    "\n",
    "def segregate_files(input_folder):\n",
    "    \"\"\"Segregate files into subfolders based on colormap name in the filename.\"\"\"\n",
    "    # Create subfolders for each category\n",
    "    create_subfolders(input_folder, COLORMAP_CATEGORIES.keys())\n",
    "\n",
    "    # Iterate through all files in the input folder\n",
    "    for file_name in os.listdir(input_folder):\n",
    "        # Check if the file is a .tif or _with_colorbar.png\n",
    "        if file_name.endswith(\".tif\") or file_name.endswith(\"_with_colorbar.png\"):\n",
    "            # Find the category for this file\n",
    "            for category, colormaps in COLORMAP_CATEGORIES.items():\n",
    "                for colormap in colormaps:\n",
    "                    if colormap in file_name:  # Check if colormap name is in the filename\n",
    "                        # Move the file to the corresponding subfolder\n",
    "                        src_path = os.path.join(input_folder, file_name)\n",
    "                        dest_folder = os.path.join(input_folder, category)\n",
    "                        dest_path = os.path.join(dest_folder, file_name)\n",
    "                        shutil.move(src_path, dest_path)\n",
    "                        print(f\"Moved {file_name} to {category} folder.\")\n",
    "                        break\n",
    "                else:\n",
    "                    continue\n",
    "                break\n",
    "            else:\n",
    "                print(f\"⚠️ No category found for {file_name}.\")\n",
    "\n"
   ]
  },
  {
   "cell_type": "code",
   "execution_count": 3,
   "id": "868865a9-2d15-4e74-a041-2c558d2f5c4a",
   "metadata": {},
   "outputs": [],
   "source": [
    "# # Example usage\n",
    "# input_folder = r\"D:\\PhenoCrop\\2_4_NDVI_Colored\\OAT_FRONTIERS\\colored examples\"  # Replace with your folder path\n",
    "# segregate_files(input_folder)"
   ]
  },
  {
   "cell_type": "markdown",
   "id": "83761490-25d9-4bc6-80a7-7286849e73bd",
   "metadata": {},
   "source": [
    "# Rename the colored examples"
   ]
  },
  {
   "cell_type": "code",
   "execution_count": 4,
   "id": "59a695ca-e148-4a33-a76b-f27f7454df46",
   "metadata": {},
   "outputs": [],
   "source": [
    "import os\n",
    " \n",
    "# Define colormap categories and their short names\n",
    "COLORMAP_CATEGORIES = {\n",
    "    \"Perceptually_Uniform\": {\"short\": \"1.PU\", \"colormaps\": [\"viridis\", \"plasma\", \"inferno\", \"magma\", \"cividis\"]},\n",
    "    \"Classic_Diverging\": {\"short\": \"2.Div\", \"colormaps\": [\"coolwarm\", \"RdYlBu\", \"RdYlGn\", \"PiYG\", \"Spectral\", \"bwr\"]},\n",
    "    \"Sequential\": {\"short\": \"3.Seq\", \"colormaps\": [\"Blues\", \"Greens\", \"Oranges\", \"Purples\", \"Reds\"]},\n",
    "    \"Rainbow_Jet\": {\"short\": \"4.Rain\", \"colormaps\": [\"jet\", \"rainbow\", \"nipy_spectral\"]},\n",
    "    \"Cyclic\": {\"short\": \"5.Cyc\", \"colormaps\": [\"twilight\", \"twilight_shifted\", \"hsv\"]},\n",
    "    \"Categorical\": {\"short\": \"6.Cat\", \"colormaps\": [\"tab10\", \"tab20\", \"Set1\", \"Set2\", \"Set3\"]},\n",
    "    \"Extra_Colorcet\": {\"short\": \"7.CET\", \"colormaps\": [\"fire\", \"glasbey\", \"rainbow4\", \"kb\", \"kr\", \"bgy\", \"bmw\", \"coolwarm_cet\"]}\n",
    "}"
   ]
  },
  {
   "cell_type": "code",
   "execution_count": 5,
   "id": "2254cd99-5af2-42b5-94f4-e25da37af31b",
   "metadata": {},
   "outputs": [],
   "source": [
    "def rename_files(input_folder):\n",
    "    \"\"\"Rename files by adding a prefix with their short category and colormap name.\"\"\"\n",
    "    # Iterate through all files in the input folder\n",
    "    for file_name in os.listdir(input_folder):\n",
    "        # Check if the file is a .tif or _with_colorbar.png\n",
    "        if file_name.endswith(\".tif\") or file_name.endswith(\"_with_colorbar.png\"):\n",
    "            matched = False\n",
    "            # Iterate through each category and its colormaps\n",
    "            for category, data in COLORMAP_CATEGORIES.items():\n",
    "                for colormap in data[\"colormaps\"]:\n",
    "                    # Check if the filename ends with the colormap name and correct suffix\n",
    "                    if file_name.endswith(f\"{colormap}.tif\") or file_name.endswith(f\"{colormap}_with_colorbar.png\"):\n",
    "                        # Create the new file name\n",
    "                        short_category = data[\"short\"]\n",
    "                        new_name = f\"{short_category}_{colormap}_{file_name}\"\n",
    "\n",
    "                        # Rename the file\n",
    "                        src_path = os.path.join(input_folder, file_name)\n",
    "                        dest_path = os.path.join(input_folder, new_name)\n",
    "                        os.rename(src_path, dest_path)\n",
    "                        print(f\"Renamed {file_name} to {new_name}.\")\n",
    "                        matched = True\n",
    "                        break  # Exit after finding the correct match\n",
    "\n",
    "                if matched:\n",
    "                    break  # Exit the outer loop if matched\n",
    "\n",
    "            # If no match was found, warn the user\n",
    "            if not matched:\n",
    "                print(f\"⚠️ No category found for {file_name}.\")"
   ]
  },
  {
   "cell_type": "code",
   "execution_count": 6,
   "id": "a66aa8d5-0640-46a7-aedd-4ccd2ae946c8",
   "metadata": {},
   "outputs": [],
   "source": [
    "# # Example usage\n",
    "# input_folder = r\"D:\\PhenoCrop\\3_orthomosaics_rgb_ndvi\\PRO_BAR_VOLL\\_colored_examples\"  # Replace with your folder path\n",
    "# rename_files(input_folder)"
   ]
  },
  {
   "cell_type": "code",
   "execution_count": null,
   "id": "6450c6a0-83b1-4f20-87b8-c610b8b0e879",
   "metadata": {},
   "outputs": [],
   "source": []
  }
 ],
 "metadata": {
  "kernelspec": {
   "display_name": "Python 3 (ipykernel)",
   "language": "python",
   "name": "python3"
  },
  "language_info": {
   "codemirror_mode": {
    "name": "ipython",
    "version": 3
   },
   "file_extension": ".py",
   "mimetype": "text/x-python",
   "name": "python",
   "nbconvert_exporter": "python",
   "pygments_lexer": "ipython3",
   "version": "3.12.7"
  }
 },
 "nbformat": 4,
 "nbformat_minor": 5
}
