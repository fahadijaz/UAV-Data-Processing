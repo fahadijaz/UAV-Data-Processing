{
 "cells": [
  {
   "cell_type": "markdown",
   "id": "6bf8adda-f272-4574-9674-72cefd5b2f79",
   "metadata": {},
   "source": [
    "# Convert GEOJSON to XLSX and vice versa"
   ]
  },
  {
   "cell_type": "code",
   "execution_count": 3,
   "id": "99a5f92e-0a2b-4d58-9696-241fe6cd2853",
   "metadata": {},
   "outputs": [],
   "source": [
    "import os  # To work with file paths\n",
    "import json\n",
    "import pandas as pd\n",
    "\n",
    "def geojson_to_xlsx(geojson_file):\n",
    "    # Load GeoJSON data\n",
    "    with open(geojson_file, 'r') as f:\n",
    "        geojson_data = json.load(f)\n",
    "    \n",
    "    # Extract features\n",
    "    features = geojson_data['features']\n",
    "    \n",
    "    # Create a DataFrame from the features\n",
    "    df = pd.json_normalize(features)\n",
    "\n",
    "    xlsx_file = os.path.splitext(geojson_file)[0] + \".xlsx\"\n",
    "\n",
    "    # Save DataFrame to Excel file\n",
    "    df.to_excel(xlsx_file, index=False)\n",
    "    print(f\"GeoJSON data has been converted to {xlsx_file}\")"
   ]
  },
  {
   "cell_type": "code",
   "execution_count": 5,
   "id": "b4cfbed1-dfb8-4255-be1f-48154683e911",
   "metadata": {},
   "outputs": [],
   "source": [
    "import os  # To work with file paths\n",
    "import json\n",
    "import pandas as pd\n",
    "\n",
    "def xlsx_to_geojson_beautifued(xlsx_file):\n",
    "    # Extract the name from the xlsx_file\n",
    "    name = os.path.splitext(os.path.basename(xlsx_file))[0]\n",
    "    geojson_file = os.path.splitext(xlsx_file)[0] + \".geojson\"\n",
    "    \n",
    "    # Load Excel data into a DataFrame\n",
    "    df = pd.read_excel(xlsx_file)\n",
    "\n",
    "    # Ensure required columns are present\n",
    "    required_columns = ['geometry.type', 'geometry.coordinates']\n",
    "    for col in required_columns:\n",
    "        if col not in df.columns:\n",
    "            raise ValueError(f\"Missing required column: '{col}' in the Excel file.\")\n",
    "\n",
    "    # Convert each row to a GeoJSON feature\n",
    "    features = []\n",
    "    for _, row in df.iterrows():\n",
    "        geometry = {\n",
    "            \"type\": row['geometry.type'],\n",
    "            \"coordinates\": json.loads(row['geometry.coordinates'])  # Parse coordinates from string to Python object\n",
    "        }\n",
    "        # Collect all properties except the geometry columns\n",
    "        property_columns = [col for col in df.columns if col not in required_columns]\n",
    "        properties = row[property_columns].to_dict()\n",
    "\n",
    "        # replacing the text \"properties.\" from each column name\n",
    "        properties = {col.replace('properties.',''):value for col,value in properties.items()}\n",
    "\n",
    "        # Construct GeoJSON feature\n",
    "        feature = {\n",
    "            \"type\": \"Feature\",\n",
    "            \"properties\": properties,\n",
    "            \"geometry\": geometry\n",
    "        }\n",
    "        features.append(feature)\n",
    "\n",
    "    # Create the GeoJSON structure\n",
    "    geojson_data = {\n",
    "        \"type\": \"FeatureCollection\",\n",
    "        \"name\": name,\n",
    "        \"crs\": {\n",
    "            \"type\": \"name\",\n",
    "            \"properties\": { \"name\": \"urn:ogc:def:crs:OGC:1.3:CRS84\" }\n",
    "        },\n",
    "        \"features\": features\n",
    "    }\n",
    "\n",
    "    # Save GeoJSON data to file\n",
    "    with open(geojson_file, 'w') as f:\n",
    "        json.dump(geojson_data, f, indent=4)\n",
    "    print(f\"Excel data has been converted to {geojson_file}\")\n"
   ]
  },
  {
   "cell_type": "code",
   "execution_count": 7,
   "id": "71aa99a5-d5ed-4185-91a5-a4b7aa3a7ddd",
   "metadata": {},
   "outputs": [],
   "source": [
    "path_geojson = r'C:\\Users\\muij\\OneDrive - Norwegian University of Life Sciences\\Documents\\+PROJECTS\\1. OPERATIONS MANAGEMENT\\2025 - UAV\\2. Sowing Maps\\Plots Corners.geojson'\n",
    "path_xlsx = r'C:\\Users\\muij\\OneDrive - Norwegian University of Life Sciences\\Documents\\+PROJECTS\\1. OPERATIONS MANAGEMENT\\2025 - UAV\\2. Sowing Maps\\Plots Corners.xlsx'\n",
    "\n",
    "# path = r\"D:\\OLF PHENO\\GCPs Pheno 2019-2023.geojson\""
   ]
  },
  {
   "cell_type": "code",
   "execution_count": 9,
   "id": "e3d22e8f-94c4-4f70-8cf9-09249e4342ae",
   "metadata": {},
   "outputs": [
    {
     "name": "stdout",
     "output_type": "stream",
     "text": [
      "GeoJSON data has been converted to C:\\Users\\muij\\OneDrive - Norwegian University of Life Sciences\\Documents\\+PROJECTS\\1. OPERATIONS MANAGEMENT\\2025 - UAV\\2. Sowing Maps\\Plots Corners.xlsx\n"
     ]
    }
   ],
   "source": [
    "geojson_to_xlsx(path_geojson)\n"
   ]
  },
  {
   "cell_type": "code",
   "execution_count": null,
   "id": "23b5f5bc-8c8d-4b31-8cd6-3f9f5dba4bf1",
   "metadata": {},
   "outputs": [],
   "source": [
    "xlsx_to_geojson_beautifued(path_xlsx)"
   ]
  },
  {
   "cell_type": "markdown",
   "id": "9bdbd8c2-f78c-4272-97f4-a2e28ed5fc3f",
   "metadata": {},
   "source": [
    "# MultiPolygon GEOJSON to CSV for converting sowing plots to MyMaps upload files"
   ]
  },
  {
   "cell_type": "markdown",
   "id": "18e3b0bb-33f0-4d82-b9cf-7a5fef4320ec",
   "metadata": {},
   "source": [
    "## Improving"
   ]
  },
  {
   "cell_type": "code",
   "execution_count": 114,
   "id": "05f3a55b-06ed-4f61-b8cd-0047ba75f163",
   "metadata": {},
   "outputs": [],
   "source": [
    "import json\n",
    "from shapely.geometry import shape, Polygon, MultiPolygon\n",
    "\n",
    "def round_coords(coords, decimals):\n",
    "    return [round(coord, decimals) for coord in coords]\n",
    "\n",
    "def round_geometry(geom, decimals):\n",
    "    if isinstance(geom, Polygon):\n",
    "        exterior = [round_coords(pt, decimals) for pt in list(geom.exterior.coords)]\n",
    "        interiors = [[round_coords(pt, decimals) for pt in ring.coords] for ring in geom.interiors]\n",
    "        return Polygon(exterior, interiors)\n",
    "    elif isinstance(geom, MultiPolygon):\n",
    "        return MultiPolygon([round_geometry(p, decimals) for p in geom.geoms])\n",
    "    else:\n",
    "        raise TypeError(\"Unsupported geometry type.\")\n",
    "\n",
    "def geojson_to_csv_manual(geojson_file, csv_file, decimal_places=5):\n",
    "    with open(geojson_file, 'r') as f:\n",
    "        data = json.load(f)\n",
    "\n",
    "    features = data['features']\n",
    "    rows = []\n",
    "    headers_written = False\n",
    "\n",
    "    with open(csv_file, 'w', encoding='utf-8') as out:\n",
    "        for feature in features:\n",
    "            geom = shape(feature['geometry'])\n",
    "            geom = round_geometry(geom, decimal_places)\n",
    "\n",
    "            # Flatten multipolygon by taking first polygon\n",
    "            if geom.geom_type == \"MultiPolygon\":\n",
    "                geom = list(geom.geoms)[0]\n",
    "\n",
    "            wkt_str = f'\"{geom.wkt}\"'  # ONLY ONE PAIR OF QUOTES\n",
    "\n",
    "            props = feature.get('properties', {})\n",
    "\n",
    "            # Write headers once\n",
    "            if not headers_written:\n",
    "                headers = ['WKT'] + list(props.keys())\n",
    "                out.write(','.join(headers) + '\\n')\n",
    "                headers_written = True\n",
    "\n",
    "            # Write values\n",
    "            values = [wkt_str] + [str(props[k]) if props[k] is not None else '' for k in props]\n",
    "            out.write(','.join(values) + '\\n')\n",
    "\n",
    "    print(f\"GeoJSON manually written to CSV without extra quotes: {csv_file}\")\n"
   ]
  },
  {
   "cell_type": "code",
   "execution_count": 116,
   "id": "8de18c94-5170-4d60-b262-008707926dfa",
   "metadata": {},
   "outputs": [],
   "source": [
    "path_geojson = r'C:\\Users\\muij\\OneDrive - Norwegian University of Life Sciences\\Documents\\+PROJECTS\\1. OPERATIONS MANAGEMENT\\2025 - UAV\\2. Sowing Maps\\25 Smartwheat drought.geojson'\n",
    "path_csv = r'C:\\Users\\muij\\OneDrive - Norwegian University of Life Sciences\\Documents\\+PROJECTS\\1. OPERATIONS MANAGEMENT\\2025 - UAV\\2. Sowing Maps\\25 Smartwheat drought.csv'\n"
   ]
  },
  {
   "cell_type": "code",
   "execution_count": null,
   "id": "43f31ad7-e793-4511-b2cc-3d95d745f052",
   "metadata": {},
   "outputs": [],
   "source": [
    "path.join"
   ]
  },
  {
   "cell_type": "code",
   "execution_count": 76,
   "id": "d4e3397c-a6c4-459e-b7ad-40b24c86311f",
   "metadata": {},
   "outputs": [
    {
     "name": "stdout",
     "output_type": "stream",
     "text": [
      "GeoJSON manually written to CSV without extra quotes: C:\\Users\\muij\\OneDrive - Norwegian University of Life Sciences\\Documents\\+PROJECTS\\1. OPERATIONS MANAGEMENT\\2025 - UAV\\2. Sowing Maps\\25 Smartwheat drought.CSV\n"
     ]
    }
   ],
   "source": [
    "geojson_to_csv_manual(path_geojson, path_csv, decimal_places=8)\n"
   ]
  },
  {
   "cell_type": "markdown",
   "id": "e62e7500-552a-42ff-b6a2-d0e152cefc52",
   "metadata": {},
   "source": [
    "## batch_geojson_to_csv"
   ]
  },
  {
   "cell_type": "code",
   "execution_count": 118,
   "id": "c25308a5-9f45-46c8-9ce3-b0d9a45670ee",
   "metadata": {},
   "outputs": [],
   "source": [
    "import os\n",
    "\n",
    "def batch_geojson_to_csv(folder_path, decimal_places=8):\n",
    "    import os\n",
    "    import glob\n",
    "\n",
    "    # Ensure the output subfolder exists\n",
    "    output_folder = os.path.join(folder_path, 'CSV for MyMaps')\n",
    "    os.makedirs(output_folder, exist_ok=True)\n",
    "\n",
    "    # Get all .geojson files in the folder\n",
    "    geojson_files = glob.glob(os.path.join(folder_path, '*.geojson'))\n",
    "\n",
    "    if not geojson_files:\n",
    "        print(\"No GeoJSON files found in folder.\")\n",
    "        return\n",
    "\n",
    "    for geojson_file in geojson_files:\n",
    "        filename = os.path.splitext(os.path.basename(geojson_file))[0]\n",
    "        csv_file = os.path.join(output_folder, f\"{filename}.csv\")\n",
    "        print(f\"Processing: {geojson_file} → {csv_file}\")\n",
    "        geojson_to_csv_manual(geojson_file, csv_file, decimal_places)\n",
    "\n",
    "    print(f\"Finished converting {len(geojson_files)} files.\")\n"
   ]
  },
  {
   "cell_type": "code",
   "execution_count": 120,
   "id": "19922602-fa88-4420-9ef7-118ef9a67d76",
   "metadata": {},
   "outputs": [],
   "source": [
    "path_geojson_all = r\"C:\\Users\\muij\\OneDrive - Norwegian University of Life Sciences\\Documents\\+PROJECTS\\1. OPERATIONS MANAGEMENT\\2025 - UAV\\2. Sowing Maps\\GeoJSON\""
   ]
  },
  {
   "cell_type": "code",
   "execution_count": 122,
   "id": "a81ea4ea-3413-44c4-8559-9628ef2eb671",
   "metadata": {
    "scrolled": true
   },
   "outputs": [
    {
     "name": "stdout",
     "output_type": "stream",
     "text": [
      "Processing: C:\\Users\\muij\\OneDrive - Norwegian University of Life Sciences\\Documents\\+PROJECTS\\1. OPERATIONS MANAGEMENT\\2025 - UAV\\2. Sowing Maps\\GeoJSON\\25 Aakerbonner erter - GN.geojson → C:\\Users\\muij\\OneDrive - Norwegian University of Life Sciences\\Documents\\+PROJECTS\\1. OPERATIONS MANAGEMENT\\2025 - UAV\\2. Sowing Maps\\GeoJSON\\CSV for MyMaps\\25 Aakerbonner erter - GN.csv\n",
      "GeoJSON manually written to CSV without extra quotes: C:\\Users\\muij\\OneDrive - Norwegian University of Life Sciences\\Documents\\+PROJECTS\\1. OPERATIONS MANAGEMENT\\2025 - UAV\\2. Sowing Maps\\GeoJSON\\CSV for MyMaps\\25 Aakerbonner erter - GN.csv\n",
      "Processing: C:\\Users\\muij\\OneDrive - Norwegian University of Life Sciences\\Documents\\+PROJECTS\\1. OPERATIONS MANAGEMENT\\2025 - UAV\\2. Sowing Maps\\GeoJSON\\25 Delgjodsling NIBIO Bygg.geojson → C:\\Users\\muij\\OneDrive - Norwegian University of Life Sciences\\Documents\\+PROJECTS\\1. OPERATIONS MANAGEMENT\\2025 - UAV\\2. Sowing Maps\\GeoJSON\\CSV for MyMaps\\25 Delgjodsling NIBIO Bygg.csv\n",
      "GeoJSON manually written to CSV without extra quotes: C:\\Users\\muij\\OneDrive - Norwegian University of Life Sciences\\Documents\\+PROJECTS\\1. OPERATIONS MANAGEMENT\\2025 - UAV\\2. Sowing Maps\\GeoJSON\\CSV for MyMaps\\25 Delgjodsling NIBIO Bygg.csv\n",
      "Processing: C:\\Users\\muij\\OneDrive - Norwegian University of Life Sciences\\Documents\\+PROJECTS\\1. OPERATIONS MANAGEMENT\\2025 - UAV\\2. Sowing Maps\\GeoJSON\\25 DiversityOats.geojson → C:\\Users\\muij\\OneDrive - Norwegian University of Life Sciences\\Documents\\+PROJECTS\\1. OPERATIONS MANAGEMENT\\2025 - UAV\\2. Sowing Maps\\GeoJSON\\CSV for MyMaps\\25 DiversityOats.csv\n",
      "GeoJSON manually written to CSV without extra quotes: C:\\Users\\muij\\OneDrive - Norwegian University of Life Sciences\\Documents\\+PROJECTS\\1. OPERATIONS MANAGEMENT\\2025 - UAV\\2. Sowing Maps\\GeoJSON\\CSV for MyMaps\\25 DiversityOats.csv\n",
      "Processing: C:\\Users\\muij\\OneDrive - Norwegian University of Life Sciences\\Documents\\+PROJECTS\\1. OPERATIONS MANAGEMENT\\2025 - UAV\\2. Sowing Maps\\GeoJSON\\25 Gene2Bread Hvete Wheat.geojson → C:\\Users\\muij\\OneDrive - Norwegian University of Life Sciences\\Documents\\+PROJECTS\\1. OPERATIONS MANAGEMENT\\2025 - UAV\\2. Sowing Maps\\GeoJSON\\CSV for MyMaps\\25 Gene2Bread Hvete Wheat.csv\n",
      "GeoJSON manually written to CSV without extra quotes: C:\\Users\\muij\\OneDrive - Norwegian University of Life Sciences\\Documents\\+PROJECTS\\1. OPERATIONS MANAGEMENT\\2025 - UAV\\2. Sowing Maps\\GeoJSON\\CSV for MyMaps\\25 Gene2Bread Hvete Wheat.csv\n",
      "Processing: C:\\Users\\muij\\OneDrive - Norwegian University of Life Sciences\\Documents\\+PROJECTS\\1. OPERATIONS MANAGEMENT\\2025 - UAV\\2. Sowing Maps\\GeoJSON\\25 OatsFrontier.geojson → C:\\Users\\muij\\OneDrive - Norwegian University of Life Sciences\\Documents\\+PROJECTS\\1. OPERATIONS MANAGEMENT\\2025 - UAV\\2. Sowing Maps\\GeoJSON\\CSV for MyMaps\\25 OatsFrontier.csv\n",
      "GeoJSON manually written to CSV without extra quotes: C:\\Users\\muij\\OneDrive - Norwegian University of Life Sciences\\Documents\\+PROJECTS\\1. OPERATIONS MANAGEMENT\\2025 - UAV\\2. Sowing Maps\\GeoJSON\\CSV for MyMaps\\25 OatsFrontier.csv\n",
      "Processing: C:\\Users\\muij\\OneDrive - Norwegian University of Life Sciences\\Documents\\+PROJECTS\\1. OPERATIONS MANAGEMENT\\2025 - UAV\\2. Sowing Maps\\GeoJSON\\25 Oppformering gene2bread.geojson → C:\\Users\\muij\\OneDrive - Norwegian University of Life Sciences\\Documents\\+PROJECTS\\1. OPERATIONS MANAGEMENT\\2025 - UAV\\2. Sowing Maps\\GeoJSON\\CSV for MyMaps\\25 Oppformering gene2bread.csv\n",
      "GeoJSON manually written to CSV without extra quotes: C:\\Users\\muij\\OneDrive - Norwegian University of Life Sciences\\Documents\\+PROJECTS\\1. OPERATIONS MANAGEMENT\\2025 - UAV\\2. Sowing Maps\\GeoJSON\\CSV for MyMaps\\25 Oppformering gene2bread.csv\n",
      "Processing: C:\\Users\\muij\\OneDrive - Norwegian University of Life Sciences\\Documents\\+PROJECTS\\1. OPERATIONS MANAGEMENT\\2025 - UAV\\2. Sowing Maps\\GeoJSON\\25 PhenoCrop Avlingsregistrering.geojson → C:\\Users\\muij\\OneDrive - Norwegian University of Life Sciences\\Documents\\+PROJECTS\\1. OPERATIONS MANAGEMENT\\2025 - UAV\\2. Sowing Maps\\GeoJSON\\CSV for MyMaps\\25 PhenoCrop Avlingsregistrering.csv\n",
      "GeoJSON manually written to CSV without extra quotes: C:\\Users\\muij\\OneDrive - Norwegian University of Life Sciences\\Documents\\+PROJECTS\\1. OPERATIONS MANAGEMENT\\2025 - UAV\\2. Sowing Maps\\GeoJSON\\CSV for MyMaps\\25 PhenoCrop Avlingsregistrering.csv\n",
      "Processing: C:\\Users\\muij\\OneDrive - Norwegian University of Life Sciences\\Documents\\+PROJECTS\\1. OPERATIONS MANAGEMENT\\2025 - UAV\\2. Sowing Maps\\GeoJSON\\25 ProteinBar 20 sorter 7m.geojson → C:\\Users\\muij\\OneDrive - Norwegian University of Life Sciences\\Documents\\+PROJECTS\\1. OPERATIONS MANAGEMENT\\2025 - UAV\\2. Sowing Maps\\GeoJSON\\CSV for MyMaps\\25 ProteinBar 20 sorter 7m.csv\n",
      "GeoJSON manually written to CSV without extra quotes: C:\\Users\\muij\\OneDrive - Norwegian University of Life Sciences\\Documents\\+PROJECTS\\1. OPERATIONS MANAGEMENT\\2025 - UAV\\2. Sowing Maps\\GeoJSON\\CSV for MyMaps\\25 ProteinBar 20 sorter 7m.csv\n",
      "Processing: C:\\Users\\muij\\OneDrive - Norwegian University of Life Sciences\\Documents\\+PROJECTS\\1. OPERATIONS MANAGEMENT\\2025 - UAV\\2. Sowing Maps\\GeoJSON\\25 Smartwheat drought.geojson → C:\\Users\\muij\\OneDrive - Norwegian University of Life Sciences\\Documents\\+PROJECTS\\1. OPERATIONS MANAGEMENT\\2025 - UAV\\2. Sowing Maps\\GeoJSON\\CSV for MyMaps\\25 Smartwheat drought.csv\n",
      "GeoJSON manually written to CSV without extra quotes: C:\\Users\\muij\\OneDrive - Norwegian University of Life Sciences\\Documents\\+PROJECTS\\1. OPERATIONS MANAGEMENT\\2025 - UAV\\2. Sowing Maps\\GeoJSON\\CSV for MyMaps\\25 Smartwheat drought.csv\n",
      "Processing: C:\\Users\\muij\\OneDrive - Norwegian University of Life Sciences\\Documents\\+PROJECTS\\1. OPERATIONS MANAGEMENT\\2025 - UAV\\2. Sowing Maps\\GeoJSON\\25 Soraas- ProteinBar.geojson → C:\\Users\\muij\\OneDrive - Norwegian University of Life Sciences\\Documents\\+PROJECTS\\1. OPERATIONS MANAGEMENT\\2025 - UAV\\2. Sowing Maps\\GeoJSON\\CSV for MyMaps\\25 Soraas- ProteinBar.csv\n",
      "GeoJSON manually written to CSV without extra quotes: C:\\Users\\muij\\OneDrive - Norwegian University of Life Sciences\\Documents\\+PROJECTS\\1. OPERATIONS MANAGEMENT\\2025 - UAV\\2. Sowing Maps\\GeoJSON\\CSV for MyMaps\\25 Soraas- ProteinBar.csv\n",
      "Processing: C:\\Users\\muij\\OneDrive - Norwegian University of Life Sciences\\Documents\\+PROJECTS\\1. OPERATIONS MANAGEMENT\\2025 - UAV\\2. Sowing Maps\\GeoJSON\\25 SproutResist m-vanning 1-2.geojson → C:\\Users\\muij\\OneDrive - Norwegian University of Life Sciences\\Documents\\+PROJECTS\\1. OPERATIONS MANAGEMENT\\2025 - UAV\\2. Sowing Maps\\GeoJSON\\CSV for MyMaps\\25 SproutResist m-vanning 1-2.csv\n",
      "GeoJSON manually written to CSV without extra quotes: C:\\Users\\muij\\OneDrive - Norwegian University of Life Sciences\\Documents\\+PROJECTS\\1. OPERATIONS MANAGEMENT\\2025 - UAV\\2. Sowing Maps\\GeoJSON\\CSV for MyMaps\\25 SproutResist m-vanning 1-2.csv\n",
      "Processing: C:\\Users\\muij\\OneDrive - Norwegian University of Life Sciences\\Documents\\+PROJECTS\\1. OPERATIONS MANAGEMENT\\2025 - UAV\\2. Sowing Maps\\GeoJSON\\25 Sproutresist U-vanning.geojson → C:\\Users\\muij\\OneDrive - Norwegian University of Life Sciences\\Documents\\+PROJECTS\\1. OPERATIONS MANAGEMENT\\2025 - UAV\\2. Sowing Maps\\GeoJSON\\CSV for MyMaps\\25 Sproutresist U-vanning.csv\n",
      "GeoJSON manually written to CSV without extra quotes: C:\\Users\\muij\\OneDrive - Norwegian University of Life Sciences\\Documents\\+PROJECTS\\1. OPERATIONS MANAGEMENT\\2025 - UAV\\2. Sowing Maps\\GeoJSON\\CSV for MyMaps\\25 Sproutresist U-vanning.csv\n",
      "Processing: C:\\Users\\muij\\OneDrive - Norwegian University of Life Sciences\\Documents\\+PROJECTS\\1. OPERATIONS MANAGEMENT\\2025 - UAV\\2. Sowing Maps\\GeoJSON\\25 Verresistens.geojson → C:\\Users\\muij\\OneDrive - Norwegian University of Life Sciences\\Documents\\+PROJECTS\\1. OPERATIONS MANAGEMENT\\2025 - UAV\\2. Sowing Maps\\GeoJSON\\CSV for MyMaps\\25 Verresistens.csv\n",
      "GeoJSON manually written to CSV without extra quotes: C:\\Users\\muij\\OneDrive - Norwegian University of Life Sciences\\Documents\\+PROJECTS\\1. OPERATIONS MANAGEMENT\\2025 - UAV\\2. Sowing Maps\\GeoJSON\\CSV for MyMaps\\25 Verresistens.csv\n",
      "Processing: C:\\Users\\muij\\OneDrive - Norwegian University of Life Sciences\\Documents\\+PROJECTS\\1. OPERATIONS MANAGEMENT\\2025 - UAV\\2. Sowing Maps\\GeoJSON\\25A01A04 Havre Oats.geojson → C:\\Users\\muij\\OneDrive - Norwegian University of Life Sciences\\Documents\\+PROJECTS\\1. OPERATIONS MANAGEMENT\\2025 - UAV\\2. Sowing Maps\\GeoJSON\\CSV for MyMaps\\25A01A04 Havre Oats.csv\n",
      "GeoJSON manually written to CSV without extra quotes: C:\\Users\\muij\\OneDrive - Norwegian University of Life Sciences\\Documents\\+PROJECTS\\1. OPERATIONS MANAGEMENT\\2025 - UAV\\2. Sowing Maps\\GeoJSON\\CSV for MyMaps\\25A01A04 Havre Oats.csv\n",
      "Processing: C:\\Users\\muij\\OneDrive - Norwegian University of Life Sciences\\Documents\\+PROJECTS\\1. OPERATIONS MANAGEMENT\\2025 - UAV\\2. Sowing Maps\\GeoJSON\\25G01A04 Bygg Barley.geojson → C:\\Users\\muij\\OneDrive - Norwegian University of Life Sciences\\Documents\\+PROJECTS\\1. OPERATIONS MANAGEMENT\\2025 - UAV\\2. Sowing Maps\\GeoJSON\\CSV for MyMaps\\25G01A04 Bygg Barley.csv\n",
      "GeoJSON manually written to CSV without extra quotes: C:\\Users\\muij\\OneDrive - Norwegian University of Life Sciences\\Documents\\+PROJECTS\\1. OPERATIONS MANAGEMENT\\2025 - UAV\\2. Sowing Maps\\GeoJSON\\CSV for MyMaps\\25G01A04 Bygg Barley.csv\n",
      "Processing: C:\\Users\\muij\\OneDrive - Norwegian University of Life Sciences\\Documents\\+PROJECTS\\1. OPERATIONS MANAGEMENT\\2025 - UAV\\2. Sowing Maps\\GeoJSON\\Plots Corners.geojson → C:\\Users\\muij\\OneDrive - Norwegian University of Life Sciences\\Documents\\+PROJECTS\\1. OPERATIONS MANAGEMENT\\2025 - UAV\\2. Sowing Maps\\GeoJSON\\CSV for MyMaps\\Plots Corners.csv\n"
     ]
    },
    {
     "ename": "TypeError",
     "evalue": "Unsupported geometry type.",
     "output_type": "error",
     "traceback": [
      "\u001b[1;31m---------------------------------------------------------------------------\u001b[0m",
      "\u001b[1;31mTypeError\u001b[0m                                 Traceback (most recent call last)",
      "Cell \u001b[1;32mIn[122], line 1\u001b[0m\n\u001b[1;32m----> 1\u001b[0m batch_geojson_to_csv(path_geojson_all, decimal_places\u001b[38;5;241m=\u001b[39m\u001b[38;5;241m8\u001b[39m)\n",
      "Cell \u001b[1;32mIn[118], line 22\u001b[0m, in \u001b[0;36mbatch_geojson_to_csv\u001b[1;34m(folder_path, decimal_places)\u001b[0m\n\u001b[0;32m     20\u001b[0m     csv_file \u001b[38;5;241m=\u001b[39m os\u001b[38;5;241m.\u001b[39mpath\u001b[38;5;241m.\u001b[39mjoin(output_folder, \u001b[38;5;124mf\u001b[39m\u001b[38;5;124m\"\u001b[39m\u001b[38;5;132;01m{\u001b[39;00mfilename\u001b[38;5;132;01m}\u001b[39;00m\u001b[38;5;124m.csv\u001b[39m\u001b[38;5;124m\"\u001b[39m)\n\u001b[0;32m     21\u001b[0m     \u001b[38;5;28mprint\u001b[39m(\u001b[38;5;124mf\u001b[39m\u001b[38;5;124m\"\u001b[39m\u001b[38;5;124mProcessing: \u001b[39m\u001b[38;5;132;01m{\u001b[39;00mgeojson_file\u001b[38;5;132;01m}\u001b[39;00m\u001b[38;5;124m → \u001b[39m\u001b[38;5;132;01m{\u001b[39;00mcsv_file\u001b[38;5;132;01m}\u001b[39;00m\u001b[38;5;124m\"\u001b[39m)\n\u001b[1;32m---> 22\u001b[0m     geojson_to_csv_manual(geojson_file, csv_file, decimal_places)\n\u001b[0;32m     24\u001b[0m \u001b[38;5;28mprint\u001b[39m(\u001b[38;5;124mf\u001b[39m\u001b[38;5;124m\"\u001b[39m\u001b[38;5;124mFinished converting \u001b[39m\u001b[38;5;132;01m{\u001b[39;00m\u001b[38;5;28mlen\u001b[39m(geojson_files)\u001b[38;5;132;01m}\u001b[39;00m\u001b[38;5;124m files.\u001b[39m\u001b[38;5;124m\"\u001b[39m)\n",
      "Cell \u001b[1;32mIn[114], line 28\u001b[0m, in \u001b[0;36mgeojson_to_csv_manual\u001b[1;34m(geojson_file, csv_file, decimal_places)\u001b[0m\n\u001b[0;32m     26\u001b[0m \u001b[38;5;28;01mfor\u001b[39;00m feature \u001b[38;5;129;01min\u001b[39;00m features:\n\u001b[0;32m     27\u001b[0m     geom \u001b[38;5;241m=\u001b[39m shape(feature[\u001b[38;5;124m'\u001b[39m\u001b[38;5;124mgeometry\u001b[39m\u001b[38;5;124m'\u001b[39m])\n\u001b[1;32m---> 28\u001b[0m     geom \u001b[38;5;241m=\u001b[39m round_geometry(geom, decimal_places)\n\u001b[0;32m     30\u001b[0m     \u001b[38;5;66;03m# Flatten multipolygon by taking first polygon\u001b[39;00m\n\u001b[0;32m     31\u001b[0m     \u001b[38;5;28;01mif\u001b[39;00m geom\u001b[38;5;241m.\u001b[39mgeom_type \u001b[38;5;241m==\u001b[39m \u001b[38;5;124m\"\u001b[39m\u001b[38;5;124mMultiPolygon\u001b[39m\u001b[38;5;124m\"\u001b[39m:\n",
      "Cell \u001b[1;32mIn[114], line 15\u001b[0m, in \u001b[0;36mround_geometry\u001b[1;34m(geom, decimals)\u001b[0m\n\u001b[0;32m     13\u001b[0m     \u001b[38;5;28;01mreturn\u001b[39;00m MultiPolygon([round_geometry(p, decimals) \u001b[38;5;28;01mfor\u001b[39;00m p \u001b[38;5;129;01min\u001b[39;00m geom\u001b[38;5;241m.\u001b[39mgeoms])\n\u001b[0;32m     14\u001b[0m \u001b[38;5;28;01melse\u001b[39;00m:\n\u001b[1;32m---> 15\u001b[0m     \u001b[38;5;28;01mraise\u001b[39;00m \u001b[38;5;167;01mTypeError\u001b[39;00m(\u001b[38;5;124m\"\u001b[39m\u001b[38;5;124mUnsupported geometry type.\u001b[39m\u001b[38;5;124m\"\u001b[39m)\n",
      "\u001b[1;31mTypeError\u001b[0m: Unsupported geometry type."
     ]
    }
   ],
   "source": [
    "batch_geojson_to_csv(path_geojson_all, decimal_places=8)"
   ]
  },
  {
   "cell_type": "markdown",
   "id": "0f6f1cc8-2b56-4fe5-bf8d-728d5c126831",
   "metadata": {},
   "source": [
    "## Adding name of field to the csv files"
   ]
  },
  {
   "cell_type": "code",
   "execution_count": 124,
   "id": "f68447ad-0a1e-4abf-aeba-53380291b8e7",
   "metadata": {},
   "outputs": [],
   "source": [
    "import os\n",
    "import csv\n",
    "\n",
    "def update_csv_name_column(folder_path):\n",
    "    # Get all .csv files in the folder\n",
    "    for filename in os.listdir(folder_path):\n",
    "        if filename.endswith('.csv'):\n",
    "            csv_path = os.path.join(folder_path, filename)\n",
    "            base_name = os.path.splitext(filename)[0]\n",
    "\n",
    "            updated_rows = []\n",
    "            with open(csv_path, 'r', encoding='utf-8') as f:\n",
    "                reader = csv.DictReader(f)\n",
    "                fieldnames = reader.fieldnames\n",
    "\n",
    "                # Ensure NAME column exists\n",
    "                if 'NAME' not in fieldnames:\n",
    "                    fieldnames.append('NAME')\n",
    "\n",
    "                for row in reader:\n",
    "                    row['NAME'] = base_name\n",
    "                    updated_rows.append(row)\n",
    "\n",
    "            # Write updated rows back to the same file\n",
    "            with open(csv_path, 'w', encoding='utf-8', newline='') as f:\n",
    "                writer = csv.DictWriter(f, fieldnames=fieldnames)\n",
    "                writer.writeheader()\n",
    "                writer.writerows(updated_rows)\n",
    "\n",
    "            print(f\"Updated NAME column in: {filename}\")\n"
   ]
  },
  {
   "cell_type": "code",
   "execution_count": 126,
   "id": "1006fc7e-6146-4ee4-adef-116b7b4b8153",
   "metadata": {},
   "outputs": [],
   "source": [
    "path_csv_ = r\"C:\\Users\\muij\\OneDrive - Norwegian University of Life Sciences\\Documents\\+PROJECTS\\1. OPERATIONS MANAGEMENT\\2025 - UAV\\2. Sowing Maps\\GeoJSON\\CSV for MyMaps\""
   ]
  },
  {
   "cell_type": "code",
   "execution_count": 128,
   "id": "e0b4d888-036a-44e6-89d3-4ececa2d419d",
   "metadata": {},
   "outputs": [
    {
     "name": "stdout",
     "output_type": "stream",
     "text": [
      "Updated NAME column in: 25 Aakerbonner erter - GN.csv\n",
      "Updated NAME column in: 25 Delgjodsling NIBIO Bygg.csv\n",
      "Updated NAME column in: 25 Diversityoats.csv\n",
      "Updated NAME column in: 25 Gene2Bread Hvete Wheat.csv\n",
      "Updated NAME column in: 25 OatsFrontier.csv\n",
      "Updated NAME column in: 25 Oppformering gene2bread.csv\n",
      "Updated NAME column in: 25 PhenoCrop Avlingsregistrering.csv\n",
      "Updated NAME column in: 25 ProteinBar 20 sorter 7m.csv\n",
      "Updated NAME column in: 25 Smartwheat drought.csv\n",
      "Updated NAME column in: 25 Soraas- ProteinBar.csv\n",
      "Updated NAME column in: 25 SproutResist m-vanning 1-2.csv\n",
      "Updated NAME column in: 25 Sproutresist U-vanning.csv\n",
      "Updated NAME column in: 25 Verresistens.csv\n",
      "Updated NAME column in: 25A01A04 Havre Oats.csv\n",
      "Updated NAME column in: 25G01A04 Bygg Barley.csv\n"
     ]
    },
    {
     "ename": "TypeError",
     "evalue": "argument of type 'NoneType' is not iterable",
     "output_type": "error",
     "traceback": [
      "\u001b[1;31m---------------------------------------------------------------------------\u001b[0m",
      "\u001b[1;31mTypeError\u001b[0m                                 Traceback (most recent call last)",
      "Cell \u001b[1;32mIn[128], line 1\u001b[0m\n\u001b[1;32m----> 1\u001b[0m update_csv_name_column(path_csv_)\n",
      "Cell \u001b[1;32mIn[124], line 17\u001b[0m, in \u001b[0;36mupdate_csv_name_column\u001b[1;34m(folder_path)\u001b[0m\n\u001b[0;32m     14\u001b[0m fieldnames \u001b[38;5;241m=\u001b[39m reader\u001b[38;5;241m.\u001b[39mfieldnames\n\u001b[0;32m     16\u001b[0m \u001b[38;5;66;03m# Ensure NAME column exists\u001b[39;00m\n\u001b[1;32m---> 17\u001b[0m \u001b[38;5;28;01mif\u001b[39;00m \u001b[38;5;124m'\u001b[39m\u001b[38;5;124mNAME\u001b[39m\u001b[38;5;124m'\u001b[39m \u001b[38;5;129;01mnot\u001b[39;00m \u001b[38;5;129;01min\u001b[39;00m fieldnames:\n\u001b[0;32m     18\u001b[0m     fieldnames\u001b[38;5;241m.\u001b[39mappend(\u001b[38;5;124m'\u001b[39m\u001b[38;5;124mNAME\u001b[39m\u001b[38;5;124m'\u001b[39m)\n\u001b[0;32m     20\u001b[0m \u001b[38;5;28;01mfor\u001b[39;00m row \u001b[38;5;129;01min\u001b[39;00m reader:\n",
      "\u001b[1;31mTypeError\u001b[0m: argument of type 'NoneType' is not iterable"
     ]
    }
   ],
   "source": [
    "update_csv_name_column(path_csv_)\n"
   ]
  },
  {
   "cell_type": "markdown",
   "id": "6732e9f9-50a6-4482-9dee-045dc05a8169",
   "metadata": {},
   "source": [
    "## Merge all CSVs in a folder into a single CSV"
   ]
  },
  {
   "cell_type": "code",
   "execution_count": 167,
   "id": "412a0d62-004c-487d-9dd6-2039fd47c77a",
   "metadata": {},
   "outputs": [],
   "source": [
    "import os\n",
    "import pandas as pd\n",
    "\n",
    "def merge_and_split_csv(input_folder, output_folder, max_rows_per_file=2000):\n",
    "    # Create the output subfolder if it doesn't exist\n",
    "    os.makedirs(output_folder, exist_ok=True)\n",
    "\n",
    "    # List to collect all DataFrames\n",
    "    dfs = []\n",
    "    total_rows = 0\n",
    "\n",
    "    # Loop through all CSV files in the folder\n",
    "    for filename in os.listdir(input_folder):\n",
    "        if filename.endswith('.csv'):\n",
    "            file_path = os.path.join(input_folder, filename)\n",
    "            # Load CSV into a DataFrame\n",
    "            df = pd.read_csv(file_path)\n",
    "            dfs.append(df)\n",
    "            total_rows += len(df)\n",
    "\n",
    "    # Concatenate all DataFrames into one\n",
    "    merged_df = pd.concat(dfs, ignore_index=True)\n",
    "\n",
    "    # Split merged DataFrame into chunks of max_rows_per_file\n",
    "    current_rows = 0\n",
    "    part_number = 1\n",
    "    current_df = pd.DataFrame(columns=merged_df.columns)  # Start with empty DataFrame for each part\n",
    "\n",
    "    for df in dfs:\n",
    "        current_rows += len(df)\n",
    "        \n",
    "        # Check if adding this DataFrame exceeds max rows per file\n",
    "        if current_rows <= max_rows_per_file:\n",
    "            # Append to current part\n",
    "            current_df = pd.concat([current_df, df], ignore_index=True)\n",
    "        else:\n",
    "            # Save the current part to file and reset for next part\n",
    "            output_file = os.path.join(output_folder, f\"merged_part_{part_number}.csv\")\n",
    "            current_df.to_csv(output_file, index=False)\n",
    "            print(f\"✅ Split file saved: {output_file}\")\n",
    "            \n",
    "            # Start a new part with the current DataFrame\n",
    "            part_number += 1\n",
    "            current_df = df\n",
    "            current_rows = len(df)\n",
    "\n",
    "    # Save the last part if it has any rows\n",
    "    if len(current_df) > 0:\n",
    "        output_file = os.path.join(output_folder, f\"merged_part_{part_number}.csv\")\n",
    "        current_df.to_csv(output_file, index=False)\n",
    "        print(f\"✅ Split file saved: {output_file}\")\n",
    "\n",
    "    print(f\"All CSV files merged and split into {part_number} files.\")\n",
    "\n"
   ]
  },
  {
   "cell_type": "code",
   "execution_count": 169,
   "id": "d9010153-12e3-4f43-8e2a-cfa0105a9bd6",
   "metadata": {},
   "outputs": [
    {
     "name": "stdout",
     "output_type": "stream",
     "text": [
      "✅ Split file saved: C:\\Users\\muij\\OneDrive - Norwegian University of Life Sciences\\Documents\\+PROJECTS\\1. OPERATIONS MANAGEMENT\\2025 - UAV\\2. Sowing Maps\\GeoJSON\\CSV for MyMaps\\merged_output\\merged_part_1.csv\n",
      "✅ Split file saved: C:\\Users\\muij\\OneDrive - Norwegian University of Life Sciences\\Documents\\+PROJECTS\\1. OPERATIONS MANAGEMENT\\2025 - UAV\\2. Sowing Maps\\GeoJSON\\CSV for MyMaps\\merged_output\\merged_part_2.csv\n",
      "✅ Split file saved: C:\\Users\\muij\\OneDrive - Norwegian University of Life Sciences\\Documents\\+PROJECTS\\1. OPERATIONS MANAGEMENT\\2025 - UAV\\2. Sowing Maps\\GeoJSON\\CSV for MyMaps\\merged_output\\merged_part_3.csv\n",
      "✅ Split file saved: C:\\Users\\muij\\OneDrive - Norwegian University of Life Sciences\\Documents\\+PROJECTS\\1. OPERATIONS MANAGEMENT\\2025 - UAV\\2. Sowing Maps\\GeoJSON\\CSV for MyMaps\\merged_output\\merged_part_4.csv\n",
      "All CSV files merged and split into 4 files.\n"
     ]
    },
    {
     "name": "stderr",
     "output_type": "stream",
     "text": [
      "C:\\NMBU\\TEMP\\ipykernel_61776\\2574062726.py:35: FutureWarning: The behavior of DataFrame concatenation with empty or all-NA entries is deprecated. In a future version, this will no longer exclude empty or all-NA columns when determining the result dtypes. To retain the old behavior, exclude the relevant entries before the concat operation.\n",
      "  current_df = pd.concat([current_df, df], ignore_index=True)\n"
     ]
    }
   ],
   "source": [
    "merge_and_split_csv(path_csv_, os.path.join(path_csv_,\"merged_output\"))\n"
   ]
  },
  {
   "cell_type": "code",
   "execution_count": null,
   "id": "434531e0-cbc9-42b7-90a1-9906ed7836d4",
   "metadata": {},
   "outputs": [],
   "source": []
  }
 ],
 "metadata": {
  "kernelspec": {
   "display_name": "Python [conda env:base] *",
   "language": "python",
   "name": "conda-base-py"
  },
  "language_info": {
   "codemirror_mode": {
    "name": "ipython",
    "version": 3
   },
   "file_extension": ".py",
   "mimetype": "text/x-python",
   "name": "python",
   "nbconvert_exporter": "python",
   "pygments_lexer": "ipython3",
   "version": "3.12.7"
  }
 },
 "nbformat": 4,
 "nbformat_minor": 5
}
