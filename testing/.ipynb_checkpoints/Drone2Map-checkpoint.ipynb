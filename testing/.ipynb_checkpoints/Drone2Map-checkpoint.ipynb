{
 "cells": [
  {
   "cell_type": "markdown",
   "id": "be627720-561c-4055-bbc4-d9b6400fef4a",
   "metadata": {},
   "source": [
    "https://github.com/SeaBee-no/SeaBee-Drone2Cloud"
   ]
  },
  {
   "cell_type": "code",
   "execution_count": null,
   "id": "d03fc273-d09c-468a-9820-38957611dfbc",
   "metadata": {},
   "outputs": [],
   "source": []
  }
 ],
 "metadata": {
  "kernelspec": {
   "display_name": "Python 3 (ipykernel)",
   "language": "python",
   "name": "python3"
  },
  "language_info": {
   "codemirror_mode": {
    "name": "ipython",
    "version": 3
   },
   "file_extension": ".py",
   "mimetype": "text/x-python",
   "name": "python",
   "nbconvert_exporter": "python",
   "pygments_lexer": "ipython3",
   "version": "3.12.7"
  }
 },
 "nbformat": 4,
 "nbformat_minor": 5
}
